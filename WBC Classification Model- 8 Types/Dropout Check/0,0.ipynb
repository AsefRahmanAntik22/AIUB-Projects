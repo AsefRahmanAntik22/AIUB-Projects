{
 "cells": [
  {
   "cell_type": "code",
   "execution_count": 1,
   "id": "eb2dab94",
   "metadata": {
    "execution": {
     "iopub.execute_input": "2025-04-28T12:18:48.271897Z",
     "iopub.status.busy": "2025-04-28T12:18:48.271165Z",
     "iopub.status.idle": "2025-04-28T12:19:07.897353Z",
     "shell.execute_reply": "2025-04-28T12:19:07.896545Z"
    },
    "papermill": {
     "duration": 19.632005,
     "end_time": "2025-04-28T12:19:07.898791",
     "exception": false,
     "start_time": "2025-04-28T12:18:48.266786",
     "status": "completed"
    },
    "tags": []
   },
   "outputs": [
    {
     "name": "stderr",
     "output_type": "stream",
     "text": [
      "2025-04-28 12:18:52.444268: E external/local_xla/xla/stream_executor/cuda/cuda_fft.cc:477] Unable to register cuFFT factory: Attempting to register factory for plugin cuFFT when one has already been registered\n",
      "WARNING: All log messages before absl::InitializeLog() is called are written to STDERR\n",
      "E0000 00:00:1745842732.623682      19 cuda_dnn.cc:8310] Unable to register cuDNN factory: Attempting to register factory for plugin cuDNN when one has already been registered\n",
      "E0000 00:00:1745842732.681999      19 cuda_blas.cc:1418] Unable to register cuBLAS factory: Attempting to register factory for plugin cuBLAS when one has already been registered\n"
     ]
    }
   ],
   "source": [
    "import os\n",
    "import numpy as np\n",
    "import pandas as pd\n",
    "import matplotlib.pyplot as plt\n",
    "import seaborn as sns\n",
    "import warnings\n",
    "warnings.filterwarnings(\"ignore\")\n",
    "\n",
    "# TensorFlow & Keras\n",
    "import tensorflow as tf\n",
    "from tensorflow.keras.models import Model\n",
    "from tensorflow.keras.utils import plot_model\n",
    "from tensorflow.keras.layers import Input, Concatenate\n",
    "from tensorflow.keras.layers import (Input, Dense, Flatten, Dropout, GlobalAveragePooling2D)\n",
    "from tensorflow.keras.applications import Xception, DenseNet121, InceptionV3\n",
    "from tensorflow.keras.optimizers import Adamax, Adam\n",
    "from tensorflow.keras.preprocessing.image import ImageDataGenerator\n",
    "from tensorflow.keras.metrics import Precision, Recall\n",
    "\n",
    "# Scikit-Learn\n",
    "from sklearn.model_selection import train_test_split, GridSearchCV, StratifiedKFold\n",
    "from sklearn.preprocessing import StandardScaler\n",
    "from sklearn.pipeline import Pipeline\n",
    "from sklearn.feature_selection import SelectKBest, SelectFromModel, f_classif\n",
    "from sklearn.linear_model import SGDClassifier, LogisticRegression\n",
    "from sklearn.svm import SVC\n",
    "from sklearn.neighbors import KNeighborsClassifier\n",
    "from sklearn.tree import DecisionTreeClassifier\n",
    "from sklearn.naive_bayes import GaussianNB\n",
    "from sklearn.neural_network import MLPClassifier\n",
    "from sklearn.ensemble import (\n",
    "    RandomForestClassifier, GradientBoostingClassifier, AdaBoostClassifier, \n",
    "    ExtraTreesClassifier, VotingClassifier, StackingClassifier\n",
    ")\n",
    "\n",
    "# Boosting Libraries\n",
    "from xgboost import XGBClassifier\n",
    "from lightgbm import LGBMClassifier\n",
    "\n",
    "# Evaluation Metrics\n",
    "from sklearn.metrics import (\n",
    "    accuracy_score, precision_score, recall_score, f1_score, confusion_matrix, ConfusionMatrixDisplay\n",
    ")\n",
    "\n",
    "#for parallel threading\n",
    "from joblib import parallel_backend\n",
    "import cv2\n",
    "\n",
    "#Model saving to disk\n",
    "import pickle\n",
    "\n",
    "# Suppress warnings\n",
    "warnings.filterwarnings(\"ignore\")"
   ]
  },
  {
   "cell_type": "code",
   "execution_count": 2,
   "id": "303b5aaf",
   "metadata": {
    "execution": {
     "iopub.execute_input": "2025-04-28T12:19:07.905978Z",
     "iopub.status.busy": "2025-04-28T12:19:07.905089Z",
     "iopub.status.idle": "2025-04-28T12:19:08.745534Z",
     "shell.execute_reply": "2025-04-28T12:19:08.744821Z"
    },
    "papermill": {
     "duration": 0.844685,
     "end_time": "2025-04-28T12:19:08.746600",
     "exception": false,
     "start_time": "2025-04-28T12:19:07.901915",
     "status": "completed"
    },
    "tags": []
   },
   "outputs": [
    {
     "name": "stdout",
     "output_type": "stream",
     "text": [
      "GPUs detected: 1\n"
     ]
    }
   ],
   "source": [
    "gpus = tf.config.list_physical_devices('GPU')\n",
    "if gpus:\n",
    "    try:\n",
    "        for gpu in gpus:\n",
    "            tf.config.experimental.set_memory_growth(gpu, True)\n",
    "        print(f\"GPUs detected: {len(gpus)}\")\n",
    "    except RuntimeError as e:\n",
    "        print(f\"Error setting GPU memory growth: {e}\")\n",
    "else:\n",
    "    print(\"No GPUs detected.\")"
   ]
  },
  {
   "cell_type": "code",
   "execution_count": 3,
   "id": "924a4101",
   "metadata": {
    "execution": {
     "iopub.execute_input": "2025-04-28T12:19:08.752788Z",
     "iopub.status.busy": "2025-04-28T12:19:08.752572Z",
     "iopub.status.idle": "2025-04-28T12:19:08.757036Z",
     "shell.execute_reply": "2025-04-28T12:19:08.756330Z"
    },
    "papermill": {
     "duration": 0.008663,
     "end_time": "2025-04-28T12:19:08.758048",
     "exception": false,
     "start_time": "2025-04-28T12:19:08.749385",
     "status": "completed"
    },
    "tags": []
   },
   "outputs": [],
   "source": [
    "def data_frame(path):\n",
    "    class_paths = []\n",
    "    classes = []\n",
    "\n",
    "    for label in os.listdir(path):\n",
    "        class_dir = os.path.join(path, label)\n",
    "        if os.path.isdir(class_dir):  # Ensure it's a directory\n",
    "            for image in os.listdir(class_dir):\n",
    "                class_paths.append(os.path.join(class_dir, image))\n",
    "                classes.append(label)\n",
    "\n",
    "    df = pd.DataFrame({'Class Path': class_paths, 'Class': classes})\n",
    "    return df"
   ]
  },
  {
   "cell_type": "code",
   "execution_count": 4,
   "id": "ec03bb62",
   "metadata": {
    "execution": {
     "iopub.execute_input": "2025-04-28T12:19:08.764030Z",
     "iopub.status.busy": "2025-04-28T12:19:08.763609Z",
     "iopub.status.idle": "2025-04-28T12:19:09.026314Z",
     "shell.execute_reply": "2025-04-28T12:19:09.025468Z"
    },
    "papermill": {
     "duration": 0.266857,
     "end_time": "2025-04-28T12:19:09.027499",
     "exception": false,
     "start_time": "2025-04-28T12:19:08.760642",
     "status": "completed"
    },
    "tags": []
   },
   "outputs": [
    {
     "name": "stdout",
     "output_type": "stream",
     "text": [
      "Train size: 13673, Validation size: 1709, Test size: 1710\n"
     ]
    }
   ],
   "source": [
    "dataframe = data_frame('/kaggle/input/blood-mining/bloodcells_dataset')\n",
    "from sklearn.model_selection import train_test_split\n",
    "train_dataframe, temp_dataframe = train_test_split(dataframe, \n",
    "                                                   test_size=0.2, \n",
    "                                                   random_state=42, \n",
    "                                                   stratify=dataframe['Class'])\n",
    "Validation_dataframe, test_dataframe = train_test_split(temp_dataframe, \n",
    "                                                        test_size=0.5, \n",
    "                                                        random_state=42, \n",
    "                                                        stratify=temp_dataframe['Class'])\n",
    "print(f\"Train size: {len(train_dataframe)}, Validation size: {len(Validation_dataframe)}, Test size: {len(test_dataframe)}\")"
   ]
  },
  {
   "cell_type": "code",
   "execution_count": 5,
   "id": "bcd710fd",
   "metadata": {
    "execution": {
     "iopub.execute_input": "2025-04-28T12:19:09.034559Z",
     "iopub.status.busy": "2025-04-28T12:19:09.033977Z",
     "iopub.status.idle": "2025-04-28T12:19:09.037869Z",
     "shell.execute_reply": "2025-04-28T12:19:09.037143Z"
    },
    "papermill": {
     "duration": 0.008749,
     "end_time": "2025-04-28T12:19:09.039184",
     "exception": false,
     "start_time": "2025-04-28T12:19:09.030435",
     "status": "completed"
    },
    "tags": []
   },
   "outputs": [],
   "source": [
    "BATCH_SIZE = 32\n",
    "IMG_SIZE = (224, 224)\n",
    "EPOCH = 10\n",
    "img_shape=(224,224,3)\n",
    "labels = [\n",
    "    \"basophil\",\n",
    "    \"eosinophil\",\n",
    "    \"erythroblast\",\n",
    "    \"ig\",\n",
    "    \"lymphocyte\",\n",
    "    \"monocyte\",\n",
    "    \"neutrophil\",\n",
    "    \"platelet\"\n",
    "]"
   ]
  },
  {
   "cell_type": "code",
   "execution_count": 6,
   "id": "1a6147db",
   "metadata": {
    "execution": {
     "iopub.execute_input": "2025-04-28T12:19:09.045079Z",
     "iopub.status.busy": "2025-04-28T12:19:09.044874Z",
     "iopub.status.idle": "2025-04-28T12:19:09.049537Z",
     "shell.execute_reply": "2025-04-28T12:19:09.049011Z"
    },
    "papermill": {
     "duration": 0.0087,
     "end_time": "2025-04-28T12:19:09.050567",
     "exception": false,
     "start_time": "2025-04-28T12:19:09.041867",
     "status": "completed"
    },
    "tags": []
   },
   "outputs": [],
   "source": [
    "def apply_clahe(img):\n",
    "    \"\"\"Apply CLAHE after Adaptive Gray World Normalization.\"\"\"\n",
    "    lab = cv2.cvtColor(img, cv2.COLOR_RGB2LAB)\n",
    "    l, a, b = cv2.split(lab)\n",
    "    clahe = cv2.createCLAHE(clipLimit=0.03, tileGridSize=(8,8))\n",
    "    l = clahe.apply(l)\n",
    "    clahe_img = cv2.merge((l, a, b))\n",
    "    return cv2.cvtColor(clahe_img, cv2.COLOR_LAB2RGB)\n",
    "\n",
    "def preprocess_image(img):\n",
    "    \"\"\"First apply Adaptive Gray World, then CLAHE (No Normalization).\"\"\"\n",
    "    img = img.astype(np.uint8)  # Ensure correct data type\n",
    "    img = apply_clahe(img)  # Step 2: CLAHE\n",
    "    img = (img - np.mean(img)) / (np.std(img) + 1e-8) # step: 3: z score normalization\n",
    "    return img  "
   ]
  },
  {
   "cell_type": "code",
   "execution_count": 7,
   "id": "5f37afa2",
   "metadata": {
    "execution": {
     "iopub.execute_input": "2025-04-28T12:19:09.056278Z",
     "iopub.status.busy": "2025-04-28T12:19:09.056089Z",
     "iopub.status.idle": "2025-04-28T12:19:09.059648Z",
     "shell.execute_reply": "2025-04-28T12:19:09.059139Z"
    },
    "papermill": {
     "duration": 0.00747,
     "end_time": "2025-04-28T12:19:09.060612",
     "exception": false,
     "start_time": "2025-04-28T12:19:09.053142",
     "status": "completed"
    },
    "tags": []
   },
   "outputs": [],
   "source": [
    "def preprocess_image2(image):\n",
    "    # Convert to float32\n",
    "    img = image.astype(np.float32)\n",
    "\n",
    "    # Apply Z-score Normalization\n",
    "    #img = (img - np.mean(img)) / (np.std(img) + 1e-8)\n",
    "\n",
    "    # Min-Max Scaling (for CLAHE)\n",
    "    img = (img - np.min(img)) / (np.ptp(img) + 1e-8)  # np.ptp = max - min\n",
    "    #img = (img * 255).astype(np.uint8)  # Convert to uint8 for CLAHE\n",
    "\n",
    "    # Apply CLAHE to each channel independently\n",
    "    #clahe = cv2.createCLAHE(clipLimit=0.02, tileGridSize=(8, 8))\n",
    "    #img_clahe = np.zeros_like(img)\n",
    "    \n",
    "    #for i in range(3):  # Apply CLAHE on each channel separately\n",
    "        #img_clahe[..., i] = clahe.apply(img[..., i])\n",
    "\n",
    "    # Convert back to float32 (normalize to [0,1])\n",
    "    #img_clahe = img_clahe.astype(np.float32) / 255.0  \n",
    "\n",
    "    return img"
   ]
  },
  {
   "cell_type": "code",
   "execution_count": 8,
   "id": "6c5b7b6b",
   "metadata": {
    "execution": {
     "iopub.execute_input": "2025-04-28T12:19:09.066277Z",
     "iopub.status.busy": "2025-04-28T12:19:09.066091Z",
     "iopub.status.idle": "2025-04-28T12:19:37.264218Z",
     "shell.execute_reply": "2025-04-28T12:19:37.263482Z"
    },
    "papermill": {
     "duration": 28.202293,
     "end_time": "2025-04-28T12:19:37.265399",
     "exception": false,
     "start_time": "2025-04-28T12:19:09.063106",
     "status": "completed"
    },
    "tags": []
   },
   "outputs": [
    {
     "name": "stdout",
     "output_type": "stream",
     "text": [
      "Found 13673 validated image filenames belonging to 8 classes.\n",
      "Found 1709 validated image filenames belonging to 8 classes.\n",
      "Found 1710 validated image filenames belonging to 8 classes.\n"
     ]
    }
   ],
   "source": [
    "data_generator = ImageDataGenerator(\n",
    "    preprocessing_function=preprocess_image2,\n",
    "    rotation_range=10,\n",
    "    shear_range=0.1,\n",
    "    zoom_range=0.05,\n",
    "    fill_mode='nearest',\n",
    ")\n",
    "test_data_generator = ImageDataGenerator(preprocessing_function=preprocess_image2)\n",
    "\n",
    "\n",
    "train_data = data_generator.flow_from_dataframe(train_dataframe, x_col='Class Path',\n",
    "                                  y_col='Class', batch_size=BATCH_SIZE,\n",
    "                                  target_size=IMG_SIZE, seed=42)\n",
    "\n",
    "validation_data = data_generator.flow_from_dataframe(Validation_dataframe, x_col='Class Path',\n",
    "                                     y_col='Class', batch_size=BATCH_SIZE,\n",
    "                                     target_size=IMG_SIZE, seed=42)\n",
    "\n",
    "test_data = test_data_generator.flow_from_dataframe(test_dataframe, x_col='Class Path',\n",
    "                                  y_col='Class', batch_size=BATCH_SIZE,\n",
    "                                  target_size=IMG_SIZE, shuffle=False, seed=42)"
   ]
  },
  {
   "cell_type": "code",
   "execution_count": 9,
   "id": "34214bd7",
   "metadata": {
    "execution": {
     "iopub.execute_input": "2025-04-28T12:19:37.272076Z",
     "iopub.status.busy": "2025-04-28T12:19:37.271860Z",
     "iopub.status.idle": "2025-04-28T12:19:37.277175Z",
     "shell.execute_reply": "2025-04-28T12:19:37.276500Z"
    },
    "papermill": {
     "duration": 0.009675,
     "end_time": "2025-04-28T12:19:37.278184",
     "exception": false,
     "start_time": "2025-04-28T12:19:37.268509",
     "status": "completed"
    },
    "tags": []
   },
   "outputs": [],
   "source": [
    "@tf.keras.utils.register_keras_serializable(package=\"Custom\", name=\"F1Score\")\n",
    "class F1Score(tf.keras.metrics.Metric):\n",
    "    def __init__(self, name='f1_score', **kwargs):\n",
    "        super().__init__(name=name, **kwargs)\n",
    "        self.precision = tf.keras.metrics.Precision()\n",
    "        self.recall = tf.keras.metrics.Recall()\n",
    "\n",
    "    def update_state(self, y_true, y_pred, sample_weight=None):\n",
    "        self.precision.update_state(y_true, y_pred, sample_weight)\n",
    "        self.recall.update_state(y_true, y_pred, sample_weight)\n",
    "\n",
    "    def result(self):\n",
    "        p = self.precision.result()\n",
    "        r = self.recall.result()\n",
    "        return 2 * (p * r) / (p + r + tf.keras.backend.epsilon())\n",
    "\n",
    "    def reset_states(self):\n",
    "        self.precision.reset_states()\n",
    "        self.recall.reset_states()"
   ]
  },
  {
   "cell_type": "code",
   "execution_count": 10,
   "id": "7a720cca",
   "metadata": {
    "execution": {
     "iopub.execute_input": "2025-04-28T12:19:37.284233Z",
     "iopub.status.busy": "2025-04-28T12:19:37.284053Z",
     "iopub.status.idle": "2025-04-28T12:19:44.067786Z",
     "shell.execute_reply": "2025-04-28T12:19:44.067185Z"
    },
    "papermill": {
     "duration": 6.788312,
     "end_time": "2025-04-28T12:19:44.069183",
     "exception": false,
     "start_time": "2025-04-28T12:19:37.280871",
     "status": "completed"
    },
    "tags": []
   },
   "outputs": [
    {
     "name": "stderr",
     "output_type": "stream",
     "text": [
      "I0000 00:00:1745842777.399489      19 gpu_device.cc:2022] Created device /job:localhost/replica:0/task:0/device:GPU:0 with 15513 MB memory:  -> device: 0, name: Tesla P100-PCIE-16GB, pci bus id: 0000:00:04.0, compute capability: 6.0\n"
     ]
    },
    {
     "name": "stdout",
     "output_type": "stream",
     "text": [
      "Downloading data from https://storage.googleapis.com/tensorflow/keras-applications/xception/xception_weights_tf_dim_ordering_tf_kernels_notop.h5\n",
      "\u001b[1m83683744/83683744\u001b[0m \u001b[32m━━━━━━━━━━━━━━━━━━━━\u001b[0m\u001b[37m\u001b[0m \u001b[1m4s\u001b[0m 0us/step\n"
     ]
    }
   ],
   "source": [
    "dropout_1_values = [0.20, 0.25, 0.30, 0.35]\n",
    "dropout_2_values = [0.20, 0.25, 0.30, 0.35]\n",
    "\n",
    "base_model = tf.keras.applications.Xception(include_top= False, weights= \"imagenet\",\n",
    "                            input_shape= img_shape, pooling= 'max')\n",
    "\n",
    "inputs = Input(shape = img_shape)\n",
    "x = base_model(inputs)\n",
    "x = Flatten()(x)\n",
    "x = Dropout(rate= dropout_1_values[0])(x)\n",
    "x = Dense(128, activation= 'relu')(x)\n",
    "x = Dropout(rate= dropout_2_values[0])(x)\n",
    "x = Dense(8, activation= 'softmax')(x)\n",
    "Xmodel = Model(inputs, x)\n",
    "\n",
    "base_model.trainable = True\n",
    "for layer in base_model.layers[:50]:\n",
    "    layer.trainable = False\n",
    "\n",
    "Xmodel.compile(Adamax(learning_rate= 0.001),\n",
    "              loss= 'categorical_crossentropy',\n",
    "              metrics= ['accuracy',\n",
    "                        Precision(name='precision'),\n",
    "                        Recall(name='recall'),\n",
    "                        F1Score()])"
   ]
  },
  {
   "cell_type": "code",
   "execution_count": 11,
   "id": "1b12f6be",
   "metadata": {
    "execution": {
     "iopub.execute_input": "2025-04-28T12:19:44.081560Z",
     "iopub.status.busy": "2025-04-28T12:19:44.081158Z",
     "iopub.status.idle": "2025-04-28T12:19:44.088501Z",
     "shell.execute_reply": "2025-04-28T12:19:44.087835Z"
    },
    "papermill": {
     "duration": 0.014343,
     "end_time": "2025-04-28T12:19:44.089596",
     "exception": false,
     "start_time": "2025-04-28T12:19:44.075253",
     "status": "completed"
    },
    "tags": []
   },
   "outputs": [],
   "source": [
    "from tensorflow.keras.callbacks import Callback\n",
    "\n",
    "class RestoreBestValidationModel(Callback):\n",
    "    def __init__(self):\n",
    "        super(RestoreBestValidationModel, self).__init__()\n",
    "        self.best_val_acc = -1\n",
    "        self.best_epoch = -1\n",
    "        self.best_weights = None\n",
    "\n",
    "    def on_epoch_end(self, epoch, logs=None):\n",
    "        val_acc = logs.get('val_accuracy')\n",
    "        if val_acc is not None:\n",
    "            if val_acc > self.best_val_acc or (val_acc == self.best_val_acc and epoch > self.best_epoch):\n",
    "                self.best_val_acc = val_acc\n",
    "                self.best_epoch = epoch\n",
    "                self.best_weights = self.model.get_weights()  \n",
    "                print(f\"Model weights updated at epoch {epoch + 1} with val_accuracy: {val_acc:.4f}\")\n",
    "\n",
    "    def on_train_end(self, logs=None):\n",
    "        if self.best_weights is not None:\n",
    "            print(f\"Restoring model weights from best epoch {self.best_epoch + 1} with val_accuracy: {self.best_val_acc:.4f}\")\n",
    "            self.model.set_weights(self.best_weights)  \n",
    "\n",
    "restore_best = RestoreBestValidationModel()"
   ]
  },
  {
   "cell_type": "code",
   "execution_count": 12,
   "id": "3855bc66",
   "metadata": {
    "execution": {
     "iopub.execute_input": "2025-04-28T12:19:44.101066Z",
     "iopub.status.busy": "2025-04-28T12:19:44.100850Z",
     "iopub.status.idle": "2025-04-28T12:52:27.176109Z",
     "shell.execute_reply": "2025-04-28T12:52:27.175379Z"
    },
    "papermill": {
     "duration": 1963.128799,
     "end_time": "2025-04-28T12:52:27.223845",
     "exception": false,
     "start_time": "2025-04-28T12:19:44.095046",
     "status": "completed"
    },
    "tags": []
   },
   "outputs": [
    {
     "name": "stdout",
     "output_type": "stream",
     "text": [
      "Epoch 1/10\n"
     ]
    },
    {
     "name": "stderr",
     "output_type": "stream",
     "text": [
      "WARNING: All log messages before absl::InitializeLog() is called are written to STDERR\n",
      "I0000 00:00:1745842809.077193      59 service.cc:148] XLA service 0x79f354002220 initialized for platform CUDA (this does not guarantee that XLA will be used). Devices:\n",
      "I0000 00:00:1745842809.077983      59 service.cc:156]   StreamExecutor device (0): Tesla P100-PCIE-16GB, Compute Capability 6.0\n",
      "I0000 00:00:1745842811.024125      59 cuda_dnn.cc:529] Loaded cuDNN version 90300\n",
      "E0000 00:00:1745842816.503081      59 gpu_timer.cc:82] Delay kernel timed out: measured time has sub-optimal accuracy. There may be a missing warmup execution, please investigate in Nsight Systems.\n",
      "E0000 00:00:1745842816.691182      59 gpu_timer.cc:82] Delay kernel timed out: measured time has sub-optimal accuracy. There may be a missing warmup execution, please investigate in Nsight Systems.\n",
      "E0000 00:00:1745842817.588975      59 gpu_timer.cc:82] Delay kernel timed out: measured time has sub-optimal accuracy. There may be a missing warmup execution, please investigate in Nsight Systems.\n",
      "E0000 00:00:1745842817.789220      59 gpu_timer.cc:82] Delay kernel timed out: measured time has sub-optimal accuracy. There may be a missing warmup execution, please investigate in Nsight Systems.\n",
      "E0000 00:00:1745842818.211229      59 gpu_timer.cc:82] Delay kernel timed out: measured time has sub-optimal accuracy. There may be a missing warmup execution, please investigate in Nsight Systems.\n",
      "E0000 00:00:1745842818.437232      59 gpu_timer.cc:82] Delay kernel timed out: measured time has sub-optimal accuracy. There may be a missing warmup execution, please investigate in Nsight Systems.\n"
     ]
    },
    {
     "name": "stdout",
     "output_type": "stream",
     "text": [
      "\u001b[1m  1/428\u001b[0m \u001b[37m━━━━━━━━━━━━━━━━━━━━\u001b[0m \u001b[1m4:36:22\u001b[0m 39s/step - accuracy: 0.1250 - f1_score: 0.0465 - loss: 3.0365 - precision: 0.0909 - recall: 0.0312"
     ]
    },
    {
     "name": "stderr",
     "output_type": "stream",
     "text": [
      "I0000 00:00:1745842823.813982      59 device_compiler.h:188] Compiled cluster using XLA!  This line is logged at most once for the lifetime of the process.\n"
     ]
    },
    {
     "name": "stdout",
     "output_type": "stream",
     "text": [
      "\u001b[1m427/428\u001b[0m \u001b[32m━━━━━━━━━━━━━━━━━━━\u001b[0m\u001b[37m━\u001b[0m \u001b[1m0s\u001b[0m 504ms/step - accuracy: 0.8113 - f1_score: 0.8015 - loss: 0.5719 - precision: 0.8829 - recall: 0.7467"
     ]
    },
    {
     "name": "stderr",
     "output_type": "stream",
     "text": [
      "E0000 00:00:1745843042.413874      59 gpu_timer.cc:82] Delay kernel timed out: measured time has sub-optimal accuracy. There may be a missing warmup execution, please investigate in Nsight Systems.\n",
      "E0000 00:00:1745843042.598915      59 gpu_timer.cc:82] Delay kernel timed out: measured time has sub-optimal accuracy. There may be a missing warmup execution, please investigate in Nsight Systems.\n",
      "E0000 00:00:1745843043.094349      59 gpu_timer.cc:82] Delay kernel timed out: measured time has sub-optimal accuracy. There may be a missing warmup execution, please investigate in Nsight Systems.\n",
      "E0000 00:00:1745843043.293322      59 gpu_timer.cc:82] Delay kernel timed out: measured time has sub-optimal accuracy. There may be a missing warmup execution, please investigate in Nsight Systems.\n",
      "E0000 00:00:1745843043.694558      59 gpu_timer.cc:82] Delay kernel timed out: measured time has sub-optimal accuracy. There may be a missing warmup execution, please investigate in Nsight Systems.\n",
      "E0000 00:00:1745843043.918087      59 gpu_timer.cc:82] Delay kernel timed out: measured time has sub-optimal accuracy. There may be a missing warmup execution, please investigate in Nsight Systems.\n"
     ]
    },
    {
     "name": "stdout",
     "output_type": "stream",
     "text": [
      "\u001b[1m428/428\u001b[0m \u001b[32m━━━━━━━━━━━━━━━━━━━━\u001b[0m\u001b[37m\u001b[0m \u001b[1m0s\u001b[0m 528ms/step - accuracy: 0.8116 - f1_score: 0.8018 - loss: 0.5712 - precision: 0.8831 - recall: 0.7470Model weights updated at epoch 1 with val_accuracy: 0.9661\n",
      "\u001b[1m428/428\u001b[0m \u001b[32m━━━━━━━━━━━━━━━━━━━━\u001b[0m\u001b[37m\u001b[0m \u001b[1m297s\u001b[0m 605ms/step - accuracy: 0.8118 - f1_score: 0.8021 - loss: 0.5705 - precision: 0.8832 - recall: 0.7474 - val_accuracy: 0.9661 - val_f1_score: 0.9665 - val_loss: 0.0958 - val_precision: 0.9716 - val_recall: 0.9614\n",
      "Epoch 2/10\n",
      "\u001b[1m428/428\u001b[0m \u001b[32m━━━━━━━━━━━━━━━━━━━━\u001b[0m\u001b[37m\u001b[0m \u001b[1m0s\u001b[0m 387ms/step - accuracy: 0.9733 - f1_score: 0.9739 - loss: 0.0793 - precision: 0.9766 - recall: 0.9711Model weights updated at epoch 2 with val_accuracy: 0.9684\n",
      "\u001b[1m428/428\u001b[0m \u001b[32m━━━━━━━━━━━━━━━━━━━━\u001b[0m\u001b[37m\u001b[0m \u001b[1m187s\u001b[0m 435ms/step - accuracy: 0.9733 - f1_score: 0.9739 - loss: 0.0793 - precision: 0.9766 - recall: 0.9711 - val_accuracy: 0.9684 - val_f1_score: 0.9675 - val_loss: 0.1121 - val_precision: 0.9694 - val_recall: 0.9655\n",
      "Epoch 3/10\n",
      "\u001b[1m428/428\u001b[0m \u001b[32m━━━━━━━━━━━━━━━━━━━━\u001b[0m\u001b[37m\u001b[0m \u001b[1m0s\u001b[0m 384ms/step - accuracy: 0.9830 - f1_score: 0.9830 - loss: 0.0503 - precision: 0.9843 - recall: 0.9818Model weights updated at epoch 3 with val_accuracy: 0.9743\n",
      "\u001b[1m428/428\u001b[0m \u001b[32m━━━━━━━━━━━━━━━━━━━━\u001b[0m\u001b[37m\u001b[0m \u001b[1m185s\u001b[0m 432ms/step - accuracy: 0.9830 - f1_score: 0.9830 - loss: 0.0503 - precision: 0.9843 - recall: 0.9818 - val_accuracy: 0.9743 - val_f1_score: 0.9748 - val_loss: 0.0937 - val_precision: 0.9760 - val_recall: 0.9737\n",
      "Epoch 4/10\n",
      "\u001b[1m428/428\u001b[0m \u001b[32m━━━━━━━━━━━━━━━━━━━━\u001b[0m\u001b[37m\u001b[0m \u001b[1m0s\u001b[0m 385ms/step - accuracy: 0.9869 - f1_score: 0.9870 - loss: 0.0425 - precision: 0.9878 - recall: 0.9862Model weights updated at epoch 4 with val_accuracy: 0.9783\n",
      "\u001b[1m428/428\u001b[0m \u001b[32m━━━━━━━━━━━━━━━━━━━━\u001b[0m\u001b[37m\u001b[0m \u001b[1m185s\u001b[0m 433ms/step - accuracy: 0.9869 - f1_score: 0.9870 - loss: 0.0425 - precision: 0.9878 - recall: 0.9862 - val_accuracy: 0.9783 - val_f1_score: 0.9786 - val_loss: 0.1115 - val_precision: 0.9789 - val_recall: 0.9783\n",
      "Epoch 5/10\n",
      "\u001b[1m428/428\u001b[0m \u001b[32m━━━━━━━━━━━━━━━━━━━━\u001b[0m\u001b[37m\u001b[0m \u001b[1m0s\u001b[0m 391ms/step - accuracy: 0.9930 - f1_score: 0.9930 - loss: 0.0244 - precision: 0.9933 - recall: 0.9926Model weights updated at epoch 5 with val_accuracy: 0.9801\n",
      "\u001b[1m428/428\u001b[0m \u001b[32m━━━━━━━━━━━━━━━━━━━━\u001b[0m\u001b[37m\u001b[0m \u001b[1m188s\u001b[0m 439ms/step - accuracy: 0.9930 - f1_score: 0.9930 - loss: 0.0244 - precision: 0.9933 - recall: 0.9926 - val_accuracy: 0.9801 - val_f1_score: 0.9801 - val_loss: 0.0663 - val_precision: 0.9807 - val_recall: 0.9795\n",
      "Epoch 6/10\n",
      "\u001b[1m428/428\u001b[0m \u001b[32m━━━━━━━━━━━━━━━━━━━━\u001b[0m\u001b[37m\u001b[0m \u001b[1m183s\u001b[0m 427ms/step - accuracy: 0.9944 - f1_score: 0.9944 - loss: 0.0179 - precision: 0.9948 - recall: 0.9941 - val_accuracy: 0.9743 - val_f1_score: 0.9748 - val_loss: 0.0865 - val_precision: 0.9765 - val_recall: 0.9731\n",
      "Epoch 7/10\n",
      "\u001b[1m428/428\u001b[0m \u001b[32m━━━━━━━━━━━━━━━━━━━━\u001b[0m\u001b[37m\u001b[0m \u001b[1m0s\u001b[0m 380ms/step - accuracy: 0.9941 - f1_score: 0.9939 - loss: 0.0193 - precision: 0.9941 - recall: 0.9938Model weights updated at epoch 7 with val_accuracy: 0.9807\n",
      "\u001b[1m428/428\u001b[0m \u001b[32m━━━━━━━━━━━━━━━━━━━━\u001b[0m\u001b[37m\u001b[0m \u001b[1m183s\u001b[0m 428ms/step - accuracy: 0.9941 - f1_score: 0.9939 - loss: 0.0193 - precision: 0.9941 - recall: 0.9938 - val_accuracy: 0.9807 - val_f1_score: 0.9804 - val_loss: 0.0705 - val_precision: 0.9812 - val_recall: 0.9795\n",
      "Epoch 8/10\n",
      "\u001b[1m428/428\u001b[0m \u001b[32m━━━━━━━━━━━━━━━━━━━━\u001b[0m\u001b[37m\u001b[0m \u001b[1m186s\u001b[0m 434ms/step - accuracy: 0.9930 - f1_score: 0.9930 - loss: 0.0226 - precision: 0.9933 - recall: 0.9926 - val_accuracy: 0.9801 - val_f1_score: 0.9798 - val_loss: 0.0810 - val_precision: 0.9801 - val_recall: 0.9795\n",
      "Epoch 9/10\n",
      "\u001b[1m428/428\u001b[0m \u001b[32m━━━━━━━━━━━━━━━━━━━━\u001b[0m\u001b[37m\u001b[0m \u001b[1m184s\u001b[0m 430ms/step - accuracy: 0.9952 - f1_score: 0.9954 - loss: 0.0183 - precision: 0.9957 - recall: 0.9951 - val_accuracy: 0.9783 - val_f1_score: 0.9781 - val_loss: 0.1160 - val_precision: 0.9783 - val_recall: 0.9778\n",
      "Epoch 10/10\n",
      "\u001b[1m428/428\u001b[0m \u001b[32m━━━━━━━━━━━━━━━━━━━━\u001b[0m\u001b[37m\u001b[0m \u001b[1m0s\u001b[0m 382ms/step - accuracy: 0.9944 - f1_score: 0.9944 - loss: 0.0196 - precision: 0.9946 - recall: 0.9942Model weights updated at epoch 10 with val_accuracy: 0.9819\n",
      "\u001b[1m428/428\u001b[0m \u001b[32m━━━━━━━━━━━━━━━━━━━━\u001b[0m\u001b[37m\u001b[0m \u001b[1m184s\u001b[0m 429ms/step - accuracy: 0.9944 - f1_score: 0.9944 - loss: 0.0196 - precision: 0.9946 - recall: 0.9942 - val_accuracy: 0.9819 - val_f1_score: 0.9819 - val_loss: 0.0675 - val_precision: 0.9819 - val_recall: 0.9819\n",
      "Restoring model weights from best epoch 10 with val_accuracy: 0.9819\n"
     ]
    }
   ],
   "source": [
    "history_X = Xmodel.fit(train_data,\n",
    "                 epochs=EPOCH,             \n",
    "                 validation_data=validation_data,\n",
    "                 callbacks=[restore_best],\n",
    "                 shuffle= False)"
   ]
  },
  {
   "cell_type": "code",
   "execution_count": 13,
   "id": "79270d25",
   "metadata": {
    "execution": {
     "iopub.execute_input": "2025-04-28T12:52:27.646260Z",
     "iopub.status.busy": "2025-04-28T12:52:27.645926Z",
     "iopub.status.idle": "2025-04-28T12:52:27.654210Z",
     "shell.execute_reply": "2025-04-28T12:52:27.653405Z"
    },
    "papermill": {
     "duration": 0.244272,
     "end_time": "2025-04-28T12:52:27.655227",
     "exception": false,
     "start_time": "2025-04-28T12:52:27.410955",
     "status": "completed"
    },
    "tags": []
   },
   "outputs": [
    {
     "name": "stdout",
     "output_type": "stream",
     "text": [
      "Lowest Loss: 0.06629026681184769 at index 4\n",
      "Highest Accuracy: 0.9818607568740845 at index 9\n",
      "Highest Precision: 0.9818607568740845 at index 9\n",
      "Highest Recall: 0.9818607568740845 at index 9\n",
      "Highest F1-score: 0.9818606972694397 at index 9\n"
     ]
    }
   ],
   "source": [
    "# Extract metrics for XCEPTION MODEL\n",
    "tr_acc_X = history_X.history['accuracy']\n",
    "tr_loss_X = history_X.history['loss']\n",
    "tr_per_X = history_X.history['precision']\n",
    "tr_recall_X = history_X.history['recall']\n",
    "tr_fscore_X = history_X.history['f1_score']\n",
    "val_acc_X = history_X.history['val_accuracy']\n",
    "val_loss_X = history_X.history['val_loss']\n",
    "val_per_X = history_X.history['val_precision']\n",
    "val_recall_X = history_X.history['val_recall']\n",
    "val_fscore_X = history_X.history['val_f1_score']\n",
    "\n",
    "# Get the best epochs for each metric\n",
    "index_loss_X = np.argmin(val_loss_X)\n",
    "loss_lowest_X = val_loss_X[index_loss_X]\n",
    "index_acc_X = np.argmax(val_acc_X)\n",
    "acc_highest_X = val_acc_X[index_acc_X]\n",
    "index_precision_X = np.argmax(val_per_X)\n",
    "pre_highest_X = val_per_X[index_precision_X]\n",
    "index_recall_X = np.argmax(val_recall_X)\n",
    "recall_highest_X = val_recall_X[index_recall_X]\n",
    "index_fscore_X = np.argmax(val_fscore_X)\n",
    "fscore_highest_X = val_fscore_X[index_fscore_X]\n",
    "\n",
    "# Print results\n",
    "print(f\"Lowest Loss: {loss_lowest_X} at index {index_loss_X}\")\n",
    "print(f\"Highest Accuracy: {acc_highest_X} at index {index_acc_X}\")\n",
    "print(f\"Highest Precision: {pre_highest_X} at index {index_precision_X}\")\n",
    "print(f\"Highest Recall: {recall_highest_X} at index {index_recall_X}\")\n",
    "print(f\"Highest F1-score: {fscore_highest_X} at index {index_fscore_X}\")\n",
    "\n",
    "# Epochs for plotting\n",
    "Epochs_X = [i + 1 for i in range(len(tr_acc_X))]\n",
    "\n",
    "# Define a modern style\n",
    "plt.style.use('ggplot')"
   ]
  },
  {
   "cell_type": "code",
   "execution_count": 14,
   "id": "50037a66",
   "metadata": {
    "execution": {
     "iopub.execute_input": "2025-04-28T12:52:28.023360Z",
     "iopub.status.busy": "2025-04-28T12:52:28.023060Z",
     "iopub.status.idle": "2025-04-28T12:52:28.239819Z",
     "shell.execute_reply": "2025-04-28T12:52:28.239155Z"
    },
    "papermill": {
     "duration": 0.403777,
     "end_time": "2025-04-28T12:52:28.241916",
     "exception": false,
     "start_time": "2025-04-28T12:52:27.838139",
     "status": "completed"
    },
    "tags": []
   },
   "outputs": [
    {
     "data": {
      "image/png": "[encoded data removed]",
      "text/plain": [
       "<Figure size 1000x600 with 1 Axes>"
      ]
     },
     "metadata": {},
     "output_type": "display_data"
    },
    {
     "name": "stdout",
     "output_type": "stream",
     "text": [
      "4\n"
     ]
    }
   ],
   "source": [
    "# Plot Training and Validation Loss\n",
    "plt.figure(figsize=(10, 6))\n",
    "plt.plot(Epochs_X, tr_loss_X, color='red', label='Training Loss', linewidth=2)\n",
    "plt.plot(Epochs_X, val_loss_X, color='green', label='Validation Loss', linestyle='--', linewidth=2)\n",
    "plt.scatter(index_loss_X + 1, loss_lowest_X, s=150, c='blue', label=f'Best epoch = {index_loss_X + 1}', edgecolors='black')\n",
    "plt.title('Training and Validation Loss', fontsize=14, fontweight='bold')\n",
    "plt.xlabel('Epochs', fontsize=12)\n",
    "plt.ylabel('Loss', fontsize=12)\n",
    "plt.legend(fontsize=10)\n",
    "plt.grid(visible=True, linestyle='--', alpha=0.5)\n",
    "plt.show()\n",
    "\n",
    "print(np.argmin(val_loss_X))"
   ]
  },
  {
   "cell_type": "code",
   "execution_count": 15,
   "id": "db14d0fd",
   "metadata": {
    "execution": {
     "iopub.execute_input": "2025-04-28T12:52:28.618483Z",
     "iopub.status.busy": "2025-04-28T12:52:28.617570Z",
     "iopub.status.idle": "2025-04-28T12:52:28.804046Z",
     "shell.execute_reply": "2025-04-28T12:52:28.803351Z"
    },
    "papermill": {
     "duration": 0.373415,
     "end_time": "2025-04-28T12:52:28.805845",
     "exception": false,
     "start_time": "2025-04-28T12:52:28.432430",
     "status": "completed"
    },
    "tags": []
   },
   "outputs": [
    {
     "data": {
      "image/png": "[encoded data removed]",
      "text/plain": [
       "<Figure size 1000x600 with 1 Axes>"
      ]
     },
     "metadata": {},
     "output_type": "display_data"
    }
   ],
   "source": [
    "# Plot Training and Validation Accuracy\n",
    "plt.figure(figsize=(10, 6))\n",
    "plt.plot(Epochs_X, tr_acc_X, color='purple', label='Training Accuracy', linewidth=2)\n",
    "plt.plot(Epochs_X, val_acc_X, color='orange', label='Validation Accuracy', linestyle='--', linewidth=2)\n",
    "plt.scatter(index_acc_X + 1, acc_highest_X, s=150, c='blue', label=f'Best epoch = {index_acc_X + 1}', edgecolors='black')\n",
    "plt.title('Training and Validation Accuracy', fontsize=14, fontweight='bold')\n",
    "plt.xlabel('Epochs', fontsize=12)\n",
    "plt.ylabel('Accuracy', fontsize=12)\n",
    "plt.legend(fontsize=10)\n",
    "plt.grid(visible=True, linestyle='--', alpha=0.5)\n",
    "plt.show()"
   ]
  }
 ],
 "metadata": {
  "kaggle": {
   "accelerator": "gpu",
   "dataSources": [
    {
     "datasetId": 6755943,
     "sourceId": 10873558,
     "sourceType": "datasetVersion"
    }
   ],
   "dockerImageVersionId": 31011,
   "isGpuEnabled": true,
   "isInternetEnabled": true,
   "language": "python",
   "sourceType": "notebook"
  },
  "kernelspec": {
   "display_name": "Python 3",
   "language": "python",
   "name": "python3"
  },
  "language_info": {
   "codemirror_mode": {
    "name": "ipython",
    "version": 3
   },
   "file_extension": ".py",
   "mimetype": "text/x-python",
   "name": "python",
   "nbconvert_exporter": "python",
   "pygments_lexer": "ipython3",
   "version": "3.11.11"
  },
  "papermill": {
   "default_parameters": {},
   "duration": 2028.108165,
   "end_time": "2025-04-28T12:52:32.334986",
   "environment_variables": {},
   "exception": null,
   "input_path": "__notebook__.ipynb",
   "output_path": "__notebook__.ipynb",
   "parameters": {},
   "start_time": "2025-04-28T12:18:44.226821",
   "version": "2.6.0"
  }
 },
 "nbformat": 4,
 "nbformat_minor": 5
}
