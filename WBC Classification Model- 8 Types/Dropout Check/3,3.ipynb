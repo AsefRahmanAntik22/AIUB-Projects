{
 "cells": [
  {
   "cell_type": "code",
   "execution_count": 1,
   "id": "95719713",
   "metadata": {
    "execution": {
     "iopub.execute_input": "2025-04-28T13:22:02.224872Z",
     "iopub.status.busy": "2025-04-28T13:22:02.224598Z",
     "iopub.status.idle": "2025-04-28T13:22:26.175198Z",
     "shell.execute_reply": "2025-04-28T13:22:26.174310Z"
    },
    "papermill": {
     "duration": 23.95686,
     "end_time": "2025-04-28T13:22:26.176909",
     "exception": false,
     "start_time": "2025-04-28T13:22:02.220049",
     "status": "completed"
    },
    "tags": []
   },
   "outputs": [
    {
     "name": "stderr",
     "output_type": "stream",
     "text": [
      "2025-04-28 13:22:07.633114: E external/local_xla/xla/stream_executor/cuda/cuda_fft.cc:477] Unable to register cuFFT factory: Attempting to register factory for plugin cuFFT when one has already been registered\n",
      "WARNING: All log messages before absl::InitializeLog() is called are written to STDERR\n",
      "E0000 00:00:1745846527.906936      19 cuda_dnn.cc:8310] Unable to register cuDNN factory: Attempting to register factory for plugin cuDNN when one has already been registered\n",
      "E0000 00:00:1745846527.980678      19 cuda_blas.cc:1418] Unable to register cuBLAS factory: Attempting to register factory for plugin cuBLAS when one has already been registered\n"
     ]
    }
   ],
   "source": [
    "import os\n",
    "import numpy as np\n",
    "import pandas as pd\n",
    "import matplotlib.pyplot as plt\n",
    "import seaborn as sns\n",
    "import warnings\n",
    "warnings.filterwarnings(\"ignore\")\n",
    "\n",
    "# TensorFlow & Keras\n",
    "import tensorflow as tf\n",
    "from tensorflow.keras.models import Model\n",
    "from tensorflow.keras.utils import plot_model\n",
    "from tensorflow.keras.layers import Input, Concatenate\n",
    "from tensorflow.keras.layers import (Input, Dense, Flatten, Dropout, GlobalAveragePooling2D)\n",
    "from tensorflow.keras.applications import Xception, DenseNet121, InceptionV3\n",
    "from tensorflow.keras.optimizers import Adamax, Adam\n",
    "from tensorflow.keras.preprocessing.image import ImageDataGenerator\n",
    "from tensorflow.keras.metrics import Precision, Recall\n",
    "\n",
    "# Scikit-Learn\n",
    "from sklearn.model_selection import train_test_split, GridSearchCV, StratifiedKFold\n",
    "from sklearn.preprocessing import StandardScaler\n",
    "from sklearn.pipeline import Pipeline\n",
    "from sklearn.feature_selection import SelectKBest, SelectFromModel, f_classif\n",
    "from sklearn.linear_model import SGDClassifier, LogisticRegression\n",
    "from sklearn.svm import SVC\n",
    "from sklearn.neighbors import KNeighborsClassifier\n",
    "from sklearn.tree import DecisionTreeClassifier\n",
    "from sklearn.naive_bayes import GaussianNB\n",
    "from sklearn.neural_network import MLPClassifier\n",
    "from sklearn.ensemble import (\n",
    "    RandomForestClassifier, GradientBoostingClassifier, AdaBoostClassifier, \n",
    "    ExtraTreesClassifier, VotingClassifier, StackingClassifier\n",
    ")\n",
    "\n",
    "# Boosting Libraries\n",
    "from xgboost import XGBClassifier\n",
    "from lightgbm import LGBMClassifier\n",
    "\n",
    "# Evaluation Metrics\n",
    "from sklearn.metrics import (\n",
    "    accuracy_score, precision_score, recall_score, f1_score, confusion_matrix, ConfusionMatrixDisplay\n",
    ")\n",
    "\n",
    "#for parallel threading\n",
    "from joblib import parallel_backend\n",
    "import cv2\n",
    "\n",
    "#Model saving to disk\n",
    "import pickle\n",
    "\n",
    "# Suppress warnings\n",
    "warnings.filterwarnings(\"ignore\")"
   ]
  },
  {
   "cell_type": "code",
   "execution_count": 2,
   "id": "83364c83",
   "metadata": {
    "execution": {
     "iopub.execute_input": "2025-04-28T13:22:26.185522Z",
     "iopub.status.busy": "2025-04-28T13:22:26.184363Z",
     "iopub.status.idle": "2025-04-28T13:22:27.349674Z",
     "shell.execute_reply": "2025-04-28T13:22:27.348904Z"
    },
    "papermill": {
     "duration": 1.170348,
     "end_time": "2025-04-28T13:22:27.350825",
     "exception": false,
     "start_time": "2025-04-28T13:22:26.180477",
     "status": "completed"
    },
    "tags": []
   },
   "outputs": [
    {
     "name": "stdout",
     "output_type": "stream",
     "text": [
      "GPUs detected: 1\n"
     ]
    }
   ],
   "source": [
    "gpus = tf.config.list_physical_devices('GPU')\n",
    "if gpus:\n",
    "    try:\n",
    "        for gpu in gpus:\n",
    "            tf.config.experimental.set_memory_growth(gpu, True)\n",
    "        print(f\"GPUs detected: {len(gpus)}\")\n",
    "    except RuntimeError as e:\n",
    "        print(f\"Error setting GPU memory growth: {e}\")\n",
    "else:\n",
    "    print(\"No GPUs detected.\")"
   ]
  },
  {
   "cell_type": "code",
   "execution_count": 3,
   "id": "230c93bd",
   "metadata": {
    "execution": {
     "iopub.execute_input": "2025-04-28T13:22:27.357995Z",
     "iopub.status.busy": "2025-04-28T13:22:27.357711Z",
     "iopub.status.idle": "2025-04-28T13:22:27.362403Z",
     "shell.execute_reply": "2025-04-28T13:22:27.361697Z"
    },
    "papermill": {
     "duration": 0.009633,
     "end_time": "2025-04-28T13:22:27.363640",
     "exception": false,
     "start_time": "2025-04-28T13:22:27.354007",
     "status": "completed"
    },
    "tags": []
   },
   "outputs": [],
   "source": [
    "def data_frame(path):\n",
    "    class_paths = []\n",
    "    classes = []\n",
    "\n",
    "    for label in os.listdir(path):\n",
    "        class_dir = os.path.join(path, label)\n",
    "        if os.path.isdir(class_dir):  # Ensure it's a directory\n",
    "            for image in os.listdir(class_dir):\n",
    "                class_paths.append(os.path.join(class_dir, image))\n",
    "                classes.append(label)\n",
    "\n",
    "    df = pd.DataFrame({'Class Path': class_paths, 'Class': classes})\n",
    "    return df"
   ]
  },
  {
   "cell_type": "code",
   "execution_count": 4,
   "id": "61352416",
   "metadata": {
    "execution": {
     "iopub.execute_input": "2025-04-28T13:22:27.370566Z",
     "iopub.status.busy": "2025-04-28T13:22:27.370303Z",
     "iopub.status.idle": "2025-04-28T13:22:27.608901Z",
     "shell.execute_reply": "2025-04-28T13:22:27.607894Z"
    },
    "papermill": {
     "duration": 0.243474,
     "end_time": "2025-04-28T13:22:27.610113",
     "exception": false,
     "start_time": "2025-04-28T13:22:27.366639",
     "status": "completed"
    },
    "tags": []
   },
   "outputs": [
    {
     "name": "stdout",
     "output_type": "stream",
     "text": [
      "Train size: 13673, Validation size: 1709, Test size: 1710\n"
     ]
    }
   ],
   "source": [
    "dataframe = data_frame('/kaggle/input/wbc-8type-original/bloodcells_dataset Original')\n",
    "from sklearn.model_selection import train_test_split\n",
    "train_dataframe, temp_dataframe = train_test_split(dataframe, \n",
    "                                                   test_size=0.2, \n",
    "                                                   random_state=42, \n",
    "                                                   stratify=dataframe['Class'])\n",
    "Validation_dataframe, test_dataframe = train_test_split(temp_dataframe, \n",
    "                                                        test_size=0.5, \n",
    "                                                        random_state=42, \n",
    "                                                        stratify=temp_dataframe['Class'])\n",
    "print(f\"Train size: {len(train_dataframe)}, Validation size: {len(Validation_dataframe)}, Test size: {len(test_dataframe)}\")"
   ]
  },
  {
   "cell_type": "code",
   "execution_count": 5,
   "id": "ee0478c4",
   "metadata": {
    "execution": {
     "iopub.execute_input": "2025-04-28T13:22:27.617135Z",
     "iopub.status.busy": "2025-04-28T13:22:27.616859Z",
     "iopub.status.idle": "2025-04-28T13:22:27.620866Z",
     "shell.execute_reply": "2025-04-28T13:22:27.620277Z"
    },
    "papermill": {
     "duration": 0.009017,
     "end_time": "2025-04-28T13:22:27.622061",
     "exception": false,
     "start_time": "2025-04-28T13:22:27.613044",
     "status": "completed"
    },
    "tags": []
   },
   "outputs": [],
   "source": [
    "BATCH_SIZE = 32\n",
    "IMG_SIZE = (224, 224)\n",
    "EPOCH = 10\n",
    "img_shape=(224,224,3)\n",
    "labels = [\n",
    "    \"basophil\",\n",
    "    \"eosinophil\",\n",
    "    \"erythroblast\",\n",
    "    \"ig\",\n",
    "    \"lymphocyte\",\n",
    "    \"monocyte\",\n",
    "    \"neutrophil\",\n",
    "    \"platelet\"\n",
    "]"
   ]
  },
  {
   "cell_type": "code",
   "execution_count": 6,
   "id": "9c8a1f76",
   "metadata": {
    "execution": {
     "iopub.execute_input": "2025-04-28T13:22:27.629272Z",
     "iopub.status.busy": "2025-04-28T13:22:27.628547Z",
     "iopub.status.idle": "2025-04-28T13:22:27.634157Z",
     "shell.execute_reply": "2025-04-28T13:22:27.633373Z"
    },
    "papermill": {
     "duration": 0.010254,
     "end_time": "2025-04-28T13:22:27.635309",
     "exception": false,
     "start_time": "2025-04-28T13:22:27.625055",
     "status": "completed"
    },
    "tags": []
   },
   "outputs": [],
   "source": [
    "def apply_clahe(img):\n",
    "    \"\"\"Apply CLAHE after Adaptive Gray World Normalization.\"\"\"\n",
    "    lab = cv2.cvtColor(img, cv2.COLOR_RGB2LAB)\n",
    "    l, a, b = cv2.split(lab)\n",
    "    clahe = cv2.createCLAHE(clipLimit=0.03, tileGridSize=(8,8))\n",
    "    l = clahe.apply(l)\n",
    "    clahe_img = cv2.merge((l, a, b))\n",
    "    return cv2.cvtColor(clahe_img, cv2.COLOR_LAB2RGB)\n",
    "\n",
    "def preprocess_image(img):\n",
    "    \"\"\"First apply Adaptive Gray World, then CLAHE (No Normalization).\"\"\"\n",
    "    img = img.astype(np.uint8)  # Ensure correct data type\n",
    "    img = apply_clahe(img)  # Step 2: CLAHE\n",
    "    img = (img - np.mean(img)) / (np.std(img) + 1e-8) # step: 3: z score normalization\n",
    "    return img  "
   ]
  },
  {
   "cell_type": "code",
   "execution_count": 7,
   "id": "0b40f9f4",
   "metadata": {
    "execution": {
     "iopub.execute_input": "2025-04-28T13:22:27.642714Z",
     "iopub.status.busy": "2025-04-28T13:22:27.641967Z",
     "iopub.status.idle": "2025-04-28T13:22:27.646195Z",
     "shell.execute_reply": "2025-04-28T13:22:27.645655Z"
    },
    "papermill": {
     "duration": 0.008853,
     "end_time": "2025-04-28T13:22:27.647315",
     "exception": false,
     "start_time": "2025-04-28T13:22:27.638462",
     "status": "completed"
    },
    "tags": []
   },
   "outputs": [],
   "source": [
    "def preprocess_image2(image):\n",
    "    # Convert to float32\n",
    "    img = image.astype(np.float32)\n",
    "\n",
    "    # Apply Z-score Normalization\n",
    "    #img = (img - np.mean(img)) / (np.std(img) + 1e-8)\n",
    "\n",
    "    # Min-Max Scaling (for CLAHE)\n",
    "    img = (img - np.min(img)) / (np.ptp(img) + 1e-8)  # np.ptp = max - min\n",
    "    #img = (img * 255).astype(np.uint8)  # Convert to uint8 for CLAHE\n",
    "\n",
    "    # Apply CLAHE to each channel independently\n",
    "    #clahe = cv2.createCLAHE(clipLimit=0.02, tileGridSize=(8, 8))\n",
    "    #img_clahe = np.zeros_like(img)\n",
    "    \n",
    "    #for i in range(3):  # Apply CLAHE on each channel separately\n",
    "        #img_clahe[..., i] = clahe.apply(img[..., i])\n",
    "\n",
    "    # Convert back to float32 (normalize to [0,1])\n",
    "    #img_clahe = img_clahe.astype(np.float32) / 255.0  \n",
    "\n",
    "    return img"
   ]
  },
  {
   "cell_type": "code",
   "execution_count": 8,
   "id": "08ad5446",
   "metadata": {
    "execution": {
     "iopub.execute_input": "2025-04-28T13:22:27.653847Z",
     "iopub.status.busy": "2025-04-28T13:22:27.653617Z",
     "iopub.status.idle": "2025-04-28T13:23:06.632364Z",
     "shell.execute_reply": "2025-04-28T13:23:06.631488Z"
    },
    "papermill": {
     "duration": 38.983458,
     "end_time": "2025-04-28T13:23:06.633714",
     "exception": false,
     "start_time": "2025-04-28T13:22:27.650256",
     "status": "completed"
    },
    "tags": []
   },
   "outputs": [
    {
     "name": "stdout",
     "output_type": "stream",
     "text": [
      "Found 13673 validated image filenames belonging to 8 classes.\n",
      "Found 1709 validated image filenames belonging to 8 classes.\n",
      "Found 1710 validated image filenames belonging to 8 classes.\n"
     ]
    }
   ],
   "source": [
    "data_generator = ImageDataGenerator(\n",
    "    preprocessing_function=preprocess_image2,\n",
    "    rotation_range=10,\n",
    "    shear_range=0.1,\n",
    "    zoom_range=0.05,\n",
    "    fill_mode='nearest',\n",
    ")\n",
    "test_data_generator = ImageDataGenerator(preprocessing_function=preprocess_image2)\n",
    "\n",
    "\n",
    "train_data = data_generator.flow_from_dataframe(train_dataframe, x_col='Class Path',\n",
    "                                  y_col='Class', batch_size=BATCH_SIZE,\n",
    "                                  target_size=IMG_SIZE, seed=42)\n",
    "\n",
    "validation_data = data_generator.flow_from_dataframe(Validation_dataframe, x_col='Class Path',\n",
    "                                     y_col='Class', batch_size=BATCH_SIZE,\n",
    "                                     target_size=IMG_SIZE, seed=42)\n",
    "\n",
    "test_data = test_data_generator.flow_from_dataframe(test_dataframe, x_col='Class Path',\n",
    "                                  y_col='Class', batch_size=BATCH_SIZE,\n",
    "                                  target_size=IMG_SIZE, shuffle=False, seed=42)"
   ]
  },
  {
   "cell_type": "code",
   "execution_count": 9,
   "id": "02878e9e",
   "metadata": {
    "execution": {
     "iopub.execute_input": "2025-04-28T13:23:06.641264Z",
     "iopub.status.busy": "2025-04-28T13:23:06.640598Z",
     "iopub.status.idle": "2025-04-28T13:23:06.646531Z",
     "shell.execute_reply": "2025-04-28T13:23:06.645764Z"
    },
    "papermill": {
     "duration": 0.010836,
     "end_time": "2025-04-28T13:23:06.647730",
     "exception": false,
     "start_time": "2025-04-28T13:23:06.636894",
     "status": "completed"
    },
    "tags": []
   },
   "outputs": [],
   "source": [
    "@tf.keras.utils.register_keras_serializable(package=\"Custom\", name=\"F1Score\")\n",
    "class F1Score(tf.keras.metrics.Metric):\n",
    "    def __init__(self, name='f1_score', **kwargs):\n",
    "        super().__init__(name=name, **kwargs)\n",
    "        self.precision = tf.keras.metrics.Precision()\n",
    "        self.recall = tf.keras.metrics.Recall()\n",
    "\n",
    "    def update_state(self, y_true, y_pred, sample_weight=None):\n",
    "        self.precision.update_state(y_true, y_pred, sample_weight)\n",
    "        self.recall.update_state(y_true, y_pred, sample_weight)\n",
    "\n",
    "    def result(self):\n",
    "        p = self.precision.result()\n",
    "        r = self.recall.result()\n",
    "        return 2 * (p * r) / (p + r + tf.keras.backend.epsilon())\n",
    "\n",
    "    def reset_states(self):\n",
    "        self.precision.reset_states()\n",
    "        self.recall.reset_states()"
   ]
  },
  {
   "cell_type": "code",
   "execution_count": 10,
   "id": "d65c0f95",
   "metadata": {
    "execution": {
     "iopub.execute_input": "2025-04-28T13:23:06.655039Z",
     "iopub.status.busy": "2025-04-28T13:23:06.654594Z",
     "iopub.status.idle": "2025-04-28T13:23:12.083916Z",
     "shell.execute_reply": "2025-04-28T13:23:12.083282Z"
    },
    "papermill": {
     "duration": 5.434337,
     "end_time": "2025-04-28T13:23:12.085297",
     "exception": false,
     "start_time": "2025-04-28T13:23:06.650960",
     "status": "completed"
    },
    "tags": []
   },
   "outputs": [
    {
     "name": "stderr",
     "output_type": "stream",
     "text": [
      "I0000 00:00:1745846586.781156      19 gpu_device.cc:2022] Created device /job:localhost/replica:0/task:0/device:GPU:0 with 15513 MB memory:  -> device: 0, name: Tesla P100-PCIE-16GB, pci bus id: 0000:00:04.0, compute capability: 6.0\n"
     ]
    },
    {
     "name": "stdout",
     "output_type": "stream",
     "text": [
      "Downloading data from https://storage.googleapis.com/tensorflow/keras-applications/xception/xception_weights_tf_dim_ordering_tf_kernels_notop.h5\n",
      "\u001b[1m83683744/83683744\u001b[0m \u001b[32m━━━━━━━━━━━━━━━━━━━━\u001b[0m\u001b[37m\u001b[0m \u001b[1m3s\u001b[0m 0us/step\n"
     ]
    }
   ],
   "source": [
    "dropout_1_values = [0.20, 0.25, 0.30, 0.35]\n",
    "dropout_2_values = [0.20, 0.25, 0.30, 0.35]\n",
    "\n",
    "base_model = tf.keras.applications.Xception(include_top= False, weights= \"imagenet\",\n",
    "                            input_shape= img_shape, pooling= 'max')\n",
    "\n",
    "inputs = Input(shape = img_shape)\n",
    "x = base_model(inputs)\n",
    "x = Flatten()(x)\n",
    "x = Dropout(rate= dropout_1_values[3])(x)\n",
    "x = Dense(128, activation= 'relu')(x)\n",
    "x = Dropout(rate= dropout_2_values[3])(x)\n",
    "x = Dense(8, activation= 'softmax')(x)\n",
    "Xmodel = Model(inputs, x)\n",
    "\n",
    "base_model.trainable = True\n",
    "for layer in base_model.layers[:50]:\n",
    "    layer.trainable = False\n",
    "\n",
    "Xmodel.compile(Adamax(learning_rate= 0.001),\n",
    "              loss= 'categorical_crossentropy',\n",
    "              metrics= ['accuracy',\n",
    "                        Precision(name='precision'),\n",
    "                        Recall(name='recall'),\n",
    "                        F1Score()])"
   ]
  },
  {
   "cell_type": "code",
   "execution_count": 11,
   "id": "ddcf4e6a",
   "metadata": {
    "execution": {
     "iopub.execute_input": "2025-04-28T13:23:12.096873Z",
     "iopub.status.busy": "2025-04-28T13:23:12.096590Z",
     "iopub.status.idle": "2025-04-28T13:23:12.104974Z",
     "shell.execute_reply": "2025-04-28T13:23:12.104184Z"
    },
    "papermill": {
     "duration": 0.015531,
     "end_time": "2025-04-28T13:23:12.106202",
     "exception": false,
     "start_time": "2025-04-28T13:23:12.090671",
     "status": "completed"
    },
    "tags": []
   },
   "outputs": [],
   "source": [
    "from tensorflow.keras.callbacks import Callback\n",
    "\n",
    "class RestoreBestValidationModel(Callback):\n",
    "    def __init__(self):\n",
    "        super(RestoreBestValidationModel, self).__init__()\n",
    "        self.best_val_acc = -1\n",
    "        self.best_epoch = -1\n",
    "        self.best_weights = None\n",
    "\n",
    "    def on_epoch_end(self, epoch, logs=None):\n",
    "        val_acc = logs.get('val_accuracy')\n",
    "        if val_acc is not None:\n",
    "            if val_acc > self.best_val_acc or (val_acc == self.best_val_acc and epoch > self.best_epoch):\n",
    "                self.best_val_acc = val_acc\n",
    "                self.best_epoch = epoch\n",
    "                self.best_weights = self.model.get_weights()  \n",
    "                print(f\"Model weights updated at epoch {epoch + 1} with val_accuracy: {val_acc:.4f}\")\n",
    "\n",
    "    def on_train_end(self, logs=None):\n",
    "        if self.best_weights is not None:\n",
    "            print(f\"Restoring model weights from best epoch {self.best_epoch + 1} with val_accuracy: {self.best_val_acc:.4f}\")\n",
    "            self.model.set_weights(self.best_weights)  \n",
    "\n",
    "restore_best = RestoreBestValidationModel()"
   ]
  },
  {
   "cell_type": "code",
   "execution_count": 12,
   "id": "5a2f3379",
   "metadata": {
    "execution": {
     "iopub.execute_input": "2025-04-28T13:23:12.117978Z",
     "iopub.status.busy": "2025-04-28T13:23:12.117309Z",
     "iopub.status.idle": "2025-04-28T13:54:50.070623Z",
     "shell.execute_reply": "2025-04-28T13:54:50.069696Z"
    },
    "papermill": {
     "duration": 1897.960251,
     "end_time": "2025-04-28T13:54:50.071819",
     "exception": false,
     "start_time": "2025-04-28T13:23:12.111568",
     "status": "completed"
    },
    "tags": []
   },
   "outputs": [
    {
     "name": "stdout",
     "output_type": "stream",
     "text": [
      "Epoch 1/10\n"
     ]
    },
    {
     "name": "stderr",
     "output_type": "stream",
     "text": [
      "WARNING: All log messages before absl::InitializeLog() is called are written to STDERR\n",
      "I0000 00:00:1745846618.913506      59 service.cc:148] XLA service 0x7d1d34001ce0 initialized for platform CUDA (this does not guarantee that XLA will be used). Devices:\n",
      "I0000 00:00:1745846618.914634      59 service.cc:156]   StreamExecutor device (0): Tesla P100-PCIE-16GB, Compute Capability 6.0\n",
      "I0000 00:00:1745846621.102548      59 cuda_dnn.cc:529] Loaded cuDNN version 90300\n",
      "E0000 00:00:1745846627.142481      59 gpu_timer.cc:82] Delay kernel timed out: measured time has sub-optimal accuracy. There may be a missing warmup execution, please investigate in Nsight Systems.\n",
      "E0000 00:00:1745846627.337905      59 gpu_timer.cc:82] Delay kernel timed out: measured time has sub-optimal accuracy. There may be a missing warmup execution, please investigate in Nsight Systems.\n",
      "E0000 00:00:1745846627.528224      59 gpu_timer.cc:82] Delay kernel timed out: measured time has sub-optimal accuracy. There may be a missing warmup execution, please investigate in Nsight Systems.\n",
      "E0000 00:00:1745846627.716178      59 gpu_timer.cc:82] Delay kernel timed out: measured time has sub-optimal accuracy. There may be a missing warmup execution, please investigate in Nsight Systems.\n",
      "E0000 00:00:1745846628.654270      59 gpu_timer.cc:82] Delay kernel timed out: measured time has sub-optimal accuracy. There may be a missing warmup execution, please investigate in Nsight Systems.\n",
      "E0000 00:00:1745846628.860455      59 gpu_timer.cc:82] Delay kernel timed out: measured time has sub-optimal accuracy. There may be a missing warmup execution, please investigate in Nsight Systems.\n",
      "E0000 00:00:1745846629.307475      59 gpu_timer.cc:82] Delay kernel timed out: measured time has sub-optimal accuracy. There may be a missing warmup execution, please investigate in Nsight Systems.\n",
      "E0000 00:00:1745846629.533130      59 gpu_timer.cc:82] Delay kernel timed out: measured time has sub-optimal accuracy. There may be a missing warmup execution, please investigate in Nsight Systems.\n"
     ]
    },
    {
     "name": "stdout",
     "output_type": "stream",
     "text": [
      "\u001b[1m  1/428\u001b[0m \u001b[37m━━━━━━━━━━━━━━━━━━━━\u001b[0m \u001b[1m5:03:44\u001b[0m 43s/step - accuracy: 0.0938 - f1_score: 0.0816 - loss: 3.8540 - precision: 0.1176 - recall: 0.0625"
     ]
    },
    {
     "name": "stderr",
     "output_type": "stream",
     "text": [
      "I0000 00:00:1745846635.734189      59 device_compiler.h:188] Compiled cluster using XLA!  This line is logged at most once for the lifetime of the process.\n"
     ]
    },
    {
     "name": "stdout",
     "output_type": "stream",
     "text": [
      "\u001b[1m427/428\u001b[0m \u001b[32m━━━━━━━━━━━━━━━━━━━\u001b[0m\u001b[37m━\u001b[0m \u001b[1m0s\u001b[0m 473ms/step - accuracy: 0.6158 - f1_score: 0.6053 - loss: 1.0704 - precision: 0.8185 - recall: 0.5090"
     ]
    },
    {
     "name": "stderr",
     "output_type": "stream",
     "text": [
      "E0000 00:00:1745846841.864981      59 gpu_timer.cc:82] Delay kernel timed out: measured time has sub-optimal accuracy. There may be a missing warmup execution, please investigate in Nsight Systems.\n",
      "E0000 00:00:1745846842.053394      59 gpu_timer.cc:82] Delay kernel timed out: measured time has sub-optimal accuracy. There may be a missing warmup execution, please investigate in Nsight Systems.\n",
      "E0000 00:00:1745846842.246697      59 gpu_timer.cc:82] Delay kernel timed out: measured time has sub-optimal accuracy. There may be a missing warmup execution, please investigate in Nsight Systems.\n",
      "E0000 00:00:1745846842.742986      59 gpu_timer.cc:82] Delay kernel timed out: measured time has sub-optimal accuracy. There may be a missing warmup execution, please investigate in Nsight Systems.\n",
      "E0000 00:00:1745846842.951677      59 gpu_timer.cc:82] Delay kernel timed out: measured time has sub-optimal accuracy. There may be a missing warmup execution, please investigate in Nsight Systems.\n",
      "E0000 00:00:1745846843.404796      59 gpu_timer.cc:82] Delay kernel timed out: measured time has sub-optimal accuracy. There may be a missing warmup execution, please investigate in Nsight Systems.\n",
      "E0000 00:00:1745846843.632260      59 gpu_timer.cc:82] Delay kernel timed out: measured time has sub-optimal accuracy. There may be a missing warmup execution, please investigate in Nsight Systems.\n",
      "E0000 00:00:1745846843.866953      59 gpu_timer.cc:82] Delay kernel timed out: measured time has sub-optimal accuracy. There may be a missing warmup execution, please investigate in Nsight Systems.\n"
     ]
    },
    {
     "name": "stdout",
     "output_type": "stream",
     "text": [
      "\u001b[1m428/428\u001b[0m \u001b[32m━━━━━━━━━━━━━━━━━━━━\u001b[0m\u001b[37m\u001b[0m \u001b[1m0s\u001b[0m 501ms/step - accuracy: 0.6163 - f1_score: 0.6059 - loss: 1.0690 - precision: 0.8188 - recall: 0.5096Model weights updated at epoch 1 with val_accuracy: 0.9649\n",
      "\u001b[1m428/428\u001b[0m \u001b[32m━━━━━━━━━━━━━━━━━━━━\u001b[0m\u001b[37m\u001b[0m \u001b[1m288s\u001b[0m 575ms/step - accuracy: 0.6168 - f1_score: 0.6065 - loss: 1.0677 - precision: 0.8191 - recall: 0.5102 - val_accuracy: 0.9649 - val_f1_score: 0.9639 - val_loss: 0.1169 - val_precision: 0.9681 - val_recall: 0.9596\n",
      "Epoch 2/10\n",
      "\u001b[1m428/428\u001b[0m \u001b[32m━━━━━━━━━━━━━━━━━━━━\u001b[0m\u001b[37m\u001b[0m \u001b[1m0s\u001b[0m 367ms/step - accuracy: 0.9682 - f1_score: 0.9689 - loss: 0.1054 - precision: 0.9736 - recall: 0.9642Model weights updated at epoch 2 with val_accuracy: 0.9690\n",
      "\u001b[1m428/428\u001b[0m \u001b[32m━━━━━━━━━━━━━━━━━━━━\u001b[0m\u001b[37m\u001b[0m \u001b[1m178s\u001b[0m 415ms/step - accuracy: 0.9682 - f1_score: 0.9689 - loss: 0.1054 - precision: 0.9736 - recall: 0.9642 - val_accuracy: 0.9690 - val_f1_score: 0.9689 - val_loss: 0.0958 - val_precision: 0.9712 - val_recall: 0.9666\n",
      "Epoch 3/10\n",
      "\u001b[1m428/428\u001b[0m \u001b[32m━━━━━━━━━━━━━━━━━━━━\u001b[0m\u001b[37m\u001b[0m \u001b[1m0s\u001b[0m 383ms/step - accuracy: 0.9807 - f1_score: 0.9808 - loss: 0.0635 - precision: 0.9830 - recall: 0.9786Model weights updated at epoch 3 with val_accuracy: 0.9813\n",
      "\u001b[1m428/428\u001b[0m \u001b[32m━━━━━━━━━━━━━━━━━━━━\u001b[0m\u001b[37m\u001b[0m \u001b[1m184s\u001b[0m 429ms/step - accuracy: 0.9807 - f1_score: 0.9808 - loss: 0.0635 - precision: 0.9830 - recall: 0.9786 - val_accuracy: 0.9813 - val_f1_score: 0.9807 - val_loss: 0.0675 - val_precision: 0.9818 - val_recall: 0.9795\n",
      "Epoch 4/10\n",
      "\u001b[1m428/428\u001b[0m \u001b[32m━━━━━━━━━━━━━━━━━━━━\u001b[0m\u001b[37m\u001b[0m \u001b[1m0s\u001b[0m 367ms/step - accuracy: 0.9861 - f1_score: 0.9863 - loss: 0.0443 - precision: 0.9878 - recall: 0.9847Model weights updated at epoch 4 with val_accuracy: 0.9836\n",
      "\u001b[1m428/428\u001b[0m \u001b[32m━━━━━━━━━━━━━━━━━━━━\u001b[0m\u001b[37m\u001b[0m \u001b[1m177s\u001b[0m 414ms/step - accuracy: 0.9861 - f1_score: 0.9863 - loss: 0.0443 - precision: 0.9878 - recall: 0.9847 - val_accuracy: 0.9836 - val_f1_score: 0.9830 - val_loss: 0.0701 - val_precision: 0.9836 - val_recall: 0.9824\n",
      "Epoch 5/10\n",
      "\u001b[1m428/428\u001b[0m \u001b[32m━━━━━━━━━━━━━━━━━━━━\u001b[0m\u001b[37m\u001b[0m \u001b[1m179s\u001b[0m 418ms/step - accuracy: 0.9903 - f1_score: 0.9900 - loss: 0.0354 - precision: 0.9908 - recall: 0.9892 - val_accuracy: 0.9778 - val_f1_score: 0.9786 - val_loss: 0.0829 - val_precision: 0.9800 - val_recall: 0.9772\n",
      "Epoch 6/10\n",
      "\u001b[1m428/428\u001b[0m \u001b[32m━━━━━━━━━━━━━━━━━━━━\u001b[0m\u001b[37m\u001b[0m \u001b[1m0s\u001b[0m 371ms/step - accuracy: 0.9920 - f1_score: 0.9918 - loss: 0.0301 - precision: 0.9927 - recall: 0.9909Model weights updated at epoch 6 with val_accuracy: 0.9836\n",
      "\u001b[1m428/428\u001b[0m \u001b[32m━━━━━━━━━━━━━━━━━━━━\u001b[0m\u001b[37m\u001b[0m \u001b[1m178s\u001b[0m 416ms/step - accuracy: 0.9920 - f1_score: 0.9918 - loss: 0.0301 - precision: 0.9927 - recall: 0.9909 - val_accuracy: 0.9836 - val_f1_score: 0.9836 - val_loss: 0.0603 - val_precision: 0.9836 - val_recall: 0.9836\n",
      "Epoch 7/10\n",
      "\u001b[1m428/428\u001b[0m \u001b[32m━━━━━━━━━━━━━━━━━━━━\u001b[0m\u001b[37m\u001b[0m \u001b[1m175s\u001b[0m 409ms/step - accuracy: 0.9924 - f1_score: 0.9924 - loss: 0.0276 - precision: 0.9931 - recall: 0.9917 - val_accuracy: 0.9813 - val_f1_score: 0.9821 - val_loss: 0.0595 - val_precision: 0.9830 - val_recall: 0.9813\n",
      "Epoch 8/10\n",
      "\u001b[1m428/428\u001b[0m \u001b[32m━━━━━━━━━━━━━━━━━━━━\u001b[0m\u001b[37m\u001b[0m \u001b[1m179s\u001b[0m 418ms/step - accuracy: 0.9932 - f1_score: 0.9933 - loss: 0.0211 - precision: 0.9938 - recall: 0.9928 - val_accuracy: 0.9754 - val_f1_score: 0.9751 - val_loss: 0.1047 - val_precision: 0.9760 - val_recall: 0.9743\n",
      "Epoch 9/10\n",
      "\u001b[1m428/428\u001b[0m \u001b[32m━━━━━━━━━━━━━━━━━━━━\u001b[0m\u001b[37m\u001b[0m \u001b[1m178s\u001b[0m 415ms/step - accuracy: 0.9960 - f1_score: 0.9961 - loss: 0.0200 - precision: 0.9966 - recall: 0.9956 - val_accuracy: 0.9795 - val_f1_score: 0.9792 - val_loss: 0.0779 - val_precision: 0.9801 - val_recall: 0.9783\n",
      "Epoch 10/10\n",
      "\u001b[1m428/428\u001b[0m \u001b[32m━━━━━━━━━━━━━━━━━━━━\u001b[0m\u001b[37m\u001b[0m \u001b[1m180s\u001b[0m 421ms/step - accuracy: 0.9967 - f1_score: 0.9967 - loss: 0.0128 - precision: 0.9967 - recall: 0.9967 - val_accuracy: 0.9795 - val_f1_score: 0.9792 - val_loss: 0.0907 - val_precision: 0.9801 - val_recall: 0.9783\n",
      "Restoring model weights from best epoch 6 with val_accuracy: 0.9836\n"
     ]
    }
   ],
   "source": [
    "history_X = Xmodel.fit(train_data,\n",
    "                 epochs=EPOCH,             \n",
    "                 validation_data=validation_data,\n",
    "                 callbacks=[restore_best],\n",
    "                 shuffle= False)"
   ]
  },
  {
   "cell_type": "code",
   "execution_count": 13,
   "id": "71796b94",
   "metadata": {
    "execution": {
     "iopub.execute_input": "2025-04-28T13:54:50.519601Z",
     "iopub.status.busy": "2025-04-28T13:54:50.519297Z",
     "iopub.status.idle": "2025-04-28T13:54:50.527915Z",
     "shell.execute_reply": "2025-04-28T13:54:50.527078Z"
    },
    "papermill": {
     "duration": 0.203204,
     "end_time": "2025-04-28T13:54:50.529019",
     "exception": false,
     "start_time": "2025-04-28T13:54:50.325815",
     "status": "completed"
    },
    "tags": []
   },
   "outputs": [
    {
     "name": "stdout",
     "output_type": "stream",
     "text": [
      "Lowest Loss: 0.05951504409313202 at index 6\n",
      "Highest Accuracy: 0.9836161732673645 at index 3\n",
      "Highest Precision: 0.9836161732673645 at index 5\n",
      "Highest Recall: 0.9836161732673645 at index 5\n",
      "Highest F1-score: 0.9836161732673645 at index 5\n"
     ]
    }
   ],
   "source": [
    "# Extract metrics for XCEPTION MODEL\n",
    "tr_acc_X = history_X.history['accuracy']\n",
    "tr_loss_X = history_X.history['loss']\n",
    "tr_per_X = history_X.history['precision']\n",
    "tr_recall_X = history_X.history['recall']\n",
    "tr_fscore_X = history_X.history['f1_score']\n",
    "val_acc_X = history_X.history['val_accuracy']\n",
    "val_loss_X = history_X.history['val_loss']\n",
    "val_per_X = history_X.history['val_precision']\n",
    "val_recall_X = history_X.history['val_recall']\n",
    "val_fscore_X = history_X.history['val_f1_score']\n",
    "\n",
    "# Get the best epochs for each metric\n",
    "index_loss_X = np.argmin(val_loss_X)\n",
    "loss_lowest_X = val_loss_X[index_loss_X]\n",
    "index_acc_X = np.argmax(val_acc_X)\n",
    "acc_highest_X = val_acc_X[index_acc_X]\n",
    "index_precision_X = np.argmax(val_per_X)\n",
    "pre_highest_X = val_per_X[index_precision_X]\n",
    "index_recall_X = np.argmax(val_recall_X)\n",
    "recall_highest_X = val_recall_X[index_recall_X]\n",
    "index_fscore_X = np.argmax(val_fscore_X)\n",
    "fscore_highest_X = val_fscore_X[index_fscore_X]\n",
    "\n",
    "# Print results\n",
    "print(f\"Lowest Loss: {loss_lowest_X} at index {index_loss_X}\")\n",
    "print(f\"Highest Accuracy: {acc_highest_X} at index {index_acc_X}\")\n",
    "print(f\"Highest Precision: {pre_highest_X} at index {index_precision_X}\")\n",
    "print(f\"Highest Recall: {recall_highest_X} at index {index_recall_X}\")\n",
    "print(f\"Highest F1-score: {fscore_highest_X} at index {index_fscore_X}\")\n",
    "\n",
    "# Epochs for plotting\n",
    "Epochs_X = [i + 1 for i in range(len(tr_acc_X))]\n",
    "\n",
    "# Define a modern style\n",
    "plt.style.use('ggplot')"
   ]
  },
  {
   "cell_type": "code",
   "execution_count": 14,
   "id": "f443f1b4",
   "metadata": {
    "execution": {
     "iopub.execute_input": "2025-04-28T13:54:50.902208Z",
     "iopub.status.busy": "2025-04-28T13:54:50.901293Z",
     "iopub.status.idle": "2025-04-28T13:54:51.162575Z",
     "shell.execute_reply": "2025-04-28T13:54:51.161824Z"
    },
    "papermill": {
     "duration": 0.448988,
     "end_time": "2025-04-28T13:54:51.164140",
     "exception": false,
     "start_time": "2025-04-28T13:54:50.715152",
     "status": "completed"
    },
    "tags": []
   },
   "outputs": [
    {
     "data": {
      "image/png": "[encoded data removed]",
      "text/plain": [
       "<Figure size 1000x600 with 1 Axes>"
      ]
     },
     "metadata": {},
     "output_type": "display_data"
    },
    {
     "name": "stdout",
     "output_type": "stream",
     "text": [
      "6\n"
     ]
    }
   ],
   "source": [
    "# Plot Training and Validation Loss\n",
    "plt.figure(figsize=(10, 6))\n",
    "plt.plot(Epochs_X, tr_loss_X, color='red', label='Training Loss', linewidth=2)\n",
    "plt.plot(Epochs_X, val_loss_X, color='green', label='Validation Loss', linestyle='--', linewidth=2)\n",
    "plt.scatter(index_loss_X + 1, loss_lowest_X, s=150, c='blue', label=f'Best epoch = {index_loss_X + 1}', edgecolors='black')\n",
    "plt.title('Training and Validation Loss', fontsize=14, fontweight='bold')\n",
    "plt.xlabel('Epochs', fontsize=12)\n",
    "plt.ylabel('Loss', fontsize=12)\n",
    "plt.legend(fontsize=10)\n",
    "plt.grid(visible=True, linestyle='--', alpha=0.5)\n",
    "plt.show()\n",
    "\n",
    "print(np.argmin(val_loss_X))"
   ]
  },
  {
   "cell_type": "code",
   "execution_count": 15,
   "id": "c246494a",
   "metadata": {
    "execution": {
     "iopub.execute_input": "2025-04-28T13:54:51.550502Z",
     "iopub.status.busy": "2025-04-28T13:54:51.549634Z",
     "iopub.status.idle": "2025-04-28T13:54:51.760861Z",
     "shell.execute_reply": "2025-04-28T13:54:51.760208Z"
    },
    "papermill": {
     "duration": 0.402442,
     "end_time": "2025-04-28T13:54:51.762707",
     "exception": false,
     "start_time": "2025-04-28T13:54:51.360265",
     "status": "completed"
    },
    "tags": []
   },
   "outputs": [
    {
     "data": {
      "image/png": "[encoded data removed]",
      "text/plain": [
       "<Figure size 1000x600 with 1 Axes>"
      ]
     },
     "metadata": {},
     "output_type": "display_data"
    }
   ],
   "source": [
    "# Plot Training and Validation Accuracy\n",
    "plt.figure(figsize=(10, 6))\n",
    "plt.plot(Epochs_X, tr_acc_X, color='purple', label='Training Accuracy', linewidth=2)\n",
    "plt.plot(Epochs_X, val_acc_X, color='orange', label='Validation Accuracy', linestyle='--', linewidth=2)\n",
    "plt.scatter(index_acc_X + 1, acc_highest_X, s=150, c='blue', label=f'Best epoch = {index_acc_X + 1}', edgecolors='black')\n",
    "plt.title('Training and Validation Accuracy', fontsize=14, fontweight='bold')\n",
    "plt.xlabel('Epochs', fontsize=12)\n",
    "plt.ylabel('Accuracy', fontsize=12)\n",
    "plt.legend(fontsize=10)\n",
    "plt.grid(visible=True, linestyle='--', alpha=0.5)\n",
    "plt.show()"
   ]
  }
 ],
 "metadata": {
  "kaggle": {
   "accelerator": "gpu",
   "dataSources": [
    {
     "datasetId": 7275041,
     "sourceId": 11600142,
     "sourceType": "datasetVersion"
    }
   ],
   "dockerImageVersionId": 31011,
   "isGpuEnabled": true,
   "isInternetEnabled": true,
   "language": "python",
   "sourceType": "notebook"
  },
  "kernelspec": {
   "display_name": "Python 3",
   "language": "python",
   "name": "python3"
  },
  "language_info": {
   "codemirror_mode": {
    "name": "ipython",
    "version": 3
   },
   "file_extension": ".py",
   "mimetype": "text/x-python",
   "name": "python",
   "nbconvert_exporter": "python",
   "pygments_lexer": "ipython3",
   "version": "3.11.11"
  },
  "papermill": {
   "default_parameters": {},
   "duration": 1978.353833,
   "end_time": "2025-04-28T13:54:55.789566",
   "environment_variables": {},
   "exception": null,
   "input_path": "__notebook__.ipynb",
   "output_path": "__notebook__.ipynb",
   "parameters": {},
   "start_time": "2025-04-28T13:21:57.435733",
   "version": "2.6.0"
  }
 },
 "nbformat": 4,
 "nbformat_minor": 5
}
