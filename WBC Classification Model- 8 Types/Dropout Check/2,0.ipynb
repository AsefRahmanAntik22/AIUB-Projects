{
 "cells": [
  {
   "cell_type": "code",
   "execution_count": 1,
   "id": "956c76de",
   "metadata": {
    "execution": {
     "iopub.execute_input": "2025-04-28T12:39:02.619396Z",
     "iopub.status.busy": "2025-04-28T12:39:02.619156Z",
     "iopub.status.idle": "2025-04-28T12:39:22.984746Z",
     "shell.execute_reply": "2025-04-28T12:39:22.984149Z"
    },
    "papermill": {
     "duration": 20.37113,
     "end_time": "2025-04-28T12:39:22.986157",
     "exception": false,
     "start_time": "2025-04-28T12:39:02.615027",
     "status": "completed"
    },
    "tags": []
   },
   "outputs": [
    {
     "name": "stderr",
     "output_type": "stream",
     "text": [
      "2025-04-28 12:39:07.163700: E external/local_xla/xla/stream_executor/cuda/cuda_fft.cc:477] Unable to register cuFFT factory: Attempting to register factory for plugin cuFFT when one has already been registered\n",
      "WARNING: All log messages before absl::InitializeLog() is called are written to STDERR\n",
      "E0000 00:00:1745843947.379379      19 cuda_dnn.cc:8310] Unable to register cuDNN factory: Attempting to register factory for plugin cuDNN when one has already been registered\n",
      "E0000 00:00:1745843947.442187      19 cuda_blas.cc:1418] Unable to register cuBLAS factory: Attempting to register factory for plugin cuBLAS when one has already been registered\n"
     ]
    }
   ],
   "source": [
    "import os\n",
    "import numpy as np\n",
    "import pandas as pd\n",
    "import matplotlib.pyplot as plt\n",
    "import seaborn as sns\n",
    "import warnings\n",
    "warnings.filterwarnings(\"ignore\")\n",
    "\n",
    "# TensorFlow & Keras\n",
    "import tensorflow as tf\n",
    "from tensorflow.keras.models import Model\n",
    "from tensorflow.keras.utils import plot_model\n",
    "from tensorflow.keras.layers import Input, Concatenate\n",
    "from tensorflow.keras.layers import (Input, Dense, Flatten, Dropout, GlobalAveragePooling2D)\n",
    "from tensorflow.keras.applications import Xception, DenseNet121, InceptionV3\n",
    "from tensorflow.keras.optimizers import Adamax, Adam\n",
    "from tensorflow.keras.preprocessing.image import ImageDataGenerator\n",
    "from tensorflow.keras.metrics import Precision, Recall\n",
    "\n",
    "# Scikit-Learn\n",
    "from sklearn.model_selection import train_test_split, GridSearchCV, StratifiedKFold\n",
    "from sklearn.preprocessing import StandardScaler\n",
    "from sklearn.pipeline import Pipeline\n",
    "from sklearn.feature_selection import SelectKBest, SelectFromModel, f_classif\n",
    "from sklearn.linear_model import SGDClassifier, LogisticRegression\n",
    "from sklearn.svm import SVC\n",
    "from sklearn.neighbors import KNeighborsClassifier\n",
    "from sklearn.tree import DecisionTreeClassifier\n",
    "from sklearn.naive_bayes import GaussianNB\n",
    "from sklearn.neural_network import MLPClassifier\n",
    "from sklearn.ensemble import (\n",
    "    RandomForestClassifier, GradientBoostingClassifier, AdaBoostClassifier, \n",
    "    ExtraTreesClassifier, VotingClassifier, StackingClassifier\n",
    ")\n",
    "\n",
    "# Boosting Libraries\n",
    "from xgboost import XGBClassifier\n",
    "from lightgbm import LGBMClassifier\n",
    "\n",
    "# Evaluation Metrics\n",
    "from sklearn.metrics import (\n",
    "    accuracy_score, precision_score, recall_score, f1_score, confusion_matrix, ConfusionMatrixDisplay\n",
    ")\n",
    "\n",
    "#for parallel threading\n",
    "from joblib import parallel_backend\n",
    "import cv2\n",
    "\n",
    "#Model saving to disk\n",
    "import pickle\n",
    "\n",
    "# Suppress warnings\n",
    "warnings.filterwarnings(\"ignore\")"
   ]
  },
  {
   "cell_type": "code",
   "execution_count": 2,
   "id": "2e08673f",
   "metadata": {
    "execution": {
     "iopub.execute_input": "2025-04-28T12:39:22.993333Z",
     "iopub.status.busy": "2025-04-28T12:39:22.992498Z",
     "iopub.status.idle": "2025-04-28T12:39:23.939396Z",
     "shell.execute_reply": "2025-04-28T12:39:23.938692Z"
    },
    "papermill": {
     "duration": 0.951375,
     "end_time": "2025-04-28T12:39:23.940652",
     "exception": false,
     "start_time": "2025-04-28T12:39:22.989277",
     "status": "completed"
    },
    "tags": []
   },
   "outputs": [
    {
     "name": "stdout",
     "output_type": "stream",
     "text": [
      "GPUs detected: 1\n"
     ]
    }
   ],
   "source": [
    "gpus = tf.config.list_physical_devices('GPU')\n",
    "if gpus:\n",
    "    try:\n",
    "        for gpu in gpus:\n",
    "            tf.config.experimental.set_memory_growth(gpu, True)\n",
    "        print(f\"GPUs detected: {len(gpus)}\")\n",
    "    except RuntimeError as e:\n",
    "        print(f\"Error setting GPU memory growth: {e}\")\n",
    "else:\n",
    "    print(\"No GPUs detected.\")"
   ]
  },
  {
   "cell_type": "code",
   "execution_count": 3,
   "id": "a71beb99",
   "metadata": {
    "execution": {
     "iopub.execute_input": "2025-04-28T12:39:23.952835Z",
     "iopub.status.busy": "2025-04-28T12:39:23.952165Z",
     "iopub.status.idle": "2025-04-28T12:39:23.957151Z",
     "shell.execute_reply": "2025-04-28T12:39:23.956555Z"
    },
    "papermill": {
     "duration": 0.009138,
     "end_time": "2025-04-28T12:39:23.958062",
     "exception": false,
     "start_time": "2025-04-28T12:39:23.948924",
     "status": "completed"
    },
    "tags": []
   },
   "outputs": [],
   "source": [
    "def data_frame(path):\n",
    "    class_paths = []\n",
    "    classes = []\n",
    "\n",
    "    for label in os.listdir(path):\n",
    "        class_dir = os.path.join(path, label)\n",
    "        if os.path.isdir(class_dir):  # Ensure it's a directory\n",
    "            for image in os.listdir(class_dir):\n",
    "                class_paths.append(os.path.join(class_dir, image))\n",
    "                classes.append(label)\n",
    "\n",
    "    df = pd.DataFrame({'Class Path': class_paths, 'Class': classes})\n",
    "    return df"
   ]
  },
  {
   "cell_type": "code",
   "execution_count": 4,
   "id": "7cc79e30",
   "metadata": {
    "execution": {
     "iopub.execute_input": "2025-04-28T12:39:23.964368Z",
     "iopub.status.busy": "2025-04-28T12:39:23.963836Z",
     "iopub.status.idle": "2025-04-28T12:39:24.202399Z",
     "shell.execute_reply": "2025-04-28T12:39:24.201566Z"
    },
    "papermill": {
     "duration": 0.24306,
     "end_time": "2025-04-28T12:39:24.203801",
     "exception": false,
     "start_time": "2025-04-28T12:39:23.960741",
     "status": "completed"
    },
    "tags": []
   },
   "outputs": [
    {
     "name": "stdout",
     "output_type": "stream",
     "text": [
      "Train size: 13673, Validation size: 1709, Test size: 1710\n"
     ]
    }
   ],
   "source": [
    "dataframe = data_frame('/kaggle/input/wbc-8type-original/bloodcells_dataset Original')\n",
    "from sklearn.model_selection import train_test_split\n",
    "train_dataframe, temp_dataframe = train_test_split(dataframe, \n",
    "                                                   test_size=0.2, \n",
    "                                                   random_state=42, \n",
    "                                                   stratify=dataframe['Class'])\n",
    "Validation_dataframe, test_dataframe = train_test_split(temp_dataframe, \n",
    "                                                        test_size=0.5, \n",
    "                                                        random_state=42, \n",
    "                                                        stratify=temp_dataframe['Class'])\n",
    "print(f\"Train size: {len(train_dataframe)}, Validation size: {len(Validation_dataframe)}, Test size: {len(test_dataframe)}\")"
   ]
  },
  {
   "cell_type": "code",
   "execution_count": 5,
   "id": "21f15f30",
   "metadata": {
    "execution": {
     "iopub.execute_input": "2025-04-28T12:39:24.210533Z",
     "iopub.status.busy": "2025-04-28T12:39:24.209990Z",
     "iopub.status.idle": "2025-04-28T12:39:24.213885Z",
     "shell.execute_reply": "2025-04-28T12:39:24.213173Z"
    },
    "papermill": {
     "duration": 0.008335,
     "end_time": "2025-04-28T12:39:24.215036",
     "exception": false,
     "start_time": "2025-04-28T12:39:24.206701",
     "status": "completed"
    },
    "tags": []
   },
   "outputs": [],
   "source": [
    "BATCH_SIZE = 32\n",
    "IMG_SIZE = (224, 224)\n",
    "EPOCH = 10\n",
    "img_shape=(224,224,3)\n",
    "labels = [\n",
    "    \"basophil\",\n",
    "    \"eosinophil\",\n",
    "    \"erythroblast\",\n",
    "    \"ig\",\n",
    "    \"lymphocyte\",\n",
    "    \"monocyte\",\n",
    "    \"neutrophil\",\n",
    "    \"platelet\"\n",
    "]"
   ]
  },
  {
   "cell_type": "code",
   "execution_count": 6,
   "id": "870078b0",
   "metadata": {
    "execution": {
     "iopub.execute_input": "2025-04-28T12:39:24.220940Z",
     "iopub.status.busy": "2025-04-28T12:39:24.220721Z",
     "iopub.status.idle": "2025-04-28T12:39:24.225873Z",
     "shell.execute_reply": "2025-04-28T12:39:24.225034Z"
    },
    "papermill": {
     "duration": 0.009306,
     "end_time": "2025-04-28T12:39:24.226908",
     "exception": false,
     "start_time": "2025-04-28T12:39:24.217602",
     "status": "completed"
    },
    "tags": []
   },
   "outputs": [],
   "source": [
    "def apply_clahe(img):\n",
    "    \"\"\"Apply CLAHE after Adaptive Gray World Normalization.\"\"\"\n",
    "    lab = cv2.cvtColor(img, cv2.COLOR_RGB2LAB)\n",
    "    l, a, b = cv2.split(lab)\n",
    "    clahe = cv2.createCLAHE(clipLimit=0.03, tileGridSize=(8,8))\n",
    "    l = clahe.apply(l)\n",
    "    clahe_img = cv2.merge((l, a, b))\n",
    "    return cv2.cvtColor(clahe_img, cv2.COLOR_LAB2RGB)\n",
    "\n",
    "def preprocess_image(img):\n",
    "    \"\"\"First apply Adaptive Gray World, then CLAHE (No Normalization).\"\"\"\n",
    "    img = img.astype(np.uint8)  # Ensure correct data type\n",
    "    img = apply_clahe(img)  # Step 2: CLAHE\n",
    "    img = (img - np.mean(img)) / (np.std(img) + 1e-8) # step: 3: z score normalization\n",
    "    return img  "
   ]
  },
  {
   "cell_type": "code",
   "execution_count": 7,
   "id": "dee30906",
   "metadata": {
    "execution": {
     "iopub.execute_input": "2025-04-28T12:39:24.232714Z",
     "iopub.status.busy": "2025-04-28T12:39:24.232499Z",
     "iopub.status.idle": "2025-04-28T12:39:24.236178Z",
     "shell.execute_reply": "2025-04-28T12:39:24.235678Z"
    },
    "papermill": {
     "duration": 0.007609,
     "end_time": "2025-04-28T12:39:24.237111",
     "exception": false,
     "start_time": "2025-04-28T12:39:24.229502",
     "status": "completed"
    },
    "tags": []
   },
   "outputs": [],
   "source": [
    "def preprocess_image2(image):\n",
    "    # Convert to float32\n",
    "    img = image.astype(np.float32)\n",
    "\n",
    "    # Apply Z-score Normalization\n",
    "    #img = (img - np.mean(img)) / (np.std(img) + 1e-8)\n",
    "\n",
    "    # Min-Max Scaling (for CLAHE)\n",
    "    img = (img - np.min(img)) / (np.ptp(img) + 1e-8)  # np.ptp = max - min\n",
    "    #img = (img * 255).astype(np.uint8)  # Convert to uint8 for CLAHE\n",
    "\n",
    "    # Apply CLAHE to each channel independently\n",
    "    #clahe = cv2.createCLAHE(clipLimit=0.02, tileGridSize=(8, 8))\n",
    "    #img_clahe = np.zeros_like(img)\n",
    "    \n",
    "    #for i in range(3):  # Apply CLAHE on each channel separately\n",
    "        #img_clahe[..., i] = clahe.apply(img[..., i])\n",
    "\n",
    "    # Convert back to float32 (normalize to [0,1])\n",
    "    #img_clahe = img_clahe.astype(np.float32) / 255.0  \n",
    "\n",
    "    return img"
   ]
  },
  {
   "cell_type": "code",
   "execution_count": 8,
   "id": "dbf00468",
   "metadata": {
    "execution": {
     "iopub.execute_input": "2025-04-28T12:39:24.242939Z",
     "iopub.status.busy": "2025-04-28T12:39:24.242742Z",
     "iopub.status.idle": "2025-04-28T12:39:49.536462Z",
     "shell.execute_reply": "2025-04-28T12:39:49.535512Z"
    },
    "papermill": {
     "duration": 25.298152,
     "end_time": "2025-04-28T12:39:49.537827",
     "exception": false,
     "start_time": "2025-04-28T12:39:24.239675",
     "status": "completed"
    },
    "tags": []
   },
   "outputs": [
    {
     "name": "stdout",
     "output_type": "stream",
     "text": [
      "Found 13673 validated image filenames belonging to 8 classes.\n",
      "Found 1709 validated image filenames belonging to 8 classes.\n",
      "Found 1710 validated image filenames belonging to 8 classes.\n"
     ]
    }
   ],
   "source": [
    "data_generator = ImageDataGenerator(\n",
    "    preprocessing_function=preprocess_image2,\n",
    "    rotation_range=10,\n",
    "    shear_range=0.1,\n",
    "    zoom_range=0.05,\n",
    "    fill_mode='nearest',\n",
    ")\n",
    "test_data_generator = ImageDataGenerator(preprocessing_function=preprocess_image2)\n",
    "\n",
    "\n",
    "train_data = data_generator.flow_from_dataframe(train_dataframe, x_col='Class Path',\n",
    "                                  y_col='Class', batch_size=BATCH_SIZE,\n",
    "                                  target_size=IMG_SIZE, seed=42)\n",
    "\n",
    "validation_data = data_generator.flow_from_dataframe(Validation_dataframe, x_col='Class Path',\n",
    "                                     y_col='Class', batch_size=BATCH_SIZE,\n",
    "                                     target_size=IMG_SIZE, seed=42)\n",
    "\n",
    "test_data = test_data_generator.flow_from_dataframe(test_dataframe, x_col='Class Path',\n",
    "                                  y_col='Class', batch_size=BATCH_SIZE,\n",
    "                                  target_size=IMG_SIZE, shuffle=False, seed=42)"
   ]
  },
  {
   "cell_type": "code",
   "execution_count": 9,
   "id": "ea67147c",
   "metadata": {
    "execution": {
     "iopub.execute_input": "2025-04-28T12:39:49.545160Z",
     "iopub.status.busy": "2025-04-28T12:39:49.544738Z",
     "iopub.status.idle": "2025-04-28T12:39:49.550042Z",
     "shell.execute_reply": "2025-04-28T12:39:49.549386Z"
    },
    "papermill": {
     "duration": 0.009867,
     "end_time": "2025-04-28T12:39:49.551042",
     "exception": false,
     "start_time": "2025-04-28T12:39:49.541175",
     "status": "completed"
    },
    "tags": []
   },
   "outputs": [],
   "source": [
    "@tf.keras.utils.register_keras_serializable(package=\"Custom\", name=\"F1Score\")\n",
    "class F1Score(tf.keras.metrics.Metric):\n",
    "    def __init__(self, name='f1_score', **kwargs):\n",
    "        super().__init__(name=name, **kwargs)\n",
    "        self.precision = tf.keras.metrics.Precision()\n",
    "        self.recall = tf.keras.metrics.Recall()\n",
    "\n",
    "    def update_state(self, y_true, y_pred, sample_weight=None):\n",
    "        self.precision.update_state(y_true, y_pred, sample_weight)\n",
    "        self.recall.update_state(y_true, y_pred, sample_weight)\n",
    "\n",
    "    def result(self):\n",
    "        p = self.precision.result()\n",
    "        r = self.recall.result()\n",
    "        return 2 * (p * r) / (p + r + tf.keras.backend.epsilon())\n",
    "\n",
    "    def reset_states(self):\n",
    "        self.precision.reset_states()\n",
    "        self.recall.reset_states()"
   ]
  },
  {
   "cell_type": "code",
   "execution_count": 10,
   "id": "5551a316",
   "metadata": {
    "execution": {
     "iopub.execute_input": "2025-04-28T12:39:49.557525Z",
     "iopub.status.busy": "2025-04-28T12:39:49.557022Z",
     "iopub.status.idle": "2025-04-28T12:39:52.341893Z",
     "shell.execute_reply": "2025-04-28T12:39:52.341267Z"
    },
    "papermill": {
     "duration": 2.789536,
     "end_time": "2025-04-28T12:39:52.343261",
     "exception": false,
     "start_time": "2025-04-28T12:39:49.553725",
     "status": "completed"
    },
    "tags": []
   },
   "outputs": [
    {
     "name": "stderr",
     "output_type": "stream",
     "text": [
      "I0000 00:00:1745843989.680605      19 gpu_device.cc:2022] Created device /job:localhost/replica:0/task:0/device:GPU:0 with 15513 MB memory:  -> device: 0, name: Tesla P100-PCIE-16GB, pci bus id: 0000:00:04.0, compute capability: 6.0\n"
     ]
    },
    {
     "name": "stdout",
     "output_type": "stream",
     "text": [
      "Downloading data from https://storage.googleapis.com/tensorflow/keras-applications/xception/xception_weights_tf_dim_ordering_tf_kernels_notop.h5\n",
      "\u001b[1m83683744/83683744\u001b[0m \u001b[32m━━━━━━━━━━━━━━━━━━━━\u001b[0m\u001b[37m\u001b[0m \u001b[1m0s\u001b[0m 0us/step\n"
     ]
    }
   ],
   "source": [
    "dropout_1_values = [0.20, 0.25, 0.30, 0.35]\n",
    "dropout_2_values = [0.20, 0.25, 0.30, 0.35]\n",
    "\n",
    "base_model = tf.keras.applications.Xception(include_top= False, weights= \"imagenet\",\n",
    "                            input_shape= img_shape, pooling= 'max')\n",
    "\n",
    "inputs = Input(shape = img_shape)\n",
    "x = base_model(inputs)\n",
    "x = Flatten()(x)\n",
    "x = Dropout(rate= dropout_1_values[2])(x)\n",
    "x = Dense(128, activation= 'relu')(x)\n",
    "x = Dropout(rate= dropout_2_values[0])(x)\n",
    "x = Dense(8, activation= 'softmax')(x)\n",
    "Xmodel = Model(inputs, x)\n",
    "\n",
    "base_model.trainable = True\n",
    "for layer in base_model.layers[:50]:\n",
    "    layer.trainable = False\n",
    "\n",
    "Xmodel.compile(Adamax(learning_rate= 0.001),\n",
    "              loss= 'categorical_crossentropy',\n",
    "              metrics= ['accuracy',\n",
    "                        Precision(name='precision'),\n",
    "                        Recall(name='recall'),\n",
    "                        F1Score()])"
   ]
  },
  {
   "cell_type": "code",
   "execution_count": 11,
   "id": "888f8004",
   "metadata": {
    "execution": {
     "iopub.execute_input": "2025-04-28T12:39:52.351161Z",
     "iopub.status.busy": "2025-04-28T12:39:52.350694Z",
     "iopub.status.idle": "2025-04-28T12:39:52.358192Z",
     "shell.execute_reply": "2025-04-28T12:39:52.357555Z"
    },
    "papermill": {
     "duration": 0.012278,
     "end_time": "2025-04-28T12:39:52.359186",
     "exception": false,
     "start_time": "2025-04-28T12:39:52.346908",
     "status": "completed"
    },
    "tags": []
   },
   "outputs": [],
   "source": [
    "from tensorflow.keras.callbacks import Callback\n",
    "\n",
    "class RestoreBestValidationModel(Callback):\n",
    "    def __init__(self):\n",
    "        super(RestoreBestValidationModel, self).__init__()\n",
    "        self.best_val_acc = -1\n",
    "        self.best_epoch = -1\n",
    "        self.best_weights = None\n",
    "\n",
    "    def on_epoch_end(self, epoch, logs=None):\n",
    "        val_acc = logs.get('val_accuracy')\n",
    "        if val_acc is not None:\n",
    "            if val_acc > self.best_val_acc or (val_acc == self.best_val_acc and epoch > self.best_epoch):\n",
    "                self.best_val_acc = val_acc\n",
    "                self.best_epoch = epoch\n",
    "                self.best_weights = self.model.get_weights()  \n",
    "                print(f\"Model weights updated at epoch {epoch + 1} with val_accuracy: {val_acc:.4f}\")\n",
    "\n",
    "    def on_train_end(self, logs=None):\n",
    "        if self.best_weights is not None:\n",
    "            print(f\"Restoring model weights from best epoch {self.best_epoch + 1} with val_accuracy: {self.best_val_acc:.4f}\")\n",
    "            self.model.set_weights(self.best_weights)  \n",
    "\n",
    "restore_best = RestoreBestValidationModel()"
   ]
  },
  {
   "cell_type": "code",
   "execution_count": 12,
   "id": "841b0f53",
   "metadata": {
    "execution": {
     "iopub.execute_input": "2025-04-28T12:39:52.366671Z",
     "iopub.status.busy": "2025-04-28T12:39:52.366211Z",
     "iopub.status.idle": "2025-04-28T13:10:14.980365Z",
     "shell.execute_reply": "2025-04-28T13:10:14.979622Z"
    },
    "papermill": {
     "duration": 1822.619398,
     "end_time": "2025-04-28T13:10:14.981804",
     "exception": false,
     "start_time": "2025-04-28T12:39:52.362406",
     "status": "completed"
    },
    "tags": []
   },
   "outputs": [
    {
     "name": "stdout",
     "output_type": "stream",
     "text": [
      "Epoch 1/10\n"
     ]
    },
    {
     "name": "stderr",
     "output_type": "stream",
     "text": [
      "WARNING: All log messages before absl::InitializeLog() is called are written to STDERR\n",
      "I0000 00:00:1745844016.798797      59 service.cc:148] XLA service 0x7863b0003d30 initialized for platform CUDA (this does not guarantee that XLA will be used). Devices:\n",
      "I0000 00:00:1745844016.799533      59 service.cc:156]   StreamExecutor device (0): Tesla P100-PCIE-16GB, Compute Capability 6.0\n",
      "I0000 00:00:1745844018.729953      59 cuda_dnn.cc:529] Loaded cuDNN version 90300\n",
      "E0000 00:00:1745844024.169894      59 gpu_timer.cc:82] Delay kernel timed out: measured time has sub-optimal accuracy. There may be a missing warmup execution, please investigate in Nsight Systems.\n",
      "E0000 00:00:1745844024.356790      59 gpu_timer.cc:82] Delay kernel timed out: measured time has sub-optimal accuracy. There may be a missing warmup execution, please investigate in Nsight Systems.\n",
      "E0000 00:00:1745844025.258732      59 gpu_timer.cc:82] Delay kernel timed out: measured time has sub-optimal accuracy. There may be a missing warmup execution, please investigate in Nsight Systems.\n",
      "E0000 00:00:1745844025.458382      59 gpu_timer.cc:82] Delay kernel timed out: measured time has sub-optimal accuracy. There may be a missing warmup execution, please investigate in Nsight Systems.\n",
      "E0000 00:00:1745844025.872701      59 gpu_timer.cc:82] Delay kernel timed out: measured time has sub-optimal accuracy. There may be a missing warmup execution, please investigate in Nsight Systems.\n",
      "E0000 00:00:1745844026.097731      59 gpu_timer.cc:82] Delay kernel timed out: measured time has sub-optimal accuracy. There may be a missing warmup execution, please investigate in Nsight Systems.\n"
     ]
    },
    {
     "name": "stdout",
     "output_type": "stream",
     "text": [
      "\u001b[1m  1/428\u001b[0m \u001b[37m━━━━━━━━━━━━━━━━━━━━\u001b[0m \u001b[1m4:32:00\u001b[0m 38s/step - accuracy: 0.1562 - f1_score: 0.1395 - loss: 2.7166 - precision: 0.2727 - recall: 0.0938"
     ]
    },
    {
     "name": "stderr",
     "output_type": "stream",
     "text": [
      "I0000 00:00:1745844031.412892      59 device_compiler.h:188] Compiled cluster using XLA!  This line is logged at most once for the lifetime of the process.\n"
     ]
    },
    {
     "name": "stdout",
     "output_type": "stream",
     "text": [
      "\u001b[1m427/428\u001b[0m \u001b[32m━━━━━━━━━━━━━━━━━━━\u001b[0m\u001b[37m━\u001b[0m \u001b[1m0s\u001b[0m 432ms/step - accuracy: 0.8059 - f1_score: 0.8011 - loss: 0.5959 - precision: 0.8982 - recall: 0.7410"
     ]
    },
    {
     "name": "stderr",
     "output_type": "stream",
     "text": [
      "E0000 00:00:1745844219.243014      59 gpu_timer.cc:82] Delay kernel timed out: measured time has sub-optimal accuracy. There may be a missing warmup execution, please investigate in Nsight Systems.\n",
      "E0000 00:00:1745844219.427751      59 gpu_timer.cc:82] Delay kernel timed out: measured time has sub-optimal accuracy. There may be a missing warmup execution, please investigate in Nsight Systems.\n",
      "E0000 00:00:1745844219.913910      59 gpu_timer.cc:82] Delay kernel timed out: measured time has sub-optimal accuracy. There may be a missing warmup execution, please investigate in Nsight Systems.\n",
      "E0000 00:00:1745844220.112154      59 gpu_timer.cc:82] Delay kernel timed out: measured time has sub-optimal accuracy. There may be a missing warmup execution, please investigate in Nsight Systems.\n",
      "E0000 00:00:1745844220.509379      59 gpu_timer.cc:82] Delay kernel timed out: measured time has sub-optimal accuracy. There may be a missing warmup execution, please investigate in Nsight Systems.\n",
      "E0000 00:00:1745844220.732056      59 gpu_timer.cc:82] Delay kernel timed out: measured time has sub-optimal accuracy. There may be a missing warmup execution, please investigate in Nsight Systems.\n"
     ]
    },
    {
     "name": "stdout",
     "output_type": "stream",
     "text": [
      "\u001b[1m428/428\u001b[0m \u001b[32m━━━━━━━━━━━━━━━━━━━━\u001b[0m\u001b[37m\u001b[0m \u001b[1m0s\u001b[0m 455ms/step - accuracy: 0.8061 - f1_score: 0.8014 - loss: 0.5952 - precision: 0.8983 - recall: 0.7414Model weights updated at epoch 1 with val_accuracy: 0.9766\n",
      "\u001b[1m428/428\u001b[0m \u001b[32m━━━━━━━━━━━━━━━━━━━━\u001b[0m\u001b[37m\u001b[0m \u001b[1m263s\u001b[0m 526ms/step - accuracy: 0.8064 - f1_score: 0.8017 - loss: 0.5944 - precision: 0.8984 - recall: 0.7417 - val_accuracy: 0.9766 - val_f1_score: 0.9768 - val_loss: 0.0667 - val_precision: 0.9794 - val_recall: 0.9743\n",
      "Epoch 2/10\n",
      "\u001b[1m428/428\u001b[0m \u001b[32m━━━━━━━━━━━━━━━━━━━━\u001b[0m\u001b[37m\u001b[0m \u001b[1m175s\u001b[0m 408ms/step - accuracy: 0.9762 - f1_score: 0.9758 - loss: 0.0796 - precision: 0.9786 - recall: 0.9731 - val_accuracy: 0.9631 - val_f1_score: 0.9636 - val_loss: 0.1109 - val_precision: 0.9665 - val_recall: 0.9608\n",
      "Epoch 3/10\n",
      "\u001b[1m428/428\u001b[0m \u001b[32m━━━━━━━━━━━━━━━━━━━━\u001b[0m\u001b[37m\u001b[0m \u001b[1m0s\u001b[0m 358ms/step - accuracy: 0.9834 - f1_score: 0.9832 - loss: 0.0516 - precision: 0.9844 - recall: 0.9821Model weights updated at epoch 3 with val_accuracy: 0.9766\n",
      "\u001b[1m428/428\u001b[0m \u001b[32m━━━━━━━━━━━━━━━━━━━━\u001b[0m\u001b[37m\u001b[0m \u001b[1m172s\u001b[0m 402ms/step - accuracy: 0.9834 - f1_score: 0.9832 - loss: 0.0516 - precision: 0.9844 - recall: 0.9821 - val_accuracy: 0.9766 - val_f1_score: 0.9777 - val_loss: 0.0707 - val_precision: 0.9794 - val_recall: 0.9760\n",
      "Epoch 4/10\n",
      "\u001b[1m428/428\u001b[0m \u001b[32m━━━━━━━━━━━━━━━━━━━━\u001b[0m\u001b[37m\u001b[0m \u001b[1m171s\u001b[0m 400ms/step - accuracy: 0.9877 - f1_score: 0.9874 - loss: 0.0414 - precision: 0.9886 - recall: 0.9861 - val_accuracy: 0.9760 - val_f1_score: 0.9766 - val_loss: 0.0791 - val_precision: 0.9777 - val_recall: 0.9754\n",
      "Epoch 5/10\n",
      "\u001b[1m428/428\u001b[0m \u001b[32m━━━━━━━━━━━━━━━━━━━━\u001b[0m\u001b[37m\u001b[0m \u001b[1m172s\u001b[0m 403ms/step - accuracy: 0.9892 - f1_score: 0.9894 - loss: 0.0339 - precision: 0.9907 - recall: 0.9882 - val_accuracy: 0.9626 - val_f1_score: 0.9631 - val_loss: 0.1365 - val_precision: 0.9637 - val_recall: 0.9626\n",
      "Epoch 6/10\n",
      "\u001b[1m428/428\u001b[0m \u001b[32m━━━━━━━━━━━━━━━━━━━━\u001b[0m\u001b[37m\u001b[0m \u001b[1m172s\u001b[0m 403ms/step - accuracy: 0.9935 - f1_score: 0.9935 - loss: 0.0201 - precision: 0.9938 - recall: 0.9933 - val_accuracy: 0.9760 - val_f1_score: 0.9760 - val_loss: 0.0918 - val_precision: 0.9771 - val_recall: 0.9748\n",
      "Epoch 7/10\n",
      "\u001b[1m428/428\u001b[0m \u001b[32m━━━━━━━━━━━━━━━━━━━━\u001b[0m\u001b[37m\u001b[0m \u001b[1m0s\u001b[0m 358ms/step - accuracy: 0.9947 - f1_score: 0.9948 - loss: 0.0180 - precision: 0.9953 - recall: 0.9942Model weights updated at epoch 7 with val_accuracy: 0.9795\n",
      "\u001b[1m428/428\u001b[0m \u001b[32m━━━━━━━━━━━━━━━━━━━━\u001b[0m\u001b[37m\u001b[0m \u001b[1m173s\u001b[0m 403ms/step - accuracy: 0.9947 - f1_score: 0.9948 - loss: 0.0180 - precision: 0.9953 - recall: 0.9942 - val_accuracy: 0.9795 - val_f1_score: 0.9795 - val_loss: 0.0749 - val_precision: 0.9801 - val_recall: 0.9789\n",
      "Epoch 8/10\n",
      "\u001b[1m428/428\u001b[0m \u001b[32m━━━━━━━━━━━━━━━━━━━━\u001b[0m\u001b[37m\u001b[0m \u001b[1m176s\u001b[0m 410ms/step - accuracy: 0.9937 - f1_score: 0.9936 - loss: 0.0272 - precision: 0.9939 - recall: 0.9933 - val_accuracy: 0.9778 - val_f1_score: 0.9780 - val_loss: 0.0921 - val_precision: 0.9789 - val_recall: 0.9772\n",
      "Epoch 9/10\n",
      "\u001b[1m428/428\u001b[0m \u001b[32m━━━━━━━━━━━━━━━━━━━━\u001b[0m\u001b[37m\u001b[0m \u001b[1m174s\u001b[0m 407ms/step - accuracy: 0.9952 - f1_score: 0.9952 - loss: 0.0148 - precision: 0.9956 - recall: 0.9949 - val_accuracy: 0.9783 - val_f1_score: 0.9778 - val_loss: 0.0807 - val_precision: 0.9783 - val_recall: 0.9772\n",
      "Epoch 10/10\n",
      "\u001b[1m428/428\u001b[0m \u001b[32m━━━━━━━━━━━━━━━━━━━━\u001b[0m\u001b[37m\u001b[0m \u001b[1m173s\u001b[0m 404ms/step - accuracy: 0.9965 - f1_score: 0.9964 - loss: 0.0124 - precision: 0.9967 - recall: 0.9962 - val_accuracy: 0.9748 - val_f1_score: 0.9748 - val_loss: 0.1150 - val_precision: 0.9754 - val_recall: 0.9743\n",
      "Restoring model weights from best epoch 7 with val_accuracy: 0.9795\n"
     ]
    }
   ],
   "source": [
    "history_X = Xmodel.fit(train_data,\n",
    "                 epochs=EPOCH,             \n",
    "                 validation_data=validation_data,\n",
    "                 callbacks=[restore_best],\n",
    "                 shuffle= False)"
   ]
  },
  {
   "cell_type": "code",
   "execution_count": 13,
   "id": "307f158a",
   "metadata": {
    "execution": {
     "iopub.execute_input": "2025-04-28T13:10:15.345968Z",
     "iopub.status.busy": "2025-04-28T13:10:15.345678Z",
     "iopub.status.idle": "2025-04-28T13:10:15.353784Z",
     "shell.execute_reply": "2025-04-28T13:10:15.353074Z"
    },
    "papermill": {
     "duration": 0.18973,
     "end_time": "2025-04-28T13:10:15.354960",
     "exception": false,
     "start_time": "2025-04-28T13:10:15.165230",
     "status": "completed"
    },
    "tags": []
   },
   "outputs": [
    {
     "name": "stdout",
     "output_type": "stream",
     "text": [
      "Lowest Loss: 0.06668464839458466 at index 0\n",
      "Highest Accuracy: 0.9795202016830444 at index 6\n",
      "Highest Precision: 0.9800820350646973 at index 6\n",
      "Highest Recall: 0.9789350628852844 at index 6\n",
      "Highest F1-score: 0.9795081615447998 at index 6\n"
     ]
    }
   ],
   "source": [
    "# Extract metrics for XCEPTION MODEL\n",
    "tr_acc_X = history_X.history['accuracy']\n",
    "tr_loss_X = history_X.history['loss']\n",
    "tr_per_X = history_X.history['precision']\n",
    "tr_recall_X = history_X.history['recall']\n",
    "tr_fscore_X = history_X.history['f1_score']\n",
    "val_acc_X = history_X.history['val_accuracy']\n",
    "val_loss_X = history_X.history['val_loss']\n",
    "val_per_X = history_X.history['val_precision']\n",
    "val_recall_X = history_X.history['val_recall']\n",
    "val_fscore_X = history_X.history['val_f1_score']\n",
    "\n",
    "# Get the best epochs for each metric\n",
    "index_loss_X = np.argmin(val_loss_X)\n",
    "loss_lowest_X = val_loss_X[index_loss_X]\n",
    "index_acc_X = np.argmax(val_acc_X)\n",
    "acc_highest_X = val_acc_X[index_acc_X]\n",
    "index_precision_X = np.argmax(val_per_X)\n",
    "pre_highest_X = val_per_X[index_precision_X]\n",
    "index_recall_X = np.argmax(val_recall_X)\n",
    "recall_highest_X = val_recall_X[index_recall_X]\n",
    "index_fscore_X = np.argmax(val_fscore_X)\n",
    "fscore_highest_X = val_fscore_X[index_fscore_X]\n",
    "\n",
    "# Print results\n",
    "print(f\"Lowest Loss: {loss_lowest_X} at index {index_loss_X}\")\n",
    "print(f\"Highest Accuracy: {acc_highest_X} at index {index_acc_X}\")\n",
    "print(f\"Highest Precision: {pre_highest_X} at index {index_precision_X}\")\n",
    "print(f\"Highest Recall: {recall_highest_X} at index {index_recall_X}\")\n",
    "print(f\"Highest F1-score: {fscore_highest_X} at index {index_fscore_X}\")\n",
    "\n",
    "# Epochs for plotting\n",
    "Epochs_X = [i + 1 for i in range(len(tr_acc_X))]\n",
    "\n",
    "# Define a modern style\n",
    "plt.style.use('ggplot')"
   ]
  },
  {
   "cell_type": "code",
   "execution_count": 14,
   "id": "3ed02a96",
   "metadata": {
    "execution": {
     "iopub.execute_input": "2025-04-28T13:10:15.708680Z",
     "iopub.status.busy": "2025-04-28T13:10:15.708390Z",
     "iopub.status.idle": "2025-04-28T13:10:15.915396Z",
     "shell.execute_reply": "2025-04-28T13:10:15.914640Z"
    },
    "papermill": {
     "duration": 0.38605,
     "end_time": "2025-04-28T13:10:15.916545",
     "exception": false,
     "start_time": "2025-04-28T13:10:15.530495",
     "status": "completed"
    },
    "tags": []
   },
   "outputs": [
    {
     "data": {
      "image/png": "[encoded data removed]",
      "text/plain": [
       "<Figure size 1000x600 with 1 Axes>"
      ]
     },
     "metadata": {},
     "output_type": "display_data"
    },
    {
     "name": "stdout",
     "output_type": "stream",
     "text": [
      "0\n"
     ]
    }
   ],
   "source": [
    "# Plot Training and Validation Loss\n",
    "plt.figure(figsize=(10, 6))\n",
    "plt.plot(Epochs_X, tr_loss_X, color='red', label='Training Loss', linewidth=2)\n",
    "plt.plot(Epochs_X, val_loss_X, color='green', label='Validation Loss', linestyle='--', linewidth=2)\n",
    "plt.scatter(index_loss_X + 1, loss_lowest_X, s=150, c='blue', label=f'Best epoch = {index_loss_X + 1}', edgecolors='black')\n",
    "plt.title('Training and Validation Loss', fontsize=14, fontweight='bold')\n",
    "plt.xlabel('Epochs', fontsize=12)\n",
    "plt.ylabel('Loss', fontsize=12)\n",
    "plt.legend(fontsize=10)\n",
    "plt.grid(visible=True, linestyle='--', alpha=0.5)\n",
    "plt.show()\n",
    "\n",
    "print(np.argmin(val_loss_X))"
   ]
  },
  {
   "cell_type": "code",
   "execution_count": 15,
   "id": "3a537d7a",
   "metadata": {
    "execution": {
     "iopub.execute_input": "2025-04-28T13:10:16.326645Z",
     "iopub.status.busy": "2025-04-28T13:10:16.326344Z",
     "iopub.status.idle": "2025-04-28T13:10:16.508583Z",
     "shell.execute_reply": "2025-04-28T13:10:16.507872Z"
    },
    "papermill": {
     "duration": 0.361091,
     "end_time": "2025-04-28T13:10:16.509699",
     "exception": false,
     "start_time": "2025-04-28T13:10:16.148608",
     "status": "completed"
    },
    "tags": []
   },
   "outputs": [
    {
     "data": {
      "image/png": "[encoded data removed]",
      "text/plain": [
       "<Figure size 1000x600 with 1 Axes>"
      ]
     },
     "metadata": {},
     "output_type": "display_data"
    }
   ],
   "source": [
    "# Plot Training and Validation Accuracy\n",
    "plt.figure(figsize=(10, 6))\n",
    "plt.plot(Epochs_X, tr_acc_X, color='purple', label='Training Accuracy', linewidth=2)\n",
    "plt.plot(Epochs_X, val_acc_X, color='orange', label='Validation Accuracy', linestyle='--', linewidth=2)\n",
    "plt.scatter(index_acc_X + 1, acc_highest_X, s=150, c='blue', label=f'Best epoch = {index_acc_X + 1}', edgecolors='black')\n",
    "plt.title('Training and Validation Accuracy', fontsize=14, fontweight='bold')\n",
    "plt.xlabel('Epochs', fontsize=12)\n",
    "plt.ylabel('Accuracy', fontsize=12)\n",
    "plt.legend(fontsize=10)\n",
    "plt.grid(visible=True, linestyle='--', alpha=0.5)\n",
    "plt.show()"
   ]
  }
 ],
 "metadata": {
  "kaggle": {
   "accelerator": "gpu",
   "dataSources": [
    {
     "datasetId": 7275030,
     "sourceId": 11600130,
     "sourceType": "datasetVersion"
    }
   ],
   "isGpuEnabled": true,
   "isInternetEnabled": true,
   "language": "python",
   "sourceType": "notebook"
  },
  "kernelspec": {
   "display_name": "py310",
   "language": "python",
   "name": "python3"
  },
  "language_info": {
   "codemirror_mode": {
    "name": "ipython",
    "version": 3
   },
   "file_extension": ".py",
   "mimetype": "text/x-python",
   "name": "python",
   "nbconvert_exporter": "python",
   "pygments_lexer": "ipython3",
   "version": "3.11.11"
  },
  "papermill": {
   "default_parameters": {},
   "duration": 1880.962902,
   "end_time": "2025-04-28T13:10:19.546342",
   "environment_variables": {},
   "exception": null,
   "input_path": "__notebook__.ipynb",
   "output_path": "__notebook__.ipynb",
   "parameters": {},
   "start_time": "2025-04-28T12:38:58.583440",
   "version": "2.6.0"
  }
 },
 "nbformat": 4,
 "nbformat_minor": 5
}
