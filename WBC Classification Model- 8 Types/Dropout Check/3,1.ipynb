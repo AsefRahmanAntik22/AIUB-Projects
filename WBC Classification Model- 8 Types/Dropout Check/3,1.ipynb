{
 "cells": [
  {
   "cell_type": "code",
   "execution_count": 1,
   "id": "9800cb7e",
   "metadata": {
    "execution": {
     "iopub.execute_input": "2025-04-28T13:17:42.417512Z",
     "iopub.status.busy": "2025-04-28T13:17:42.417243Z",
     "iopub.status.idle": "2025-04-28T13:18:02.827409Z",
     "shell.execute_reply": "2025-04-28T13:18:02.826835Z"
    },
    "papermill": {
     "duration": 20.416041,
     "end_time": "2025-04-28T13:18:02.828920",
     "exception": false,
     "start_time": "2025-04-28T13:17:42.412879",
     "status": "completed"
    },
    "tags": []
   },
   "outputs": [
    {
     "name": "stderr",
     "output_type": "stream",
     "text": [
      "2025-04-28 13:17:46.900624: E external/local_xla/xla/stream_executor/cuda/cuda_fft.cc:477] Unable to register cuFFT factory: Attempting to register factory for plugin cuFFT when one has already been registered\n",
      "WARNING: All log messages before absl::InitializeLog() is called are written to STDERR\n",
      "E0000 00:00:1745846267.111883      19 cuda_dnn.cc:8310] Unable to register cuDNN factory: Attempting to register factory for plugin cuDNN when one has already been registered\n",
      "E0000 00:00:1745846267.169219      19 cuda_blas.cc:1418] Unable to register cuBLAS factory: Attempting to register factory for plugin cuBLAS when one has already been registered\n"
     ]
    }
   ],
   "source": [
    "import os\n",
    "import numpy as np\n",
    "import pandas as pd\n",
    "import matplotlib.pyplot as plt\n",
    "import seaborn as sns\n",
    "import warnings\n",
    "warnings.filterwarnings(\"ignore\")\n",
    "\n",
    "# TensorFlow & Keras\n",
    "import tensorflow as tf\n",
    "from tensorflow.keras.models import Model\n",
    "from tensorflow.keras.utils import plot_model\n",
    "from tensorflow.keras.layers import Input, Concatenate\n",
    "from tensorflow.keras.layers import (Input, Dense, Flatten, Dropout, GlobalAveragePooling2D)\n",
    "from tensorflow.keras.applications import Xception, DenseNet121, InceptionV3\n",
    "from tensorflow.keras.optimizers import Adamax, Adam\n",
    "from tensorflow.keras.preprocessing.image import ImageDataGenerator\n",
    "from tensorflow.keras.metrics import Precision, Recall\n",
    "\n",
    "# Scikit-Learn\n",
    "from sklearn.model_selection import train_test_split, GridSearchCV, StratifiedKFold\n",
    "from sklearn.preprocessing import StandardScaler\n",
    "from sklearn.pipeline import Pipeline\n",
    "from sklearn.feature_selection import SelectKBest, SelectFromModel, f_classif\n",
    "from sklearn.linear_model import SGDClassifier, LogisticRegression\n",
    "from sklearn.svm import SVC\n",
    "from sklearn.neighbors import KNeighborsClassifier\n",
    "from sklearn.tree import DecisionTreeClassifier\n",
    "from sklearn.naive_bayes import GaussianNB\n",
    "from sklearn.neural_network import MLPClassifier\n",
    "from sklearn.ensemble import (\n",
    "    RandomForestClassifier, GradientBoostingClassifier, AdaBoostClassifier, \n",
    "    ExtraTreesClassifier, VotingClassifier, StackingClassifier\n",
    ")\n",
    "\n",
    "# Boosting Libraries\n",
    "from xgboost import XGBClassifier\n",
    "from lightgbm import LGBMClassifier\n",
    "\n",
    "# Evaluation Metrics\n",
    "from sklearn.metrics import (\n",
    "    accuracy_score, precision_score, recall_score, f1_score, confusion_matrix, ConfusionMatrixDisplay\n",
    ")\n",
    "\n",
    "#for parallel threading\n",
    "from joblib import parallel_backend\n",
    "import cv2\n",
    "\n",
    "#Model saving to disk\n",
    "import pickle\n",
    "\n",
    "# Suppress warnings\n",
    "warnings.filterwarnings(\"ignore\")"
   ]
  },
  {
   "cell_type": "code",
   "execution_count": 2,
   "id": "e2eda40b",
   "metadata": {
    "execution": {
     "iopub.execute_input": "2025-04-28T13:18:02.836047Z",
     "iopub.status.busy": "2025-04-28T13:18:02.835431Z",
     "iopub.status.idle": "2025-04-28T13:18:03.816512Z",
     "shell.execute_reply": "2025-04-28T13:18:03.815729Z"
    },
    "papermill": {
     "duration": 0.985515,
     "end_time": "2025-04-28T13:18:03.817682",
     "exception": false,
     "start_time": "2025-04-28T13:18:02.832167",
     "status": "completed"
    },
    "tags": []
   },
   "outputs": [
    {
     "name": "stdout",
     "output_type": "stream",
     "text": [
      "GPUs detected: 1\n"
     ]
    }
   ],
   "source": [
    "gpus = tf.config.list_physical_devices('GPU')\n",
    "if gpus:\n",
    "    try:\n",
    "        for gpu in gpus:\n",
    "            tf.config.experimental.set_memory_growth(gpu, True)\n",
    "        print(f\"GPUs detected: {len(gpus)}\")\n",
    "    except RuntimeError as e:\n",
    "        print(f\"Error setting GPU memory growth: {e}\")\n",
    "else:\n",
    "    print(\"No GPUs detected.\")"
   ]
  },
  {
   "cell_type": "code",
   "execution_count": 3,
   "id": "89b25d7f",
   "metadata": {
    "execution": {
     "iopub.execute_input": "2025-04-28T13:18:03.824440Z",
     "iopub.status.busy": "2025-04-28T13:18:03.824020Z",
     "iopub.status.idle": "2025-04-28T13:18:03.828391Z",
     "shell.execute_reply": "2025-04-28T13:18:03.827706Z"
    },
    "papermill": {
     "duration": 0.008749,
     "end_time": "2025-04-28T13:18:03.829498",
     "exception": false,
     "start_time": "2025-04-28T13:18:03.820749",
     "status": "completed"
    },
    "tags": []
   },
   "outputs": [],
   "source": [
    "def data_frame(path):\n",
    "    class_paths = []\n",
    "    classes = []\n",
    "\n",
    "    for label in os.listdir(path):\n",
    "        class_dir = os.path.join(path, label)\n",
    "        if os.path.isdir(class_dir):  # Ensure it's a directory\n",
    "            for image in os.listdir(class_dir):\n",
    "                class_paths.append(os.path.join(class_dir, image))\n",
    "                classes.append(label)\n",
    "\n",
    "    df = pd.DataFrame({'Class Path': class_paths, 'Class': classes})\n",
    "    return df"
   ]
  },
  {
   "cell_type": "code",
   "execution_count": 4,
   "id": "9767a812",
   "metadata": {
    "execution": {
     "iopub.execute_input": "2025-04-28T13:18:03.835698Z",
     "iopub.status.busy": "2025-04-28T13:18:03.835324Z",
     "iopub.status.idle": "2025-04-28T13:18:04.079905Z",
     "shell.execute_reply": "2025-04-28T13:18:04.079082Z"
    },
    "papermill": {
     "duration": 0.249011,
     "end_time": "2025-04-28T13:18:04.081263",
     "exception": false,
     "start_time": "2025-04-28T13:18:03.832252",
     "status": "completed"
    },
    "tags": []
   },
   "outputs": [
    {
     "name": "stdout",
     "output_type": "stream",
     "text": [
      "Train size: 13673, Validation size: 1709, Test size: 1710\n"
     ]
    }
   ],
   "source": [
    "dataframe = data_frame('/kaggle/input/wbc-8type-original/bloodcells_dataset Original')\n",
    "from sklearn.model_selection import train_test_split\n",
    "train_dataframe, temp_dataframe = train_test_split(dataframe, \n",
    "                                                   test_size=0.2, \n",
    "                                                   random_state=42, \n",
    "                                                   stratify=dataframe['Class'])\n",
    "Validation_dataframe, test_dataframe = train_test_split(temp_dataframe, \n",
    "                                                        test_size=0.5, \n",
    "                                                        random_state=42, \n",
    "                                                        stratify=temp_dataframe['Class'])\n",
    "print(f\"Train size: {len(train_dataframe)}, Validation size: {len(Validation_dataframe)}, Test size: {len(test_dataframe)}\")"
   ]
  },
  {
   "cell_type": "code",
   "execution_count": 5,
   "id": "b78b97c5",
   "metadata": {
    "execution": {
     "iopub.execute_input": "2025-04-28T13:18:04.087930Z",
     "iopub.status.busy": "2025-04-28T13:18:04.087623Z",
     "iopub.status.idle": "2025-04-28T13:18:04.091120Z",
     "shell.execute_reply": "2025-04-28T13:18:04.090587Z"
    },
    "papermill": {
     "duration": 0.007901,
     "end_time": "2025-04-28T13:18:04.092167",
     "exception": false,
     "start_time": "2025-04-28T13:18:04.084266",
     "status": "completed"
    },
    "tags": []
   },
   "outputs": [],
   "source": [
    "BATCH_SIZE = 32\n",
    "IMG_SIZE = (224, 224)\n",
    "EPOCH = 10\n",
    "img_shape=(224,224,3)\n",
    "labels = [\n",
    "    \"basophil\",\n",
    "    \"eosinophil\",\n",
    "    \"erythroblast\",\n",
    "    \"ig\",\n",
    "    \"lymphocyte\",\n",
    "    \"monocyte\",\n",
    "    \"neutrophil\",\n",
    "    \"platelet\"\n",
    "]"
   ]
  },
  {
   "cell_type": "code",
   "execution_count": 6,
   "id": "6b973221",
   "metadata": {
    "execution": {
     "iopub.execute_input": "2025-04-28T13:18:04.098373Z",
     "iopub.status.busy": "2025-04-28T13:18:04.097961Z",
     "iopub.status.idle": "2025-04-28T13:18:04.102426Z",
     "shell.execute_reply": "2025-04-28T13:18:04.101938Z"
    },
    "papermill": {
     "duration": 0.008624,
     "end_time": "2025-04-28T13:18:04.103459",
     "exception": false,
     "start_time": "2025-04-28T13:18:04.094835",
     "status": "completed"
    },
    "tags": []
   },
   "outputs": [],
   "source": [
    "def apply_clahe(img):\n",
    "    \"\"\"Apply CLAHE after Adaptive Gray World Normalization.\"\"\"\n",
    "    lab = cv2.cvtColor(img, cv2.COLOR_RGB2LAB)\n",
    "    l, a, b = cv2.split(lab)\n",
    "    clahe = cv2.createCLAHE(clipLimit=0.03, tileGridSize=(8,8))\n",
    "    l = clahe.apply(l)\n",
    "    clahe_img = cv2.merge((l, a, b))\n",
    "    return cv2.cvtColor(clahe_img, cv2.COLOR_LAB2RGB)\n",
    "\n",
    "def preprocess_image(img):\n",
    "    \"\"\"First apply Adaptive Gray World, then CLAHE (No Normalization).\"\"\"\n",
    "    img = img.astype(np.uint8)  # Ensure correct data type\n",
    "    img = apply_clahe(img)  # Step 2: CLAHE\n",
    "    img = (img - np.mean(img)) / (np.std(img) + 1e-8) # step: 3: z score normalization\n",
    "    return img  "
   ]
  },
  {
   "cell_type": "code",
   "execution_count": 7,
   "id": "a2a907db",
   "metadata": {
    "execution": {
     "iopub.execute_input": "2025-04-28T13:18:04.109676Z",
     "iopub.status.busy": "2025-04-28T13:18:04.109236Z",
     "iopub.status.idle": "2025-04-28T13:18:04.113115Z",
     "shell.execute_reply": "2025-04-28T13:18:04.112540Z"
    },
    "papermill": {
     "duration": 0.007982,
     "end_time": "2025-04-28T13:18:04.114135",
     "exception": false,
     "start_time": "2025-04-28T13:18:04.106153",
     "status": "completed"
    },
    "tags": []
   },
   "outputs": [],
   "source": [
    "def preprocess_image2(image):\n",
    "    # Convert to float32\n",
    "    img = image.astype(np.float32)\n",
    "\n",
    "    # Apply Z-score Normalization\n",
    "    #img = (img - np.mean(img)) / (np.std(img) + 1e-8)\n",
    "\n",
    "    # Min-Max Scaling (for CLAHE)\n",
    "    img = (img - np.min(img)) / (np.ptp(img) + 1e-8)  # np.ptp = max - min\n",
    "    #img = (img * 255).astype(np.uint8)  # Convert to uint8 for CLAHE\n",
    "\n",
    "    # Apply CLAHE to each channel independently\n",
    "    #clahe = cv2.createCLAHE(clipLimit=0.02, tileGridSize=(8, 8))\n",
    "    #img_clahe = np.zeros_like(img)\n",
    "    \n",
    "    #for i in range(3):  # Apply CLAHE on each channel separately\n",
    "        #img_clahe[..., i] = clahe.apply(img[..., i])\n",
    "\n",
    "    # Convert back to float32 (normalize to [0,1])\n",
    "    #img_clahe = img_clahe.astype(np.float32) / 255.0  \n",
    "\n",
    "    return img"
   ]
  },
  {
   "cell_type": "code",
   "execution_count": 8,
   "id": "45d47cc5",
   "metadata": {
    "execution": {
     "iopub.execute_input": "2025-04-28T13:18:04.120447Z",
     "iopub.status.busy": "2025-04-28T13:18:04.119929Z",
     "iopub.status.idle": "2025-04-28T13:18:25.620763Z",
     "shell.execute_reply": "2025-04-28T13:18:25.620010Z"
    },
    "papermill": {
     "duration": 21.505311,
     "end_time": "2025-04-28T13:18:25.622108",
     "exception": false,
     "start_time": "2025-04-28T13:18:04.116797",
     "status": "completed"
    },
    "tags": []
   },
   "outputs": [
    {
     "name": "stdout",
     "output_type": "stream",
     "text": [
      "Found 13673 validated image filenames belonging to 8 classes.\n",
      "Found 1709 validated image filenames belonging to 8 classes.\n",
      "Found 1710 validated image filenames belonging to 8 classes.\n"
     ]
    }
   ],
   "source": [
    "data_generator = ImageDataGenerator(\n",
    "    preprocessing_function=preprocess_image2,\n",
    "    rotation_range=10,\n",
    "    shear_range=0.1,\n",
    "    zoom_range=0.05,\n",
    "    fill_mode='nearest',\n",
    ")\n",
    "test_data_generator = ImageDataGenerator(preprocessing_function=preprocess_image2)\n",
    "\n",
    "\n",
    "train_data = data_generator.flow_from_dataframe(train_dataframe, x_col='Class Path',\n",
    "                                  y_col='Class', batch_size=BATCH_SIZE,\n",
    "                                  target_size=IMG_SIZE, seed=42)\n",
    "\n",
    "validation_data = data_generator.flow_from_dataframe(Validation_dataframe, x_col='Class Path',\n",
    "                                     y_col='Class', batch_size=BATCH_SIZE,\n",
    "                                     target_size=IMG_SIZE, seed=42)\n",
    "\n",
    "test_data = test_data_generator.flow_from_dataframe(test_dataframe, x_col='Class Path',\n",
    "                                  y_col='Class', batch_size=BATCH_SIZE,\n",
    "                                  target_size=IMG_SIZE, shuffle=False, seed=42)"
   ]
  },
  {
   "cell_type": "code",
   "execution_count": 9,
   "id": "7c4a2974",
   "metadata": {
    "execution": {
     "iopub.execute_input": "2025-04-28T13:18:25.629321Z",
     "iopub.status.busy": "2025-04-28T13:18:25.628843Z",
     "iopub.status.idle": "2025-04-28T13:18:25.634033Z",
     "shell.execute_reply": "2025-04-28T13:18:25.633483Z"
    },
    "papermill": {
     "duration": 0.009866,
     "end_time": "2025-04-28T13:18:25.635114",
     "exception": false,
     "start_time": "2025-04-28T13:18:25.625248",
     "status": "completed"
    },
    "tags": []
   },
   "outputs": [],
   "source": [
    "@tf.keras.utils.register_keras_serializable(package=\"Custom\", name=\"F1Score\")\n",
    "class F1Score(tf.keras.metrics.Metric):\n",
    "    def __init__(self, name='f1_score', **kwargs):\n",
    "        super().__init__(name=name, **kwargs)\n",
    "        self.precision = tf.keras.metrics.Precision()\n",
    "        self.recall = tf.keras.metrics.Recall()\n",
    "\n",
    "    def update_state(self, y_true, y_pred, sample_weight=None):\n",
    "        self.precision.update_state(y_true, y_pred, sample_weight)\n",
    "        self.recall.update_state(y_true, y_pred, sample_weight)\n",
    "\n",
    "    def result(self):\n",
    "        p = self.precision.result()\n",
    "        r = self.recall.result()\n",
    "        return 2 * (p * r) / (p + r + tf.keras.backend.epsilon())\n",
    "\n",
    "    def reset_states(self):\n",
    "        self.precision.reset_states()\n",
    "        self.recall.reset_states()"
   ]
  },
  {
   "cell_type": "code",
   "execution_count": 10,
   "id": "cb9dd2c8",
   "metadata": {
    "execution": {
     "iopub.execute_input": "2025-04-28T13:18:25.641432Z",
     "iopub.status.busy": "2025-04-28T13:18:25.641231Z",
     "iopub.status.idle": "2025-04-28T13:18:28.419530Z",
     "shell.execute_reply": "2025-04-28T13:18:28.418744Z"
    },
    "papermill": {
     "duration": 2.783096,
     "end_time": "2025-04-28T13:18:28.421010",
     "exception": false,
     "start_time": "2025-04-28T13:18:25.637914",
     "status": "completed"
    },
    "tags": []
   },
   "outputs": [
    {
     "name": "stderr",
     "output_type": "stream",
     "text": [
      "I0000 00:00:1745846305.771362      19 gpu_device.cc:2022] Created device /job:localhost/replica:0/task:0/device:GPU:0 with 15513 MB memory:  -> device: 0, name: Tesla P100-PCIE-16GB, pci bus id: 0000:00:04.0, compute capability: 6.0\n"
     ]
    },
    {
     "name": "stdout",
     "output_type": "stream",
     "text": [
      "Downloading data from https://storage.googleapis.com/tensorflow/keras-applications/xception/xception_weights_tf_dim_ordering_tf_kernels_notop.h5\n",
      "\u001b[1m83683744/83683744\u001b[0m \u001b[32m━━━━━━━━━━━━━━━━━━━━\u001b[0m\u001b[37m\u001b[0m \u001b[1m0s\u001b[0m 0us/step\n"
     ]
    }
   ],
   "source": [
    "dropout_1_values = [0.20, 0.25, 0.30, 0.35]\n",
    "dropout_2_values = [0.20, 0.25, 0.30, 0.35]\n",
    "\n",
    "base_model = tf.keras.applications.Xception(include_top= False, weights= \"imagenet\",\n",
    "                            input_shape= img_shape, pooling= 'max')\n",
    "\n",
    "inputs = Input(shape = img_shape)\n",
    "x = base_model(inputs)\n",
    "x = Flatten()(x)\n",
    "x = Dropout(rate= dropout_1_values[3])(x)\n",
    "x = Dense(128, activation= 'relu')(x)\n",
    "x = Dropout(rate= dropout_2_values[1])(x)\n",
    "x = Dense(8, activation= 'softmax')(x)\n",
    "Xmodel = Model(inputs, x)\n",
    "\n",
    "base_model.trainable = True\n",
    "for layer in base_model.layers[:50]:\n",
    "    layer.trainable = False\n",
    "\n",
    "Xmodel.compile(Adamax(learning_rate= 0.001),\n",
    "              loss= 'categorical_crossentropy',\n",
    "              metrics= ['accuracy',\n",
    "                        Precision(name='precision'),\n",
    "                        Recall(name='recall'),\n",
    "                        F1Score()])"
   ]
  },
  {
   "cell_type": "code",
   "execution_count": 11,
   "id": "725d0e59",
   "metadata": {
    "execution": {
     "iopub.execute_input": "2025-04-28T13:18:28.428968Z",
     "iopub.status.busy": "2025-04-28T13:18:28.428503Z",
     "iopub.status.idle": "2025-04-28T13:18:28.435977Z",
     "shell.execute_reply": "2025-04-28T13:18:28.435291Z"
    },
    "papermill": {
     "duration": 0.012275,
     "end_time": "2025-04-28T13:18:28.437047",
     "exception": false,
     "start_time": "2025-04-28T13:18:28.424772",
     "status": "completed"
    },
    "tags": []
   },
   "outputs": [],
   "source": [
    "from tensorflow.keras.callbacks import Callback\n",
    "\n",
    "class RestoreBestValidationModel(Callback):\n",
    "    def __init__(self):\n",
    "        super(RestoreBestValidationModel, self).__init__()\n",
    "        self.best_val_acc = -1\n",
    "        self.best_epoch = -1\n",
    "        self.best_weights = None\n",
    "\n",
    "    def on_epoch_end(self, epoch, logs=None):\n",
    "        val_acc = logs.get('val_accuracy')\n",
    "        if val_acc is not None:\n",
    "            if val_acc > self.best_val_acc or (val_acc == self.best_val_acc and epoch > self.best_epoch):\n",
    "                self.best_val_acc = val_acc\n",
    "                self.best_epoch = epoch\n",
    "                self.best_weights = self.model.get_weights()  \n",
    "                print(f\"Model weights updated at epoch {epoch + 1} with val_accuracy: {val_acc:.4f}\")\n",
    "\n",
    "    def on_train_end(self, logs=None):\n",
    "        if self.best_weights is not None:\n",
    "            print(f\"Restoring model weights from best epoch {self.best_epoch + 1} with val_accuracy: {self.best_val_acc:.4f}\")\n",
    "            self.model.set_weights(self.best_weights)  \n",
    "\n",
    "restore_best = RestoreBestValidationModel()"
   ]
  },
  {
   "cell_type": "code",
   "execution_count": 12,
   "id": "affde344",
   "metadata": {
    "execution": {
     "iopub.execute_input": "2025-04-28T13:18:28.444013Z",
     "iopub.status.busy": "2025-04-28T13:18:28.443816Z",
     "iopub.status.idle": "2025-04-28T13:55:08.603334Z",
     "shell.execute_reply": "2025-04-28T13:55:08.602569Z"
    },
    "papermill": {
     "duration": 2200.264107,
     "end_time": "2025-04-28T13:55:08.704237",
     "exception": false,
     "start_time": "2025-04-28T13:18:28.440130",
     "status": "completed"
    },
    "tags": []
   },
   "outputs": [
    {
     "name": "stdout",
     "output_type": "stream",
     "text": [
      "Epoch 1/10\n"
     ]
    },
    {
     "name": "stderr",
     "output_type": "stream",
     "text": [
      "WARNING: All log messages before absl::InitializeLog() is called are written to STDERR\n",
      "I0000 00:00:1745846333.454637      60 service.cc:148] XLA service 0x77fa5c0036e0 initialized for platform CUDA (this does not guarantee that XLA will be used). Devices:\n",
      "I0000 00:00:1745846333.455548      60 service.cc:156]   StreamExecutor device (0): Tesla P100-PCIE-16GB, Compute Capability 6.0\n",
      "I0000 00:00:1745846335.440817      60 cuda_dnn.cc:529] Loaded cuDNN version 90300\n",
      "E0000 00:00:1745846340.926069      60 gpu_timer.cc:82] Delay kernel timed out: measured time has sub-optimal accuracy. There may be a missing warmup execution, please investigate in Nsight Systems.\n",
      "E0000 00:00:1745846341.113174      60 gpu_timer.cc:82] Delay kernel timed out: measured time has sub-optimal accuracy. There may be a missing warmup execution, please investigate in Nsight Systems.\n",
      "E0000 00:00:1745846342.011791      60 gpu_timer.cc:82] Delay kernel timed out: measured time has sub-optimal accuracy. There may be a missing warmup execution, please investigate in Nsight Systems.\n",
      "E0000 00:00:1745846342.212026      60 gpu_timer.cc:82] Delay kernel timed out: measured time has sub-optimal accuracy. There may be a missing warmup execution, please investigate in Nsight Systems.\n",
      "E0000 00:00:1745846342.629820      60 gpu_timer.cc:82] Delay kernel timed out: measured time has sub-optimal accuracy. There may be a missing warmup execution, please investigate in Nsight Systems.\n",
      "E0000 00:00:1745846342.855710      60 gpu_timer.cc:82] Delay kernel timed out: measured time has sub-optimal accuracy. There may be a missing warmup execution, please investigate in Nsight Systems.\n"
     ]
    },
    {
     "name": "stdout",
     "output_type": "stream",
     "text": [
      "\u001b[1m  1/428\u001b[0m \u001b[37m━━━━━━━━━━━━━━━━━━━━\u001b[0m \u001b[1m4:34:39\u001b[0m 39s/step - accuracy: 0.0625 - f1_score: 0.0426 - loss: 3.3719 - precision: 0.0667 - recall: 0.0312"
     ]
    },
    {
     "name": "stderr",
     "output_type": "stream",
     "text": [
      "I0000 00:00:1745846348.177795      60 device_compiler.h:188] Compiled cluster using XLA!  This line is logged at most once for the lifetime of the process.\n"
     ]
    },
    {
     "name": "stdout",
     "output_type": "stream",
     "text": [
      "\u001b[1m427/428\u001b[0m \u001b[32m━━━━━━━━━━━━━━━━━━━\u001b[0m\u001b[37m━\u001b[0m \u001b[1m0s\u001b[0m 493ms/step - accuracy: 0.6733 - f1_score: 0.6610 - loss: 0.9359 - precision: 0.8224 - recall: 0.5740"
     ]
    },
    {
     "name": "stderr",
     "output_type": "stream",
     "text": [
      "E0000 00:00:1745846562.479345      60 gpu_timer.cc:82] Delay kernel timed out: measured time has sub-optimal accuracy. There may be a missing warmup execution, please investigate in Nsight Systems.\n",
      "E0000 00:00:1745846562.664377      60 gpu_timer.cc:82] Delay kernel timed out: measured time has sub-optimal accuracy. There may be a missing warmup execution, please investigate in Nsight Systems.\n",
      "E0000 00:00:1745846563.154917      60 gpu_timer.cc:82] Delay kernel timed out: measured time has sub-optimal accuracy. There may be a missing warmup execution, please investigate in Nsight Systems.\n",
      "E0000 00:00:1745846563.353771      60 gpu_timer.cc:82] Delay kernel timed out: measured time has sub-optimal accuracy. There may be a missing warmup execution, please investigate in Nsight Systems.\n",
      "E0000 00:00:1745846563.769211      60 gpu_timer.cc:82] Delay kernel timed out: measured time has sub-optimal accuracy. There may be a missing warmup execution, please investigate in Nsight Systems.\n",
      "E0000 00:00:1745846563.992679      60 gpu_timer.cc:82] Delay kernel timed out: measured time has sub-optimal accuracy. There may be a missing warmup execution, please investigate in Nsight Systems.\n"
     ]
    },
    {
     "name": "stdout",
     "output_type": "stream",
     "text": [
      "\u001b[1m428/428\u001b[0m \u001b[32m━━━━━━━━━━━━━━━━━━━━\u001b[0m\u001b[37m\u001b[0m \u001b[1m0s\u001b[0m 518ms/step - accuracy: 0.6737 - f1_score: 0.6615 - loss: 0.9347 - precision: 0.8226 - recall: 0.5745Model weights updated at epoch 1 with val_accuracy: 0.9655\n",
      "\u001b[1m428/428\u001b[0m \u001b[32m━━━━━━━━━━━━━━━━━━━━\u001b[0m\u001b[37m\u001b[0m \u001b[1m309s\u001b[0m 633ms/step - accuracy: 0.6742 - f1_score: 0.6620 - loss: 0.9335 - precision: 0.8229 - recall: 0.5751 - val_accuracy: 0.9655 - val_f1_score: 0.9654 - val_loss: 0.1064 - val_precision: 0.9677 - val_recall: 0.9631\n",
      "Epoch 2/10\n",
      "\u001b[1m428/428\u001b[0m \u001b[32m━━━━━━━━━━━━━━━━━━━━\u001b[0m\u001b[37m\u001b[0m \u001b[1m233s\u001b[0m 545ms/step - accuracy: 0.9705 - f1_score: 0.9702 - loss: 0.0932 - precision: 0.9738 - recall: 0.9667 - val_accuracy: 0.9608 - val_f1_score: 0.9622 - val_loss: 0.1004 - val_precision: 0.9642 - val_recall: 0.9602\n",
      "Epoch 3/10\n",
      "\u001b[1m428/428\u001b[0m \u001b[32m━━━━━━━━━━━━━━━━━━━━\u001b[0m\u001b[37m\u001b[0m \u001b[1m0s\u001b[0m 427ms/step - accuracy: 0.9791 - f1_score: 0.9796 - loss: 0.0593 - precision: 0.9813 - recall: 0.9778Model weights updated at epoch 3 with val_accuracy: 0.9772\n",
      "\u001b[1m428/428\u001b[0m \u001b[32m━━━━━━━━━━━━━━━━━━━━\u001b[0m\u001b[37m\u001b[0m \u001b[1m206s\u001b[0m 482ms/step - accuracy: 0.9791 - f1_score: 0.9796 - loss: 0.0593 - precision: 0.9813 - recall: 0.9778 - val_accuracy: 0.9772 - val_f1_score: 0.9783 - val_loss: 0.0612 - val_precision: 0.9795 - val_recall: 0.9772\n",
      "Epoch 4/10\n",
      "\u001b[1m428/428\u001b[0m \u001b[32m━━━━━━━━━━━━━━━━━━━━\u001b[0m\u001b[37m\u001b[0m \u001b[1m203s\u001b[0m 473ms/step - accuracy: 0.9855 - f1_score: 0.9857 - loss: 0.0454 - precision: 0.9870 - recall: 0.9844 - val_accuracy: 0.9766 - val_f1_score: 0.9772 - val_loss: 0.0859 - val_precision: 0.9777 - val_recall: 0.9766\n",
      "Epoch 5/10\n",
      "\u001b[1m428/428\u001b[0m \u001b[32m━━━━━━━━━━━━━━━━━━━━\u001b[0m\u001b[37m\u001b[0m \u001b[1m188s\u001b[0m 439ms/step - accuracy: 0.9876 - f1_score: 0.9877 - loss: 0.0398 - precision: 0.9892 - recall: 0.9863 - val_accuracy: 0.9737 - val_f1_score: 0.9739 - val_loss: 0.0823 - val_precision: 0.9754 - val_recall: 0.9725\n",
      "Epoch 6/10\n",
      "\u001b[1m428/428\u001b[0m \u001b[32m━━━━━━━━━━━━━━━━━━━━\u001b[0m\u001b[37m\u001b[0m \u001b[1m0s\u001b[0m 392ms/step - accuracy: 0.9935 - f1_score: 0.9935 - loss: 0.0221 - precision: 0.9943 - recall: 0.9928Model weights updated at epoch 6 with val_accuracy: 0.9789\n",
      "\u001b[1m428/428\u001b[0m \u001b[32m━━━━━━━━━━━━━━━━━━━━\u001b[0m\u001b[37m\u001b[0m \u001b[1m190s\u001b[0m 443ms/step - accuracy: 0.9935 - f1_score: 0.9935 - loss: 0.0221 - precision: 0.9943 - recall: 0.9928 - val_accuracy: 0.9789 - val_f1_score: 0.9789 - val_loss: 0.0765 - val_precision: 0.9795 - val_recall: 0.9783\n",
      "Epoch 7/10\n",
      "\u001b[1m428/428\u001b[0m \u001b[32m━━━━━━━━━━━━━━━━━━━━\u001b[0m\u001b[37m\u001b[0m \u001b[1m0s\u001b[0m 458ms/step - accuracy: 0.9933 - f1_score: 0.9934 - loss: 0.0228 - precision: 0.9941 - recall: 0.9928Model weights updated at epoch 7 with val_accuracy: 0.9807\n",
      "\u001b[1m428/428\u001b[0m \u001b[32m━━━━━━━━━━━━━━━━━━━━\u001b[0m\u001b[37m\u001b[0m \u001b[1m222s\u001b[0m 519ms/step - accuracy: 0.9933 - f1_score: 0.9934 - loss: 0.0228 - precision: 0.9941 - recall: 0.9928 - val_accuracy: 0.9807 - val_f1_score: 0.9804 - val_loss: 0.0972 - val_precision: 0.9818 - val_recall: 0.9789\n",
      "Epoch 8/10\n",
      "\u001b[1m428/428\u001b[0m \u001b[32m━━━━━━━━━━━━━━━━━━━━\u001b[0m\u001b[37m\u001b[0m \u001b[1m0s\u001b[0m 428ms/step - accuracy: 0.9937 - f1_score: 0.9938 - loss: 0.0236 - precision: 0.9940 - recall: 0.9936Model weights updated at epoch 8 with val_accuracy: 0.9813\n",
      "\u001b[1m428/428\u001b[0m \u001b[32m━━━━━━━━━━━━━━━━━━━━\u001b[0m\u001b[37m\u001b[0m \u001b[1m205s\u001b[0m 478ms/step - accuracy: 0.9937 - f1_score: 0.9938 - loss: 0.0236 - precision: 0.9940 - recall: 0.9936 - val_accuracy: 0.9813 - val_f1_score: 0.9813 - val_loss: 0.0823 - val_precision: 0.9813 - val_recall: 0.9813\n",
      "Epoch 9/10\n",
      "\u001b[1m428/428\u001b[0m \u001b[32m━━━━━━━━━━━━━━━━━━━━\u001b[0m\u001b[37m\u001b[0m \u001b[1m0s\u001b[0m 406ms/step - accuracy: 0.9944 - f1_score: 0.9945 - loss: 0.0198 - precision: 0.9953 - recall: 0.9937Model weights updated at epoch 9 with val_accuracy: 0.9830\n",
      "\u001b[1m428/428\u001b[0m \u001b[32m━━━━━━━━━━━━━━━━━━━━\u001b[0m\u001b[37m\u001b[0m \u001b[1m199s\u001b[0m 465ms/step - accuracy: 0.9944 - f1_score: 0.9945 - loss: 0.0198 - precision: 0.9953 - recall: 0.9937 - val_accuracy: 0.9830 - val_f1_score: 0.9830 - val_loss: 0.0704 - val_precision: 0.9830 - val_recall: 0.9830\n",
      "Epoch 10/10\n",
      "\u001b[1m428/428\u001b[0m \u001b[32m━━━━━━━━━━━━━━━━━━━━\u001b[0m\u001b[37m\u001b[0m \u001b[1m244s\u001b[0m 569ms/step - accuracy: 0.9967 - f1_score: 0.9967 - loss: 0.0114 - precision: 0.9970 - recall: 0.9964 - val_accuracy: 0.9766 - val_f1_score: 0.9769 - val_loss: 0.1135 - val_precision: 0.9772 - val_recall: 0.9766\n",
      "Restoring model weights from best epoch 9 with val_accuracy: 0.9830\n"
     ]
    }
   ],
   "source": [
    "history_X = Xmodel.fit(train_data,\n",
    "                 epochs=EPOCH,             \n",
    "                 validation_data=validation_data,\n",
    "                 callbacks=[restore_best],\n",
    "                 shuffle= False)"
   ]
  },
  {
   "cell_type": "code",
   "execution_count": 13,
   "id": "f298619e",
   "metadata": {
    "execution": {
     "iopub.execute_input": "2025-04-28T13:55:09.068908Z",
     "iopub.status.busy": "2025-04-28T13:55:09.068627Z",
     "iopub.status.idle": "2025-04-28T13:55:09.076507Z",
     "shell.execute_reply": "2025-04-28T13:55:09.075636Z"
    },
    "papermill": {
     "duration": 0.192722,
     "end_time": "2025-04-28T13:55:09.081457",
     "exception": false,
     "start_time": "2025-04-28T13:55:08.888735",
     "status": "completed"
    },
    "tags": []
   },
   "outputs": [
    {
     "name": "stdout",
     "output_type": "stream",
     "text": [
      "Lowest Loss: 0.061195071786642075 at index 2\n",
      "Highest Accuracy: 0.9830310344696045 at index 8\n",
      "Highest Precision: 0.9830310344696045 at index 8\n",
      "Highest Recall: 0.9830310344696045 at index 8\n",
      "Highest F1-score: 0.9830309748649597 at index 8\n"
     ]
    }
   ],
   "source": [
    "# Extract metrics for XCEPTION MODEL\n",
    "tr_acc_X = history_X.history['accuracy']\n",
    "tr_loss_X = history_X.history['loss']\n",
    "tr_per_X = history_X.history['precision']\n",
    "tr_recall_X = history_X.history['recall']\n",
    "tr_fscore_X = history_X.history['f1_score']\n",
    "val_acc_X = history_X.history['val_accuracy']\n",
    "val_loss_X = history_X.history['val_loss']\n",
    "val_per_X = history_X.history['val_precision']\n",
    "val_recall_X = history_X.history['val_recall']\n",
    "val_fscore_X = history_X.history['val_f1_score']\n",
    "\n",
    "# Get the best epochs for each metric\n",
    "index_loss_X = np.argmin(val_loss_X)\n",
    "loss_lowest_X = val_loss_X[index_loss_X]\n",
    "index_acc_X = np.argmax(val_acc_X)\n",
    "acc_highest_X = val_acc_X[index_acc_X]\n",
    "index_precision_X = np.argmax(val_per_X)\n",
    "pre_highest_X = val_per_X[index_precision_X]\n",
    "index_recall_X = np.argmax(val_recall_X)\n",
    "recall_highest_X = val_recall_X[index_recall_X]\n",
    "index_fscore_X = np.argmax(val_fscore_X)\n",
    "fscore_highest_X = val_fscore_X[index_fscore_X]\n",
    "\n",
    "# Print results\n",
    "print(f\"Lowest Loss: {loss_lowest_X} at index {index_loss_X}\")\n",
    "print(f\"Highest Accuracy: {acc_highest_X} at index {index_acc_X}\")\n",
    "print(f\"Highest Precision: {pre_highest_X} at index {index_precision_X}\")\n",
    "print(f\"Highest Recall: {recall_highest_X} at index {index_recall_X}\")\n",
    "print(f\"Highest F1-score: {fscore_highest_X} at index {index_fscore_X}\")\n",
    "\n",
    "# Epochs for plotting\n",
    "Epochs_X = [i + 1 for i in range(len(tr_acc_X))]\n",
    "\n",
    "# Define a modern style\n",
    "plt.style.use('ggplot')"
   ]
  },
  {
   "cell_type": "code",
   "execution_count": 14,
   "id": "1e9a8c5f",
   "metadata": {
    "execution": {
     "iopub.execute_input": "2025-04-28T13:55:09.447582Z",
     "iopub.status.busy": "2025-04-28T13:55:09.447308Z",
     "iopub.status.idle": "2025-04-28T13:55:09.654778Z",
     "shell.execute_reply": "2025-04-28T13:55:09.654061Z"
    },
    "papermill": {
     "duration": 0.392113,
     "end_time": "2025-04-28T13:55:09.656037",
     "exception": false,
     "start_time": "2025-04-28T13:55:09.263924",
     "status": "completed"
    },
    "tags": []
   },
   "outputs": [
    {
     "data": {
      "image/png": "[encoded data removed]",
      "text/plain": [
       "<Figure size 1000x600 with 1 Axes>"
      ]
     },
     "metadata": {},
     "output_type": "display_data"
    },
    {
     "name": "stdout",
     "output_type": "stream",
     "text": [
      "2\n"
     ]
    }
   ],
   "source": [
    "# Plot Training and Validation Loss\n",
    "plt.figure(figsize=(10, 6))\n",
    "plt.plot(Epochs_X, tr_loss_X, color='red', label='Training Loss', linewidth=2)\n",
    "plt.plot(Epochs_X, val_loss_X, color='green', label='Validation Loss', linestyle='--', linewidth=2)\n",
    "plt.scatter(index_loss_X + 1, loss_lowest_X, s=150, c='blue', label=f'Best epoch = {index_loss_X + 1}', edgecolors='black')\n",
    "plt.title('Training and Validation Loss', fontsize=14, fontweight='bold')\n",
    "plt.xlabel('Epochs', fontsize=12)\n",
    "plt.ylabel('Loss', fontsize=12)\n",
    "plt.legend(fontsize=10)\n",
    "plt.grid(visible=True, linestyle='--', alpha=0.5)\n",
    "plt.show()\n",
    "\n",
    "print(np.argmin(val_loss_X))"
   ]
  },
  {
   "cell_type": "code",
   "execution_count": 15,
   "id": "bac2aa19",
   "metadata": {
    "execution": {
     "iopub.execute_input": "2025-04-28T13:55:10.018149Z",
     "iopub.status.busy": "2025-04-28T13:55:10.017868Z",
     "iopub.status.idle": "2025-04-28T13:55:10.217564Z",
     "shell.execute_reply": "2025-04-28T13:55:10.216923Z"
    },
    "papermill": {
     "duration": 0.379643,
     "end_time": "2025-04-28T13:55:10.219206",
     "exception": false,
     "start_time": "2025-04-28T13:55:09.839563",
     "status": "completed"
    },
    "tags": []
   },
   "outputs": [
    {
     "data": {
      "image/png": "[encoded data removed]",
      "text/plain": [
       "<Figure size 1000x600 with 1 Axes>"
      ]
     },
     "metadata": {},
     "output_type": "display_data"
    }
   ],
   "source": [
    "# Plot Training and Validation Accuracy\n",
    "plt.figure(figsize=(10, 6))\n",
    "plt.plot(Epochs_X, tr_acc_X, color='purple', label='Training Accuracy', linewidth=2)\n",
    "plt.plot(Epochs_X, val_acc_X, color='orange', label='Validation Accuracy', linestyle='--', linewidth=2)\n",
    "plt.scatter(index_acc_X + 1, acc_highest_X, s=150, c='blue', label=f'Best epoch = {index_acc_X + 1}', edgecolors='black')\n",
    "plt.title('Training and Validation Accuracy', fontsize=14, fontweight='bold')\n",
    "plt.xlabel('Epochs', fontsize=12)\n",
    "plt.ylabel('Accuracy', fontsize=12)\n",
    "plt.legend(fontsize=10)\n",
    "plt.grid(visible=True, linestyle='--', alpha=0.5)\n",
    "plt.show()"
   ]
  }
 ],
 "metadata": {
  "kaggle": {
   "accelerator": "gpu",
   "dataSources": [
    {
     "datasetId": 7275030,
     "sourceId": 11600130,
     "sourceType": "datasetVersion"
    }
   ],
   "dockerImageVersionId": 31011,
   "isGpuEnabled": true,
   "isInternetEnabled": true,
   "language": "python",
   "sourceType": "notebook"
  },
  "kernelspec": {
   "display_name": "Python 3",
   "language": "python",
   "name": "python3"
  },
  "language_info": {
   "codemirror_mode": {
    "name": "ipython",
    "version": 3
   },
   "file_extension": ".py",
   "mimetype": "text/x-python",
   "name": "python",
   "nbconvert_exporter": "python",
   "pygments_lexer": "ipython3",
   "version": "3.11.11"
  },
  "papermill": {
   "default_parameters": {},
   "duration": 2255.133528,
   "end_time": "2025-04-28T13:55:13.335819",
   "environment_variables": {},
   "exception": null,
   "input_path": "__notebook__.ipynb",
   "output_path": "__notebook__.ipynb",
   "parameters": {},
   "start_time": "2025-04-28T13:17:38.202291",
   "version": "2.6.0"
  }
 },
 "nbformat": 4,
 "nbformat_minor": 5
}
