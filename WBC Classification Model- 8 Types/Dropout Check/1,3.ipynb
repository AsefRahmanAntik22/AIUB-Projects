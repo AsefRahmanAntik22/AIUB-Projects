{
 "cells": [
  {
   "cell_type": "code",
   "execution_count": 1,
   "id": "15431dce",
   "metadata": {
    "execution": {
     "iopub.execute_input": "2025-04-28T12:56:43.477556Z",
     "iopub.status.busy": "2025-04-28T12:56:43.476915Z",
     "iopub.status.idle": "2025-04-28T12:57:04.057841Z",
     "shell.execute_reply": "2025-04-28T12:57:04.057275Z"
    },
    "papermill": {
     "duration": 20.586777,
     "end_time": "2025-04-28T12:57:04.059175",
     "exception": false,
     "start_time": "2025-04-28T12:56:43.472398",
     "status": "completed"
    },
    "tags": []
   },
   "outputs": [
    {
     "name": "stderr",
     "output_type": "stream",
     "text": [
      "2025-04-28 12:56:47.999266: E external/local_xla/xla/stream_executor/cuda/cuda_fft.cc:477] Unable to register cuFFT factory: Attempting to register factory for plugin cuFFT when one has already been registered\n",
      "WARNING: All log messages before absl::InitializeLog() is called are written to STDERR\n",
      "E0000 00:00:1745845008.189552      19 cuda_dnn.cc:8310] Unable to register cuDNN factory: Attempting to register factory for plugin cuDNN when one has already been registered\n",
      "E0000 00:00:1745845008.242375      19 cuda_blas.cc:1418] Unable to register cuBLAS factory: Attempting to register factory for plugin cuBLAS when one has already been registered\n"
     ]
    }
   ],
   "source": [
    "import os\n",
    "import numpy as np\n",
    "import pandas as pd\n",
    "import matplotlib.pyplot as plt\n",
    "import seaborn as sns\n",
    "import warnings\n",
    "warnings.filterwarnings(\"ignore\")\n",
    "\n",
    "# TensorFlow & Keras\n",
    "import tensorflow as tf\n",
    "from tensorflow.keras.models import Model\n",
    "from tensorflow.keras.utils import plot_model\n",
    "from tensorflow.keras.layers import Input, Concatenate\n",
    "from tensorflow.keras.layers import (Input, Dense, Flatten, Dropout, GlobalAveragePooling2D)\n",
    "from tensorflow.keras.applications import Xception, DenseNet121, InceptionV3\n",
    "from tensorflow.keras.optimizers import Adamax, Adam\n",
    "from tensorflow.keras.preprocessing.image import ImageDataGenerator\n",
    "from tensorflow.keras.metrics import Precision, Recall\n",
    "\n",
    "# Scikit-Learn\n",
    "from sklearn.model_selection import train_test_split, GridSearchCV, StratifiedKFold\n",
    "from sklearn.preprocessing import StandardScaler\n",
    "from sklearn.pipeline import Pipeline\n",
    "from sklearn.feature_selection import SelectKBest, SelectFromModel, f_classif\n",
    "from sklearn.linear_model import SGDClassifier, LogisticRegression\n",
    "from sklearn.svm import SVC\n",
    "from sklearn.neighbors import KNeighborsClassifier\n",
    "from sklearn.tree import DecisionTreeClassifier\n",
    "from sklearn.naive_bayes import GaussianNB\n",
    "from sklearn.neural_network import MLPClassifier\n",
    "from sklearn.ensemble import (\n",
    "    RandomForestClassifier, GradientBoostingClassifier, AdaBoostClassifier, \n",
    "    ExtraTreesClassifier, VotingClassifier, StackingClassifier\n",
    ")\n",
    "\n",
    "# Boosting Libraries\n",
    "from xgboost import XGBClassifier\n",
    "from lightgbm import LGBMClassifier\n",
    "\n",
    "# Evaluation Metrics\n",
    "from sklearn.metrics import (\n",
    "    accuracy_score, precision_score, recall_score, f1_score, confusion_matrix, ConfusionMatrixDisplay\n",
    ")\n",
    "\n",
    "#for parallel threading\n",
    "from joblib import parallel_backend\n",
    "import cv2\n",
    "\n",
    "#Model saving to disk\n",
    "import pickle\n",
    "\n",
    "# Suppress warnings\n",
    "warnings.filterwarnings(\"ignore\")"
   ]
  },
  {
   "cell_type": "code",
   "execution_count": 2,
   "id": "5684d506",
   "metadata": {
    "execution": {
     "iopub.execute_input": "2025-04-28T12:57:04.066467Z",
     "iopub.status.busy": "2025-04-28T12:57:04.065830Z",
     "iopub.status.idle": "2025-04-28T12:57:04.985729Z",
     "shell.execute_reply": "2025-04-28T12:57:04.984855Z"
    },
    "papermill": {
     "duration": 0.924622,
     "end_time": "2025-04-28T12:57:04.986974",
     "exception": false,
     "start_time": "2025-04-28T12:57:04.062352",
     "status": "completed"
    },
    "tags": []
   },
   "outputs": [
    {
     "name": "stdout",
     "output_type": "stream",
     "text": [
      "GPUs detected: 1\n"
     ]
    }
   ],
   "source": [
    "gpus = tf.config.list_physical_devices('GPU')\n",
    "if gpus:\n",
    "    try:\n",
    "        for gpu in gpus:\n",
    "            tf.config.experimental.set_memory_growth(gpu, True)\n",
    "        print(f\"GPUs detected: {len(gpus)}\")\n",
    "    except RuntimeError as e:\n",
    "        print(f\"Error setting GPU memory growth: {e}\")\n",
    "else:\n",
    "    print(\"No GPUs detected.\")"
   ]
  },
  {
   "cell_type": "code",
   "execution_count": 3,
   "id": "d95cc3e6",
   "metadata": {
    "execution": {
     "iopub.execute_input": "2025-04-28T12:57:04.993995Z",
     "iopub.status.busy": "2025-04-28T12:57:04.993471Z",
     "iopub.status.idle": "2025-04-28T12:57:04.998156Z",
     "shell.execute_reply": "2025-04-28T12:57:04.997438Z"
    },
    "papermill": {
     "duration": 0.009201,
     "end_time": "2025-04-28T12:57:04.999288",
     "exception": false,
     "start_time": "2025-04-28T12:57:04.990087",
     "status": "completed"
    },
    "tags": []
   },
   "outputs": [],
   "source": [
    "def data_frame(path):\n",
    "    class_paths = []\n",
    "    classes = []\n",
    "\n",
    "    for label in os.listdir(path):\n",
    "        class_dir = os.path.join(path, label)\n",
    "        if os.path.isdir(class_dir):  # Ensure it's a directory\n",
    "            for image in os.listdir(class_dir):\n",
    "                class_paths.append(os.path.join(class_dir, image))\n",
    "                classes.append(label)\n",
    "\n",
    "    df = pd.DataFrame({'Class Path': class_paths, 'Class': classes})\n",
    "    return df"
   ]
  },
  {
   "cell_type": "code",
   "execution_count": 4,
   "id": "d7b18c60",
   "metadata": {
    "execution": {
     "iopub.execute_input": "2025-04-28T12:57:05.006116Z",
     "iopub.status.busy": "2025-04-28T12:57:05.005462Z",
     "iopub.status.idle": "2025-04-28T12:57:05.203572Z",
     "shell.execute_reply": "2025-04-28T12:57:05.202713Z"
    },
    "papermill": {
     "duration": 0.202867,
     "end_time": "2025-04-28T12:57:05.204951",
     "exception": false,
     "start_time": "2025-04-28T12:57:05.002084",
     "status": "completed"
    },
    "tags": []
   },
   "outputs": [
    {
     "name": "stdout",
     "output_type": "stream",
     "text": [
      "Train size: 13673, Validation size: 1709, Test size: 1710\n"
     ]
    }
   ],
   "source": [
    "dataframe = data_frame('/kaggle/input/blood-mining/bloodcells_dataset')\n",
    "from sklearn.model_selection import train_test_split\n",
    "train_dataframe, temp_dataframe = train_test_split(dataframe, \n",
    "                                                   test_size=0.2, \n",
    "                                                   random_state=42, \n",
    "                                                   stratify=dataframe['Class'])\n",
    "Validation_dataframe, test_dataframe = train_test_split(temp_dataframe, \n",
    "                                                        test_size=0.5, \n",
    "                                                        random_state=42, \n",
    "                                                        stratify=temp_dataframe['Class'])\n",
    "print(f\"Train size: {len(train_dataframe)}, Validation size: {len(Validation_dataframe)}, Test size: {len(test_dataframe)}\")"
   ]
  },
  {
   "cell_type": "code",
   "execution_count": 5,
   "id": "372e6d12",
   "metadata": {
    "execution": {
     "iopub.execute_input": "2025-04-28T12:57:05.211358Z",
     "iopub.status.busy": "2025-04-28T12:57:05.211152Z",
     "iopub.status.idle": "2025-04-28T12:57:05.214901Z",
     "shell.execute_reply": "2025-04-28T12:57:05.214146Z"
    },
    "papermill": {
     "duration": 0.008131,
     "end_time": "2025-04-28T12:57:05.215930",
     "exception": false,
     "start_time": "2025-04-28T12:57:05.207799",
     "status": "completed"
    },
    "tags": []
   },
   "outputs": [],
   "source": [
    "BATCH_SIZE = 32\n",
    "IMG_SIZE = (224, 224)\n",
    "EPOCH = 10\n",
    "img_shape=(224,224,3)\n",
    "labels = [\n",
    "    \"basophil\",\n",
    "    \"eosinophil\",\n",
    "    \"erythroblast\",\n",
    "    \"ig\",\n",
    "    \"lymphocyte\",\n",
    "    \"monocyte\",\n",
    "    \"neutrophil\",\n",
    "    \"platelet\"\n",
    "]"
   ]
  },
  {
   "cell_type": "code",
   "execution_count": 6,
   "id": "baeb0a14",
   "metadata": {
    "execution": {
     "iopub.execute_input": "2025-04-28T12:57:05.221840Z",
     "iopub.status.busy": "2025-04-28T12:57:05.221643Z",
     "iopub.status.idle": "2025-04-28T12:57:05.226531Z",
     "shell.execute_reply": "2025-04-28T12:57:05.225859Z"
    },
    "papermill": {
     "duration": 0.009098,
     "end_time": "2025-04-28T12:57:05.227659",
     "exception": false,
     "start_time": "2025-04-28T12:57:05.218561",
     "status": "completed"
    },
    "tags": []
   },
   "outputs": [],
   "source": [
    "def apply_clahe(img):\n",
    "    \"\"\"Apply CLAHE after Adaptive Gray World Normalization.\"\"\"\n",
    "    lab = cv2.cvtColor(img, cv2.COLOR_RGB2LAB)\n",
    "    l, a, b = cv2.split(lab)\n",
    "    clahe = cv2.createCLAHE(clipLimit=0.03, tileGridSize=(8,8))\n",
    "    l = clahe.apply(l)\n",
    "    clahe_img = cv2.merge((l, a, b))\n",
    "    return cv2.cvtColor(clahe_img, cv2.COLOR_LAB2RGB)\n",
    "\n",
    "def preprocess_image(img):\n",
    "    \"\"\"First apply Adaptive Gray World, then CLAHE (No Normalization).\"\"\"\n",
    "    img = img.astype(np.uint8)  # Ensure correct data type\n",
    "    img = apply_clahe(img)  # Step 2: CLAHE\n",
    "    img = (img - np.mean(img)) / (np.std(img) + 1e-8) # step: 3: z score normalization\n",
    "    return img  "
   ]
  },
  {
   "cell_type": "code",
   "execution_count": 7,
   "id": "6921bf01",
   "metadata": {
    "execution": {
     "iopub.execute_input": "2025-04-28T12:57:05.233962Z",
     "iopub.status.busy": "2025-04-28T12:57:05.233739Z",
     "iopub.status.idle": "2025-04-28T12:57:05.237334Z",
     "shell.execute_reply": "2025-04-28T12:57:05.236829Z"
    },
    "papermill": {
     "duration": 0.007673,
     "end_time": "2025-04-28T12:57:05.238360",
     "exception": false,
     "start_time": "2025-04-28T12:57:05.230687",
     "status": "completed"
    },
    "tags": []
   },
   "outputs": [],
   "source": [
    "def preprocess_image2(image):\n",
    "    # Convert to float32\n",
    "    img = image.astype(np.float32)\n",
    "\n",
    "    # Apply Z-score Normalization\n",
    "    #img = (img - np.mean(img)) / (np.std(img) + 1e-8)\n",
    "\n",
    "    # Min-Max Scaling (for CLAHE)\n",
    "    img = (img - np.min(img)) / (np.ptp(img) + 1e-8)  # np.ptp = max - min\n",
    "    #img = (img * 255).astype(np.uint8)  # Convert to uint8 for CLAHE\n",
    "\n",
    "    # Apply CLAHE to each channel independently\n",
    "    #clahe = cv2.createCLAHE(clipLimit=0.02, tileGridSize=(8, 8))\n",
    "    #img_clahe = np.zeros_like(img)\n",
    "    \n",
    "    #for i in range(3):  # Apply CLAHE on each channel separately\n",
    "        #img_clahe[..., i] = clahe.apply(img[..., i])\n",
    "\n",
    "    # Convert back to float32 (normalize to [0,1])\n",
    "    #img_clahe = img_clahe.astype(np.float32) / 255.0  \n",
    "\n",
    "    return img"
   ]
  },
  {
   "cell_type": "code",
   "execution_count": 8,
   "id": "c2e80b97",
   "metadata": {
    "execution": {
     "iopub.execute_input": "2025-04-28T12:57:05.244576Z",
     "iopub.status.busy": "2025-04-28T12:57:05.244005Z",
     "iopub.status.idle": "2025-04-28T12:57:29.377256Z",
     "shell.execute_reply": "2025-04-28T12:57:29.376247Z"
    },
    "papermill": {
     "duration": 24.137734,
     "end_time": "2025-04-28T12:57:29.378659",
     "exception": false,
     "start_time": "2025-04-28T12:57:05.240925",
     "status": "completed"
    },
    "tags": []
   },
   "outputs": [
    {
     "name": "stdout",
     "output_type": "stream",
     "text": [
      "Found 13673 validated image filenames belonging to 8 classes.\n",
      "Found 1709 validated image filenames belonging to 8 classes.\n",
      "Found 1710 validated image filenames belonging to 8 classes.\n"
     ]
    }
   ],
   "source": [
    "data_generator = ImageDataGenerator(\n",
    "    preprocessing_function=preprocess_image2,\n",
    "    rotation_range=10,\n",
    "    shear_range=0.1,\n",
    "    zoom_range=0.05,\n",
    "    fill_mode='nearest',\n",
    ")\n",
    "test_data_generator = ImageDataGenerator(preprocessing_function=preprocess_image2)\n",
    "\n",
    "\n",
    "train_data = data_generator.flow_from_dataframe(train_dataframe, x_col='Class Path',\n",
    "                                  y_col='Class', batch_size=BATCH_SIZE,\n",
    "                                  target_size=IMG_SIZE, seed=42)\n",
    "\n",
    "validation_data = data_generator.flow_from_dataframe(Validation_dataframe, x_col='Class Path',\n",
    "                                     y_col='Class', batch_size=BATCH_SIZE,\n",
    "                                     target_size=IMG_SIZE, seed=42)\n",
    "\n",
    "test_data = test_data_generator.flow_from_dataframe(test_dataframe, x_col='Class Path',\n",
    "                                  y_col='Class', batch_size=BATCH_SIZE,\n",
    "                                  target_size=IMG_SIZE, shuffle=False, seed=42)"
   ]
  },
  {
   "cell_type": "code",
   "execution_count": 9,
   "id": "da23264d",
   "metadata": {
    "execution": {
     "iopub.execute_input": "2025-04-28T12:57:29.386684Z",
     "iopub.status.busy": "2025-04-28T12:57:29.386380Z",
     "iopub.status.idle": "2025-04-28T12:57:29.392597Z",
     "shell.execute_reply": "2025-04-28T12:57:29.391901Z"
    },
    "papermill": {
     "duration": 0.011393,
     "end_time": "2025-04-28T12:57:29.393652",
     "exception": false,
     "start_time": "2025-04-28T12:57:29.382259",
     "status": "completed"
    },
    "tags": []
   },
   "outputs": [],
   "source": [
    "@tf.keras.utils.register_keras_serializable(package=\"Custom\", name=\"F1Score\")\n",
    "class F1Score(tf.keras.metrics.Metric):\n",
    "    def __init__(self, name='f1_score', **kwargs):\n",
    "        super().__init__(name=name, **kwargs)\n",
    "        self.precision = tf.keras.metrics.Precision()\n",
    "        self.recall = tf.keras.metrics.Recall()\n",
    "\n",
    "    def update_state(self, y_true, y_pred, sample_weight=None):\n",
    "        self.precision.update_state(y_true, y_pred, sample_weight)\n",
    "        self.recall.update_state(y_true, y_pred, sample_weight)\n",
    "\n",
    "    def result(self):\n",
    "        p = self.precision.result()\n",
    "        r = self.recall.result()\n",
    "        return 2 * (p * r) / (p + r + tf.keras.backend.epsilon())\n",
    "\n",
    "    def reset_states(self):\n",
    "        self.precision.reset_states()\n",
    "        self.recall.reset_states()"
   ]
  },
  {
   "cell_type": "code",
   "execution_count": 10,
   "id": "9a1d35dc",
   "metadata": {
    "execution": {
     "iopub.execute_input": "2025-04-28T12:57:29.400180Z",
     "iopub.status.busy": "2025-04-28T12:57:29.399971Z",
     "iopub.status.idle": "2025-04-28T12:57:32.299294Z",
     "shell.execute_reply": "2025-04-28T12:57:32.298732Z"
    },
    "papermill": {
     "duration": 2.903879,
     "end_time": "2025-04-28T12:57:32.300657",
     "exception": false,
     "start_time": "2025-04-28T12:57:29.396778",
     "status": "completed"
    },
    "tags": []
   },
   "outputs": [
    {
     "name": "stderr",
     "output_type": "stream",
     "text": [
      "I0000 00:00:1745845049.518645      19 gpu_device.cc:2022] Created device /job:localhost/replica:0/task:0/device:GPU:0 with 15513 MB memory:  -> device: 0, name: Tesla P100-PCIE-16GB, pci bus id: 0000:00:04.0, compute capability: 6.0\n"
     ]
    },
    {
     "name": "stdout",
     "output_type": "stream",
     "text": [
      "Downloading data from https://storage.googleapis.com/tensorflow/keras-applications/xception/xception_weights_tf_dim_ordering_tf_kernels_notop.h5\n",
      "\u001b[1m83683744/83683744\u001b[0m \u001b[32m━━━━━━━━━━━━━━━━━━━━\u001b[0m\u001b[37m\u001b[0m \u001b[1m0s\u001b[0m 0us/step\n"
     ]
    }
   ],
   "source": [
    "dropout_1_values = [0.20, 0.25, 0.30, 0.35]\n",
    "dropout_2_values = [0.20, 0.25, 0.30, 0.35]\n",
    "\n",
    "base_model = tf.keras.applications.Xception(include_top= False, weights= \"imagenet\",\n",
    "                            input_shape= img_shape, pooling= 'max')\n",
    "\n",
    "inputs = Input(shape = img_shape)\n",
    "x = base_model(inputs)\n",
    "x = Flatten()(x)\n",
    "x = Dropout(rate= dropout_1_values[1])(x)\n",
    "x = Dense(128, activation= 'relu')(x)\n",
    "x = Dropout(rate= dropout_2_values[3])(x)\n",
    "x = Dense(8, activation= 'softmax')(x)\n",
    "Xmodel = Model(inputs, x)\n",
    "\n",
    "base_model.trainable = True\n",
    "for layer in base_model.layers[:50]:\n",
    "    layer.trainable = False\n",
    "\n",
    "Xmodel.compile(Adamax(learning_rate= 0.001),\n",
    "              loss= 'categorical_crossentropy',\n",
    "              metrics= ['accuracy',\n",
    "                        Precision(name='precision'),\n",
    "                        Recall(name='recall'),\n",
    "                        F1Score()])"
   ]
  },
  {
   "cell_type": "code",
   "execution_count": 11,
   "id": "9e297d33",
   "metadata": {
    "execution": {
     "iopub.execute_input": "2025-04-28T12:57:32.308765Z",
     "iopub.status.busy": "2025-04-28T12:57:32.308226Z",
     "iopub.status.idle": "2025-04-28T12:57:32.316191Z",
     "shell.execute_reply": "2025-04-28T12:57:32.315400Z"
    },
    "papermill": {
     "duration": 0.01315,
     "end_time": "2025-04-28T12:57:32.317399",
     "exception": false,
     "start_time": "2025-04-28T12:57:32.304249",
     "status": "completed"
    },
    "tags": []
   },
   "outputs": [],
   "source": [
    "from tensorflow.keras.callbacks import Callback\n",
    "\n",
    "class RestoreBestValidationModel(Callback):\n",
    "    def __init__(self):\n",
    "        super(RestoreBestValidationModel, self).__init__()\n",
    "        self.best_val_acc = -1\n",
    "        self.best_epoch = -1\n",
    "        self.best_weights = None\n",
    "\n",
    "    def on_epoch_end(self, epoch, logs=None):\n",
    "        val_acc = logs.get('val_accuracy')\n",
    "        if val_acc is not None:\n",
    "            if val_acc > self.best_val_acc or (val_acc == self.best_val_acc and epoch > self.best_epoch):\n",
    "                self.best_val_acc = val_acc\n",
    "                self.best_epoch = epoch\n",
    "                self.best_weights = self.model.get_weights()  \n",
    "                print(f\"Model weights updated at epoch {epoch + 1} with val_accuracy: {val_acc:.4f}\")\n",
    "\n",
    "    def on_train_end(self, logs=None):\n",
    "        if self.best_weights is not None:\n",
    "            print(f\"Restoring model weights from best epoch {self.best_epoch + 1} with val_accuracy: {self.best_val_acc:.4f}\")\n",
    "            self.model.set_weights(self.best_weights)  \n",
    "\n",
    "restore_best = RestoreBestValidationModel()"
   ]
  },
  {
   "cell_type": "code",
   "execution_count": 12,
   "id": "5d949720",
   "metadata": {
    "execution": {
     "iopub.execute_input": "2025-04-28T12:57:32.324348Z",
     "iopub.status.busy": "2025-04-28T12:57:32.324104Z",
     "iopub.status.idle": "2025-04-28T13:29:27.855255Z",
     "shell.execute_reply": "2025-04-28T13:29:27.854384Z"
    },
    "papermill": {
     "duration": 1915.53626,
     "end_time": "2025-04-28T13:29:27.856747",
     "exception": false,
     "start_time": "2025-04-28T12:57:32.320487",
     "status": "completed"
    },
    "tags": []
   },
   "outputs": [
    {
     "name": "stdout",
     "output_type": "stream",
     "text": [
      "Epoch 1/10\n"
     ]
    },
    {
     "name": "stderr",
     "output_type": "stream",
     "text": [
      "WARNING: All log messages before absl::InitializeLog() is called are written to STDERR\n",
      "I0000 00:00:1745845077.753622      61 service.cc:148] XLA service 0x7c6cb0003720 initialized for platform CUDA (this does not guarantee that XLA will be used). Devices:\n",
      "I0000 00:00:1745845077.754560      61 service.cc:156]   StreamExecutor device (0): Tesla P100-PCIE-16GB, Compute Capability 6.0\n",
      "I0000 00:00:1745845079.838638      61 cuda_dnn.cc:529] Loaded cuDNN version 90300\n",
      "E0000 00:00:1745845085.372189      61 gpu_timer.cc:82] Delay kernel timed out: measured time has sub-optimal accuracy. There may be a missing warmup execution, please investigate in Nsight Systems.\n",
      "E0000 00:00:1745845085.560896      61 gpu_timer.cc:82] Delay kernel timed out: measured time has sub-optimal accuracy. There may be a missing warmup execution, please investigate in Nsight Systems.\n",
      "E0000 00:00:1745845086.473696      61 gpu_timer.cc:82] Delay kernel timed out: measured time has sub-optimal accuracy. There may be a missing warmup execution, please investigate in Nsight Systems.\n",
      "E0000 00:00:1745845086.673494      61 gpu_timer.cc:82] Delay kernel timed out: measured time has sub-optimal accuracy. There may be a missing warmup execution, please investigate in Nsight Systems.\n",
      "E0000 00:00:1745845087.091955      61 gpu_timer.cc:82] Delay kernel timed out: measured time has sub-optimal accuracy. There may be a missing warmup execution, please investigate in Nsight Systems.\n",
      "E0000 00:00:1745845087.316840      61 gpu_timer.cc:82] Delay kernel timed out: measured time has sub-optimal accuracy. There may be a missing warmup execution, please investigate in Nsight Systems.\n"
     ]
    },
    {
     "name": "stdout",
     "output_type": "stream",
     "text": [
      "\u001b[1m  1/428\u001b[0m \u001b[37m━━━━━━━━━━━━━━━━━━━━\u001b[0m \u001b[1m4:42:52\u001b[0m 40s/step - accuracy: 0.1250 - f1_score: 0.0435 - loss: 3.6685 - precision: 0.0714 - recall: 0.0312"
     ]
    },
    {
     "name": "stderr",
     "output_type": "stream",
     "text": [
      "I0000 00:00:1745845092.902055      61 device_compiler.h:188] Compiled cluster using XLA!  This line is logged at most once for the lifetime of the process.\n"
     ]
    },
    {
     "name": "stdout",
     "output_type": "stream",
     "text": [
      "\u001b[1m427/428\u001b[0m \u001b[32m━━━━━━━━━━━━━━━━━━━\u001b[0m\u001b[37m━\u001b[0m \u001b[1m0s\u001b[0m 462ms/step - accuracy: 0.7320 - f1_score: 0.7199 - loss: 0.7831 - precision: 0.8573 - recall: 0.6416"
     ]
    },
    {
     "name": "stderr",
     "output_type": "stream",
     "text": [
      "E0000 00:00:1745845293.576461      61 gpu_timer.cc:82] Delay kernel timed out: measured time has sub-optimal accuracy. There may be a missing warmup execution, please investigate in Nsight Systems.\n",
      "E0000 00:00:1745845293.761182      61 gpu_timer.cc:82] Delay kernel timed out: measured time has sub-optimal accuracy. There may be a missing warmup execution, please investigate in Nsight Systems.\n",
      "E0000 00:00:1745845294.249402      61 gpu_timer.cc:82] Delay kernel timed out: measured time has sub-optimal accuracy. There may be a missing warmup execution, please investigate in Nsight Systems.\n",
      "E0000 00:00:1745845294.449750      61 gpu_timer.cc:82] Delay kernel timed out: measured time has sub-optimal accuracy. There may be a missing warmup execution, please investigate in Nsight Systems.\n",
      "E0000 00:00:1745845294.861320      61 gpu_timer.cc:82] Delay kernel timed out: measured time has sub-optimal accuracy. There may be a missing warmup execution, please investigate in Nsight Systems.\n",
      "E0000 00:00:1745845295.085407      61 gpu_timer.cc:82] Delay kernel timed out: measured time has sub-optimal accuracy. There may be a missing warmup execution, please investigate in Nsight Systems.\n"
     ]
    },
    {
     "name": "stdout",
     "output_type": "stream",
     "text": [
      "\u001b[1m428/428\u001b[0m \u001b[32m━━━━━━━━━━━━━━━━━━━━\u001b[0m\u001b[37m\u001b[0m \u001b[1m0s\u001b[0m 486ms/step - accuracy: 0.7323 - f1_score: 0.7203 - loss: 0.7822 - precision: 0.8575 - recall: 0.6421Model weights updated at epoch 1 with val_accuracy: 0.9719\n",
      "\u001b[1m428/428\u001b[0m \u001b[32m━━━━━━━━━━━━━━━━━━━━\u001b[0m\u001b[37m\u001b[0m \u001b[1m279s\u001b[0m 561ms/step - accuracy: 0.7327 - f1_score: 0.7207 - loss: 0.7812 - precision: 0.8577 - recall: 0.6426 - val_accuracy: 0.9719 - val_f1_score: 0.9715 - val_loss: 0.0947 - val_precision: 0.9769 - val_recall: 0.9661\n",
      "Epoch 2/10\n",
      "\u001b[1m428/428\u001b[0m \u001b[32m━━━━━━━━━━━━━━━━━━━━\u001b[0m\u001b[37m\u001b[0m \u001b[1m184s\u001b[0m 429ms/step - accuracy: 0.9739 - f1_score: 0.9739 - loss: 0.0900 - precision: 0.9771 - recall: 0.9707 - val_accuracy: 0.9649 - val_f1_score: 0.9663 - val_loss: 0.1163 - val_precision: 0.9683 - val_recall: 0.9643\n",
      "Epoch 3/10\n",
      "\u001b[1m428/428\u001b[0m \u001b[32m━━━━━━━━━━━━━━━━━━━━\u001b[0m\u001b[37m\u001b[0m \u001b[1m0s\u001b[0m 381ms/step - accuracy: 0.9795 - f1_score: 0.9795 - loss: 0.0717 - precision: 0.9818 - recall: 0.9772Model weights updated at epoch 3 with val_accuracy: 0.9801\n",
      "\u001b[1m428/428\u001b[0m \u001b[32m━━━━━━━━━━━━━━━━━━━━\u001b[0m\u001b[37m\u001b[0m \u001b[1m183s\u001b[0m 428ms/step - accuracy: 0.9795 - f1_score: 0.9795 - loss: 0.0717 - precision: 0.9818 - recall: 0.9772 - val_accuracy: 0.9801 - val_f1_score: 0.9810 - val_loss: 0.0746 - val_precision: 0.9824 - val_recall: 0.9795\n",
      "Epoch 4/10\n",
      "\u001b[1m428/428\u001b[0m \u001b[32m━━━━━━━━━━━━━━━━━━━━\u001b[0m\u001b[37m\u001b[0m \u001b[1m184s\u001b[0m 430ms/step - accuracy: 0.9867 - f1_score: 0.9864 - loss: 0.0463 - precision: 0.9873 - recall: 0.9856 - val_accuracy: 0.9789 - val_f1_score: 0.9786 - val_loss: 0.0814 - val_precision: 0.9789 - val_recall: 0.9783\n",
      "Epoch 5/10\n",
      "\u001b[1m428/428\u001b[0m \u001b[32m━━━━━━━━━━━━━━━━━━━━\u001b[0m\u001b[37m\u001b[0m \u001b[1m182s\u001b[0m 425ms/step - accuracy: 0.9920 - f1_score: 0.9919 - loss: 0.0290 - precision: 0.9922 - recall: 0.9917 - val_accuracy: 0.9778 - val_f1_score: 0.9777 - val_loss: 0.0813 - val_precision: 0.9789 - val_recall: 0.9766\n",
      "Epoch 6/10\n",
      "\u001b[1m428/428\u001b[0m \u001b[32m━━━━━━━━━━━━━━━━━━━━\u001b[0m\u001b[37m\u001b[0m \u001b[1m180s\u001b[0m 420ms/step - accuracy: 0.9941 - f1_score: 0.9938 - loss: 0.0218 - precision: 0.9944 - recall: 0.9933 - val_accuracy: 0.9684 - val_f1_score: 0.9681 - val_loss: 0.1441 - val_precision: 0.9695 - val_recall: 0.9666\n",
      "Epoch 7/10\n",
      "\u001b[1m428/428\u001b[0m \u001b[32m━━━━━━━━━━━━━━━━━━━━\u001b[0m\u001b[37m\u001b[0m \u001b[1m0s\u001b[0m 378ms/step - accuracy: 0.9944 - f1_score: 0.9943 - loss: 0.0217 - precision: 0.9946 - recall: 0.9940Model weights updated at epoch 7 with val_accuracy: 0.9830\n",
      "\u001b[1m428/428\u001b[0m \u001b[32m━━━━━━━━━━━━━━━━━━━━\u001b[0m\u001b[37m\u001b[0m \u001b[1m182s\u001b[0m 424ms/step - accuracy: 0.9944 - f1_score: 0.9943 - loss: 0.0217 - precision: 0.9946 - recall: 0.9940 - val_accuracy: 0.9830 - val_f1_score: 0.9833 - val_loss: 0.0696 - val_precision: 0.9836 - val_recall: 0.9830\n",
      "Epoch 8/10\n",
      "\u001b[1m428/428\u001b[0m \u001b[32m━━━━━━━━━━━━━━━━━━━━\u001b[0m\u001b[37m\u001b[0m \u001b[1m182s\u001b[0m 424ms/step - accuracy: 0.9943 - f1_score: 0.9942 - loss: 0.0214 - precision: 0.9950 - recall: 0.9935 - val_accuracy: 0.9754 - val_f1_score: 0.9757 - val_loss: 0.1018 - val_precision: 0.9771 - val_recall: 0.9743\n",
      "Epoch 9/10\n",
      "\u001b[1m428/428\u001b[0m \u001b[32m━━━━━━━━━━━━━━━━━━━━\u001b[0m\u001b[37m\u001b[0m \u001b[1m179s\u001b[0m 417ms/step - accuracy: 0.9949 - f1_score: 0.9947 - loss: 0.0163 - precision: 0.9951 - recall: 0.9943 - val_accuracy: 0.9754 - val_f1_score: 0.9760 - val_loss: 0.1065 - val_precision: 0.9766 - val_recall: 0.9754\n",
      "Epoch 10/10\n",
      "\u001b[1m428/428\u001b[0m \u001b[32m━━━━━━━━━━━━━━━━━━━━\u001b[0m\u001b[37m\u001b[0m \u001b[1m180s\u001b[0m 420ms/step - accuracy: 0.9958 - f1_score: 0.9956 - loss: 0.0161 - precision: 0.9959 - recall: 0.9954 - val_accuracy: 0.9754 - val_f1_score: 0.9760 - val_loss: 0.1477 - val_precision: 0.9766 - val_recall: 0.9754\n",
      "Restoring model weights from best epoch 7 with val_accuracy: 0.9830\n"
     ]
    }
   ],
   "source": [
    "history_X = Xmodel.fit(train_data,\n",
    "                 epochs=EPOCH,             \n",
    "                 validation_data=validation_data,\n",
    "                 callbacks=[restore_best],\n",
    "                 shuffle= False)"
   ]
  },
  {
   "cell_type": "code",
   "execution_count": 13,
   "id": "7c311720",
   "metadata": {
    "execution": {
     "iopub.execute_input": "2025-04-28T13:29:28.238329Z",
     "iopub.status.busy": "2025-04-28T13:29:28.237489Z",
     "iopub.status.idle": "2025-04-28T13:29:28.246029Z",
     "shell.execute_reply": "2025-04-28T13:29:28.245224Z"
    },
    "papermill": {
     "duration": 0.200069,
     "end_time": "2025-04-28T13:29:28.247335",
     "exception": false,
     "start_time": "2025-04-28T13:29:28.047266",
     "status": "completed"
    },
    "tags": []
   },
   "outputs": [
    {
     "name": "stdout",
     "output_type": "stream",
     "text": [
      "Lowest Loss: 0.06962689757347107 at index 6\n",
      "Highest Accuracy: 0.9830310344696045 at index 6\n",
      "Highest Precision: 0.9836065769195557 at index 6\n",
      "Highest Recall: 0.9830310344696045 at index 6\n",
      "Highest F1-score: 0.9833186864852905 at index 6\n"
     ]
    }
   ],
   "source": [
    "# Extract metrics for XCEPTION MODEL\n",
    "tr_acc_X = history_X.history['accuracy']\n",
    "tr_loss_X = history_X.history['loss']\n",
    "tr_per_X = history_X.history['precision']\n",
    "tr_recall_X = history_X.history['recall']\n",
    "tr_fscore_X = history_X.history['f1_score']\n",
    "val_acc_X = history_X.history['val_accuracy']\n",
    "val_loss_X = history_X.history['val_loss']\n",
    "val_per_X = history_X.history['val_precision']\n",
    "val_recall_X = history_X.history['val_recall']\n",
    "val_fscore_X = history_X.history['val_f1_score']\n",
    "\n",
    "# Get the best epochs for each metric\n",
    "index_loss_X = np.argmin(val_loss_X)\n",
    "loss_lowest_X = val_loss_X[index_loss_X]\n",
    "index_acc_X = np.argmax(val_acc_X)\n",
    "acc_highest_X = val_acc_X[index_acc_X]\n",
    "index_precision_X = np.argmax(val_per_X)\n",
    "pre_highest_X = val_per_X[index_precision_X]\n",
    "index_recall_X = np.argmax(val_recall_X)\n",
    "recall_highest_X = val_recall_X[index_recall_X]\n",
    "index_fscore_X = np.argmax(val_fscore_X)\n",
    "fscore_highest_X = val_fscore_X[index_fscore_X]\n",
    "\n",
    "# Print results\n",
    "print(f\"Lowest Loss: {loss_lowest_X} at index {index_loss_X}\")\n",
    "print(f\"Highest Accuracy: {acc_highest_X} at index {index_acc_X}\")\n",
    "print(f\"Highest Precision: {pre_highest_X} at index {index_precision_X}\")\n",
    "print(f\"Highest Recall: {recall_highest_X} at index {index_recall_X}\")\n",
    "print(f\"Highest F1-score: {fscore_highest_X} at index {index_fscore_X}\")\n",
    "\n",
    "# Epochs for plotting\n",
    "Epochs_X = [i + 1 for i in range(len(tr_acc_X))]\n",
    "\n",
    "# Define a modern style\n",
    "plt.style.use('ggplot')"
   ]
  },
  {
   "cell_type": "code",
   "execution_count": 14,
   "id": "8946b829",
   "metadata": {
    "execution": {
     "iopub.execute_input": "2025-04-28T13:29:28.677523Z",
     "iopub.status.busy": "2025-04-28T13:29:28.677186Z",
     "iopub.status.idle": "2025-04-28T13:29:28.919912Z",
     "shell.execute_reply": "2025-04-28T13:29:28.919246Z"
    },
    "papermill": {
     "duration": 0.428691,
     "end_time": "2025-04-28T13:29:28.921594",
     "exception": false,
     "start_time": "2025-04-28T13:29:28.492903",
     "status": "completed"
    },
    "tags": []
   },
   "outputs": [
    {
     "data": {
      "image/png": "[encoded data removed]",
      "text/plain": [
       "<Figure size 1000x600 with 1 Axes>"
      ]
     },
     "metadata": {},
     "output_type": "display_data"
    },
    {
     "name": "stdout",
     "output_type": "stream",
     "text": [
      "6\n"
     ]
    }
   ],
   "source": [
    "# Plot Training and Validation Loss\n",
    "plt.figure(figsize=(10, 6))\n",
    "plt.plot(Epochs_X, tr_loss_X, color='red', label='Training Loss', linewidth=2)\n",
    "plt.plot(Epochs_X, val_loss_X, color='green', label='Validation Loss', linestyle='--', linewidth=2)\n",
    "plt.scatter(index_loss_X + 1, loss_lowest_X, s=150, c='blue', label=f'Best epoch = {index_loss_X + 1}', edgecolors='black')\n",
    "plt.title('Training and Validation Loss', fontsize=14, fontweight='bold')\n",
    "plt.xlabel('Epochs', fontsize=12)\n",
    "plt.ylabel('Loss', fontsize=12)\n",
    "plt.legend(fontsize=10)\n",
    "plt.grid(visible=True, linestyle='--', alpha=0.5)\n",
    "plt.show()\n",
    "\n",
    "print(np.argmin(val_loss_X))"
   ]
  },
  {
   "cell_type": "code",
   "execution_count": 15,
   "id": "7a35bed9",
   "metadata": {
    "execution": {
     "iopub.execute_input": "2025-04-28T13:29:29.306904Z",
     "iopub.status.busy": "2025-04-28T13:29:29.306047Z",
     "iopub.status.idle": "2025-04-28T13:29:29.507257Z",
     "shell.execute_reply": "2025-04-28T13:29:29.506409Z"
    },
    "papermill": {
     "duration": 0.3907,
     "end_time": "2025-04-28T13:29:29.508479",
     "exception": false,
     "start_time": "2025-04-28T13:29:29.117779",
     "status": "completed"
    },
    "tags": []
   },
   "outputs": [
    {
     "data": {
      "image/png": "[encoded data removed]",
      "text/plain": [
       "<Figure size 1000x600 with 1 Axes>"
      ]
     },
     "metadata": {},
     "output_type": "display_data"
    }
   ],
   "source": [
    "# Plot Training and Validation Accuracy\n",
    "plt.figure(figsize=(10, 6))\n",
    "plt.plot(Epochs_X, tr_acc_X, color='purple', label='Training Accuracy', linewidth=2)\n",
    "plt.plot(Epochs_X, val_acc_X, color='orange', label='Validation Accuracy', linestyle='--', linewidth=2)\n",
    "plt.scatter(index_acc_X + 1, acc_highest_X, s=150, c='blue', label=f'Best epoch = {index_acc_X + 1}', edgecolors='black')\n",
    "plt.title('Training and Validation Accuracy', fontsize=14, fontweight='bold')\n",
    "plt.xlabel('Epochs', fontsize=12)\n",
    "plt.ylabel('Accuracy', fontsize=12)\n",
    "plt.legend(fontsize=10)\n",
    "plt.grid(visible=True, linestyle='--', alpha=0.5)\n",
    "plt.show()"
   ]
  }
 ],
 "metadata": {
  "kaggle": {
   "accelerator": "gpu",
   "dataSources": [
    {
     "datasetId": 6755943,
     "sourceId": 10873558,
     "sourceType": "datasetVersion"
    }
   ],
   "dockerImageVersionId": 31011,
   "isGpuEnabled": true,
   "isInternetEnabled": true,
   "language": "python",
   "sourceType": "notebook"
  },
  "kernelspec": {
   "display_name": "Python 3",
   "language": "python",
   "name": "python3"
  },
  "language_info": {
   "codemirror_mode": {
    "name": "ipython",
    "version": 3
   },
   "file_extension": ".py",
   "mimetype": "text/x-python",
   "name": "python",
   "nbconvert_exporter": "python",
   "pygments_lexer": "ipython3",
   "version": "3.11.11"
  },
  "papermill": {
   "default_parameters": {},
   "duration": 1974.067087,
   "end_time": "2025-04-28T13:29:33.349886",
   "environment_variables": {},
   "exception": null,
   "input_path": "__notebook__.ipynb",
   "output_path": "__notebook__.ipynb",
   "parameters": {},
   "start_time": "2025-04-28T12:56:39.282799",
   "version": "2.6.0"
  }
 },
 "nbformat": 4,
 "nbformat_minor": 5
}
