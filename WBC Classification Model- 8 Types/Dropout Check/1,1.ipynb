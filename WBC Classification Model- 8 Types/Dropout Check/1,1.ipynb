{
 "cells": [
  {
   "cell_type": "code",
   "execution_count": 1,
   "id": "1a45e120",
   "metadata": {
    "execution": {
     "iopub.execute_input": "2025-04-28T12:41:05.724227Z",
     "iopub.status.busy": "2025-04-28T12:41:05.724016Z",
     "iopub.status.idle": "2025-04-28T12:41:28.303071Z",
     "shell.execute_reply": "2025-04-28T12:41:28.302481Z"
    },
    "papermill": {
     "duration": 22.584419,
     "end_time": "2025-04-28T12:41:28.304503",
     "exception": false,
     "start_time": "2025-04-28T12:41:05.720084",
     "status": "completed"
    },
    "tags": []
   },
   "outputs": [
    {
     "name": "stderr",
     "output_type": "stream",
     "text": [
      "2025-04-28 12:41:10.821694: E external/local_xla/xla/stream_executor/cuda/cuda_fft.cc:477] Unable to register cuFFT factory: Attempting to register factory for plugin cuFFT when one has already been registered\n",
      "WARNING: All log messages before absl::InitializeLog() is called are written to STDERR\n",
      "E0000 00:00:1745844071.104562      19 cuda_dnn.cc:8310] Unable to register cuDNN factory: Attempting to register factory for plugin cuDNN when one has already been registered\n",
      "E0000 00:00:1745844071.175512      19 cuda_blas.cc:1418] Unable to register cuBLAS factory: Attempting to register factory for plugin cuBLAS when one has already been registered\n"
     ]
    }
   ],
   "source": [
    "import os\n",
    "import numpy as np\n",
    "import pandas as pd\n",
    "import matplotlib.pyplot as plt\n",
    "import seaborn as sns\n",
    "import warnings\n",
    "warnings.filterwarnings(\"ignore\")\n",
    "\n",
    "# TensorFlow & Keras\n",
    "import tensorflow as tf\n",
    "from tensorflow.keras.models import Model\n",
    "from tensorflow.keras.utils import plot_model\n",
    "from tensorflow.keras.layers import Input, Concatenate\n",
    "from tensorflow.keras.layers import (Input, Dense, Flatten, Dropout, GlobalAveragePooling2D)\n",
    "from tensorflow.keras.applications import Xception, DenseNet121, InceptionV3\n",
    "from tensorflow.keras.optimizers import Adamax, Adam\n",
    "from tensorflow.keras.preprocessing.image import ImageDataGenerator\n",
    "from tensorflow.keras.metrics import Precision, Recall\n",
    "\n",
    "# Scikit-Learn\n",
    "from sklearn.model_selection import train_test_split, GridSearchCV, StratifiedKFold\n",
    "from sklearn.preprocessing import StandardScaler\n",
    "from sklearn.pipeline import Pipeline\n",
    "from sklearn.feature_selection import SelectKBest, SelectFromModel, f_classif\n",
    "from sklearn.linear_model import SGDClassifier, LogisticRegression\n",
    "from sklearn.svm import SVC\n",
    "from sklearn.neighbors import KNeighborsClassifier\n",
    "from sklearn.tree import DecisionTreeClassifier\n",
    "from sklearn.naive_bayes import GaussianNB\n",
    "from sklearn.neural_network import MLPClassifier\n",
    "from sklearn.ensemble import (\n",
    "    RandomForestClassifier, GradientBoostingClassifier, AdaBoostClassifier, \n",
    "    ExtraTreesClassifier, VotingClassifier, StackingClassifier\n",
    ")\n",
    "\n",
    "# Boosting Libraries\n",
    "from xgboost import XGBClassifier\n",
    "from lightgbm import LGBMClassifier\n",
    "\n",
    "# Evaluation Metrics\n",
    "from sklearn.metrics import (\n",
    "    accuracy_score, precision_score, recall_score, f1_score, confusion_matrix, ConfusionMatrixDisplay\n",
    ")\n",
    "\n",
    "#for parallel threading\n",
    "from joblib import parallel_backend\n",
    "import cv2\n",
    "\n",
    "#Model saving to disk\n",
    "import pickle\n",
    "\n",
    "# Suppress warnings\n",
    "warnings.filterwarnings(\"ignore\")"
   ]
  },
  {
   "cell_type": "code",
   "execution_count": 2,
   "id": "42b6f247",
   "metadata": {
    "execution": {
     "iopub.execute_input": "2025-04-28T12:41:28.311644Z",
     "iopub.status.busy": "2025-04-28T12:41:28.311050Z",
     "iopub.status.idle": "2025-04-28T12:41:29.419862Z",
     "shell.execute_reply": "2025-04-28T12:41:29.419088Z"
    },
    "papermill": {
     "duration": 1.113253,
     "end_time": "2025-04-28T12:41:29.420973",
     "exception": false,
     "start_time": "2025-04-28T12:41:28.307720",
     "status": "completed"
    },
    "tags": []
   },
   "outputs": [
    {
     "name": "stdout",
     "output_type": "stream",
     "text": [
      "GPUs detected: 1\n"
     ]
    }
   ],
   "source": [
    "gpus = tf.config.list_physical_devices('GPU')\n",
    "if gpus:\n",
    "    try:\n",
    "        for gpu in gpus:\n",
    "            tf.config.experimental.set_memory_growth(gpu, True)\n",
    "        print(f\"GPUs detected: {len(gpus)}\")\n",
    "    except RuntimeError as e:\n",
    "        print(f\"Error setting GPU memory growth: {e}\")\n",
    "else:\n",
    "    print(\"No GPUs detected.\")"
   ]
  },
  {
   "cell_type": "code",
   "execution_count": 3,
   "id": "ebe27ba2",
   "metadata": {
    "execution": {
     "iopub.execute_input": "2025-04-28T12:41:29.427414Z",
     "iopub.status.busy": "2025-04-28T12:41:29.427185Z",
     "iopub.status.idle": "2025-04-28T12:41:29.431853Z",
     "shell.execute_reply": "2025-04-28T12:41:29.431135Z"
    },
    "papermill": {
     "duration": 0.009002,
     "end_time": "2025-04-28T12:41:29.432979",
     "exception": false,
     "start_time": "2025-04-28T12:41:29.423977",
     "status": "completed"
    },
    "tags": []
   },
   "outputs": [],
   "source": [
    "def data_frame(path):\n",
    "    class_paths = []\n",
    "    classes = []\n",
    "\n",
    "    for label in os.listdir(path):\n",
    "        class_dir = os.path.join(path, label)\n",
    "        if os.path.isdir(class_dir):  # Ensure it's a directory\n",
    "            for image in os.listdir(class_dir):\n",
    "                class_paths.append(os.path.join(class_dir, image))\n",
    "                classes.append(label)\n",
    "\n",
    "    df = pd.DataFrame({'Class Path': class_paths, 'Class': classes})\n",
    "    return df"
   ]
  },
  {
   "cell_type": "code",
   "execution_count": 4,
   "id": "9c1e066b",
   "metadata": {
    "execution": {
     "iopub.execute_input": "2025-04-28T12:41:29.438942Z",
     "iopub.status.busy": "2025-04-28T12:41:29.438732Z",
     "iopub.status.idle": "2025-04-28T12:41:29.632866Z",
     "shell.execute_reply": "2025-04-28T12:41:29.632085Z"
    },
    "papermill": {
     "duration": 0.198389,
     "end_time": "2025-04-28T12:41:29.634043",
     "exception": false,
     "start_time": "2025-04-28T12:41:29.435654",
     "status": "completed"
    },
    "tags": []
   },
   "outputs": [
    {
     "name": "stdout",
     "output_type": "stream",
     "text": [
      "Train size: 13673, Validation size: 1709, Test size: 1710\n"
     ]
    }
   ],
   "source": [
    "dataframe = data_frame('/kaggle/input/wbc-8type-original/bloodcells_dataset Original')\n",
    "from sklearn.model_selection import train_test_split\n",
    "train_dataframe, temp_dataframe = train_test_split(dataframe, \n",
    "                                                   test_size=0.2, \n",
    "                                                   random_state=42, \n",
    "                                                   stratify=dataframe['Class'])\n",
    "Validation_dataframe, test_dataframe = train_test_split(temp_dataframe, \n",
    "                                                        test_size=0.5, \n",
    "                                                        random_state=42, \n",
    "                                                        stratify=temp_dataframe['Class'])\n",
    "print(f\"Train size: {len(train_dataframe)}, Validation size: {len(Validation_dataframe)}, Test size: {len(test_dataframe)}\")"
   ]
  },
  {
   "cell_type": "code",
   "execution_count": 5,
   "id": "6e817420",
   "metadata": {
    "execution": {
     "iopub.execute_input": "2025-04-28T12:41:29.640264Z",
     "iopub.status.busy": "2025-04-28T12:41:29.640057Z",
     "iopub.status.idle": "2025-04-28T12:41:29.643775Z",
     "shell.execute_reply": "2025-04-28T12:41:29.643212Z"
    },
    "papermill": {
     "duration": 0.007954,
     "end_time": "2025-04-28T12:41:29.644816",
     "exception": false,
     "start_time": "2025-04-28T12:41:29.636862",
     "status": "completed"
    },
    "tags": []
   },
   "outputs": [],
   "source": [
    "BATCH_SIZE = 32\n",
    "IMG_SIZE = (224, 224)\n",
    "EPOCH = 10\n",
    "img_shape=(224,224,3)\n",
    "labels = [\n",
    "    \"basophil\",\n",
    "    \"eosinophil\",\n",
    "    \"erythroblast\",\n",
    "    \"ig\",\n",
    "    \"lymphocyte\",\n",
    "    \"monocyte\",\n",
    "    \"neutrophil\",\n",
    "    \"platelet\"\n",
    "]"
   ]
  },
  {
   "cell_type": "code",
   "execution_count": 6,
   "id": "345689e8",
   "metadata": {
    "execution": {
     "iopub.execute_input": "2025-04-28T12:41:29.650849Z",
     "iopub.status.busy": "2025-04-28T12:41:29.650652Z",
     "iopub.status.idle": "2025-04-28T12:41:29.655022Z",
     "shell.execute_reply": "2025-04-28T12:41:29.654529Z"
    },
    "papermill": {
     "duration": 0.008587,
     "end_time": "2025-04-28T12:41:29.656043",
     "exception": false,
     "start_time": "2025-04-28T12:41:29.647456",
     "status": "completed"
    },
    "tags": []
   },
   "outputs": [],
   "source": [
    "def apply_clahe(img):\n",
    "    \"\"\"Apply CLAHE after Adaptive Gray World Normalization.\"\"\"\n",
    "    lab = cv2.cvtColor(img, cv2.COLOR_RGB2LAB)\n",
    "    l, a, b = cv2.split(lab)\n",
    "    clahe = cv2.createCLAHE(clipLimit=0.03, tileGridSize=(8,8))\n",
    "    l = clahe.apply(l)\n",
    "    clahe_img = cv2.merge((l, a, b))\n",
    "    return cv2.cvtColor(clahe_img, cv2.COLOR_LAB2RGB)\n",
    "\n",
    "def preprocess_image(img):\n",
    "    \"\"\"First apply Adaptive Gray World, then CLAHE (No Normalization).\"\"\"\n",
    "    img = img.astype(np.uint8)  # Ensure correct data type\n",
    "    img = apply_clahe(img)  # Step 2: CLAHE\n",
    "    img = (img - np.mean(img)) / (np.std(img) + 1e-8) # step: 3: z score normalization\n",
    "    return img  "
   ]
  },
  {
   "cell_type": "code",
   "execution_count": 7,
   "id": "7ca9107c",
   "metadata": {
    "execution": {
     "iopub.execute_input": "2025-04-28T12:41:29.662025Z",
     "iopub.status.busy": "2025-04-28T12:41:29.661836Z",
     "iopub.status.idle": "2025-04-28T12:41:29.665398Z",
     "shell.execute_reply": "2025-04-28T12:41:29.664815Z"
    },
    "papermill": {
     "duration": 0.007647,
     "end_time": "2025-04-28T12:41:29.666394",
     "exception": false,
     "start_time": "2025-04-28T12:41:29.658747",
     "status": "completed"
    },
    "tags": []
   },
   "outputs": [],
   "source": [
    "def preprocess_image2(image):\n",
    "    # Convert to float32\n",
    "    img = image.astype(np.float32)\n",
    "\n",
    "    # Apply Z-score Normalization\n",
    "    #img = (img - np.mean(img)) / (np.std(img) + 1e-8)\n",
    "\n",
    "    # Min-Max Scaling (for CLAHE)\n",
    "    img = (img - np.min(img)) / (np.ptp(img) + 1e-8)  # np.ptp = max - min\n",
    "    #img = (img * 255).astype(np.uint8)  # Convert to uint8 for CLAHE\n",
    "\n",
    "    # Apply CLAHE to each channel independently\n",
    "    #clahe = cv2.createCLAHE(clipLimit=0.02, tileGridSize=(8, 8))\n",
    "    #img_clahe = np.zeros_like(img)\n",
    "    \n",
    "    #for i in range(3):  # Apply CLAHE on each channel separately\n",
    "        #img_clahe[..., i] = clahe.apply(img[..., i])\n",
    "\n",
    "    # Convert back to float32 (normalize to [0,1])\n",
    "    #img_clahe = img_clahe.astype(np.float32) / 255.0  \n",
    "\n",
    "    return img"
   ]
  },
  {
   "cell_type": "code",
   "execution_count": 8,
   "id": "3922ed1d",
   "metadata": {
    "execution": {
     "iopub.execute_input": "2025-04-28T12:41:29.672410Z",
     "iopub.status.busy": "2025-04-28T12:41:29.672196Z",
     "iopub.status.idle": "2025-04-28T12:41:48.025090Z",
     "shell.execute_reply": "2025-04-28T12:41:48.024535Z"
    },
    "papermill": {
     "duration": 18.357354,
     "end_time": "2025-04-28T12:41:48.026315",
     "exception": false,
     "start_time": "2025-04-28T12:41:29.668961",
     "status": "completed"
    },
    "tags": []
   },
   "outputs": [
    {
     "name": "stdout",
     "output_type": "stream",
     "text": [
      "Found 13673 validated image filenames belonging to 8 classes.\n",
      "Found 1709 validated image filenames belonging to 8 classes.\n",
      "Found 1710 validated image filenames belonging to 8 classes.\n"
     ]
    }
   ],
   "source": [
    "data_generator = ImageDataGenerator(\n",
    "    preprocessing_function=preprocess_image2,\n",
    "    rotation_range=10,\n",
    "    shear_range=0.1,\n",
    "    zoom_range=0.05,\n",
    "    fill_mode='nearest',\n",
    ")\n",
    "test_data_generator = ImageDataGenerator(preprocessing_function=preprocess_image2)\n",
    "\n",
    "\n",
    "train_data = data_generator.flow_from_dataframe(train_dataframe, x_col='Class Path',\n",
    "                                  y_col='Class', batch_size=BATCH_SIZE,\n",
    "                                  target_size=IMG_SIZE, seed=42)\n",
    "\n",
    "validation_data = data_generator.flow_from_dataframe(Validation_dataframe, x_col='Class Path',\n",
    "                                     y_col='Class', batch_size=BATCH_SIZE,\n",
    "                                     target_size=IMG_SIZE, seed=42)\n",
    "\n",
    "test_data = test_data_generator.flow_from_dataframe(test_dataframe, x_col='Class Path',\n",
    "                                  y_col='Class', batch_size=BATCH_SIZE,\n",
    "                                  target_size=IMG_SIZE, shuffle=False, seed=42)"
   ]
  },
  {
   "cell_type": "code",
   "execution_count": 9,
   "id": "74f01a47",
   "metadata": {
    "execution": {
     "iopub.execute_input": "2025-04-28T12:41:48.033638Z",
     "iopub.status.busy": "2025-04-28T12:41:48.032975Z",
     "iopub.status.idle": "2025-04-28T12:41:48.038342Z",
     "shell.execute_reply": "2025-04-28T12:41:48.037817Z"
    },
    "papermill": {
     "duration": 0.009845,
     "end_time": "2025-04-28T12:41:48.039284",
     "exception": false,
     "start_time": "2025-04-28T12:41:48.029439",
     "status": "completed"
    },
    "tags": []
   },
   "outputs": [],
   "source": [
    "@tf.keras.utils.register_keras_serializable(package=\"Custom\", name=\"F1Score\")\n",
    "class F1Score(tf.keras.metrics.Metric):\n",
    "    def __init__(self, name='f1_score', **kwargs):\n",
    "        super().__init__(name=name, **kwargs)\n",
    "        self.precision = tf.keras.metrics.Precision()\n",
    "        self.recall = tf.keras.metrics.Recall()\n",
    "\n",
    "    def update_state(self, y_true, y_pred, sample_weight=None):\n",
    "        self.precision.update_state(y_true, y_pred, sample_weight)\n",
    "        self.recall.update_state(y_true, y_pred, sample_weight)\n",
    "\n",
    "    def result(self):\n",
    "        p = self.precision.result()\n",
    "        r = self.recall.result()\n",
    "        return 2 * (p * r) / (p + r + tf.keras.backend.epsilon())\n",
    "\n",
    "    def reset_states(self):\n",
    "        self.precision.reset_states()\n",
    "        self.recall.reset_states()"
   ]
  },
  {
   "cell_type": "code",
   "execution_count": 10,
   "id": "816e69a6",
   "metadata": {
    "execution": {
     "iopub.execute_input": "2025-04-28T12:41:48.045542Z",
     "iopub.status.busy": "2025-04-28T12:41:48.045311Z",
     "iopub.status.idle": "2025-04-28T12:41:53.155019Z",
     "shell.execute_reply": "2025-04-28T12:41:53.154480Z"
    },
    "papermill": {
     "duration": 5.114335,
     "end_time": "2025-04-28T12:41:53.156402",
     "exception": false,
     "start_time": "2025-04-28T12:41:48.042067",
     "status": "completed"
    },
    "tags": []
   },
   "outputs": [
    {
     "name": "stderr",
     "output_type": "stream",
     "text": [
      "I0000 00:00:1745844108.162785      19 gpu_device.cc:2022] Created device /job:localhost/replica:0/task:0/device:GPU:0 with 15513 MB memory:  -> device: 0, name: Tesla P100-PCIE-16GB, pci bus id: 0000:00:04.0, compute capability: 6.0\n"
     ]
    },
    {
     "name": "stdout",
     "output_type": "stream",
     "text": [
      "Downloading data from https://storage.googleapis.com/tensorflow/keras-applications/xception/xception_weights_tf_dim_ordering_tf_kernels_notop.h5\n",
      "\u001b[1m83683744/83683744\u001b[0m \u001b[32m━━━━━━━━━━━━━━━━━━━━\u001b[0m\u001b[37m\u001b[0m \u001b[1m3s\u001b[0m 0us/step\n"
     ]
    }
   ],
   "source": [
    "dropout_1_values = [0.20, 0.25, 0.30, 0.35]\n",
    "dropout_2_values = [0.20, 0.25, 0.30, 0.35]\n",
    "\n",
    "base_model = tf.keras.applications.Xception(include_top= False, weights= \"imagenet\",\n",
    "                            input_shape= img_shape, pooling= 'max')\n",
    "\n",
    "inputs = Input(shape = img_shape)\n",
    "x = base_model(inputs)\n",
    "x = Flatten()(x)\n",
    "x = Dropout(rate= dropout_1_values[1])(x)\n",
    "x = Dense(128, activation= 'relu')(x)\n",
    "x = Dropout(rate= dropout_2_values[1])(x)\n",
    "x = Dense(8, activation= 'softmax')(x)\n",
    "Xmodel = Model(inputs, x)\n",
    "\n",
    "base_model.trainable = True\n",
    "for layer in base_model.layers[:50]:\n",
    "    layer.trainable = False\n",
    "\n",
    "Xmodel.compile(Adamax(learning_rate= 0.001),\n",
    "              loss= 'categorical_crossentropy',\n",
    "              metrics= ['accuracy',\n",
    "                        Precision(name='precision'),\n",
    "                        Recall(name='recall'),\n",
    "                        F1Score()])"
   ]
  },
  {
   "cell_type": "code",
   "execution_count": 11,
   "id": "34d95f88",
   "metadata": {
    "execution": {
     "iopub.execute_input": "2025-04-28T12:41:53.167263Z",
     "iopub.status.busy": "2025-04-28T12:41:53.167067Z",
     "iopub.status.idle": "2025-04-28T12:41:53.175118Z",
     "shell.execute_reply": "2025-04-28T12:41:53.174644Z"
    },
    "papermill": {
     "duration": 0.014458,
     "end_time": "2025-04-28T12:41:53.176071",
     "exception": false,
     "start_time": "2025-04-28T12:41:53.161613",
     "status": "completed"
    },
    "tags": []
   },
   "outputs": [],
   "source": [
    "from tensorflow.keras.callbacks import Callback\n",
    "\n",
    "class RestoreBestValidationModel(Callback):\n",
    "    def __init__(self):\n",
    "        super(RestoreBestValidationModel, self).__init__()\n",
    "        self.best_val_acc = -1\n",
    "        self.best_epoch = -1\n",
    "        self.best_weights = None\n",
    "\n",
    "    def on_epoch_end(self, epoch, logs=None):\n",
    "        val_acc = logs.get('val_accuracy')\n",
    "        if val_acc is not None:\n",
    "            if val_acc > self.best_val_acc or (val_acc == self.best_val_acc and epoch > self.best_epoch):\n",
    "                self.best_val_acc = val_acc\n",
    "                self.best_epoch = epoch\n",
    "                self.best_weights = self.model.get_weights()  \n",
    "                print(f\"Model weights updated at epoch {epoch + 1} with val_accuracy: {val_acc:.4f}\")\n",
    "\n",
    "    def on_train_end(self, logs=None):\n",
    "        if self.best_weights is not None:\n",
    "            print(f\"Restoring model weights from best epoch {self.best_epoch + 1} with val_accuracy: {self.best_val_acc:.4f}\")\n",
    "            self.model.set_weights(self.best_weights)  \n",
    "\n",
    "restore_best = RestoreBestValidationModel()"
   ]
  },
  {
   "cell_type": "code",
   "execution_count": 12,
   "id": "c357d238",
   "metadata": {
    "execution": {
     "iopub.execute_input": "2025-04-28T12:41:53.186244Z",
     "iopub.status.busy": "2025-04-28T12:41:53.185605Z",
     "iopub.status.idle": "2025-04-28T13:12:40.182671Z",
     "shell.execute_reply": "2025-04-28T13:12:40.181845Z"
    },
    "papermill": {
     "duration": 1847.00322,
     "end_time": "2025-04-28T13:12:40.183854",
     "exception": false,
     "start_time": "2025-04-28T12:41:53.180634",
     "status": "completed"
    },
    "tags": []
   },
   "outputs": [
    {
     "name": "stdout",
     "output_type": "stream",
     "text": [
      "Epoch 1/10\n"
     ]
    },
    {
     "name": "stderr",
     "output_type": "stream",
     "text": [
      "WARNING: All log messages before absl::InitializeLog() is called are written to STDERR\n",
      "I0000 00:00:1745844137.340000      58 service.cc:148] XLA service 0x7ba5cc002120 initialized for platform CUDA (this does not guarantee that XLA will be used). Devices:\n",
      "I0000 00:00:1745844137.341145      58 service.cc:156]   StreamExecutor device (0): Tesla P100-PCIE-16GB, Compute Capability 6.0\n",
      "I0000 00:00:1745844139.312244      58 cuda_dnn.cc:529] Loaded cuDNN version 90300\n",
      "E0000 00:00:1745844144.838178      58 gpu_timer.cc:82] Delay kernel timed out: measured time has sub-optimal accuracy. There may be a missing warmup execution, please investigate in Nsight Systems.\n",
      "E0000 00:00:1745844145.026114      58 gpu_timer.cc:82] Delay kernel timed out: measured time has sub-optimal accuracy. There may be a missing warmup execution, please investigate in Nsight Systems.\n",
      "E0000 00:00:1745844145.937721      58 gpu_timer.cc:82] Delay kernel timed out: measured time has sub-optimal accuracy. There may be a missing warmup execution, please investigate in Nsight Systems.\n",
      "E0000 00:00:1745844146.138247      58 gpu_timer.cc:82] Delay kernel timed out: measured time has sub-optimal accuracy. There may be a missing warmup execution, please investigate in Nsight Systems.\n",
      "E0000 00:00:1745844146.566012      58 gpu_timer.cc:82] Delay kernel timed out: measured time has sub-optimal accuracy. There may be a missing warmup execution, please investigate in Nsight Systems.\n",
      "E0000 00:00:1745844146.793857      58 gpu_timer.cc:82] Delay kernel timed out: measured time has sub-optimal accuracy. There may be a missing warmup execution, please investigate in Nsight Systems.\n"
     ]
    },
    {
     "name": "stdout",
     "output_type": "stream",
     "text": [
      "\u001b[1m  1/428\u001b[0m \u001b[37m━━━━━━━━━━━━━━━━━━━━\u001b[0m \u001b[1m4:31:48\u001b[0m 38s/step - accuracy: 0.1562 - f1_score: 0.1111 - loss: 3.4955 - precision: 0.1364 - recall: 0.0938"
     ]
    },
    {
     "name": "stderr",
     "output_type": "stream",
     "text": [
      "I0000 00:00:1745844152.146797      58 device_compiler.h:188] Compiled cluster using XLA!  This line is logged at most once for the lifetime of the process.\n"
     ]
    },
    {
     "name": "stdout",
     "output_type": "stream",
     "text": [
      "\u001b[1m427/428\u001b[0m \u001b[32m━━━━━━━━━━━━━━━━━━━\u001b[0m\u001b[37m━\u001b[0m \u001b[1m0s\u001b[0m 426ms/step - accuracy: 0.6945 - f1_score: 0.6827 - loss: 0.8820 - precision: 0.8444 - recall: 0.5973"
     ]
    },
    {
     "name": "stderr",
     "output_type": "stream",
     "text": [
      "E0000 00:00:1745844337.552062      59 gpu_timer.cc:82] Delay kernel timed out: measured time has sub-optimal accuracy. There may be a missing warmup execution, please investigate in Nsight Systems.\n",
      "E0000 00:00:1745844337.738386      59 gpu_timer.cc:82] Delay kernel timed out: measured time has sub-optimal accuracy. There may be a missing warmup execution, please investigate in Nsight Systems.\n",
      "E0000 00:00:1745844338.229247      59 gpu_timer.cc:82] Delay kernel timed out: measured time has sub-optimal accuracy. There may be a missing warmup execution, please investigate in Nsight Systems.\n",
      "E0000 00:00:1745844338.429502      59 gpu_timer.cc:82] Delay kernel timed out: measured time has sub-optimal accuracy. There may be a missing warmup execution, please investigate in Nsight Systems.\n",
      "E0000 00:00:1745844338.832399      59 gpu_timer.cc:82] Delay kernel timed out: measured time has sub-optimal accuracy. There may be a missing warmup execution, please investigate in Nsight Systems.\n",
      "E0000 00:00:1745844339.058695      59 gpu_timer.cc:82] Delay kernel timed out: measured time has sub-optimal accuracy. There may be a missing warmup execution, please investigate in Nsight Systems.\n"
     ]
    },
    {
     "name": "stdout",
     "output_type": "stream",
     "text": [
      "\u001b[1m428/428\u001b[0m \u001b[32m━━━━━━━━━━━━━━━━━━━━\u001b[0m\u001b[37m\u001b[0m \u001b[1m0s\u001b[0m 450ms/step - accuracy: 0.6949 - f1_score: 0.6832 - loss: 0.8809 - precision: 0.8446 - recall: 0.5979Model weights updated at epoch 1 with val_accuracy: 0.9643\n",
      "\u001b[1m428/428\u001b[0m \u001b[32m━━━━━━━━━━━━━━━━━━━━\u001b[0m\u001b[37m\u001b[0m \u001b[1m260s\u001b[0m 519ms/step - accuracy: 0.6953 - f1_score: 0.6836 - loss: 0.8798 - precision: 0.8448 - recall: 0.5984 - val_accuracy: 0.9643 - val_f1_score: 0.9654 - val_loss: 0.1196 - val_precision: 0.9677 - val_recall: 0.9631\n",
      "Epoch 2/10\n",
      "\u001b[1m428/428\u001b[0m \u001b[32m━━━━━━━━━━━━━━━━━━━━\u001b[0m\u001b[37m\u001b[0m \u001b[1m176s\u001b[0m 412ms/step - accuracy: 0.9720 - f1_score: 0.9720 - loss: 0.0903 - precision: 0.9745 - recall: 0.9694 - val_accuracy: 0.9614 - val_f1_score: 0.9624 - val_loss: 0.1181 - val_precision: 0.9653 - val_recall: 0.9596\n",
      "Epoch 3/10\n",
      "\u001b[1m428/428\u001b[0m \u001b[32m━━━━━━━━━━━━━━━━━━━━\u001b[0m\u001b[37m\u001b[0m \u001b[1m173s\u001b[0m 403ms/step - accuracy: 0.9835 - f1_score: 0.9835 - loss: 0.0606 - precision: 0.9853 - recall: 0.9817 - val_accuracy: 0.9614 - val_f1_score: 0.9616 - val_loss: 0.1422 - val_precision: 0.9625 - val_recall: 0.9608\n",
      "Epoch 4/10\n",
      "\u001b[1m428/428\u001b[0m \u001b[32m━━━━━━━━━━━━━━━━━━━━\u001b[0m\u001b[37m\u001b[0m \u001b[1m0s\u001b[0m 358ms/step - accuracy: 0.9848 - f1_score: 0.9846 - loss: 0.0483 - precision: 0.9858 - recall: 0.9834Model weights updated at epoch 4 with val_accuracy: 0.9737\n",
      "\u001b[1m428/428\u001b[0m \u001b[32m━━━━━━━━━━━━━━━━━━━━\u001b[0m\u001b[37m\u001b[0m \u001b[1m173s\u001b[0m 403ms/step - accuracy: 0.9848 - f1_score: 0.9846 - loss: 0.0483 - precision: 0.9858 - recall: 0.9834 - val_accuracy: 0.9737 - val_f1_score: 0.9748 - val_loss: 0.0932 - val_precision: 0.9765 - val_recall: 0.9731\n",
      "Epoch 5/10\n",
      "\u001b[1m428/428\u001b[0m \u001b[32m━━━━━━━━━━━━━━━━━━━━\u001b[0m\u001b[37m\u001b[0m \u001b[1m0s\u001b[0m 372ms/step - accuracy: 0.9882 - f1_score: 0.9881 - loss: 0.0361 - precision: 0.9886 - recall: 0.9875Model weights updated at epoch 5 with val_accuracy: 0.9789\n",
      "\u001b[1m428/428\u001b[0m \u001b[32m━━━━━━━━━━━━━━━━━━━━\u001b[0m\u001b[37m\u001b[0m \u001b[1m179s\u001b[0m 417ms/step - accuracy: 0.9882 - f1_score: 0.9881 - loss: 0.0361 - precision: 0.9886 - recall: 0.9875 - val_accuracy: 0.9789 - val_f1_score: 0.9789 - val_loss: 0.0815 - val_precision: 0.9801 - val_recall: 0.9778\n",
      "Epoch 6/10\n",
      "\u001b[1m428/428\u001b[0m \u001b[32m━━━━━━━━━━━━━━━━━━━━\u001b[0m\u001b[37m\u001b[0m \u001b[1m174s\u001b[0m 406ms/step - accuracy: 0.9933 - f1_score: 0.9935 - loss: 0.0211 - precision: 0.9940 - recall: 0.9929 - val_accuracy: 0.9672 - val_f1_score: 0.9672 - val_loss: 0.1296 - val_precision: 0.9672 - val_recall: 0.9672\n",
      "Epoch 7/10\n",
      "\u001b[1m428/428\u001b[0m \u001b[32m━━━━━━━━━━━━━━━━━━━━\u001b[0m\u001b[37m\u001b[0m \u001b[1m0s\u001b[0m 370ms/step - accuracy: 0.9933 - f1_score: 0.9933 - loss: 0.0222 - precision: 0.9937 - recall: 0.9929Model weights updated at epoch 7 with val_accuracy: 0.9848\n",
      "\u001b[1m428/428\u001b[0m \u001b[32m━━━━━━━━━━━━━━━━━━━━\u001b[0m\u001b[37m\u001b[0m \u001b[1m178s\u001b[0m 415ms/step - accuracy: 0.9933 - f1_score: 0.9933 - loss: 0.0222 - precision: 0.9937 - recall: 0.9929 - val_accuracy: 0.9848 - val_f1_score: 0.9839 - val_loss: 0.0639 - val_precision: 0.9848 - val_recall: 0.9830\n",
      "Epoch 8/10\n",
      "\u001b[1m428/428\u001b[0m \u001b[32m━━━━━━━━━━━━━━━━━━━━\u001b[0m\u001b[37m\u001b[0m \u001b[1m174s\u001b[0m 407ms/step - accuracy: 0.9957 - f1_score: 0.9958 - loss: 0.0165 - precision: 0.9960 - recall: 0.9956 - val_accuracy: 0.9778 - val_f1_score: 0.9781 - val_loss: 0.1042 - val_precision: 0.9783 - val_recall: 0.9778\n",
      "Epoch 9/10\n",
      "\u001b[1m428/428\u001b[0m \u001b[32m━━━━━━━━━━━━━━━━━━━━\u001b[0m\u001b[37m\u001b[0m \u001b[1m181s\u001b[0m 422ms/step - accuracy: 0.9959 - f1_score: 0.9960 - loss: 0.0176 - precision: 0.9964 - recall: 0.9955 - val_accuracy: 0.9696 - val_f1_score: 0.9704 - val_loss: 0.1617 - val_precision: 0.9713 - val_recall: 0.9696\n",
      "Epoch 10/10\n",
      "\u001b[1m428/428\u001b[0m \u001b[32m━━━━━━━━━━━━━━━━━━━━\u001b[0m\u001b[37m\u001b[0m \u001b[1m178s\u001b[0m 416ms/step - accuracy: 0.9945 - f1_score: 0.9944 - loss: 0.0134 - precision: 0.9946 - recall: 0.9942 - val_accuracy: 0.9772 - val_f1_score: 0.9775 - val_loss: 0.0877 - val_precision: 0.9778 - val_recall: 0.9772\n",
      "Restoring model weights from best epoch 7 with val_accuracy: 0.9848\n"
     ]
    }
   ],
   "source": [
    "history_X = Xmodel.fit(train_data,\n",
    "                 epochs=EPOCH,             \n",
    "                 validation_data=validation_data,\n",
    "                 callbacks=[restore_best],\n",
    "                 shuffle= False)"
   ]
  },
  {
   "cell_type": "code",
   "execution_count": 13,
   "id": "942a0ba9",
   "metadata": {
    "execution": {
     "iopub.execute_input": "2025-04-28T13:12:40.553702Z",
     "iopub.status.busy": "2025-04-28T13:12:40.552941Z",
     "iopub.status.idle": "2025-04-28T13:12:40.561249Z",
     "shell.execute_reply": "2025-04-28T13:12:40.560415Z"
    },
    "papermill": {
     "duration": 0.192647,
     "end_time": "2025-04-28T13:12:40.562285",
     "exception": false,
     "start_time": "2025-04-28T13:12:40.369638",
     "status": "completed"
    },
    "tags": []
   },
   "outputs": [
    {
     "name": "stdout",
     "output_type": "stream",
     "text": [
      "Lowest Loss: 0.06392605602741241 at index 6\n",
      "Highest Accuracy: 0.9847864508628845 at index 6\n",
      "Highest Precision: 0.9847596883773804 at index 6\n",
      "Highest Recall: 0.9830310344696045 at index 6\n",
      "Highest F1-score: 0.9838945269584656 at index 6\n"
     ]
    }
   ],
   "source": [
    "# Extract metrics for XCEPTION MODEL\n",
    "tr_acc_X = history_X.history['accuracy']\n",
    "tr_loss_X = history_X.history['loss']\n",
    "tr_per_X = history_X.history['precision']\n",
    "tr_recall_X = history_X.history['recall']\n",
    "tr_fscore_X = history_X.history['f1_score']\n",
    "val_acc_X = history_X.history['val_accuracy']\n",
    "val_loss_X = history_X.history['val_loss']\n",
    "val_per_X = history_X.history['val_precision']\n",
    "val_recall_X = history_X.history['val_recall']\n",
    "val_fscore_X = history_X.history['val_f1_score']\n",
    "\n",
    "# Get the best epochs for each metric\n",
    "index_loss_X = np.argmin(val_loss_X)\n",
    "loss_lowest_X = val_loss_X[index_loss_X]\n",
    "index_acc_X = np.argmax(val_acc_X)\n",
    "acc_highest_X = val_acc_X[index_acc_X]\n",
    "index_precision_X = np.argmax(val_per_X)\n",
    "pre_highest_X = val_per_X[index_precision_X]\n",
    "index_recall_X = np.argmax(val_recall_X)\n",
    "recall_highest_X = val_recall_X[index_recall_X]\n",
    "index_fscore_X = np.argmax(val_fscore_X)\n",
    "fscore_highest_X = val_fscore_X[index_fscore_X]\n",
    "\n",
    "# Print results\n",
    "print(f\"Lowest Loss: {loss_lowest_X} at index {index_loss_X}\")\n",
    "print(f\"Highest Accuracy: {acc_highest_X} at index {index_acc_X}\")\n",
    "print(f\"Highest Precision: {pre_highest_X} at index {index_precision_X}\")\n",
    "print(f\"Highest Recall: {recall_highest_X} at index {index_recall_X}\")\n",
    "print(f\"Highest F1-score: {fscore_highest_X} at index {index_fscore_X}\")\n",
    "\n",
    "# Epochs for plotting\n",
    "Epochs_X = [i + 1 for i in range(len(tr_acc_X))]\n",
    "\n",
    "# Define a modern style\n",
    "plt.style.use('ggplot')"
   ]
  },
  {
   "cell_type": "code",
   "execution_count": 14,
   "id": "8d7b51de",
   "metadata": {
    "execution": {
     "iopub.execute_input": "2025-04-28T13:12:40.928418Z",
     "iopub.status.busy": "2025-04-28T13:12:40.928119Z",
     "iopub.status.idle": "2025-04-28T13:12:41.211103Z",
     "shell.execute_reply": "2025-04-28T13:12:41.210411Z"
    },
    "papermill": {
     "duration": 0.467775,
     "end_time": "2025-04-28T13:12:41.212818",
     "exception": false,
     "start_time": "2025-04-28T13:12:40.745043",
     "status": "completed"
    },
    "tags": []
   },
   "outputs": [
    {
     "data": {
      "image/png": "[encoded data removed]",
      "text/plain": [
       "<Figure size 1000x600 with 1 Axes>"
      ]
     },
     "metadata": {},
     "output_type": "display_data"
    },
    {
     "name": "stdout",
     "output_type": "stream",
     "text": [
      "6\n"
     ]
    }
   ],
   "source": [
    "# Plot Training and Validation Loss\n",
    "plt.figure(figsize=(10, 6))\n",
    "plt.plot(Epochs_X, tr_loss_X, color='red', label='Training Loss', linewidth=2)\n",
    "plt.plot(Epochs_X, val_loss_X, color='green', label='Validation Loss', linestyle='--', linewidth=2)\n",
    "plt.scatter(index_loss_X + 1, loss_lowest_X, s=150, c='blue', label=f'Best epoch = {index_loss_X + 1}', edgecolors='black')\n",
    "plt.title('Training and Validation Loss', fontsize=14, fontweight='bold')\n",
    "plt.xlabel('Epochs', fontsize=12)\n",
    "plt.ylabel('Loss', fontsize=12)\n",
    "plt.legend(fontsize=10)\n",
    "plt.grid(visible=True, linestyle='--', alpha=0.5)\n",
    "plt.show()\n",
    "\n",
    "print(np.argmin(val_loss_X))"
   ]
  },
  {
   "cell_type": "code",
   "execution_count": 15,
   "id": "fbcd2cbd",
   "metadata": {
    "execution": {
     "iopub.execute_input": "2025-04-28T13:12:41.630761Z",
     "iopub.status.busy": "2025-04-28T13:12:41.630490Z",
     "iopub.status.idle": "2025-04-28T13:12:41.827845Z",
     "shell.execute_reply": "2025-04-28T13:12:41.827096Z"
    },
    "papermill": {
     "duration": 0.433774,
     "end_time": "2025-04-28T13:12:41.828988",
     "exception": false,
     "start_time": "2025-04-28T13:12:41.395214",
     "status": "completed"
    },
    "tags": []
   },
   "outputs": [
    {
     "data": {
      "image/png": "[encoded data removed]",
      "text/plain": [
       "<Figure size 1000x600 with 1 Axes>"
      ]
     },
     "metadata": {},
     "output_type": "display_data"
    }
   ],
   "source": [
    "# Plot Training and Validation Accuracy\n",
    "plt.figure(figsize=(10, 6))\n",
    "plt.plot(Epochs_X, tr_acc_X, color='purple', label='Training Accuracy', linewidth=2)\n",
    "plt.plot(Epochs_X, val_acc_X, color='orange', label='Validation Accuracy', linestyle='--', linewidth=2)\n",
    "plt.scatter(index_acc_X + 1, acc_highest_X, s=150, c='blue', label=f'Best epoch = {index_acc_X + 1}', edgecolors='black')\n",
    "plt.title('Training and Validation Accuracy', fontsize=14, fontweight='bold')\n",
    "plt.xlabel('Epochs', fontsize=12)\n",
    "plt.ylabel('Accuracy', fontsize=12)\n",
    "plt.legend(fontsize=10)\n",
    "plt.grid(visible=True, linestyle='--', alpha=0.5)\n",
    "plt.show()"
   ]
  }
 ],
 "metadata": {
  "kaggle": {
   "accelerator": "gpu",
   "dataSources": [
    {
     "datasetId": 7275041,
     "sourceId": 11600142,
     "sourceType": "datasetVersion"
    }
   ],
   "isGpuEnabled": true,
   "isInternetEnabled": true,
   "language": "python",
   "sourceType": "notebook"
  },
  "kernelspec": {
   "display_name": "py310",
   "language": "python",
   "name": "python3"
  },
  "language_info": {
   "codemirror_mode": {
    "name": "ipython",
    "version": 3
   },
   "file_extension": ".py",
   "mimetype": "text/x-python",
   "name": "python",
   "nbconvert_exporter": "python",
   "pygments_lexer": "ipython3",
   "version": "3.11.11"
  },
  "papermill": {
   "default_parameters": {},
   "duration": 1904.157756,
   "end_time": "2025-04-28T13:12:45.493264",
   "environment_variables": {},
   "exception": null,
   "input_path": "__notebook__.ipynb",
   "output_path": "__notebook__.ipynb",
   "parameters": {},
   "start_time": "2025-04-28T12:41:01.335508",
   "version": "2.6.0"
  }
 },
 "nbformat": 4,
 "nbformat_minor": 5
}
