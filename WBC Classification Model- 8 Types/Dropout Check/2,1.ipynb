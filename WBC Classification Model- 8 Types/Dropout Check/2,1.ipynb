{
 "cells": [
  {
   "cell_type": "code",
   "execution_count": 1,
   "id": "8ca61d4e",
   "metadata": {
    "execution": {
     "iopub.execute_input": "2025-04-28T12:19:14.859114Z",
     "iopub.status.busy": "2025-04-28T12:19:14.858830Z",
     "iopub.status.idle": "2025-04-28T12:19:35.510324Z",
     "shell.execute_reply": "2025-04-28T12:19:35.509499Z"
    },
    "papermill": {
     "duration": 20.657405,
     "end_time": "2025-04-28T12:19:35.511810",
     "exception": false,
     "start_time": "2025-04-28T12:19:14.854405",
     "status": "completed"
    },
    "tags": []
   },
   "outputs": [
    {
     "name": "stderr",
     "output_type": "stream",
     "text": [
      "2025-04-28 12:19:19.316712: E external/local_xla/xla/stream_executor/cuda/cuda_fft.cc:477] Unable to register cuFFT factory: Attempting to register factory for plugin cuFFT when one has already been registered\n",
      "WARNING: All log messages before absl::InitializeLog() is called are written to STDERR\n",
      "E0000 00:00:1745842759.510096      19 cuda_dnn.cc:8310] Unable to register cuDNN factory: Attempting to register factory for plugin cuDNN when one has already been registered\n",
      "E0000 00:00:1745842759.566039      19 cuda_blas.cc:1418] Unable to register cuBLAS factory: Attempting to register factory for plugin cuBLAS when one has already been registered\n"
     ]
    }
   ],
   "source": [
    "import os\n",
    "import numpy as np\n",
    "import pandas as pd\n",
    "import matplotlib.pyplot as plt\n",
    "import seaborn as sns\n",
    "import warnings\n",
    "warnings.filterwarnings(\"ignore\")\n",
    "\n",
    "# TensorFlow & Keras\n",
    "import tensorflow as tf\n",
    "from tensorflow.keras.models import Model\n",
    "from tensorflow.keras.utils import plot_model\n",
    "from tensorflow.keras.layers import Input, Concatenate\n",
    "from tensorflow.keras.layers import (Input, Dense, Flatten, Dropout, GlobalAveragePooling2D)\n",
    "from tensorflow.keras.applications import Xception, DenseNet121, InceptionV3\n",
    "from tensorflow.keras.optimizers import Adamax, Adam\n",
    "from tensorflow.keras.preprocessing.image import ImageDataGenerator\n",
    "from tensorflow.keras.metrics import Precision, Recall\n",
    "\n",
    "# Scikit-Learn\n",
    "from sklearn.model_selection import train_test_split, GridSearchCV, StratifiedKFold\n",
    "from sklearn.preprocessing import StandardScaler\n",
    "from sklearn.pipeline import Pipeline\n",
    "from sklearn.feature_selection import SelectKBest, SelectFromModel, f_classif\n",
    "from sklearn.linear_model import SGDClassifier, LogisticRegression\n",
    "from sklearn.svm import SVC\n",
    "from sklearn.neighbors import KNeighborsClassifier\n",
    "from sklearn.tree import DecisionTreeClassifier\n",
    "from sklearn.naive_bayes import GaussianNB\n",
    "from sklearn.neural_network import MLPClassifier\n",
    "from sklearn.ensemble import (\n",
    "    RandomForestClassifier, GradientBoostingClassifier, AdaBoostClassifier, \n",
    "    ExtraTreesClassifier, VotingClassifier, StackingClassifier\n",
    ")\n",
    "\n",
    "# Boosting Libraries\n",
    "from xgboost import XGBClassifier\n",
    "from lightgbm import LGBMClassifier\n",
    "\n",
    "# Evaluation Metrics\n",
    "from sklearn.metrics import (\n",
    "    accuracy_score, precision_score, recall_score, f1_score, confusion_matrix, ConfusionMatrixDisplay\n",
    ")\n",
    "\n",
    "#for parallel threading\n",
    "from joblib import parallel_backend\n",
    "import cv2\n",
    "\n",
    "#Model saving to disk\n",
    "import pickle\n",
    "\n",
    "# Suppress warnings\n",
    "warnings.filterwarnings(\"ignore\")"
   ]
  },
  {
   "cell_type": "code",
   "execution_count": 2,
   "id": "565a15b1",
   "metadata": {
    "execution": {
     "iopub.execute_input": "2025-04-28T12:19:35.519293Z",
     "iopub.status.busy": "2025-04-28T12:19:35.518304Z",
     "iopub.status.idle": "2025-04-28T12:19:36.569442Z",
     "shell.execute_reply": "2025-04-28T12:19:36.568470Z"
    },
    "papermill": {
     "duration": 1.055953,
     "end_time": "2025-04-28T12:19:36.570961",
     "exception": false,
     "start_time": "2025-04-28T12:19:35.515008",
     "status": "completed"
    },
    "tags": []
   },
   "outputs": [
    {
     "name": "stdout",
     "output_type": "stream",
     "text": [
      "GPUs detected: 1\n"
     ]
    }
   ],
   "source": [
    "gpus = tf.config.list_physical_devices('GPU')\n",
    "if gpus:\n",
    "    try:\n",
    "        for gpu in gpus:\n",
    "            tf.config.experimental.set_memory_growth(gpu, True)\n",
    "        print(f\"GPUs detected: {len(gpus)}\")\n",
    "    except RuntimeError as e:\n",
    "        print(f\"Error setting GPU memory growth: {e}\")\n",
    "else:\n",
    "    print(\"No GPUs detected.\")"
   ]
  },
  {
   "cell_type": "code",
   "execution_count": 3,
   "id": "ca35672a",
   "metadata": {
    "execution": {
     "iopub.execute_input": "2025-04-28T12:19:36.579279Z",
     "iopub.status.busy": "2025-04-28T12:19:36.578957Z",
     "iopub.status.idle": "2025-04-28T12:19:36.583930Z",
     "shell.execute_reply": "2025-04-28T12:19:36.583209Z"
    },
    "papermill": {
     "duration": 0.010066,
     "end_time": "2025-04-28T12:19:36.584969",
     "exception": false,
     "start_time": "2025-04-28T12:19:36.574903",
     "status": "completed"
    },
    "tags": []
   },
   "outputs": [],
   "source": [
    "def data_frame(path):\n",
    "    class_paths = []\n",
    "    classes = []\n",
    "\n",
    "    for label in os.listdir(path):\n",
    "        class_dir = os.path.join(path, label)\n",
    "        if os.path.isdir(class_dir):  # Ensure it's a directory\n",
    "            for image in os.listdir(class_dir):\n",
    "                class_paths.append(os.path.join(class_dir, image))\n",
    "                classes.append(label)\n",
    "\n",
    "    df = pd.DataFrame({'Class Path': class_paths, 'Class': classes})\n",
    "    return df"
   ]
  },
  {
   "cell_type": "code",
   "execution_count": 4,
   "id": "015c4e3e",
   "metadata": {
    "execution": {
     "iopub.execute_input": "2025-04-28T12:19:36.593591Z",
     "iopub.status.busy": "2025-04-28T12:19:36.593292Z",
     "iopub.status.idle": "2025-04-28T12:19:36.809327Z",
     "shell.execute_reply": "2025-04-28T12:19:36.808394Z"
    },
    "papermill": {
     "duration": 0.222447,
     "end_time": "2025-04-28T12:19:36.810512",
     "exception": false,
     "start_time": "2025-04-28T12:19:36.588065",
     "status": "completed"
    },
    "tags": []
   },
   "outputs": [
    {
     "name": "stdout",
     "output_type": "stream",
     "text": [
      "Train size: 13673, Validation size: 1709, Test size: 1710\n"
     ]
    }
   ],
   "source": [
    "dataframe = data_frame('/kaggle/input/blood-mining/bloodcells_dataset')\n",
    "from sklearn.model_selection import train_test_split\n",
    "train_dataframe, temp_dataframe = train_test_split(dataframe, \n",
    "                                                   test_size=0.2, \n",
    "                                                   random_state=42, \n",
    "                                                   stratify=dataframe['Class'])\n",
    "Validation_dataframe, test_dataframe = train_test_split(temp_dataframe, \n",
    "                                                        test_size=0.5, \n",
    "                                                        random_state=42, \n",
    "                                                        stratify=temp_dataframe['Class'])\n",
    "print(f\"Train size: {len(train_dataframe)}, Validation size: {len(Validation_dataframe)}, Test size: {len(test_dataframe)}\")"
   ]
  },
  {
   "cell_type": "code",
   "execution_count": 5,
   "id": "0b3fab58",
   "metadata": {
    "execution": {
     "iopub.execute_input": "2025-04-28T12:19:36.817234Z",
     "iopub.status.busy": "2025-04-28T12:19:36.816989Z",
     "iopub.status.idle": "2025-04-28T12:19:36.820594Z",
     "shell.execute_reply": "2025-04-28T12:19:36.820068Z"
    },
    "papermill": {
     "duration": 0.007877,
     "end_time": "2025-04-28T12:19:36.821590",
     "exception": false,
     "start_time": "2025-04-28T12:19:36.813713",
     "status": "completed"
    },
    "tags": []
   },
   "outputs": [],
   "source": [
    "BATCH_SIZE = 32\n",
    "IMG_SIZE = (224, 224)\n",
    "EPOCH = 10\n",
    "img_shape=(224,224,3)\n",
    "labels = [\n",
    "    \"basophil\",\n",
    "    \"eosinophil\",\n",
    "    \"erythroblast\",\n",
    "    \"ig\",\n",
    "    \"lymphocyte\",\n",
    "    \"monocyte\",\n",
    "    \"neutrophil\",\n",
    "    \"platelet\"\n",
    "]"
   ]
  },
  {
   "cell_type": "code",
   "execution_count": 6,
   "id": "7bee699d",
   "metadata": {
    "execution": {
     "iopub.execute_input": "2025-04-28T12:19:36.827594Z",
     "iopub.status.busy": "2025-04-28T12:19:36.827376Z",
     "iopub.status.idle": "2025-04-28T12:19:36.832687Z",
     "shell.execute_reply": "2025-04-28T12:19:36.831913Z"
    },
    "papermill": {
     "duration": 0.00955,
     "end_time": "2025-04-28T12:19:36.833786",
     "exception": false,
     "start_time": "2025-04-28T12:19:36.824236",
     "status": "completed"
    },
    "tags": []
   },
   "outputs": [],
   "source": [
    "def apply_clahe(img):\n",
    "    \"\"\"Apply CLAHE after Adaptive Gray World Normalization.\"\"\"\n",
    "    lab = cv2.cvtColor(img, cv2.COLOR_RGB2LAB)\n",
    "    l, a, b = cv2.split(lab)\n",
    "    clahe = cv2.createCLAHE(clipLimit=0.03, tileGridSize=(8,8))\n",
    "    l = clahe.apply(l)\n",
    "    clahe_img = cv2.merge((l, a, b))\n",
    "    return cv2.cvtColor(clahe_img, cv2.COLOR_LAB2RGB)\n",
    "\n",
    "def preprocess_image(img):\n",
    "    \"\"\"First apply Adaptive Gray World, then CLAHE (No Normalization).\"\"\"\n",
    "    img = img.astype(np.uint8)  # Ensure correct data type\n",
    "    img = apply_clahe(img)  # Step 2: CLAHE\n",
    "    img = (img - np.mean(img)) / (np.std(img) + 1e-8) # step: 3: z score normalization\n",
    "    return img  "
   ]
  },
  {
   "cell_type": "code",
   "execution_count": 7,
   "id": "153d2aa1",
   "metadata": {
    "execution": {
     "iopub.execute_input": "2025-04-28T12:19:36.839810Z",
     "iopub.status.busy": "2025-04-28T12:19:36.839609Z",
     "iopub.status.idle": "2025-04-28T12:19:36.843088Z",
     "shell.execute_reply": "2025-04-28T12:19:36.842598Z"
    },
    "papermill": {
     "duration": 0.00769,
     "end_time": "2025-04-28T12:19:36.844218",
     "exception": false,
     "start_time": "2025-04-28T12:19:36.836528",
     "status": "completed"
    },
    "tags": []
   },
   "outputs": [],
   "source": [
    "def preprocess_image2(image):\n",
    "    # Convert to float32\n",
    "    img = image.astype(np.float32)\n",
    "\n",
    "    # Apply Z-score Normalization\n",
    "    #img = (img - np.mean(img)) / (np.std(img) + 1e-8)\n",
    "\n",
    "    # Min-Max Scaling (for CLAHE)\n",
    "    img = (img - np.min(img)) / (np.ptp(img) + 1e-8)  # np.ptp = max - min\n",
    "    #img = (img * 255).astype(np.uint8)  # Convert to uint8 for CLAHE\n",
    "\n",
    "    # Apply CLAHE to each channel independently\n",
    "    #clahe = cv2.createCLAHE(clipLimit=0.02, tileGridSize=(8, 8))\n",
    "    #img_clahe = np.zeros_like(img)\n",
    "    \n",
    "    #for i in range(3):  # Apply CLAHE on each channel separately\n",
    "        #img_clahe[..., i] = clahe.apply(img[..., i])\n",
    "\n",
    "    # Convert back to float32 (normalize to [0,1])\n",
    "    #img_clahe = img_clahe.astype(np.float32) / 255.0  \n",
    "\n",
    "    return img"
   ]
  },
  {
   "cell_type": "code",
   "execution_count": 8,
   "id": "da2b4282",
   "metadata": {
    "execution": {
     "iopub.execute_input": "2025-04-28T12:19:36.850230Z",
     "iopub.status.busy": "2025-04-28T12:19:36.850014Z",
     "iopub.status.idle": "2025-04-28T12:19:59.117707Z",
     "shell.execute_reply": "2025-04-28T12:19:59.117069Z"
    },
    "papermill": {
     "duration": 22.272131,
     "end_time": "2025-04-28T12:19:59.118896",
     "exception": false,
     "start_time": "2025-04-28T12:19:36.846765",
     "status": "completed"
    },
    "tags": []
   },
   "outputs": [
    {
     "name": "stdout",
     "output_type": "stream",
     "text": [
      "Found 13673 validated image filenames belonging to 8 classes.\n",
      "Found 1709 validated image filenames belonging to 8 classes.\n",
      "Found 1710 validated image filenames belonging to 8 classes.\n"
     ]
    }
   ],
   "source": [
    "data_generator = ImageDataGenerator(\n",
    "    preprocessing_function=preprocess_image2,\n",
    "    rotation_range=10,\n",
    "    shear_range=0.1,\n",
    "    zoom_range=0.05,\n",
    "    fill_mode='nearest',\n",
    ")\n",
    "test_data_generator = ImageDataGenerator(preprocessing_function=preprocess_image2)\n",
    "\n",
    "\n",
    "train_data = data_generator.flow_from_dataframe(train_dataframe, x_col='Class Path',\n",
    "                                  y_col='Class', batch_size=BATCH_SIZE,\n",
    "                                  target_size=IMG_SIZE, seed=42)\n",
    "\n",
    "validation_data = data_generator.flow_from_dataframe(Validation_dataframe, x_col='Class Path',\n",
    "                                     y_col='Class', batch_size=BATCH_SIZE,\n",
    "                                     target_size=IMG_SIZE, seed=42)\n",
    "\n",
    "test_data = test_data_generator.flow_from_dataframe(test_dataframe, x_col='Class Path',\n",
    "                                  y_col='Class', batch_size=BATCH_SIZE,\n",
    "                                  target_size=IMG_SIZE, shuffle=False, seed=42)"
   ]
  },
  {
   "cell_type": "code",
   "execution_count": 9,
   "id": "630eaddc",
   "metadata": {
    "execution": {
     "iopub.execute_input": "2025-04-28T12:19:59.125836Z",
     "iopub.status.busy": "2025-04-28T12:19:59.125595Z",
     "iopub.status.idle": "2025-04-28T12:19:59.130805Z",
     "shell.execute_reply": "2025-04-28T12:19:59.130299Z"
    },
    "papermill": {
     "duration": 0.009831,
     "end_time": "2025-04-28T12:19:59.131881",
     "exception": false,
     "start_time": "2025-04-28T12:19:59.122050",
     "status": "completed"
    },
    "tags": []
   },
   "outputs": [],
   "source": [
    "@tf.keras.utils.register_keras_serializable(package=\"Custom\", name=\"F1Score\")\n",
    "class F1Score(tf.keras.metrics.Metric):\n",
    "    def __init__(self, name='f1_score', **kwargs):\n",
    "        super().__init__(name=name, **kwargs)\n",
    "        self.precision = tf.keras.metrics.Precision()\n",
    "        self.recall = tf.keras.metrics.Recall()\n",
    "\n",
    "    def update_state(self, y_true, y_pred, sample_weight=None):\n",
    "        self.precision.update_state(y_true, y_pred, sample_weight)\n",
    "        self.recall.update_state(y_true, y_pred, sample_weight)\n",
    "\n",
    "    def result(self):\n",
    "        p = self.precision.result()\n",
    "        r = self.recall.result()\n",
    "        return 2 * (p * r) / (p + r + tf.keras.backend.epsilon())\n",
    "\n",
    "    def reset_states(self):\n",
    "        self.precision.reset_states()\n",
    "        self.recall.reset_states()"
   ]
  },
  {
   "cell_type": "code",
   "execution_count": null,
   "id": "149b1f1d",
   "metadata": {
    "execution": {
     "iopub.execute_input": "2025-04-28T12:19:59.138231Z",
     "iopub.status.busy": "2025-04-28T12:19:59.138004Z",
     "iopub.status.idle": "2025-04-28T12:20:05.217548Z",
     "shell.execute_reply": "2025-04-28T12:20:05.216771Z"
    },
    "papermill": {
     "duration": 6.084294,
     "end_time": "2025-04-28T12:20:05.219026",
     "exception": false,
     "start_time": "2025-04-28T12:19:59.134732",
     "status": "completed"
    },
    "tags": []
   },
   "outputs": [
    {
     "name": "stderr",
     "output_type": "stream",
     "text": [
      "I0000 00:00:1745842799.259349      19 gpu_device.cc:2022] Created device /job:localhost/replica:0/task:0/device:GPU:0 with 15513 MB memory:  -> device: 0, name: Tesla P100-PCIE-16GB, pci bus id: 0000:00:04.0, compute capability: 6.0\n"
     ]
    },
    {
     "name": "stdout",
     "output_type": "stream",
     "text": [
      "Downloading data from https://storage.googleapis.com/tensorflow/keras-applications/xception/xception_weights_tf_dim_ordering_tf_kernels_notop.h5\n",
      "\u001b[1m83683744/83683744\u001b[0m \u001b[32m━━━━━━━━━━━━━━━━━━━━\u001b[0m\u001b[37m\u001b[0m \u001b[1m3s\u001b[0m 0us/step\n"
     ]
    }
   ],
   "source": [
    "dropout_1_values = [0.20, 0.25, 0.30, 0.35]\n",
    "dropout_2_values = [0.20, 0.25, 0.30, 0.35]\n",
    "\n",
    "base_model = tf.keras.applications.Xception(include_top= False, weights= \"imagenet\",\n",
    "                            input_shape= img_shape, pooling= 'max')\n",
    "\n",
    "inputs = Input(shape = img_shape)\n",
    "x = base_model(inputs)\n",
    "x = Flatten()(x)\n",
    "x = Dropout(rate= dropout_1_values[2])(x)\n",
    "x = Dense(128, activation= 'relu')(x)\n",
    "x = Dropout(rate= dropout_2_values[1])(x)\n",
    "x = Dense(8, activation= 'softmax')(x)\n",
    "Xmodel = Model(inputs, x)\n",
    "\n",
    "base_model.trainable = True\n",
    "for layer in base_model.layers[:50]:\n",
    "    layer.trainable = False\n",
    "\n",
    "Xmodel.compile(Adamax(learning_rate= 0.001),\n",
    "              loss= 'categorical_crossentropy',\n",
    "              metrics= ['accuracy',\n",
    "                        Precision(name='precision'),\n",
    "                        Recall(name='recall'),\n",
    "                        F1Score()])"
   ]
  },
  {
   "cell_type": "code",
   "execution_count": 11,
   "id": "f22b348f",
   "metadata": {
    "execution": {
     "iopub.execute_input": "2025-04-28T12:20:05.231837Z",
     "iopub.status.busy": "2025-04-28T12:20:05.231612Z",
     "iopub.status.idle": "2025-04-28T12:20:05.238956Z",
     "shell.execute_reply": "2025-04-28T12:20:05.238422Z"
    },
    "papermill": {
     "duration": 0.014477,
     "end_time": "2025-04-28T12:20:05.239959",
     "exception": false,
     "start_time": "2025-04-28T12:20:05.225482",
     "status": "completed"
    },
    "tags": []
   },
   "outputs": [],
   "source": [
    "from tensorflow.keras.callbacks import Callback\n",
    "\n",
    "class RestoreBestValidationModel(Callback):\n",
    "    def __init__(self):\n",
    "        super(RestoreBestValidationModel, self).__init__()\n",
    "        self.best_val_acc = -1\n",
    "        self.best_epoch = -1\n",
    "        self.best_weights = None\n",
    "\n",
    "    def on_epoch_end(self, epoch, logs=None):\n",
    "        val_acc = logs.get('val_accuracy')\n",
    "        if val_acc is not None:\n",
    "            if val_acc > self.best_val_acc or (val_acc == self.best_val_acc and epoch > self.best_epoch):\n",
    "                self.best_val_acc = val_acc\n",
    "                self.best_epoch = epoch\n",
    "                self.best_weights = self.model.get_weights()  \n",
    "                print(f\"Model weights updated at epoch {epoch + 1} with val_accuracy: {val_acc:.4f}\")\n",
    "\n",
    "    def on_train_end(self, logs=None):\n",
    "        if self.best_weights is not None:\n",
    "            print(f\"Restoring model weights from best epoch {self.best_epoch + 1} with val_accuracy: {self.best_val_acc:.4f}\")\n",
    "            self.model.set_weights(self.best_weights)  \n",
    "\n",
    "restore_best = RestoreBestValidationModel()"
   ]
  },
  {
   "cell_type": "code",
   "execution_count": 12,
   "id": "2d2dad99",
   "metadata": {
    "execution": {
     "iopub.execute_input": "2025-04-28T12:20:05.251691Z",
     "iopub.status.busy": "2025-04-28T12:20:05.251487Z",
     "iopub.status.idle": "2025-04-28T12:50:51.498158Z",
     "shell.execute_reply": "2025-04-28T12:50:51.497387Z"
    },
    "papermill": {
     "duration": 1846.254337,
     "end_time": "2025-04-28T12:50:51.499523",
     "exception": false,
     "start_time": "2025-04-28T12:20:05.245186",
     "status": "completed"
    },
    "tags": []
   },
   "outputs": [
    {
     "name": "stdout",
     "output_type": "stream",
     "text": [
      "Epoch 1/10\n"
     ]
    },
    {
     "name": "stderr",
     "output_type": "stream",
     "text": [
      "WARNING: All log messages before absl::InitializeLog() is called are written to STDERR\n",
      "I0000 00:00:1745842830.019120      61 service.cc:148] XLA service 0x7b6ec0004110 initialized for platform CUDA (this does not guarantee that XLA will be used). Devices:\n",
      "I0000 00:00:1745842830.019763      61 service.cc:156]   StreamExecutor device (0): Tesla P100-PCIE-16GB, Compute Capability 6.0\n",
      "I0000 00:00:1745842832.038602      61 cuda_dnn.cc:529] Loaded cuDNN version 90300\n",
      "E0000 00:00:1745842837.676891      61 gpu_timer.cc:82] Delay kernel timed out: measured time has sub-optimal accuracy. There may be a missing warmup execution, please investigate in Nsight Systems.\n",
      "E0000 00:00:1745842837.864341      61 gpu_timer.cc:82] Delay kernel timed out: measured time has sub-optimal accuracy. There may be a missing warmup execution, please investigate in Nsight Systems.\n",
      "E0000 00:00:1745842838.768477      61 gpu_timer.cc:82] Delay kernel timed out: measured time has sub-optimal accuracy. There may be a missing warmup execution, please investigate in Nsight Systems.\n",
      "E0000 00:00:1745842838.969442      61 gpu_timer.cc:82] Delay kernel timed out: measured time has sub-optimal accuracy. There may be a missing warmup execution, please investigate in Nsight Systems.\n",
      "E0000 00:00:1745842839.431590      61 gpu_timer.cc:82] Delay kernel timed out: measured time has sub-optimal accuracy. There may be a missing warmup execution, please investigate in Nsight Systems.\n",
      "E0000 00:00:1745842839.657437      61 gpu_timer.cc:82] Delay kernel timed out: measured time has sub-optimal accuracy. There may be a missing warmup execution, please investigate in Nsight Systems.\n"
     ]
    },
    {
     "name": "stdout",
     "output_type": "stream",
     "text": [
      "\u001b[1m  1/428\u001b[0m \u001b[37m━━━━━━━━━━━━━━━━━━━━\u001b[0m \u001b[1m4:38:46\u001b[0m 39s/step - accuracy: 0.0625 - f1_score: 0.0444 - loss: 3.2458 - precision: 0.0769 - recall: 0.0312"
     ]
    },
    {
     "name": "stderr",
     "output_type": "stream",
     "text": [
      "I0000 00:00:1745842845.229488      61 device_compiler.h:188] Compiled cluster using XLA!  This line is logged at most once for the lifetime of the process.\n"
     ]
    },
    {
     "name": "stdout",
     "output_type": "stream",
     "text": [
      "\u001b[1m427/428\u001b[0m \u001b[32m━━━━━━━━━━━━━━━━━━━\u001b[0m\u001b[37m━\u001b[0m \u001b[1m0s\u001b[0m 452ms/step - accuracy: 0.6464 - f1_score: 0.6344 - loss: 1.0011 - precision: 0.8151 - recall: 0.5436"
     ]
    },
    {
     "name": "stderr",
     "output_type": "stream",
     "text": [
      "E0000 00:00:1745843041.672077      61 gpu_timer.cc:82] Delay kernel timed out: measured time has sub-optimal accuracy. There may be a missing warmup execution, please investigate in Nsight Systems.\n",
      "E0000 00:00:1745843041.857379      61 gpu_timer.cc:82] Delay kernel timed out: measured time has sub-optimal accuracy. There may be a missing warmup execution, please investigate in Nsight Systems.\n",
      "E0000 00:00:1745843042.348465      61 gpu_timer.cc:82] Delay kernel timed out: measured time has sub-optimal accuracy. There may be a missing warmup execution, please investigate in Nsight Systems.\n",
      "E0000 00:00:1745843042.547580      61 gpu_timer.cc:82] Delay kernel timed out: measured time has sub-optimal accuracy. There may be a missing warmup execution, please investigate in Nsight Systems.\n",
      "E0000 00:00:1745843042.949334      61 gpu_timer.cc:82] Delay kernel timed out: measured time has sub-optimal accuracy. There may be a missing warmup execution, please investigate in Nsight Systems.\n",
      "E0000 00:00:1745843043.172854      61 gpu_timer.cc:82] Delay kernel timed out: measured time has sub-optimal accuracy. There may be a missing warmup execution, please investigate in Nsight Systems.\n"
     ]
    },
    {
     "name": "stdout",
     "output_type": "stream",
     "text": [
      "\u001b[1m428/428\u001b[0m \u001b[32m━━━━━━━━━━━━━━━━━━━━\u001b[0m\u001b[37m\u001b[0m \u001b[1m0s\u001b[0m 476ms/step - accuracy: 0.6469 - f1_score: 0.6349 - loss: 0.9998 - precision: 0.8154 - recall: 0.5442Model weights updated at epoch 1 with val_accuracy: 0.9754\n",
      "\u001b[1m428/428\u001b[0m \u001b[32m━━━━━━━━━━━━━━━━━━━━\u001b[0m\u001b[37m\u001b[0m \u001b[1m273s\u001b[0m 548ms/step - accuracy: 0.6473 - f1_score: 0.6355 - loss: 0.9986 - precision: 0.8156 - recall: 0.5448 - val_accuracy: 0.9754 - val_f1_score: 0.9759 - val_loss: 0.0763 - val_precision: 0.9788 - val_recall: 0.9731\n",
      "Epoch 2/10\n",
      "\u001b[1m428/428\u001b[0m \u001b[32m━━━━━━━━━━━━━━━━━━━━\u001b[0m\u001b[37m\u001b[0m \u001b[1m177s\u001b[0m 413ms/step - accuracy: 0.9737 - f1_score: 0.9733 - loss: 0.0901 - precision: 0.9768 - recall: 0.9698 - val_accuracy: 0.9637 - val_f1_score: 0.9642 - val_loss: 0.0993 - val_precision: 0.9676 - val_recall: 0.9608\n",
      "Epoch 3/10\n",
      "\u001b[1m428/428\u001b[0m \u001b[32m━━━━━━━━━━━━━━━━━━━━\u001b[0m\u001b[37m\u001b[0m \u001b[1m0s\u001b[0m 358ms/step - accuracy: 0.9831 - f1_score: 0.9827 - loss: 0.0537 - precision: 0.9844 - recall: 0.9810Model weights updated at epoch 3 with val_accuracy: 0.9824\n",
      "\u001b[1m428/428\u001b[0m \u001b[32m━━━━━━━━━━━━━━━━━━━━\u001b[0m\u001b[37m\u001b[0m \u001b[1m173s\u001b[0m 404ms/step - accuracy: 0.9831 - f1_score: 0.9827 - loss: 0.0537 - precision: 0.9844 - recall: 0.9810 - val_accuracy: 0.9824 - val_f1_score: 0.9827 - val_loss: 0.0612 - val_precision: 0.9836 - val_recall: 0.9819\n",
      "Epoch 4/10\n",
      "\u001b[1m428/428\u001b[0m \u001b[32m━━━━━━━━━━━━━━━━━━━━\u001b[0m\u001b[37m\u001b[0m \u001b[1m174s\u001b[0m 405ms/step - accuracy: 0.9854 - f1_score: 0.9849 - loss: 0.0474 - precision: 0.9859 - recall: 0.9840 - val_accuracy: 0.9713 - val_f1_score: 0.9716 - val_loss: 0.1443 - val_precision: 0.9730 - val_recall: 0.9702\n",
      "Epoch 5/10\n",
      "\u001b[1m428/428\u001b[0m \u001b[32m━━━━━━━━━━━━━━━━━━━━\u001b[0m\u001b[37m\u001b[0m \u001b[1m176s\u001b[0m 410ms/step - accuracy: 0.9909 - f1_score: 0.9910 - loss: 0.0390 - precision: 0.9920 - recall: 0.9901 - val_accuracy: 0.9743 - val_f1_score: 0.9751 - val_loss: 0.0689 - val_precision: 0.9765 - val_recall: 0.9737\n",
      "Epoch 6/10\n",
      "\u001b[1m428/428\u001b[0m \u001b[32m━━━━━━━━━━━━━━━━━━━━\u001b[0m\u001b[37m\u001b[0m \u001b[1m175s\u001b[0m 409ms/step - accuracy: 0.9913 - f1_score: 0.9916 - loss: 0.0297 - precision: 0.9920 - recall: 0.9911 - val_accuracy: 0.9778 - val_f1_score: 0.9780 - val_loss: 0.0702 - val_precision: 0.9795 - val_recall: 0.9766\n",
      "Epoch 7/10\n",
      "\u001b[1m428/428\u001b[0m \u001b[32m━━━━━━━━━━━━━━━━━━━━\u001b[0m\u001b[37m\u001b[0m \u001b[1m0s\u001b[0m 360ms/step - accuracy: 0.9955 - f1_score: 0.9953 - loss: 0.0158 - precision: 0.9956 - recall: 0.9950Model weights updated at epoch 7 with val_accuracy: 0.9865\n",
      "\u001b[1m428/428\u001b[0m \u001b[32m━━━━━━━━━━━━━━━━━━━━\u001b[0m\u001b[37m\u001b[0m \u001b[1m173s\u001b[0m 403ms/step - accuracy: 0.9955 - f1_score: 0.9953 - loss: 0.0158 - precision: 0.9956 - recall: 0.9950 - val_accuracy: 0.9865 - val_f1_score: 0.9865 - val_loss: 0.0437 - val_precision: 0.9871 - val_recall: 0.9860\n",
      "Epoch 8/10\n",
      "\u001b[1m428/428\u001b[0m \u001b[32m━━━━━━━━━━━━━━━━━━━━\u001b[0m\u001b[37m\u001b[0m \u001b[1m174s\u001b[0m 407ms/step - accuracy: 0.9949 - f1_score: 0.9948 - loss: 0.0174 - precision: 0.9950 - recall: 0.9945 - val_accuracy: 0.9813 - val_f1_score: 0.9816 - val_loss: 0.0699 - val_precision: 0.9819 - val_recall: 0.9813\n",
      "Epoch 9/10\n",
      "\u001b[1m428/428\u001b[0m \u001b[32m━━━━━━━━━━━━━━━━━━━━\u001b[0m\u001b[37m\u001b[0m \u001b[1m175s\u001b[0m 409ms/step - accuracy: 0.9944 - f1_score: 0.9944 - loss: 0.0211 - precision: 0.9952 - recall: 0.9936 - val_accuracy: 0.9801 - val_f1_score: 0.9801 - val_loss: 0.0903 - val_precision: 0.9807 - val_recall: 0.9795\n",
      "Epoch 10/10\n",
      "\u001b[1m428/428\u001b[0m \u001b[32m━━━━━━━━━━━━━━━━━━━━\u001b[0m\u001b[37m\u001b[0m \u001b[1m175s\u001b[0m 409ms/step - accuracy: 0.9974 - f1_score: 0.9976 - loss: 0.0087 - precision: 0.9978 - recall: 0.9974 - val_accuracy: 0.9778 - val_f1_score: 0.9781 - val_loss: 0.1077 - val_precision: 0.9783 - val_recall: 0.9778\n",
      "Restoring model weights from best epoch 7 with val_accuracy: 0.9865\n"
     ]
    }
   ],
   "source": [
    "history_X = Xmodel.fit(train_data,\n",
    "                 epochs=EPOCH,             \n",
    "                 validation_data=validation_data,\n",
    "                 callbacks=[restore_best],\n",
    "                 shuffle= False)"
   ]
  },
  {
   "cell_type": "code",
   "execution_count": 13,
   "id": "44765447",
   "metadata": {
    "execution": {
     "iopub.execute_input": "2025-04-28T12:50:51.880954Z",
     "iopub.status.busy": "2025-04-28T12:50:51.880675Z",
     "iopub.status.idle": "2025-04-28T12:50:51.888973Z",
     "shell.execute_reply": "2025-04-28T12:50:51.888023Z"
    },
    "papermill": {
     "duration": 0.199727,
     "end_time": "2025-04-28T12:50:51.890235",
     "exception": false,
     "start_time": "2025-04-28T12:50:51.690508",
     "status": "completed"
    },
    "tags": []
   },
   "outputs": [
    {
     "name": "stdout",
     "output_type": "stream",
     "text": [
      "Lowest Loss: 0.04366791248321533 at index 6\n",
      "Highest Accuracy: 0.9865418076515198 at index 6\n",
      "Highest Precision: 0.9871118664741516 at index 6\n",
      "Highest Recall: 0.9859567284584045 at index 6\n",
      "Highest F1-score: 0.9865339398384094 at index 6\n"
     ]
    }
   ],
   "source": [
    "# Extract metrics for XCEPTION MODEL\n",
    "tr_acc_X = history_X.history['accuracy']\n",
    "tr_loss_X = history_X.history['loss']\n",
    "tr_per_X = history_X.history['precision']\n",
    "tr_recall_X = history_X.history['recall']\n",
    "tr_fscore_X = history_X.history['f1_score']\n",
    "val_acc_X = history_X.history['val_accuracy']\n",
    "val_loss_X = history_X.history['val_loss']\n",
    "val_per_X = history_X.history['val_precision']\n",
    "val_recall_X = history_X.history['val_recall']\n",
    "val_fscore_X = history_X.history['val_f1_score']\n",
    "\n",
    "# Get the best epochs for each metric\n",
    "index_loss_X = np.argmin(val_loss_X)\n",
    "loss_lowest_X = val_loss_X[index_loss_X]\n",
    "index_acc_X = np.argmax(val_acc_X)\n",
    "acc_highest_X = val_acc_X[index_acc_X]\n",
    "index_precision_X = np.argmax(val_per_X)\n",
    "pre_highest_X = val_per_X[index_precision_X]\n",
    "index_recall_X = np.argmax(val_recall_X)\n",
    "recall_highest_X = val_recall_X[index_recall_X]\n",
    "index_fscore_X = np.argmax(val_fscore_X)\n",
    "fscore_highest_X = val_fscore_X[index_fscore_X]\n",
    "\n",
    "# Print results\n",
    "print(f\"Lowest Loss: {loss_lowest_X} at index {index_loss_X}\")\n",
    "print(f\"Highest Accuracy: {acc_highest_X} at index {index_acc_X}\")\n",
    "print(f\"Highest Precision: {pre_highest_X} at index {index_precision_X}\")\n",
    "print(f\"Highest Recall: {recall_highest_X} at index {index_recall_X}\")\n",
    "print(f\"Highest F1-score: {fscore_highest_X} at index {index_fscore_X}\")\n",
    "\n",
    "# Epochs for plotting\n",
    "Epochs_X = [i + 1 for i in range(len(tr_acc_X))]\n",
    "\n",
    "# Define a modern style\n",
    "plt.style.use('ggplot')"
   ]
  },
  {
   "cell_type": "code",
   "execution_count": 14,
   "id": "a080af61",
   "metadata": {
    "execution": {
     "iopub.execute_input": "2025-04-28T12:50:52.331163Z",
     "iopub.status.busy": "2025-04-28T12:50:52.330841Z",
     "iopub.status.idle": "2025-04-28T12:50:52.547591Z",
     "shell.execute_reply": "2025-04-28T12:50:52.546934Z"
    },
    "papermill": {
     "duration": 0.472936,
     "end_time": "2025-04-28T12:50:52.549639",
     "exception": false,
     "start_time": "2025-04-28T12:50:52.076703",
     "status": "completed"
    },
    "tags": []
   },
   "outputs": [
    {
     "data": {
      "image/png": "[encoded data removed]",
      "text/plain": [
       "<Figure size 1000x600 with 1 Axes>"
      ]
     },
     "metadata": {},
     "output_type": "display_data"
    },
    {
     "name": "stdout",
     "output_type": "stream",
     "text": [
      "6\n"
     ]
    }
   ],
   "source": [
    "# Plot Training and Validation Loss\n",
    "plt.figure(figsize=(10, 6))\n",
    "plt.plot(Epochs_X, tr_loss_X, color='red', label='Training Loss', linewidth=2)\n",
    "plt.plot(Epochs_X, val_loss_X, color='green', label='Validation Loss', linestyle='--', linewidth=2)\n",
    "plt.scatter(index_loss_X + 1, loss_lowest_X, s=150, c='blue', label=f'Best epoch = {index_loss_X + 1}', edgecolors='black')\n",
    "plt.title('Training and Validation Loss', fontsize=14, fontweight='bold')\n",
    "plt.xlabel('Epochs', fontsize=12)\n",
    "plt.ylabel('Loss', fontsize=12)\n",
    "plt.legend(fontsize=10)\n",
    "plt.grid(visible=True, linestyle='--', alpha=0.5)\n",
    "plt.show()\n",
    "\n",
    "print(np.argmin(val_loss_X))"
   ]
  },
  {
   "cell_type": "code",
   "execution_count": 15,
   "id": "44cfac18",
   "metadata": {
    "execution": {
     "iopub.execute_input": "2025-04-28T12:50:52.924562Z",
     "iopub.status.busy": "2025-04-28T12:50:52.923802Z",
     "iopub.status.idle": "2025-04-28T12:50:53.137260Z",
     "shell.execute_reply": "2025-04-28T12:50:53.136364Z"
    },
    "papermill": {
     "duration": 0.400823,
     "end_time": "2025-04-28T12:50:53.138430",
     "exception": false,
     "start_time": "2025-04-28T12:50:52.737607",
     "status": "completed"
    },
    "tags": []
   },
   "outputs": [
    {
     "data": {
      "image/png": "[encoded data removed]",
      "text/plain": [
       "<Figure size 1000x600 with 1 Axes>"
      ]
     },
     "metadata": {},
     "output_type": "display_data"
    }
   ],
   "source": [
    "# Plot Training and Validation Accuracy\n",
    "plt.figure(figsize=(10, 6))\n",
    "plt.plot(Epochs_X, tr_acc_X, color='purple', label='Training Accuracy', linewidth=2)\n",
    "plt.plot(Epochs_X, val_acc_X, color='orange', label='Validation Accuracy', linestyle='--', linewidth=2)\n",
    "plt.scatter(index_acc_X + 1, acc_highest_X, s=150, c='blue', label=f'Best epoch = {index_acc_X + 1}', edgecolors='black')\n",
    "plt.title('Training and Validation Accuracy', fontsize=14, fontweight='bold')\n",
    "plt.xlabel('Epochs', fontsize=12)\n",
    "plt.ylabel('Accuracy', fontsize=12)\n",
    "plt.legend(fontsize=10)\n",
    "plt.grid(visible=True, linestyle='--', alpha=0.5)\n",
    "plt.show()"
   ]
  }
 ],
 "metadata": {
  "kaggle": {
   "accelerator": "gpu",
   "dataSources": [
    {
     "datasetId": 6755943,
     "sourceId": 10873558,
     "sourceType": "datasetVersion"
    }
   ],
   "dockerImageVersionId": 31011,
   "isGpuEnabled": true,
   "isInternetEnabled": true,
   "language": "python",
   "sourceType": "notebook"
  },
  "kernelspec": {
   "display_name": "Python 3",
   "language": "python",
   "name": "python3"
  },
  "language_info": {
   "codemirror_mode": {
    "name": "ipython",
    "version": 3
   },
   "file_extension": ".py",
   "mimetype": "text/x-python",
   "name": "python",
   "nbconvert_exporter": "python",
   "pygments_lexer": "ipython3",
   "version": "3.11.11"
  },
  "papermill": {
   "default_parameters": {},
   "duration": 1906.072742,
   "end_time": "2025-04-28T12:50:56.724674",
   "environment_variables": {},
   "exception": null,
   "input_path": "__notebook__.ipynb",
   "output_path": "__notebook__.ipynb",
   "parameters": {},
   "start_time": "2025-04-28T12:19:10.651932",
   "version": "2.6.0"
  }
 },
 "nbformat": 4,
 "nbformat_minor": 5
}
