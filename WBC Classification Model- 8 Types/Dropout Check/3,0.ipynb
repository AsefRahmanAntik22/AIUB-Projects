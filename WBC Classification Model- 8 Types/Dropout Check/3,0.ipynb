{
 "cells": [
  {
   "cell_type": "code",
   "execution_count": 1,
   "id": "1bddf8d9",
   "metadata": {
    "execution": {
     "iopub.execute_input": "2025-04-28T13:17:29.974670Z",
     "iopub.status.busy": "2025-04-28T13:17:29.974433Z",
     "iopub.status.idle": "2025-04-28T13:17:50.264385Z",
     "shell.execute_reply": "2025-04-28T13:17:50.263772Z"
    },
    "papermill": {
     "duration": 20.295368,
     "end_time": "2025-04-28T13:17:50.265812",
     "exception": false,
     "start_time": "2025-04-28T13:17:29.970444",
     "status": "completed"
    },
    "tags": []
   },
   "outputs": [
    {
     "name": "stderr",
     "output_type": "stream",
     "text": [
      "2025-04-28 13:17:34.331197: E external/local_xla/xla/stream_executor/cuda/cuda_fft.cc:477] Unable to register cuFFT factory: Attempting to register factory for plugin cuFFT when one has already been registered\n",
      "WARNING: All log messages before absl::InitializeLog() is called are written to STDERR\n",
      "E0000 00:00:1745846254.518660      19 cuda_dnn.cc:8310] Unable to register cuDNN factory: Attempting to register factory for plugin cuDNN when one has already been registered\n",
      "E0000 00:00:1745846254.574541      19 cuda_blas.cc:1418] Unable to register cuBLAS factory: Attempting to register factory for plugin cuBLAS when one has already been registered\n"
     ]
    }
   ],
   "source": [
    "import os\n",
    "import numpy as np\n",
    "import pandas as pd\n",
    "import matplotlib.pyplot as plt\n",
    "import seaborn as sns\n",
    "import warnings\n",
    "warnings.filterwarnings(\"ignore\")\n",
    "\n",
    "# TensorFlow & Keras\n",
    "import tensorflow as tf\n",
    "from tensorflow.keras.models import Model\n",
    "from tensorflow.keras.utils import plot_model\n",
    "from tensorflow.keras.layers import Input, Concatenate\n",
    "from tensorflow.keras.layers import (Input, Dense, Flatten, Dropout, GlobalAveragePooling2D)\n",
    "from tensorflow.keras.applications import Xception, DenseNet121, InceptionV3\n",
    "from tensorflow.keras.optimizers import Adamax, Adam\n",
    "from tensorflow.keras.preprocessing.image import ImageDataGenerator\n",
    "from tensorflow.keras.metrics import Precision, Recall\n",
    "\n",
    "# Scikit-Learn\n",
    "from sklearn.model_selection import train_test_split, GridSearchCV, StratifiedKFold\n",
    "from sklearn.preprocessing import StandardScaler\n",
    "from sklearn.pipeline import Pipeline\n",
    "from sklearn.feature_selection import SelectKBest, SelectFromModel, f_classif\n",
    "from sklearn.linear_model import SGDClassifier, LogisticRegression\n",
    "from sklearn.svm import SVC\n",
    "from sklearn.neighbors import KNeighborsClassifier\n",
    "from sklearn.tree import DecisionTreeClassifier\n",
    "from sklearn.naive_bayes import GaussianNB\n",
    "from sklearn.neural_network import MLPClassifier\n",
    "from sklearn.ensemble import (\n",
    "    RandomForestClassifier, GradientBoostingClassifier, AdaBoostClassifier, \n",
    "    ExtraTreesClassifier, VotingClassifier, StackingClassifier\n",
    ")\n",
    "\n",
    "# Boosting Libraries\n",
    "from xgboost import XGBClassifier\n",
    "from lightgbm import LGBMClassifier\n",
    "\n",
    "# Evaluation Metrics\n",
    "from sklearn.metrics import (\n",
    "    accuracy_score, precision_score, recall_score, f1_score, confusion_matrix, ConfusionMatrixDisplay\n",
    ")\n",
    "\n",
    "#for parallel threading\n",
    "from joblib import parallel_backend\n",
    "import cv2\n",
    "\n",
    "#Model saving to disk\n",
    "import pickle\n",
    "\n",
    "# Suppress warnings\n",
    "warnings.filterwarnings(\"ignore\")"
   ]
  },
  {
   "cell_type": "code",
   "execution_count": 2,
   "id": "06b187ae",
   "metadata": {
    "execution": {
     "iopub.execute_input": "2025-04-28T13:17:50.272985Z",
     "iopub.status.busy": "2025-04-28T13:17:50.272217Z",
     "iopub.status.idle": "2025-04-28T13:17:51.135102Z",
     "shell.execute_reply": "2025-04-28T13:17:51.134226Z"
    },
    "papermill": {
     "duration": 0.867355,
     "end_time": "2025-04-28T13:17:51.136358",
     "exception": false,
     "start_time": "2025-04-28T13:17:50.269003",
     "status": "completed"
    },
    "tags": []
   },
   "outputs": [
    {
     "name": "stdout",
     "output_type": "stream",
     "text": [
      "GPUs detected: 1\n"
     ]
    }
   ],
   "source": [
    "gpus = tf.config.list_physical_devices('GPU')\n",
    "if gpus:\n",
    "    try:\n",
    "        for gpu in gpus:\n",
    "            tf.config.experimental.set_memory_growth(gpu, True)\n",
    "        print(f\"GPUs detected: {len(gpus)}\")\n",
    "    except RuntimeError as e:\n",
    "        print(f\"Error setting GPU memory growth: {e}\")\n",
    "else:\n",
    "    print(\"No GPUs detected.\")"
   ]
  },
  {
   "cell_type": "code",
   "execution_count": 3,
   "id": "890a7199",
   "metadata": {
    "execution": {
     "iopub.execute_input": "2025-04-28T13:17:51.142823Z",
     "iopub.status.busy": "2025-04-28T13:17:51.142585Z",
     "iopub.status.idle": "2025-04-28T13:17:51.146855Z",
     "shell.execute_reply": "2025-04-28T13:17:51.146315Z"
    },
    "papermill": {
     "duration": 0.008456,
     "end_time": "2025-04-28T13:17:51.147793",
     "exception": false,
     "start_time": "2025-04-28T13:17:51.139337",
     "status": "completed"
    },
    "tags": []
   },
   "outputs": [],
   "source": [
    "def data_frame(path):\n",
    "    class_paths = []\n",
    "    classes = []\n",
    "\n",
    "    for label in os.listdir(path):\n",
    "        class_dir = os.path.join(path, label)\n",
    "        if os.path.isdir(class_dir):  # Ensure it's a directory\n",
    "            for image in os.listdir(class_dir):\n",
    "                class_paths.append(os.path.join(class_dir, image))\n",
    "                classes.append(label)\n",
    "\n",
    "    df = pd.DataFrame({'Class Path': class_paths, 'Class': classes})\n",
    "    return df"
   ]
  },
  {
   "cell_type": "code",
   "execution_count": 4,
   "id": "b3c8fd79",
   "metadata": {
    "execution": {
     "iopub.execute_input": "2025-04-28T13:17:51.154129Z",
     "iopub.status.busy": "2025-04-28T13:17:51.153907Z",
     "iopub.status.idle": "2025-04-28T13:17:51.374249Z",
     "shell.execute_reply": "2025-04-28T13:17:51.373344Z"
    },
    "papermill": {
     "duration": 0.224798,
     "end_time": "2025-04-28T13:17:51.375570",
     "exception": false,
     "start_time": "2025-04-28T13:17:51.150772",
     "status": "completed"
    },
    "tags": []
   },
   "outputs": [
    {
     "name": "stdout",
     "output_type": "stream",
     "text": [
      "Train size: 13673, Validation size: 1709, Test size: 1710\n"
     ]
    }
   ],
   "source": [
    "dataframe = data_frame('/kaggle/input/wbc-8type-original/bloodcells_dataset Original')\n",
    "from sklearn.model_selection import train_test_split\n",
    "train_dataframe, temp_dataframe = train_test_split(dataframe, \n",
    "                                                   test_size=0.2, \n",
    "                                                   random_state=42, \n",
    "                                                   stratify=dataframe['Class'])\n",
    "Validation_dataframe, test_dataframe = train_test_split(temp_dataframe, \n",
    "                                                        test_size=0.5, \n",
    "                                                        random_state=42, \n",
    "                                                        stratify=temp_dataframe['Class'])\n",
    "print(f\"Train size: {len(train_dataframe)}, Validation size: {len(Validation_dataframe)}, Test size: {len(test_dataframe)}\")"
   ]
  },
  {
   "cell_type": "code",
   "execution_count": 5,
   "id": "3d6dc54f",
   "metadata": {
    "execution": {
     "iopub.execute_input": "2025-04-28T13:17:51.388226Z",
     "iopub.status.busy": "2025-04-28T13:17:51.387951Z",
     "iopub.status.idle": "2025-04-28T13:17:51.392100Z",
     "shell.execute_reply": "2025-04-28T13:17:51.391381Z"
    },
    "papermill": {
     "duration": 0.008754,
     "end_time": "2025-04-28T13:17:51.393233",
     "exception": false,
     "start_time": "2025-04-28T13:17:51.384479",
     "status": "completed"
    },
    "tags": []
   },
   "outputs": [],
   "source": [
    "BATCH_SIZE = 32\n",
    "IMG_SIZE = (224, 224)\n",
    "EPOCH = 10\n",
    "img_shape=(224,224,3)\n",
    "labels = [\n",
    "    \"basophil\",\n",
    "    \"eosinophil\",\n",
    "    \"erythroblast\",\n",
    "    \"ig\",\n",
    "    \"lymphocyte\",\n",
    "    \"monocyte\",\n",
    "    \"neutrophil\",\n",
    "    \"platelet\"\n",
    "]"
   ]
  },
  {
   "cell_type": "code",
   "execution_count": 6,
   "id": "f6281660",
   "metadata": {
    "execution": {
     "iopub.execute_input": "2025-04-28T13:17:51.399453Z",
     "iopub.status.busy": "2025-04-28T13:17:51.399236Z",
     "iopub.status.idle": "2025-04-28T13:17:51.404762Z",
     "shell.execute_reply": "2025-04-28T13:17:51.403412Z"
    },
    "papermill": {
     "duration": 0.009901,
     "end_time": "2025-04-28T13:17:51.405802",
     "exception": false,
     "start_time": "2025-04-28T13:17:51.395901",
     "status": "completed"
    },
    "tags": []
   },
   "outputs": [],
   "source": [
    "def apply_clahe(img):\n",
    "    \"\"\"Apply CLAHE after Adaptive Gray World Normalization.\"\"\"\n",
    "    lab = cv2.cvtColor(img, cv2.COLOR_RGB2LAB)\n",
    "    l, a, b = cv2.split(lab)\n",
    "    clahe = cv2.createCLAHE(clipLimit=0.03, tileGridSize=(8,8))\n",
    "    l = clahe.apply(l)\n",
    "    clahe_img = cv2.merge((l, a, b))\n",
    "    return cv2.cvtColor(clahe_img, cv2.COLOR_LAB2RGB)\n",
    "\n",
    "def preprocess_image(img):\n",
    "    \"\"\"First apply Adaptive Gray World, then CLAHE (No Normalization).\"\"\"\n",
    "    img = img.astype(np.uint8)  # Ensure correct data type\n",
    "    img = apply_clahe(img)  # Step 2: CLAHE\n",
    "    img = (img - np.mean(img)) / (np.std(img) + 1e-8) # step: 3: z score normalization\n",
    "    return img  "
   ]
  },
  {
   "cell_type": "code",
   "execution_count": 7,
   "id": "423c9090",
   "metadata": {
    "execution": {
     "iopub.execute_input": "2025-04-28T13:17:51.411736Z",
     "iopub.status.busy": "2025-04-28T13:17:51.411533Z",
     "iopub.status.idle": "2025-04-28T13:17:51.415315Z",
     "shell.execute_reply": "2025-04-28T13:17:51.414598Z"
    },
    "papermill": {
     "duration": 0.007988,
     "end_time": "2025-04-28T13:17:51.416440",
     "exception": false,
     "start_time": "2025-04-28T13:17:51.408452",
     "status": "completed"
    },
    "tags": []
   },
   "outputs": [],
   "source": [
    "def preprocess_image2(image):\n",
    "    # Convert to float32\n",
    "    img = image.astype(np.float32)\n",
    "\n",
    "    # Apply Z-score Normalization\n",
    "    #img = (img - np.mean(img)) / (np.std(img) + 1e-8)\n",
    "\n",
    "    # Min-Max Scaling (for CLAHE)\n",
    "    img = (img - np.min(img)) / (np.ptp(img) + 1e-8)  # np.ptp = max - min\n",
    "    #img = (img * 255).astype(np.uint8)  # Convert to uint8 for CLAHE\n",
    "\n",
    "    # Apply CLAHE to each channel independently\n",
    "    #clahe = cv2.createCLAHE(clipLimit=0.02, tileGridSize=(8, 8))\n",
    "    #img_clahe = np.zeros_like(img)\n",
    "    \n",
    "    #for i in range(3):  # Apply CLAHE on each channel separately\n",
    "        #img_clahe[..., i] = clahe.apply(img[..., i])\n",
    "\n",
    "    # Convert back to float32 (normalize to [0,1])\n",
    "    #img_clahe = img_clahe.astype(np.float32) / 255.0  \n",
    "\n",
    "    return img"
   ]
  },
  {
   "cell_type": "code",
   "execution_count": 8,
   "id": "7a3f8976",
   "metadata": {
    "execution": {
     "iopub.execute_input": "2025-04-28T13:17:51.422486Z",
     "iopub.status.busy": "2025-04-28T13:17:51.422278Z",
     "iopub.status.idle": "2025-04-28T13:18:21.519675Z",
     "shell.execute_reply": "2025-04-28T13:18:21.519004Z"
    },
    "papermill": {
     "duration": 30.103416,
     "end_time": "2025-04-28T13:18:21.522558",
     "exception": false,
     "start_time": "2025-04-28T13:17:51.419142",
     "status": "completed"
    },
    "tags": []
   },
   "outputs": [
    {
     "name": "stdout",
     "output_type": "stream",
     "text": [
      "Found 13673 validated image filenames belonging to 8 classes.\n",
      "Found 1709 validated image filenames belonging to 8 classes.\n",
      "Found 1710 validated image filenames belonging to 8 classes.\n"
     ]
    }
   ],
   "source": [
    "data_generator = ImageDataGenerator(\n",
    "    preprocessing_function=preprocess_image2,\n",
    "    rotation_range=10,\n",
    "    shear_range=0.1,\n",
    "    zoom_range=0.05,\n",
    "    fill_mode='nearest',\n",
    ")\n",
    "test_data_generator = ImageDataGenerator(preprocessing_function=preprocess_image2)\n",
    "\n",
    "\n",
    "train_data = data_generator.flow_from_dataframe(train_dataframe, x_col='Class Path',\n",
    "                                  y_col='Class', batch_size=BATCH_SIZE,\n",
    "                                  target_size=IMG_SIZE, seed=42)\n",
    "\n",
    "validation_data = data_generator.flow_from_dataframe(Validation_dataframe, x_col='Class Path',\n",
    "                                     y_col='Class', batch_size=BATCH_SIZE,\n",
    "                                     target_size=IMG_SIZE, seed=42)\n",
    "\n",
    "test_data = test_data_generator.flow_from_dataframe(test_dataframe, x_col='Class Path',\n",
    "                                  y_col='Class', batch_size=BATCH_SIZE,\n",
    "                                  target_size=IMG_SIZE, shuffle=False, seed=42)"
   ]
  },
  {
   "cell_type": "code",
   "execution_count": 9,
   "id": "cdcc9968",
   "metadata": {
    "execution": {
     "iopub.execute_input": "2025-04-28T13:18:21.529148Z",
     "iopub.status.busy": "2025-04-28T13:18:21.528906Z",
     "iopub.status.idle": "2025-04-28T13:18:21.534461Z",
     "shell.execute_reply": "2025-04-28T13:18:21.533757Z"
    },
    "papermill": {
     "duration": 0.010023,
     "end_time": "2025-04-28T13:18:21.535500",
     "exception": false,
     "start_time": "2025-04-28T13:18:21.525477",
     "status": "completed"
    },
    "tags": []
   },
   "outputs": [],
   "source": [
    "@tf.keras.utils.register_keras_serializable(package=\"Custom\", name=\"F1Score\")\n",
    "class F1Score(tf.keras.metrics.Metric):\n",
    "    def __init__(self, name='f1_score', **kwargs):\n",
    "        super().__init__(name=name, **kwargs)\n",
    "        self.precision = tf.keras.metrics.Precision()\n",
    "        self.recall = tf.keras.metrics.Recall()\n",
    "\n",
    "    def update_state(self, y_true, y_pred, sample_weight=None):\n",
    "        self.precision.update_state(y_true, y_pred, sample_weight)\n",
    "        self.recall.update_state(y_true, y_pred, sample_weight)\n",
    "\n",
    "    def result(self):\n",
    "        p = self.precision.result()\n",
    "        r = self.recall.result()\n",
    "        return 2 * (p * r) / (p + r + tf.keras.backend.epsilon())\n",
    "\n",
    "    def reset_states(self):\n",
    "        self.precision.reset_states()\n",
    "        self.recall.reset_states()"
   ]
  },
  {
   "cell_type": "code",
   "execution_count": 10,
   "id": "1b709b1c",
   "metadata": {
    "execution": {
     "iopub.execute_input": "2025-04-28T13:18:21.542090Z",
     "iopub.status.busy": "2025-04-28T13:18:21.541845Z",
     "iopub.status.idle": "2025-04-28T13:18:24.477478Z",
     "shell.execute_reply": "2025-04-28T13:18:24.476903Z"
    },
    "papermill": {
     "duration": 2.940279,
     "end_time": "2025-04-28T13:18:24.478768",
     "exception": false,
     "start_time": "2025-04-28T13:18:21.538489",
     "status": "completed"
    },
    "tags": []
   },
   "outputs": [
    {
     "name": "stderr",
     "output_type": "stream",
     "text": [
      "I0000 00:00:1745846301.666196      19 gpu_device.cc:2022] Created device /job:localhost/replica:0/task:0/device:GPU:0 with 15513 MB memory:  -> device: 0, name: Tesla P100-PCIE-16GB, pci bus id: 0000:00:04.0, compute capability: 6.0\n"
     ]
    },
    {
     "name": "stdout",
     "output_type": "stream",
     "text": [
      "Downloading data from https://storage.googleapis.com/tensorflow/keras-applications/xception/xception_weights_tf_dim_ordering_tf_kernels_notop.h5\n",
      "\u001b[1m83683744/83683744\u001b[0m \u001b[32m━━━━━━━━━━━━━━━━━━━━\u001b[0m\u001b[37m\u001b[0m \u001b[1m0s\u001b[0m 0us/step\n"
     ]
    }
   ],
   "source": [
    "dropout_1_values = [0.20, 0.25, 0.30, 0.35]\n",
    "dropout_2_values = [0.20, 0.25, 0.30, 0.35]\n",
    "\n",
    "base_model = tf.keras.applications.Xception(include_top= False, weights= \"imagenet\",\n",
    "                            input_shape= img_shape, pooling= 'max')\n",
    "\n",
    "inputs = Input(shape = img_shape)\n",
    "x = base_model(inputs)\n",
    "x = Flatten()(x)\n",
    "x = Dropout(rate= dropout_1_values[3])(x)\n",
    "x = Dense(128, activation= 'relu')(x)\n",
    "x = Dropout(rate= dropout_2_values[0])(x)\n",
    "x = Dense(8, activation= 'softmax')(x)\n",
    "Xmodel = Model(inputs, x)\n",
    "\n",
    "base_model.trainable = True\n",
    "for layer in base_model.layers[:50]:\n",
    "    layer.trainable = False\n",
    "\n",
    "Xmodel.compile(Adamax(learning_rate= 0.001),\n",
    "              loss= 'categorical_crossentropy',\n",
    "              metrics= ['accuracy',\n",
    "                        Precision(name='precision'),\n",
    "                        Recall(name='recall'),\n",
    "                        F1Score()])"
   ]
  },
  {
   "cell_type": "code",
   "execution_count": 11,
   "id": "0254071a",
   "metadata": {
    "execution": {
     "iopub.execute_input": "2025-04-28T13:18:24.486487Z",
     "iopub.status.busy": "2025-04-28T13:18:24.486278Z",
     "iopub.status.idle": "2025-04-28T13:18:24.493323Z",
     "shell.execute_reply": "2025-04-28T13:18:24.492836Z"
    },
    "papermill": {
     "duration": 0.01198,
     "end_time": "2025-04-28T13:18:24.494341",
     "exception": false,
     "start_time": "2025-04-28T13:18:24.482361",
     "status": "completed"
    },
    "tags": []
   },
   "outputs": [],
   "source": [
    "from tensorflow.keras.callbacks import Callback\n",
    "\n",
    "class RestoreBestValidationModel(Callback):\n",
    "    def __init__(self):\n",
    "        super(RestoreBestValidationModel, self).__init__()\n",
    "        self.best_val_acc = -1\n",
    "        self.best_epoch = -1\n",
    "        self.best_weights = None\n",
    "\n",
    "    def on_epoch_end(self, epoch, logs=None):\n",
    "        val_acc = logs.get('val_accuracy')\n",
    "        if val_acc is not None:\n",
    "            if val_acc > self.best_val_acc or (val_acc == self.best_val_acc and epoch > self.best_epoch):\n",
    "                self.best_val_acc = val_acc\n",
    "                self.best_epoch = epoch\n",
    "                self.best_weights = self.model.get_weights()  \n",
    "                print(f\"Model weights updated at epoch {epoch + 1} with val_accuracy: {val_acc:.4f}\")\n",
    "\n",
    "    def on_train_end(self, logs=None):\n",
    "        if self.best_weights is not None:\n",
    "            print(f\"Restoring model weights from best epoch {self.best_epoch + 1} with val_accuracy: {self.best_val_acc:.4f}\")\n",
    "            self.model.set_weights(self.best_weights)  \n",
    "\n",
    "restore_best = RestoreBestValidationModel()"
   ]
  },
  {
   "cell_type": "code",
   "execution_count": 12,
   "id": "f41b5ed2",
   "metadata": {
    "execution": {
     "iopub.execute_input": "2025-04-28T13:18:24.501678Z",
     "iopub.status.busy": "2025-04-28T13:18:24.501463Z",
     "iopub.status.idle": "2025-04-28T13:49:31.229751Z",
     "shell.execute_reply": "2025-04-28T13:49:31.228836Z"
    },
    "papermill": {
     "duration": 1866.733237,
     "end_time": "2025-04-28T13:49:31.230934",
     "exception": false,
     "start_time": "2025-04-28T13:18:24.497697",
     "status": "completed"
    },
    "tags": []
   },
   "outputs": [
    {
     "name": "stdout",
     "output_type": "stream",
     "text": [
      "Epoch 1/10\n"
     ]
    },
    {
     "name": "stderr",
     "output_type": "stream",
     "text": [
      "WARNING: All log messages before absl::InitializeLog() is called are written to STDERR\n",
      "I0000 00:00:1745846329.648497      60 service.cc:148] XLA service 0x79c9f0002c60 initialized for platform CUDA (this does not guarantee that XLA will be used). Devices:\n",
      "I0000 00:00:1745846329.649274      60 service.cc:156]   StreamExecutor device (0): Tesla P100-PCIE-16GB, Compute Capability 6.0\n",
      "I0000 00:00:1745846331.640848      60 cuda_dnn.cc:529] Loaded cuDNN version 90300\n",
      "E0000 00:00:1745846337.180676      60 gpu_timer.cc:82] Delay kernel timed out: measured time has sub-optimal accuracy. There may be a missing warmup execution, please investigate in Nsight Systems.\n",
      "E0000 00:00:1745846337.369401      60 gpu_timer.cc:82] Delay kernel timed out: measured time has sub-optimal accuracy. There may be a missing warmup execution, please investigate in Nsight Systems.\n",
      "E0000 00:00:1745846338.274555      60 gpu_timer.cc:82] Delay kernel timed out: measured time has sub-optimal accuracy. There may be a missing warmup execution, please investigate in Nsight Systems.\n",
      "E0000 00:00:1745846338.475323      60 gpu_timer.cc:82] Delay kernel timed out: measured time has sub-optimal accuracy. There may be a missing warmup execution, please investigate in Nsight Systems.\n",
      "E0000 00:00:1745846338.912903      60 gpu_timer.cc:82] Delay kernel timed out: measured time has sub-optimal accuracy. There may be a missing warmup execution, please investigate in Nsight Systems.\n",
      "E0000 00:00:1745846339.138948      60 gpu_timer.cc:82] Delay kernel timed out: measured time has sub-optimal accuracy. There may be a missing warmup execution, please investigate in Nsight Systems.\n"
     ]
    },
    {
     "name": "stdout",
     "output_type": "stream",
     "text": [
      "\u001b[1m  1/428\u001b[0m \u001b[37m━━━━━━━━━━━━━━━━━━━━\u001b[0m \u001b[1m4:40:38\u001b[0m 39s/step - accuracy: 0.1562 - f1_score: 0.0000e+00 - loss: 3.2934 - precision: 0.0000e+00 - recall: 0.0000e+00"
     ]
    },
    {
     "name": "stderr",
     "output_type": "stream",
     "text": [
      "I0000 00:00:1745846344.764321      60 device_compiler.h:188] Compiled cluster using XLA!  This line is logged at most once for the lifetime of the process.\n"
     ]
    },
    {
     "name": "stdout",
     "output_type": "stream",
     "text": [
      "\u001b[1m427/428\u001b[0m \u001b[32m━━━━━━━━━━━━━━━━━━━\u001b[0m\u001b[37m━\u001b[0m \u001b[1m0s\u001b[0m 438ms/step - accuracy: 0.7759 - f1_score: 0.7606 - loss: 0.6903 - precision: 0.8660 - recall: 0.6942"
     ]
    },
    {
     "name": "stderr",
     "output_type": "stream",
     "text": [
      "E0000 00:00:1745846535.685480      60 gpu_timer.cc:82] Delay kernel timed out: measured time has sub-optimal accuracy. There may be a missing warmup execution, please investigate in Nsight Systems.\n",
      "E0000 00:00:1745846535.870750      60 gpu_timer.cc:82] Delay kernel timed out: measured time has sub-optimal accuracy. There may be a missing warmup execution, please investigate in Nsight Systems.\n",
      "E0000 00:00:1745846536.360773      60 gpu_timer.cc:82] Delay kernel timed out: measured time has sub-optimal accuracy. There may be a missing warmup execution, please investigate in Nsight Systems.\n",
      "E0000 00:00:1745846536.559993      60 gpu_timer.cc:82] Delay kernel timed out: measured time has sub-optimal accuracy. There may be a missing warmup execution, please investigate in Nsight Systems.\n",
      "E0000 00:00:1745846536.959726      60 gpu_timer.cc:82] Delay kernel timed out: measured time has sub-optimal accuracy. There may be a missing warmup execution, please investigate in Nsight Systems.\n",
      "E0000 00:00:1745846537.183889      60 gpu_timer.cc:82] Delay kernel timed out: measured time has sub-optimal accuracy. There may be a missing warmup execution, please investigate in Nsight Systems.\n"
     ]
    },
    {
     "name": "stdout",
     "output_type": "stream",
     "text": [
      "\u001b[1m428/428\u001b[0m \u001b[32m━━━━━━━━━━━━━━━━━━━━\u001b[0m\u001b[37m\u001b[0m \u001b[1m0s\u001b[0m 463ms/step - accuracy: 0.7762 - f1_score: 0.7610 - loss: 0.6894 - precision: 0.8662 - recall: 0.6946Model weights updated at epoch 1 with val_accuracy: 0.9579\n",
      "\u001b[1m428/428\u001b[0m \u001b[32m━━━━━━━━━━━━━━━━━━━━\u001b[0m\u001b[37m\u001b[0m \u001b[1m268s\u001b[0m 536ms/step - accuracy: 0.7765 - f1_score: 0.7613 - loss: 0.6885 - precision: 0.8663 - recall: 0.6950 - val_accuracy: 0.9579 - val_f1_score: 0.9587 - val_loss: 0.1208 - val_precision: 0.9606 - val_recall: 0.9567\n",
      "Epoch 2/10\n",
      "\u001b[1m428/428\u001b[0m \u001b[32m━━━━━━━━━━━━━━━━━━━━\u001b[0m\u001b[37m\u001b[0m \u001b[1m0s\u001b[0m 366ms/step - accuracy: 0.9738 - f1_score: 0.9737 - loss: 0.0835 - precision: 0.9760 - recall: 0.9715Model weights updated at epoch 2 with val_accuracy: 0.9684\n",
      "\u001b[1m428/428\u001b[0m \u001b[32m━━━━━━━━━━━━━━━━━━━━\u001b[0m\u001b[37m\u001b[0m \u001b[1m176s\u001b[0m 411ms/step - accuracy: 0.9738 - f1_score: 0.9737 - loss: 0.0835 - precision: 0.9760 - recall: 0.9715 - val_accuracy: 0.9684 - val_f1_score: 0.9692 - val_loss: 0.1027 - val_precision: 0.9712 - val_recall: 0.9672\n",
      "Epoch 3/10\n",
      "\u001b[1m428/428\u001b[0m \u001b[32m━━━━━━━━━━━━━━━━━━━━\u001b[0m\u001b[37m\u001b[0m \u001b[1m0s\u001b[0m 364ms/step - accuracy: 0.9807 - f1_score: 0.9807 - loss: 0.0609 - precision: 0.9825 - recall: 0.9788Model weights updated at epoch 3 with val_accuracy: 0.9760\n",
      "\u001b[1m428/428\u001b[0m \u001b[32m━━━━━━━━━━━━━━━━━━━━\u001b[0m\u001b[37m\u001b[0m \u001b[1m176s\u001b[0m 410ms/step - accuracy: 0.9807 - f1_score: 0.9807 - loss: 0.0609 - precision: 0.9825 - recall: 0.9788 - val_accuracy: 0.9760 - val_f1_score: 0.9760 - val_loss: 0.0679 - val_precision: 0.9771 - val_recall: 0.9748\n",
      "Epoch 4/10\n",
      "\u001b[1m428/428\u001b[0m \u001b[32m━━━━━━━━━━━━━━━━━━━━\u001b[0m\u001b[37m\u001b[0m \u001b[1m174s\u001b[0m 406ms/step - accuracy: 0.9895 - f1_score: 0.9896 - loss: 0.0383 - precision: 0.9900 - recall: 0.9892 - val_accuracy: 0.9678 - val_f1_score: 0.9675 - val_loss: 0.1460 - val_precision: 0.9678 - val_recall: 0.9672\n",
      "Epoch 5/10\n",
      "\u001b[1m428/428\u001b[0m \u001b[32m━━━━━━━━━━━━━━━━━━━━\u001b[0m\u001b[37m\u001b[0m \u001b[1m0s\u001b[0m 362ms/step - accuracy: 0.9892 - f1_score: 0.9889 - loss: 0.0328 - precision: 0.9896 - recall: 0.9882Model weights updated at epoch 5 with val_accuracy: 0.9772\n",
      "\u001b[1m428/428\u001b[0m \u001b[32m━━━━━━━━━━━━━━━━━━━━\u001b[0m\u001b[37m\u001b[0m \u001b[1m174s\u001b[0m 407ms/step - accuracy: 0.9892 - f1_score: 0.9889 - loss: 0.0328 - precision: 0.9896 - recall: 0.9882 - val_accuracy: 0.9772 - val_f1_score: 0.9775 - val_loss: 0.0741 - val_precision: 0.9783 - val_recall: 0.9766\n",
      "Epoch 6/10\n",
      "\u001b[1m428/428\u001b[0m \u001b[32m━━━━━━━━━━━━━━━━━━━━\u001b[0m\u001b[37m\u001b[0m \u001b[1m0s\u001b[0m 364ms/step - accuracy: 0.9922 - f1_score: 0.9925 - loss: 0.0232 - precision: 0.9930 - recall: 0.9919Model weights updated at epoch 6 with val_accuracy: 0.9783\n",
      "\u001b[1m428/428\u001b[0m \u001b[32m━━━━━━━━━━━━━━━━━━━━\u001b[0m\u001b[37m\u001b[0m \u001b[1m176s\u001b[0m 410ms/step - accuracy: 0.9922 - f1_score: 0.9925 - loss: 0.0232 - precision: 0.9930 - recall: 0.9919 - val_accuracy: 0.9783 - val_f1_score: 0.9783 - val_loss: 0.0886 - val_precision: 0.9789 - val_recall: 0.9778\n",
      "Epoch 7/10\n",
      "\u001b[1m428/428\u001b[0m \u001b[32m━━━━━━━━━━━━━━━━━━━━\u001b[0m\u001b[37m\u001b[0m \u001b[1m181s\u001b[0m 421ms/step - accuracy: 0.9951 - f1_score: 0.9949 - loss: 0.0158 - precision: 0.9954 - recall: 0.9945 - val_accuracy: 0.9725 - val_f1_score: 0.9727 - val_loss: 0.1053 - val_precision: 0.9747 - val_recall: 0.9707\n",
      "Epoch 8/10\n",
      "\u001b[1m428/428\u001b[0m \u001b[32m━━━━━━━━━━━━━━━━━━━━\u001b[0m\u001b[37m\u001b[0m \u001b[1m177s\u001b[0m 414ms/step - accuracy: 0.9932 - f1_score: 0.9930 - loss: 0.0235 - precision: 0.9935 - recall: 0.9925 - val_accuracy: 0.9707 - val_f1_score: 0.9713 - val_loss: 0.1244 - val_precision: 0.9719 - val_recall: 0.9707\n",
      "Epoch 9/10\n",
      "\u001b[1m428/428\u001b[0m \u001b[32m━━━━━━━━━━━━━━━━━━━━\u001b[0m\u001b[37m\u001b[0m \u001b[1m0s\u001b[0m 380ms/step - accuracy: 0.9951 - f1_score: 0.9949 - loss: 0.0210 - precision: 0.9951 - recall: 0.9946Model weights updated at epoch 9 with val_accuracy: 0.9813\n",
      "\u001b[1m428/428\u001b[0m \u001b[32m━━━━━━━━━━━━━━━━━━━━\u001b[0m\u001b[37m\u001b[0m \u001b[1m182s\u001b[0m 425ms/step - accuracy: 0.9951 - f1_score: 0.9949 - loss: 0.0210 - precision: 0.9951 - recall: 0.9946 - val_accuracy: 0.9813 - val_f1_score: 0.9810 - val_loss: 0.0741 - val_precision: 0.9813 - val_recall: 0.9807\n",
      "Epoch 10/10\n",
      "\u001b[1m428/428\u001b[0m \u001b[32m━━━━━━━━━━━━━━━━━━━━\u001b[0m\u001b[37m\u001b[0m \u001b[1m182s\u001b[0m 424ms/step - accuracy: 0.9954 - f1_score: 0.9953 - loss: 0.0157 - precision: 0.9954 - recall: 0.9951 - val_accuracy: 0.9766 - val_f1_score: 0.9766 - val_loss: 0.0729 - val_precision: 0.9766 - val_recall: 0.9766\n",
      "Restoring model weights from best epoch 9 with val_accuracy: 0.9813\n"
     ]
    }
   ],
   "source": [
    "history_X = Xmodel.fit(train_data,\n",
    "                 epochs=EPOCH,             \n",
    "                 validation_data=validation_data,\n",
    "                 callbacks=[restore_best],\n",
    "                 shuffle= False)"
   ]
  },
  {
   "cell_type": "code",
   "execution_count": 13,
   "id": "f5518ce6",
   "metadata": {
    "execution": {
     "iopub.execute_input": "2025-04-28T13:49:31.612890Z",
     "iopub.status.busy": "2025-04-28T13:49:31.612344Z",
     "iopub.status.idle": "2025-04-28T13:49:31.620377Z",
     "shell.execute_reply": "2025-04-28T13:49:31.619608Z"
    },
    "papermill": {
     "duration": 0.200244,
     "end_time": "2025-04-28T13:49:31.621511",
     "exception": false,
     "start_time": "2025-04-28T13:49:31.421267",
     "status": "completed"
    },
    "tags": []
   },
   "outputs": [
    {
     "name": "stdout",
     "output_type": "stream",
     "text": [
      "Lowest Loss: 0.06794632971286774 at index 2\n",
      "Highest Accuracy: 0.9812756180763245 at index 8\n",
      "Highest Precision: 0.9812646508216858 at index 8\n",
      "Highest Recall: 0.9806904792785645 at index 8\n",
      "Highest F1-score: 0.980977475643158 at index 8\n"
     ]
    }
   ],
   "source": [
    "# Extract metrics for XCEPTION MODEL\n",
    "tr_acc_X = history_X.history['accuracy']\n",
    "tr_loss_X = history_X.history['loss']\n",
    "tr_per_X = history_X.history['precision']\n",
    "tr_recall_X = history_X.history['recall']\n",
    "tr_fscore_X = history_X.history['f1_score']\n",
    "val_acc_X = history_X.history['val_accuracy']\n",
    "val_loss_X = history_X.history['val_loss']\n",
    "val_per_X = history_X.history['val_precision']\n",
    "val_recall_X = history_X.history['val_recall']\n",
    "val_fscore_X = history_X.history['val_f1_score']\n",
    "\n",
    "# Get the best epochs for each metric\n",
    "index_loss_X = np.argmin(val_loss_X)\n",
    "loss_lowest_X = val_loss_X[index_loss_X]\n",
    "index_acc_X = np.argmax(val_acc_X)\n",
    "acc_highest_X = val_acc_X[index_acc_X]\n",
    "index_precision_X = np.argmax(val_per_X)\n",
    "pre_highest_X = val_per_X[index_precision_X]\n",
    "index_recall_X = np.argmax(val_recall_X)\n",
    "recall_highest_X = val_recall_X[index_recall_X]\n",
    "index_fscore_X = np.argmax(val_fscore_X)\n",
    "fscore_highest_X = val_fscore_X[index_fscore_X]\n",
    "\n",
    "# Print results\n",
    "print(f\"Lowest Loss: {loss_lowest_X} at index {index_loss_X}\")\n",
    "print(f\"Highest Accuracy: {acc_highest_X} at index {index_acc_X}\")\n",
    "print(f\"Highest Precision: {pre_highest_X} at index {index_precision_X}\")\n",
    "print(f\"Highest Recall: {recall_highest_X} at index {index_recall_X}\")\n",
    "print(f\"Highest F1-score: {fscore_highest_X} at index {index_fscore_X}\")\n",
    "\n",
    "# Epochs for plotting\n",
    "Epochs_X = [i + 1 for i in range(len(tr_acc_X))]\n",
    "\n",
    "# Define a modern style\n",
    "plt.style.use('ggplot')"
   ]
  },
  {
   "cell_type": "code",
   "execution_count": 14,
   "id": "45e70d21",
   "metadata": {
    "execution": {
     "iopub.execute_input": "2025-04-28T13:49:32.017691Z",
     "iopub.status.busy": "2025-04-28T13:49:32.017415Z",
     "iopub.status.idle": "2025-04-28T13:49:32.242042Z",
     "shell.execute_reply": "2025-04-28T13:49:32.241328Z"
    },
    "papermill": {
     "duration": 0.411195,
     "end_time": "2025-04-28T13:49:32.243843",
     "exception": false,
     "start_time": "2025-04-28T13:49:31.832648",
     "status": "completed"
    },
    "tags": []
   },
   "outputs": [
    {
     "data": {
      "image/png": "[encoded data removed]",
      "text/plain": [
       "<Figure size 1000x600 with 1 Axes>"
      ]
     },
     "metadata": {},
     "output_type": "display_data"
    },
    {
     "name": "stdout",
     "output_type": "stream",
     "text": [
      "2\n"
     ]
    }
   ],
   "source": [
    "# Plot Training and Validation Loss\n",
    "plt.figure(figsize=(10, 6))\n",
    "plt.plot(Epochs_X, tr_loss_X, color='red', label='Training Loss', linewidth=2)\n",
    "plt.plot(Epochs_X, val_loss_X, color='green', label='Validation Loss', linestyle='--', linewidth=2)\n",
    "plt.scatter(index_loss_X + 1, loss_lowest_X, s=150, c='blue', label=f'Best epoch = {index_loss_X + 1}', edgecolors='black')\n",
    "plt.title('Training and Validation Loss', fontsize=14, fontweight='bold')\n",
    "plt.xlabel('Epochs', fontsize=12)\n",
    "plt.ylabel('Loss', fontsize=12)\n",
    "plt.legend(fontsize=10)\n",
    "plt.grid(visible=True, linestyle='--', alpha=0.5)\n",
    "plt.show()\n",
    "\n",
    "print(np.argmin(val_loss_X))"
   ]
  },
  {
   "cell_type": "code",
   "execution_count": 15,
   "id": "db110119",
   "metadata": {
    "execution": {
     "iopub.execute_input": "2025-04-28T13:49:32.680738Z",
     "iopub.status.busy": "2025-04-28T13:49:32.680462Z",
     "iopub.status.idle": "2025-04-28T13:49:32.879830Z",
     "shell.execute_reply": "2025-04-28T13:49:32.879166Z"
    },
    "papermill": {
     "duration": 0.388546,
     "end_time": "2025-04-28T13:49:32.881618",
     "exception": false,
     "start_time": "2025-04-28T13:49:32.493072",
     "status": "completed"
    },
    "tags": []
   },
   "outputs": [
    {
     "data": {
      "image/png": "[encoded data removed]",
      "text/plain": [
       "<Figure size 1000x600 with 1 Axes>"
      ]
     },
     "metadata": {},
     "output_type": "display_data"
    }
   ],
   "source": [
    "# Plot Training and Validation Accuracy\n",
    "plt.figure(figsize=(10, 6))\n",
    "plt.plot(Epochs_X, tr_acc_X, color='purple', label='Training Accuracy', linewidth=2)\n",
    "plt.plot(Epochs_X, val_acc_X, color='orange', label='Validation Accuracy', linestyle='--', linewidth=2)\n",
    "plt.scatter(index_acc_X + 1, acc_highest_X, s=150, c='blue', label=f'Best epoch = {index_acc_X + 1}', edgecolors='black')\n",
    "plt.title('Training and Validation Accuracy', fontsize=14, fontweight='bold')\n",
    "plt.xlabel('Epochs', fontsize=12)\n",
    "plt.ylabel('Accuracy', fontsize=12)\n",
    "plt.legend(fontsize=10)\n",
    "plt.grid(visible=True, linestyle='--', alpha=0.5)\n",
    "plt.show()"
   ]
  }
 ],
 "metadata": {
  "kaggle": {
   "accelerator": "gpu",
   "dataSources": [
    {
     "datasetId": 7275030,
     "sourceId": 11600130,
     "sourceType": "datasetVersion"
    }
   ],
   "dockerImageVersionId": 31011,
   "isGpuEnabled": true,
   "isInternetEnabled": true,
   "language": "python",
   "sourceType": "notebook"
  },
  "kernelspec": {
   "display_name": "Python 3",
   "language": "python",
   "name": "python3"
  },
  "language_info": {
   "codemirror_mode": {
    "name": "ipython",
    "version": 3
   },
   "file_extension": ".py",
   "mimetype": "text/x-python",
   "name": "python",
   "nbconvert_exporter": "python",
   "pygments_lexer": "ipython3",
   "version": "3.11.11"
  },
  "papermill": {
   "default_parameters": {},
   "duration": 1931.073766,
   "end_time": "2025-04-28T13:49:36.992979",
   "environment_variables": {},
   "exception": null,
   "input_path": "__notebook__.ipynb",
   "output_path": "__notebook__.ipynb",
   "parameters": {},
   "start_time": "2025-04-28T13:17:25.919213",
   "version": "2.6.0"
  }
 },
 "nbformat": 4,
 "nbformat_minor": 5
}
