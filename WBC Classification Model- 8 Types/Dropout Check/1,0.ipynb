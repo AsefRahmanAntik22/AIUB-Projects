{
 "cells": [
  {
   "cell_type": "code",
   "execution_count": 1,
   "id": "495501e8",
   "metadata": {
    "execution": {
     "iopub.execute_input": "2025-04-28T12:41:06.341035Z",
     "iopub.status.busy": "2025-04-28T12:41:06.340281Z",
     "iopub.status.idle": "2025-04-28T12:41:29.036951Z",
     "shell.execute_reply": "2025-04-28T12:41:29.036346Z"
    },
    "papermill": {
     "duration": 22.703606,
     "end_time": "2025-04-28T12:41:29.038439",
     "exception": false,
     "start_time": "2025-04-28T12:41:06.334833",
     "status": "completed"
    },
    "tags": []
   },
   "outputs": [
    {
     "name": "stderr",
     "output_type": "stream",
     "text": [
      "2025-04-28 12:41:11.254515: E external/local_xla/xla/stream_executor/cuda/cuda_fft.cc:477] Unable to register cuFFT factory: Attempting to register factory for plugin cuFFT when one has already been registered\n",
      "WARNING: All log messages before absl::InitializeLog() is called are written to STDERR\n",
      "E0000 00:00:1745844071.484966      19 cuda_dnn.cc:8310] Unable to register cuDNN factory: Attempting to register factory for plugin cuDNN when one has already been registered\n",
      "E0000 00:00:1745844071.554276      19 cuda_blas.cc:1418] Unable to register cuBLAS factory: Attempting to register factory for plugin cuBLAS when one has already been registered\n"
     ]
    }
   ],
   "source": [
    "import os\n",
    "import numpy as np\n",
    "import pandas as pd\n",
    "import matplotlib.pyplot as plt\n",
    "import seaborn as sns\n",
    "import warnings\n",
    "warnings.filterwarnings(\"ignore\")\n",
    "\n",
    "# TensorFlow & Keras\n",
    "import tensorflow as tf\n",
    "from tensorflow.keras.models import Model\n",
    "from tensorflow.keras.utils import plot_model\n",
    "from tensorflow.keras.layers import Input, Concatenate\n",
    "from tensorflow.keras.layers import (Input, Dense, Flatten, Dropout, GlobalAveragePooling2D)\n",
    "from tensorflow.keras.applications import Xception, DenseNet121, InceptionV3\n",
    "from tensorflow.keras.optimizers import Adamax, Adam\n",
    "from tensorflow.keras.preprocessing.image import ImageDataGenerator\n",
    "from tensorflow.keras.metrics import Precision, Recall\n",
    "\n",
    "# Scikit-Learn\n",
    "from sklearn.model_selection import train_test_split, GridSearchCV, StratifiedKFold\n",
    "from sklearn.preprocessing import StandardScaler\n",
    "from sklearn.pipeline import Pipeline\n",
    "from sklearn.feature_selection import SelectKBest, SelectFromModel, f_classif\n",
    "from sklearn.linear_model import SGDClassifier, LogisticRegression\n",
    "from sklearn.svm import SVC\n",
    "from sklearn.neighbors import KNeighborsClassifier\n",
    "from sklearn.tree import DecisionTreeClassifier\n",
    "from sklearn.naive_bayes import GaussianNB\n",
    "from sklearn.neural_network import MLPClassifier\n",
    "from sklearn.ensemble import (\n",
    "    RandomForestClassifier, GradientBoostingClassifier, AdaBoostClassifier, \n",
    "    ExtraTreesClassifier, VotingClassifier, StackingClassifier\n",
    ")\n",
    "\n",
    "# Boosting Libraries\n",
    "from xgboost import XGBClassifier\n",
    "from lightgbm import LGBMClassifier\n",
    "\n",
    "# Evaluation Metrics\n",
    "from sklearn.metrics import (\n",
    "    accuracy_score, precision_score, recall_score, f1_score, confusion_matrix, ConfusionMatrixDisplay\n",
    ")\n",
    "\n",
    "#for parallel threading\n",
    "from joblib import parallel_backend\n",
    "import cv2\n",
    "\n",
    "#Model saving to disk\n",
    "import pickle\n",
    "\n",
    "# Suppress warnings\n",
    "warnings.filterwarnings(\"ignore\")"
   ]
  },
  {
   "cell_type": "code",
   "execution_count": 2,
   "id": "8e780783",
   "metadata": {
    "execution": {
     "iopub.execute_input": "2025-04-28T12:41:29.045929Z",
     "iopub.status.busy": "2025-04-28T12:41:29.045048Z",
     "iopub.status.idle": "2025-04-28T12:41:30.093015Z",
     "shell.execute_reply": "2025-04-28T12:41:30.092264Z"
    },
    "papermill": {
     "duration": 1.052439,
     "end_time": "2025-04-28T12:41:30.094090",
     "exception": false,
     "start_time": "2025-04-28T12:41:29.041651",
     "status": "completed"
    },
    "tags": []
   },
   "outputs": [
    {
     "name": "stdout",
     "output_type": "stream",
     "text": [
      "GPUs detected: 1\n"
     ]
    }
   ],
   "source": [
    "gpus = tf.config.list_physical_devices('GPU')\n",
    "if gpus:\n",
    "    try:\n",
    "        for gpu in gpus:\n",
    "            tf.config.experimental.set_memory_growth(gpu, True)\n",
    "        print(f\"GPUs detected: {len(gpus)}\")\n",
    "    except RuntimeError as e:\n",
    "        print(f\"Error setting GPU memory growth: {e}\")\n",
    "else:\n",
    "    print(\"No GPUs detected.\")"
   ]
  },
  {
   "cell_type": "code",
   "execution_count": 3,
   "id": "9215ad00",
   "metadata": {
    "execution": {
     "iopub.execute_input": "2025-04-28T12:41:30.100780Z",
     "iopub.status.busy": "2025-04-28T12:41:30.100560Z",
     "iopub.status.idle": "2025-04-28T12:41:30.104867Z",
     "shell.execute_reply": "2025-04-28T12:41:30.104317Z"
    },
    "papermill": {
     "duration": 0.008677,
     "end_time": "2025-04-28T12:41:30.105894",
     "exception": false,
     "start_time": "2025-04-28T12:41:30.097217",
     "status": "completed"
    },
    "tags": []
   },
   "outputs": [],
   "source": [
    "def data_frame(path):\n",
    "    class_paths = []\n",
    "    classes = []\n",
    "\n",
    "    for label in os.listdir(path):\n",
    "        class_dir = os.path.join(path, label)\n",
    "        if os.path.isdir(class_dir):  # Ensure it's a directory\n",
    "            for image in os.listdir(class_dir):\n",
    "                class_paths.append(os.path.join(class_dir, image))\n",
    "                classes.append(label)\n",
    "\n",
    "    df = pd.DataFrame({'Class Path': class_paths, 'Class': classes})\n",
    "    return df"
   ]
  },
  {
   "cell_type": "code",
   "execution_count": 4,
   "id": "e6090579",
   "metadata": {
    "execution": {
     "iopub.execute_input": "2025-04-28T12:41:30.112092Z",
     "iopub.status.busy": "2025-04-28T12:41:30.111871Z",
     "iopub.status.idle": "2025-04-28T12:41:30.304846Z",
     "shell.execute_reply": "2025-04-28T12:41:30.303998Z"
    },
    "papermill": {
     "duration": 0.197321,
     "end_time": "2025-04-28T12:41:30.306010",
     "exception": false,
     "start_time": "2025-04-28T12:41:30.108689",
     "status": "completed"
    },
    "tags": []
   },
   "outputs": [
    {
     "name": "stdout",
     "output_type": "stream",
     "text": [
      "Train size: 13673, Validation size: 1709, Test size: 1710\n"
     ]
    }
   ],
   "source": [
    "dataframe = data_frame('/kaggle/input/wbc-8type-original/bloodcells_dataset Original')\n",
    "from sklearn.model_selection import train_test_split\n",
    "train_dataframe, temp_dataframe = train_test_split(dataframe, \n",
    "                                                   test_size=0.2, \n",
    "                                                   random_state=42, \n",
    "                                                   stratify=dataframe['Class'])\n",
    "Validation_dataframe, test_dataframe = train_test_split(temp_dataframe, \n",
    "                                                        test_size=0.5, \n",
    "                                                        random_state=42, \n",
    "                                                        stratify=temp_dataframe['Class'])\n",
    "print(f\"Train size: {len(train_dataframe)}, Validation size: {len(Validation_dataframe)}, Test size: {len(test_dataframe)}\")"
   ]
  },
  {
   "cell_type": "code",
   "execution_count": 5,
   "id": "78a39acb",
   "metadata": {
    "execution": {
     "iopub.execute_input": "2025-04-28T12:41:30.312652Z",
     "iopub.status.busy": "2025-04-28T12:41:30.312409Z",
     "iopub.status.idle": "2025-04-28T12:41:30.316206Z",
     "shell.execute_reply": "2025-04-28T12:41:30.315654Z"
    },
    "papermill": {
     "duration": 0.008229,
     "end_time": "2025-04-28T12:41:30.317243",
     "exception": false,
     "start_time": "2025-04-28T12:41:30.309014",
     "status": "completed"
    },
    "tags": []
   },
   "outputs": [],
   "source": [
    "BATCH_SIZE = 32\n",
    "IMG_SIZE = (224, 224)\n",
    "EPOCH = 10\n",
    "img_shape=(224,224,3)\n",
    "labels = [\n",
    "    \"basophil\",\n",
    "    \"eosinophil\",\n",
    "    \"erythroblast\",\n",
    "    \"ig\",\n",
    "    \"lymphocyte\",\n",
    "    \"monocyte\",\n",
    "    \"neutrophil\",\n",
    "    \"platelet\"\n",
    "]"
   ]
  },
  {
   "cell_type": "code",
   "execution_count": 6,
   "id": "12ffb181",
   "metadata": {
    "execution": {
     "iopub.execute_input": "2025-04-28T12:41:30.323674Z",
     "iopub.status.busy": "2025-04-28T12:41:30.323409Z",
     "iopub.status.idle": "2025-04-28T12:41:30.328199Z",
     "shell.execute_reply": "2025-04-28T12:41:30.327683Z"
    },
    "papermill": {
     "duration": 0.009088,
     "end_time": "2025-04-28T12:41:30.329275",
     "exception": false,
     "start_time": "2025-04-28T12:41:30.320187",
     "status": "completed"
    },
    "tags": []
   },
   "outputs": [],
   "source": [
    "def apply_clahe(img):\n",
    "    \"\"\"Apply CLAHE after Adaptive Gray World Normalization.\"\"\"\n",
    "    lab = cv2.cvtColor(img, cv2.COLOR_RGB2LAB)\n",
    "    l, a, b = cv2.split(lab)\n",
    "    clahe = cv2.createCLAHE(clipLimit=0.03, tileGridSize=(8,8))\n",
    "    l = clahe.apply(l)\n",
    "    clahe_img = cv2.merge((l, a, b))\n",
    "    return cv2.cvtColor(clahe_img, cv2.COLOR_LAB2RGB)\n",
    "\n",
    "def preprocess_image(img):\n",
    "    \"\"\"First apply Adaptive Gray World, then CLAHE (No Normalization).\"\"\"\n",
    "    img = img.astype(np.uint8)  # Ensure correct data type\n",
    "    img = apply_clahe(img)  # Step 2: CLAHE\n",
    "    img = (img - np.mean(img)) / (np.std(img) + 1e-8) # step: 3: z score normalization\n",
    "    return img  "
   ]
  },
  {
   "cell_type": "code",
   "execution_count": 7,
   "id": "e3e0ac52",
   "metadata": {
    "execution": {
     "iopub.execute_input": "2025-04-28T12:41:30.335836Z",
     "iopub.status.busy": "2025-04-28T12:41:30.335148Z",
     "iopub.status.idle": "2025-04-28T12:41:30.339558Z",
     "shell.execute_reply": "2025-04-28T12:41:30.338853Z"
    },
    "papermill": {
     "duration": 0.008593,
     "end_time": "2025-04-28T12:41:30.340657",
     "exception": false,
     "start_time": "2025-04-28T12:41:30.332064",
     "status": "completed"
    },
    "tags": []
   },
   "outputs": [],
   "source": [
    "def preprocess_image2(image):\n",
    "    # Convert to float32\n",
    "    img = image.astype(np.float32)\n",
    "\n",
    "    # Apply Z-score Normalization\n",
    "    #img = (img - np.mean(img)) / (np.std(img) + 1e-8)\n",
    "\n",
    "    # Min-Max Scaling (for CLAHE)\n",
    "    img = (img - np.min(img)) / (np.ptp(img) + 1e-8)  # np.ptp = max - min\n",
    "    #img = (img * 255).astype(np.uint8)  # Convert to uint8 for CLAHE\n",
    "\n",
    "    # Apply CLAHE to each channel independently\n",
    "    #clahe = cv2.createCLAHE(clipLimit=0.02, tileGridSize=(8, 8))\n",
    "    #img_clahe = np.zeros_like(img)\n",
    "    \n",
    "    #for i in range(3):  # Apply CLAHE on each channel separately\n",
    "        #img_clahe[..., i] = clahe.apply(img[..., i])\n",
    "\n",
    "    # Convert back to float32 (normalize to [0,1])\n",
    "    #img_clahe = img_clahe.astype(np.float32) / 255.0  \n",
    "\n",
    "    return img"
   ]
  },
  {
   "cell_type": "code",
   "execution_count": 8,
   "id": "9c753159",
   "metadata": {
    "execution": {
     "iopub.execute_input": "2025-04-28T12:41:30.346857Z",
     "iopub.status.busy": "2025-04-28T12:41:30.346639Z",
     "iopub.status.idle": "2025-04-28T12:41:49.354158Z",
     "shell.execute_reply": "2025-04-28T12:41:49.353185Z"
    },
    "papermill": {
     "duration": 19.012263,
     "end_time": "2025-04-28T12:41:49.355649",
     "exception": false,
     "start_time": "2025-04-28T12:41:30.343386",
     "status": "completed"
    },
    "tags": []
   },
   "outputs": [
    {
     "name": "stdout",
     "output_type": "stream",
     "text": [
      "Found 13673 validated image filenames belonging to 8 classes.\n",
      "Found 1709 validated image filenames belonging to 8 classes.\n",
      "Found 1710 validated image filenames belonging to 8 classes.\n"
     ]
    }
   ],
   "source": [
    "data_generator = ImageDataGenerator(\n",
    "    preprocessing_function=preprocess_image2,\n",
    "    rotation_range=10,\n",
    "    shear_range=0.1,\n",
    "    zoom_range=0.05,\n",
    "    fill_mode='nearest',\n",
    ")\n",
    "test_data_generator = ImageDataGenerator(preprocessing_function=preprocess_image2)\n",
    "\n",
    "\n",
    "train_data = data_generator.flow_from_dataframe(train_dataframe, x_col='Class Path',\n",
    "                                  y_col='Class', batch_size=BATCH_SIZE,\n",
    "                                  target_size=IMG_SIZE, seed=42)\n",
    "\n",
    "validation_data = data_generator.flow_from_dataframe(Validation_dataframe, x_col='Class Path',\n",
    "                                     y_col='Class', batch_size=BATCH_SIZE,\n",
    "                                     target_size=IMG_SIZE, seed=42)\n",
    "\n",
    "test_data = test_data_generator.flow_from_dataframe(test_dataframe, x_col='Class Path',\n",
    "                                  y_col='Class', batch_size=BATCH_SIZE,\n",
    "                                  target_size=IMG_SIZE, shuffle=False, seed=42)"
   ]
  },
  {
   "cell_type": "code",
   "execution_count": 9,
   "id": "ae1a89fd",
   "metadata": {
    "execution": {
     "iopub.execute_input": "2025-04-28T12:41:49.362432Z",
     "iopub.status.busy": "2025-04-28T12:41:49.362170Z",
     "iopub.status.idle": "2025-04-28T12:41:49.367434Z",
     "shell.execute_reply": "2025-04-28T12:41:49.366869Z"
    },
    "papermill": {
     "duration": 0.009735,
     "end_time": "2025-04-28T12:41:49.368512",
     "exception": false,
     "start_time": "2025-04-28T12:41:49.358777",
     "status": "completed"
    },
    "tags": []
   },
   "outputs": [],
   "source": [
    "@tf.keras.utils.register_keras_serializable(package=\"Custom\", name=\"F1Score\")\n",
    "class F1Score(tf.keras.metrics.Metric):\n",
    "    def __init__(self, name='f1_score', **kwargs):\n",
    "        super().__init__(name=name, **kwargs)\n",
    "        self.precision = tf.keras.metrics.Precision()\n",
    "        self.recall = tf.keras.metrics.Recall()\n",
    "\n",
    "    def update_state(self, y_true, y_pred, sample_weight=None):\n",
    "        self.precision.update_state(y_true, y_pred, sample_weight)\n",
    "        self.recall.update_state(y_true, y_pred, sample_weight)\n",
    "\n",
    "    def result(self):\n",
    "        p = self.precision.result()\n",
    "        r = self.recall.result()\n",
    "        return 2 * (p * r) / (p + r + tf.keras.backend.epsilon())\n",
    "\n",
    "    def reset_states(self):\n",
    "        self.precision.reset_states()\n",
    "        self.recall.reset_states()"
   ]
  },
  {
   "cell_type": "code",
   "execution_count": 10,
   "id": "6de13f69",
   "metadata": {
    "execution": {
     "iopub.execute_input": "2025-04-28T12:41:49.374810Z",
     "iopub.status.busy": "2025-04-28T12:41:49.374583Z",
     "iopub.status.idle": "2025-04-28T12:41:54.594290Z",
     "shell.execute_reply": "2025-04-28T12:41:54.593665Z"
    },
    "papermill": {
     "duration": 5.224681,
     "end_time": "2025-04-28T12:41:54.595935",
     "exception": false,
     "start_time": "2025-04-28T12:41:49.371254",
     "status": "completed"
    },
    "tags": []
   },
   "outputs": [
    {
     "name": "stderr",
     "output_type": "stream",
     "text": [
      "I0000 00:00:1745844109.489245      19 gpu_device.cc:2022] Created device /job:localhost/replica:0/task:0/device:GPU:0 with 15513 MB memory:  -> device: 0, name: Tesla P100-PCIE-16GB, pci bus id: 0000:00:04.0, compute capability: 6.0\n"
     ]
    },
    {
     "name": "stdout",
     "output_type": "stream",
     "text": [
      "Downloading data from https://storage.googleapis.com/tensorflow/keras-applications/xception/xception_weights_tf_dim_ordering_tf_kernels_notop.h5\n",
      "\u001b[1m83683744/83683744\u001b[0m \u001b[32m━━━━━━━━━━━━━━━━━━━━\u001b[0m\u001b[37m\u001b[0m \u001b[1m3s\u001b[0m 0us/step\n"
     ]
    }
   ],
   "source": [
    "dropout_1_values = [0.20, 0.25, 0.30, 0.35]\n",
    "dropout_2_values = [0.20, 0.25, 0.30, 0.35]\n",
    "\n",
    "base_model = tf.keras.applications.Xception(include_top= False, weights= \"imagenet\",\n",
    "                            input_shape= img_shape, pooling= 'max')\n",
    "\n",
    "inputs = Input(shape = img_shape)\n",
    "x = base_model(inputs)\n",
    "x = Flatten()(x)\n",
    "x = Dropout(rate= dropout_1_values[1])(x)\n",
    "x = Dense(128, activation= 'relu')(x)\n",
    "x = Dropout(rate= dropout_2_values[0])(x)\n",
    "x = Dense(8, activation= 'softmax')(x)\n",
    "Xmodel = Model(inputs, x)\n",
    "\n",
    "base_model.trainable = True\n",
    "for layer in base_model.layers[:50]:\n",
    "    layer.trainable = False\n",
    "\n",
    "Xmodel.compile(Adamax(learning_rate= 0.001),\n",
    "              loss= 'categorical_crossentropy',\n",
    "              metrics= ['accuracy',\n",
    "                        Precision(name='precision'),\n",
    "                        Recall(name='recall'),\n",
    "                        F1Score()])"
   ]
  },
  {
   "cell_type": "code",
   "execution_count": 11,
   "id": "2b762174",
   "metadata": {
    "execution": {
     "iopub.execute_input": "2025-04-28T12:41:54.608075Z",
     "iopub.status.busy": "2025-04-28T12:41:54.607807Z",
     "iopub.status.idle": "2025-04-28T12:41:54.615795Z",
     "shell.execute_reply": "2025-04-28T12:41:54.615201Z"
    },
    "papermill": {
     "duration": 0.015588,
     "end_time": "2025-04-28T12:41:54.617121",
     "exception": false,
     "start_time": "2025-04-28T12:41:54.601533",
     "status": "completed"
    },
    "tags": []
   },
   "outputs": [],
   "source": [
    "from tensorflow.keras.callbacks import Callback\n",
    "\n",
    "class RestoreBestValidationModel(Callback):\n",
    "    def __init__(self):\n",
    "        super(RestoreBestValidationModel, self).__init__()\n",
    "        self.best_val_acc = -1\n",
    "        self.best_epoch = -1\n",
    "        self.best_weights = None\n",
    "\n",
    "    def on_epoch_end(self, epoch, logs=None):\n",
    "        val_acc = logs.get('val_accuracy')\n",
    "        if val_acc is not None:\n",
    "            if val_acc > self.best_val_acc or (val_acc == self.best_val_acc and epoch > self.best_epoch):\n",
    "                self.best_val_acc = val_acc\n",
    "                self.best_epoch = epoch\n",
    "                self.best_weights = self.model.get_weights()  \n",
    "                print(f\"Model weights updated at epoch {epoch + 1} with val_accuracy: {val_acc:.4f}\")\n",
    "\n",
    "    def on_train_end(self, logs=None):\n",
    "        if self.best_weights is not None:\n",
    "            print(f\"Restoring model weights from best epoch {self.best_epoch + 1} with val_accuracy: {self.best_val_acc:.4f}\")\n",
    "            self.model.set_weights(self.best_weights)  \n",
    "\n",
    "restore_best = RestoreBestValidationModel()"
   ]
  },
  {
   "cell_type": "code",
   "execution_count": 12,
   "id": "c8533aff",
   "metadata": {
    "execution": {
     "iopub.execute_input": "2025-04-28T12:41:54.630011Z",
     "iopub.status.busy": "2025-04-28T12:41:54.629772Z",
     "iopub.status.idle": "2025-04-28T13:13:06.643069Z",
     "shell.execute_reply": "2025-04-28T13:13:06.642278Z"
    },
    "papermill": {
     "duration": 1872.021954,
     "end_time": "2025-04-28T13:13:06.644460",
     "exception": false,
     "start_time": "2025-04-28T12:41:54.622506",
     "status": "completed"
    },
    "tags": []
   },
   "outputs": [
    {
     "name": "stdout",
     "output_type": "stream",
     "text": [
      "Epoch 1/10\n"
     ]
    },
    {
     "name": "stderr",
     "output_type": "stream",
     "text": [
      "WARNING: All log messages before absl::InitializeLog() is called are written to STDERR\n",
      "I0000 00:00:1745844140.277652      59 service.cc:148] XLA service 0x782a1406d320 initialized for platform CUDA (this does not guarantee that XLA will be used). Devices:\n",
      "I0000 00:00:1745844140.278943      59 service.cc:156]   StreamExecutor device (0): Tesla P100-PCIE-16GB, Compute Capability 6.0\n",
      "I0000 00:00:1745844142.345504      59 cuda_dnn.cc:529] Loaded cuDNN version 90300\n",
      "E0000 00:00:1745844148.062397      59 gpu_timer.cc:82] Delay kernel timed out: measured time has sub-optimal accuracy. There may be a missing warmup execution, please investigate in Nsight Systems.\n",
      "E0000 00:00:1745844148.251347      59 gpu_timer.cc:82] Delay kernel timed out: measured time has sub-optimal accuracy. There may be a missing warmup execution, please investigate in Nsight Systems.\n",
      "E0000 00:00:1745844148.439124      59 gpu_timer.cc:82] Delay kernel timed out: measured time has sub-optimal accuracy. There may be a missing warmup execution, please investigate in Nsight Systems.\n",
      "E0000 00:00:1745844149.452309      59 gpu_timer.cc:82] Delay kernel timed out: measured time has sub-optimal accuracy. There may be a missing warmup execution, please investigate in Nsight Systems.\n",
      "E0000 00:00:1745844149.657935      59 gpu_timer.cc:82] Delay kernel timed out: measured time has sub-optimal accuracy. There may be a missing warmup execution, please investigate in Nsight Systems.\n",
      "E0000 00:00:1745844150.088841      59 gpu_timer.cc:82] Delay kernel timed out: measured time has sub-optimal accuracy. There may be a missing warmup execution, please investigate in Nsight Systems.\n",
      "E0000 00:00:1745844150.317146      59 gpu_timer.cc:82] Delay kernel timed out: measured time has sub-optimal accuracy. There may be a missing warmup execution, please investigate in Nsight Systems.\n"
     ]
    },
    {
     "name": "stdout",
     "output_type": "stream",
     "text": [
      "\u001b[1m  1/428\u001b[0m \u001b[37m━━━━━━━━━━━━━━━━━━━━\u001b[0m \u001b[1m4:48:52\u001b[0m 41s/step - accuracy: 0.0625 - f1_score: 0.0000e+00 - loss: 3.1844 - precision: 0.0000e+00 - recall: 0.0000e+00"
     ]
    },
    {
     "name": "stderr",
     "output_type": "stream",
     "text": [
      "I0000 00:00:1745844156.032294      59 device_compiler.h:188] Compiled cluster using XLA!  This line is logged at most once for the lifetime of the process.\n"
     ]
    },
    {
     "name": "stdout",
     "output_type": "stream",
     "text": [
      "\u001b[1m427/428\u001b[0m \u001b[32m━━━━━━━━━━━━━━━━━━━\u001b[0m\u001b[37m━\u001b[0m \u001b[1m0s\u001b[0m 437ms/step - accuracy: 0.7909 - f1_score: 0.7869 - loss: 0.6219 - precision: 0.8840 - recall: 0.7239"
     ]
    },
    {
     "name": "stderr",
     "output_type": "stream",
     "text": [
      "E0000 00:00:1745844346.596604      59 gpu_timer.cc:82] Delay kernel timed out: measured time has sub-optimal accuracy. There may be a missing warmup execution, please investigate in Nsight Systems.\n",
      "E0000 00:00:1745844346.781849      59 gpu_timer.cc:82] Delay kernel timed out: measured time has sub-optimal accuracy. There may be a missing warmup execution, please investigate in Nsight Systems.\n",
      "E0000 00:00:1745844347.274205      59 gpu_timer.cc:82] Delay kernel timed out: measured time has sub-optimal accuracy. There may be a missing warmup execution, please investigate in Nsight Systems.\n",
      "E0000 00:00:1745844347.475475      59 gpu_timer.cc:82] Delay kernel timed out: measured time has sub-optimal accuracy. There may be a missing warmup execution, please investigate in Nsight Systems.\n",
      "E0000 00:00:1745844347.679470      59 gpu_timer.cc:82] Delay kernel timed out: measured time has sub-optimal accuracy. There may be a missing warmup execution, please investigate in Nsight Systems.\n",
      "E0000 00:00:1745844347.880782      59 gpu_timer.cc:82] Delay kernel timed out: measured time has sub-optimal accuracy. There may be a missing warmup execution, please investigate in Nsight Systems.\n",
      "E0000 00:00:1745844348.288470      59 gpu_timer.cc:82] Delay kernel timed out: measured time has sub-optimal accuracy. There may be a missing warmup execution, please investigate in Nsight Systems.\n",
      "E0000 00:00:1745844348.517605      59 gpu_timer.cc:82] Delay kernel timed out: measured time has sub-optimal accuracy. There may be a missing warmup execution, please investigate in Nsight Systems.\n",
      "E0000 00:00:1745844348.746537      59 gpu_timer.cc:82] Delay kernel timed out: measured time has sub-optimal accuracy. There may be a missing warmup execution, please investigate in Nsight Systems.\n",
      "E0000 00:00:1745844348.976117      59 gpu_timer.cc:82] Delay kernel timed out: measured time has sub-optimal accuracy. There may be a missing warmup execution, please investigate in Nsight Systems.\n",
      "2025-04-28 12:45:49.051504: E external/local_xla/xla/service/slow_operation_alarm.cc:65] Trying algorithm eng18{k11=0} for conv (f32[1536,1,3,3]{3,2,1,0}, u8[0]{0}) custom-call(f32[9,1536,7,7]{3,2,1,0}, f32[9,1536,7,7]{3,2,1,0}), window={size=3x3 pad=1_1x1_1}, dim_labels=bf01_oi01->bf01, feature_group_count=1536, custom_call_target=\"__cudnn$convBackwardFilter\", backend_config={\"cudnn_conv_backend_config\":{\"activation_mode\":\"kNone\",\"conv_result_scale\":1,\"leakyrelu_alpha\":0,\"side_input_scale\":0},\"force_earliest_schedule\":false,\"operation_queue_id\":\"0\",\"wait_on_operation_queues\":[]} is taking a while...\n",
      "E0000 00:00:1745844349.206597      59 gpu_timer.cc:82] Delay kernel timed out: measured time has sub-optimal accuracy. There may be a missing warmup execution, please investigate in Nsight Systems.\n",
      "E0000 00:00:1745844349.438505      59 gpu_timer.cc:82] Delay kernel timed out: measured time has sub-optimal accuracy. There may be a missing warmup execution, please investigate in Nsight Systems.\n",
      "E0000 00:00:1745844349.667811      59 gpu_timer.cc:82] Delay kernel timed out: measured time has sub-optimal accuracy. There may be a missing warmup execution, please investigate in Nsight Systems.\n",
      "2025-04-28 12:45:49.698037: E external/local_xla/xla/service/slow_operation_alarm.cc:133] The operation took 1.646645368s\n",
      "Trying algorithm eng18{k11=0} for conv (f32[1536,1,3,3]{3,2,1,0}, u8[0]{0}) custom-call(f32[9,1536,7,7]{3,2,1,0}, f32[9,1536,7,7]{3,2,1,0}), window={size=3x3 pad=1_1x1_1}, dim_labels=bf01_oi01->bf01, feature_group_count=1536, custom_call_target=\"__cudnn$convBackwardFilter\", backend_config={\"cudnn_conv_backend_config\":{\"activation_mode\":\"kNone\",\"conv_result_scale\":1,\"leakyrelu_alpha\":0,\"side_input_scale\":0},\"force_earliest_schedule\":false,\"operation_queue_id\":\"0\",\"wait_on_operation_queues\":[]} is taking a while...\n"
     ]
    },
    {
     "name": "stdout",
     "output_type": "stream",
     "text": [
      "\u001b[1m428/428\u001b[0m \u001b[32m━━━━━━━━━━━━━━━━━━━━\u001b[0m\u001b[37m\u001b[0m \u001b[1m0s\u001b[0m 466ms/step - accuracy: 0.7911 - f1_score: 0.7872 - loss: 0.6211 - precision: 0.8841 - recall: 0.7242Model weights updated at epoch 1 with val_accuracy: 0.9719\n",
      "\u001b[1m428/428\u001b[0m \u001b[32m━━━━━━━━━━━━━━━━━━━━\u001b[0m\u001b[37m\u001b[0m \u001b[1m271s\u001b[0m 539ms/step - accuracy: 0.7914 - f1_score: 0.7875 - loss: 0.6203 - precision: 0.8843 - recall: 0.7246 - val_accuracy: 0.9719 - val_f1_score: 0.9716 - val_loss: 0.0856 - val_precision: 0.9730 - val_recall: 0.9702\n",
      "Epoch 2/10\n",
      "\u001b[1m428/428\u001b[0m \u001b[32m━━━━━━━━━━━━━━━━━━━━\u001b[0m\u001b[37m\u001b[0m \u001b[1m180s\u001b[0m 420ms/step - accuracy: 0.9763 - f1_score: 0.9761 - loss: 0.0837 - precision: 0.9781 - recall: 0.9740 - val_accuracy: 0.9649 - val_f1_score: 0.9654 - val_loss: 0.1046 - val_precision: 0.9671 - val_recall: 0.9637\n",
      "Epoch 3/10\n",
      "\u001b[1m428/428\u001b[0m \u001b[32m━━━━━━━━━━━━━━━━━━━━\u001b[0m\u001b[37m\u001b[0m \u001b[1m0s\u001b[0m 371ms/step - accuracy: 0.9829 - f1_score: 0.9835 - loss: 0.0563 - precision: 0.9853 - recall: 0.9816Model weights updated at epoch 3 with val_accuracy: 0.9754\n",
      "\u001b[1m428/428\u001b[0m \u001b[32m━━━━━━━━━━━━━━━━━━━━\u001b[0m\u001b[37m\u001b[0m \u001b[1m178s\u001b[0m 417ms/step - accuracy: 0.9829 - f1_score: 0.9835 - loss: 0.0563 - precision: 0.9853 - recall: 0.9816 - val_accuracy: 0.9754 - val_f1_score: 0.9760 - val_loss: 0.0786 - val_precision: 0.9766 - val_recall: 0.9754\n",
      "Epoch 4/10\n",
      "\u001b[1m428/428\u001b[0m \u001b[32m━━━━━━━━━━━━━━━━━━━━\u001b[0m\u001b[37m\u001b[0m \u001b[1m0s\u001b[0m 365ms/step - accuracy: 0.9859 - f1_score: 0.9861 - loss: 0.0476 - precision: 0.9873 - recall: 0.9850Model weights updated at epoch 4 with val_accuracy: 0.9807\n",
      "\u001b[1m428/428\u001b[0m \u001b[32m━━━━━━━━━━━━━━━━━━━━\u001b[0m\u001b[37m\u001b[0m \u001b[1m176s\u001b[0m 410ms/step - accuracy: 0.9859 - f1_score: 0.9861 - loss: 0.0476 - precision: 0.9873 - recall: 0.9850 - val_accuracy: 0.9807 - val_f1_score: 0.9810 - val_loss: 0.0684 - val_precision: 0.9813 - val_recall: 0.9807\n",
      "Epoch 5/10\n",
      "\u001b[1m428/428\u001b[0m \u001b[32m━━━━━━━━━━━━━━━━━━━━\u001b[0m\u001b[37m\u001b[0m \u001b[1m176s\u001b[0m 410ms/step - accuracy: 0.9911 - f1_score: 0.9910 - loss: 0.0312 - precision: 0.9919 - recall: 0.9901 - val_accuracy: 0.9702 - val_f1_score: 0.9704 - val_loss: 0.1037 - val_precision: 0.9713 - val_recall: 0.9696\n",
      "Epoch 6/10\n",
      "\u001b[1m428/428\u001b[0m \u001b[32m━━━━━━━━━━━━━━━━━━━━\u001b[0m\u001b[37m\u001b[0m \u001b[1m179s\u001b[0m 417ms/step - accuracy: 0.9934 - f1_score: 0.9933 - loss: 0.0204 - precision: 0.9934 - recall: 0.9932 - val_accuracy: 0.9713 - val_f1_score: 0.9710 - val_loss: 0.1020 - val_precision: 0.9724 - val_recall: 0.9696\n",
      "Epoch 7/10\n",
      "\u001b[1m428/428\u001b[0m \u001b[32m━━━━━━━━━━━━━━━━━━━━\u001b[0m\u001b[37m\u001b[0m \u001b[1m176s\u001b[0m 412ms/step - accuracy: 0.9943 - f1_score: 0.9945 - loss: 0.0193 - precision: 0.9950 - recall: 0.9939 - val_accuracy: 0.9789 - val_f1_score: 0.9792 - val_loss: 0.0926 - val_precision: 0.9806 - val_recall: 0.9778\n",
      "Epoch 8/10\n",
      "\u001b[1m428/428\u001b[0m \u001b[32m━━━━━━━━━━━━━━━━━━━━\u001b[0m\u001b[37m\u001b[0m \u001b[1m178s\u001b[0m 415ms/step - accuracy: 0.9940 - f1_score: 0.9939 - loss: 0.0166 - precision: 0.9944 - recall: 0.9935 - val_accuracy: 0.9778 - val_f1_score: 0.9775 - val_loss: 0.1062 - val_precision: 0.9783 - val_recall: 0.9766\n",
      "Epoch 9/10\n",
      "\u001b[1m428/428\u001b[0m \u001b[32m━━━━━━━━━━━━━━━━━━━━\u001b[0m\u001b[37m\u001b[0m \u001b[1m180s\u001b[0m 420ms/step - accuracy: 0.9941 - f1_score: 0.9944 - loss: 0.0178 - precision: 0.9954 - recall: 0.9933 - val_accuracy: 0.9725 - val_f1_score: 0.9725 - val_loss: 0.1315 - val_precision: 0.9725 - val_recall: 0.9725\n",
      "Epoch 10/10\n",
      "\u001b[1m428/428\u001b[0m \u001b[32m━━━━━━━━━━━━━━━━━━━━\u001b[0m\u001b[37m\u001b[0m \u001b[1m178s\u001b[0m 415ms/step - accuracy: 0.9964 - f1_score: 0.9963 - loss: 0.0112 - precision: 0.9964 - recall: 0.9962 - val_accuracy: 0.9743 - val_f1_score: 0.9745 - val_loss: 0.1167 - val_precision: 0.9748 - val_recall: 0.9743\n",
      "Restoring model weights from best epoch 4 with val_accuracy: 0.9807\n"
     ]
    }
   ],
   "source": [
    "history_X = Xmodel.fit(train_data,\n",
    "                 epochs=EPOCH,             \n",
    "                 validation_data=validation_data,\n",
    "                 callbacks=[restore_best],\n",
    "                 shuffle= False)"
   ]
  },
  {
   "cell_type": "code",
   "execution_count": 13,
   "id": "e8445951",
   "metadata": {
    "execution": {
     "iopub.execute_input": "2025-04-28T13:13:07.025243Z",
     "iopub.status.busy": "2025-04-28T13:13:07.024410Z",
     "iopub.status.idle": "2025-04-28T13:13:07.032511Z",
     "shell.execute_reply": "2025-04-28T13:13:07.031661Z"
    },
    "papermill": {
     "duration": 0.198214,
     "end_time": "2025-04-28T13:13:07.033684",
     "exception": false,
     "start_time": "2025-04-28T13:13:06.835470",
     "status": "completed"
    },
    "tags": []
   },
   "outputs": [
    {
     "name": "stdout",
     "output_type": "stream",
     "text": [
      "Lowest Loss: 0.06839672476053238 at index 3\n",
      "Highest Accuracy: 0.9806904792785645 at index 3\n",
      "Highest Precision: 0.9812646508216858 at index 3\n",
      "Highest Recall: 0.9806904792785645 at index 3\n",
      "Highest F1-score: 0.980977475643158 at index 3\n"
     ]
    }
   ],
   "source": [
    "# Extract metrics for XCEPTION MODEL\n",
    "tr_acc_X = history_X.history['accuracy']\n",
    "tr_loss_X = history_X.history['loss']\n",
    "tr_per_X = history_X.history['precision']\n",
    "tr_recall_X = history_X.history['recall']\n",
    "tr_fscore_X = history_X.history['f1_score']\n",
    "val_acc_X = history_X.history['val_accuracy']\n",
    "val_loss_X = history_X.history['val_loss']\n",
    "val_per_X = history_X.history['val_precision']\n",
    "val_recall_X = history_X.history['val_recall']\n",
    "val_fscore_X = history_X.history['val_f1_score']\n",
    "\n",
    "# Get the best epochs for each metric\n",
    "index_loss_X = np.argmin(val_loss_X)\n",
    "loss_lowest_X = val_loss_X[index_loss_X]\n",
    "index_acc_X = np.argmax(val_acc_X)\n",
    "acc_highest_X = val_acc_X[index_acc_X]\n",
    "index_precision_X = np.argmax(val_per_X)\n",
    "pre_highest_X = val_per_X[index_precision_X]\n",
    "index_recall_X = np.argmax(val_recall_X)\n",
    "recall_highest_X = val_recall_X[index_recall_X]\n",
    "index_fscore_X = np.argmax(val_fscore_X)\n",
    "fscore_highest_X = val_fscore_X[index_fscore_X]\n",
    "\n",
    "# Print results\n",
    "print(f\"Lowest Loss: {loss_lowest_X} at index {index_loss_X}\")\n",
    "print(f\"Highest Accuracy: {acc_highest_X} at index {index_acc_X}\")\n",
    "print(f\"Highest Precision: {pre_highest_X} at index {index_precision_X}\")\n",
    "print(f\"Highest Recall: {recall_highest_X} at index {index_recall_X}\")\n",
    "print(f\"Highest F1-score: {fscore_highest_X} at index {index_fscore_X}\")\n",
    "\n",
    "# Epochs for plotting\n",
    "Epochs_X = [i + 1 for i in range(len(tr_acc_X))]\n",
    "\n",
    "# Define a modern style\n",
    "plt.style.use('ggplot')"
   ]
  },
  {
   "cell_type": "code",
   "execution_count": 14,
   "id": "69639cca",
   "metadata": {
    "execution": {
     "iopub.execute_input": "2025-04-28T13:13:07.411254Z",
     "iopub.status.busy": "2025-04-28T13:13:07.410974Z",
     "iopub.status.idle": "2025-04-28T13:13:07.713103Z",
     "shell.execute_reply": "2025-04-28T13:13:07.712339Z"
    },
    "papermill": {
     "duration": 0.491782,
     "end_time": "2025-04-28T13:13:07.715016",
     "exception": false,
     "start_time": "2025-04-28T13:13:07.223234",
     "status": "completed"
    },
    "tags": []
   },
   "outputs": [
    {
     "data": {
      "image/png": "[encoded data removed]",
      "text/plain": [
       "<Figure size 1000x600 with 1 Axes>"
      ]
     },
     "metadata": {},
     "output_type": "display_data"
    },
    {
     "name": "stdout",
     "output_type": "stream",
     "text": [
      "3\n"
     ]
    }
   ],
   "source": [
    "# Plot Training and Validation Loss\n",
    "plt.figure(figsize=(10, 6))\n",
    "plt.plot(Epochs_X, tr_loss_X, color='red', label='Training Loss', linewidth=2)\n",
    "plt.plot(Epochs_X, val_loss_X, color='green', label='Validation Loss', linestyle='--', linewidth=2)\n",
    "plt.scatter(index_loss_X + 1, loss_lowest_X, s=150, c='blue', label=f'Best epoch = {index_loss_X + 1}', edgecolors='black')\n",
    "plt.title('Training and Validation Loss', fontsize=14, fontweight='bold')\n",
    "plt.xlabel('Epochs', fontsize=12)\n",
    "plt.ylabel('Loss', fontsize=12)\n",
    "plt.legend(fontsize=10)\n",
    "plt.grid(visible=True, linestyle='--', alpha=0.5)\n",
    "plt.show()\n",
    "\n",
    "print(np.argmin(val_loss_X))"
   ]
  },
  {
   "cell_type": "code",
   "execution_count": 15,
   "id": "58efef41",
   "metadata": {
    "execution": {
     "iopub.execute_input": "2025-04-28T13:13:08.109116Z",
     "iopub.status.busy": "2025-04-28T13:13:08.108838Z",
     "iopub.status.idle": "2025-04-28T13:13:08.301355Z",
     "shell.execute_reply": "2025-04-28T13:13:08.300563Z"
    },
    "papermill": {
     "duration": 0.38628,
     "end_time": "2025-04-28T13:13:08.302740",
     "exception": false,
     "start_time": "2025-04-28T13:13:07.916460",
     "status": "completed"
    },
    "tags": []
   },
   "outputs": [
    {
     "data": {
      "image/png": "[encoded data removed]",
      "text/plain": [
       "<Figure size 1000x600 with 1 Axes>"
      ]
     },
     "metadata": {},
     "output_type": "display_data"
    }
   ],
   "source": [
    "# Plot Training and Validation Accuracy\n",
    "plt.figure(figsize=(10, 6))\n",
    "plt.plot(Epochs_X, tr_acc_X, color='purple', label='Training Accuracy', linewidth=2)\n",
    "plt.plot(Epochs_X, val_acc_X, color='orange', label='Validation Accuracy', linestyle='--', linewidth=2)\n",
    "plt.scatter(index_acc_X + 1, acc_highest_X, s=150, c='blue', label=f'Best epoch = {index_acc_X + 1}', edgecolors='black')\n",
    "plt.title('Training and Validation Accuracy', fontsize=14, fontweight='bold')\n",
    "plt.xlabel('Epochs', fontsize=12)\n",
    "plt.ylabel('Accuracy', fontsize=12)\n",
    "plt.legend(fontsize=10)\n",
    "plt.grid(visible=True, linestyle='--', alpha=0.5)\n",
    "plt.show()"
   ]
  }
 ],
 "metadata": {
  "kaggle": {
   "accelerator": "gpu",
   "dataSources": [
    {
     "datasetId": 7275041,
     "sourceId": 11600142,
     "sourceType": "datasetVersion"
    }
   ],
   "isGpuEnabled": true,
   "isInternetEnabled": true,
   "language": "python",
   "sourceType": "notebook"
  },
  "kernelspec": {
   "display_name": "py310",
   "language": "python",
   "name": "python3"
  },
  "language_info": {
   "codemirror_mode": {
    "name": "ipython",
    "version": 3
   },
   "file_extension": ".py",
   "mimetype": "text/x-python",
   "name": "python",
   "nbconvert_exporter": "python",
   "pygments_lexer": "ipython3",
   "version": "3.11.11"
  },
  "papermill": {
   "default_parameters": {},
   "duration": 1930.194033,
   "end_time": "2025-04-28T13:13:12.149461",
   "environment_variables": {},
   "exception": null,
   "input_path": "__notebook__.ipynb",
   "output_path": "__notebook__.ipynb",
   "parameters": {},
   "start_time": "2025-04-28T12:41:01.955428",
   "version": "2.6.0"
  }
 },
 "nbformat": 4,
 "nbformat_minor": 5
}
