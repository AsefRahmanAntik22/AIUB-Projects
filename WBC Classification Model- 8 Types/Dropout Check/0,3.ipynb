{
 "cells": [
  {
   "cell_type": "code",
   "execution_count": 1,
   "id": "9c0032ad",
   "metadata": {
    "execution": {
     "iopub.execute_input": "2025-04-28T12:56:15.601725Z",
     "iopub.status.busy": "2025-04-28T12:56:15.601522Z",
     "iopub.status.idle": "2025-04-28T12:56:35.577594Z",
     "shell.execute_reply": "2025-04-28T12:56:35.576764Z"
    },
    "papermill": {
     "duration": 19.981792,
     "end_time": "2025-04-28T12:56:35.579070",
     "exception": false,
     "start_time": "2025-04-28T12:56:15.597278",
     "status": "completed"
    },
    "tags": []
   },
   "outputs": [
    {
     "name": "stderr",
     "output_type": "stream",
     "text": [
      "2025-04-28 12:56:20.022066: E external/local_xla/xla/stream_executor/cuda/cuda_fft.cc:477] Unable to register cuFFT factory: Attempting to register factory for plugin cuFFT when one has already been registered\n",
      "WARNING: All log messages before absl::InitializeLog() is called are written to STDERR\n",
      "E0000 00:00:1745844980.219066      19 cuda_dnn.cc:8310] Unable to register cuDNN factory: Attempting to register factory for plugin cuDNN when one has already been registered\n",
      "E0000 00:00:1745844980.276251      19 cuda_blas.cc:1418] Unable to register cuBLAS factory: Attempting to register factory for plugin cuBLAS when one has already been registered\n"
     ]
    }
   ],
   "source": [
    "import os\n",
    "import numpy as np\n",
    "import pandas as pd\n",
    "import matplotlib.pyplot as plt\n",
    "import seaborn as sns\n",
    "import warnings\n",
    "warnings.filterwarnings(\"ignore\")\n",
    "\n",
    "# TensorFlow & Keras\n",
    "import tensorflow as tf\n",
    "from tensorflow.keras.models import Model\n",
    "from tensorflow.keras.utils import plot_model\n",
    "from tensorflow.keras.layers import Input, Concatenate\n",
    "from tensorflow.keras.layers import (Input, Dense, Flatten, Dropout, GlobalAveragePooling2D)\n",
    "from tensorflow.keras.applications import Xception, DenseNet121, InceptionV3\n",
    "from tensorflow.keras.optimizers import Adamax, Adam\n",
    "from tensorflow.keras.preprocessing.image import ImageDataGenerator\n",
    "from tensorflow.keras.metrics import Precision, Recall\n",
    "\n",
    "# Scikit-Learn\n",
    "from sklearn.model_selection import train_test_split, GridSearchCV, StratifiedKFold\n",
    "from sklearn.preprocessing import StandardScaler\n",
    "from sklearn.pipeline import Pipeline\n",
    "from sklearn.feature_selection import SelectKBest, SelectFromModel, f_classif\n",
    "from sklearn.linear_model import SGDClassifier, LogisticRegression\n",
    "from sklearn.svm import SVC\n",
    "from sklearn.neighbors import KNeighborsClassifier\n",
    "from sklearn.tree import DecisionTreeClassifier\n",
    "from sklearn.naive_bayes import GaussianNB\n",
    "from sklearn.neural_network import MLPClassifier\n",
    "from sklearn.ensemble import (\n",
    "    RandomForestClassifier, GradientBoostingClassifier, AdaBoostClassifier, \n",
    "    ExtraTreesClassifier, VotingClassifier, StackingClassifier\n",
    ")\n",
    "\n",
    "# Boosting Libraries\n",
    "from xgboost import XGBClassifier\n",
    "from lightgbm import LGBMClassifier\n",
    "\n",
    "# Evaluation Metrics\n",
    "from sklearn.metrics import (\n",
    "    accuracy_score, precision_score, recall_score, f1_score, confusion_matrix, ConfusionMatrixDisplay\n",
    ")\n",
    "\n",
    "#for parallel threading\n",
    "from joblib import parallel_backend\n",
    "import cv2\n",
    "\n",
    "#Model saving to disk\n",
    "import pickle\n",
    "\n",
    "# Suppress warnings\n",
    "warnings.filterwarnings(\"ignore\")"
   ]
  },
  {
   "cell_type": "code",
   "execution_count": 2,
   "id": "9a2b4377",
   "metadata": {
    "execution": {
     "iopub.execute_input": "2025-04-28T12:56:35.586465Z",
     "iopub.status.busy": "2025-04-28T12:56:35.585638Z",
     "iopub.status.idle": "2025-04-28T12:56:36.471672Z",
     "shell.execute_reply": "2025-04-28T12:56:36.470802Z"
    },
    "papermill": {
     "duration": 0.890551,
     "end_time": "2025-04-28T12:56:36.472849",
     "exception": false,
     "start_time": "2025-04-28T12:56:35.582298",
     "status": "completed"
    },
    "tags": []
   },
   "outputs": [
    {
     "name": "stdout",
     "output_type": "stream",
     "text": [
      "GPUs detected: 1\n"
     ]
    }
   ],
   "source": [
    "gpus = tf.config.list_physical_devices('GPU')\n",
    "if gpus:\n",
    "    try:\n",
    "        for gpu in gpus:\n",
    "            tf.config.experimental.set_memory_growth(gpu, True)\n",
    "        print(f\"GPUs detected: {len(gpus)}\")\n",
    "    except RuntimeError as e:\n",
    "        print(f\"Error setting GPU memory growth: {e}\")\n",
    "else:\n",
    "    print(\"No GPUs detected.\")"
   ]
  },
  {
   "cell_type": "code",
   "execution_count": 3,
   "id": "95356910",
   "metadata": {
    "execution": {
     "iopub.execute_input": "2025-04-28T12:56:36.479426Z",
     "iopub.status.busy": "2025-04-28T12:56:36.479188Z",
     "iopub.status.idle": "2025-04-28T12:56:36.483434Z",
     "shell.execute_reply": "2025-04-28T12:56:36.482913Z"
    },
    "papermill": {
     "duration": 0.008497,
     "end_time": "2025-04-28T12:56:36.484394",
     "exception": false,
     "start_time": "2025-04-28T12:56:36.475897",
     "status": "completed"
    },
    "tags": []
   },
   "outputs": [],
   "source": [
    "def data_frame(path):\n",
    "    class_paths = []\n",
    "    classes = []\n",
    "\n",
    "    for label in os.listdir(path):\n",
    "        class_dir = os.path.join(path, label)\n",
    "        if os.path.isdir(class_dir):  # Ensure it's a directory\n",
    "            for image in os.listdir(class_dir):\n",
    "                class_paths.append(os.path.join(class_dir, image))\n",
    "                classes.append(label)\n",
    "\n",
    "    df = pd.DataFrame({'Class Path': class_paths, 'Class': classes})\n",
    "    return df"
   ]
  },
  {
   "cell_type": "code",
   "execution_count": 4,
   "id": "94a60dd3",
   "metadata": {
    "execution": {
     "iopub.execute_input": "2025-04-28T12:56:36.490484Z",
     "iopub.status.busy": "2025-04-28T12:56:36.490296Z",
     "iopub.status.idle": "2025-04-28T12:56:36.754053Z",
     "shell.execute_reply": "2025-04-28T12:56:36.753182Z"
    },
    "papermill": {
     "duration": 0.268189,
     "end_time": "2025-04-28T12:56:36.755273",
     "exception": false,
     "start_time": "2025-04-28T12:56:36.487084",
     "status": "completed"
    },
    "tags": []
   },
   "outputs": [
    {
     "name": "stdout",
     "output_type": "stream",
     "text": [
      "Train size: 13673, Validation size: 1709, Test size: 1710\n"
     ]
    }
   ],
   "source": [
    "dataframe = data_frame('/kaggle/input/blood-mining/bloodcells_dataset')\n",
    "from sklearn.model_selection import train_test_split\n",
    "train_dataframe, temp_dataframe = train_test_split(dataframe, \n",
    "                                                   test_size=0.2, \n",
    "                                                   random_state=42, \n",
    "                                                   stratify=dataframe['Class'])\n",
    "Validation_dataframe, test_dataframe = train_test_split(temp_dataframe, \n",
    "                                                        test_size=0.5, \n",
    "                                                        random_state=42, \n",
    "                                                        stratify=temp_dataframe['Class'])\n",
    "print(f\"Train size: {len(train_dataframe)}, Validation size: {len(Validation_dataframe)}, Test size: {len(test_dataframe)}\")"
   ]
  },
  {
   "cell_type": "code",
   "execution_count": 5,
   "id": "17f2cb70",
   "metadata": {
    "execution": {
     "iopub.execute_input": "2025-04-28T12:56:36.762703Z",
     "iopub.status.busy": "2025-04-28T12:56:36.762470Z",
     "iopub.status.idle": "2025-04-28T12:56:36.766189Z",
     "shell.execute_reply": "2025-04-28T12:56:36.765490Z"
    },
    "papermill": {
     "duration": 0.009063,
     "end_time": "2025-04-28T12:56:36.767240",
     "exception": false,
     "start_time": "2025-04-28T12:56:36.758177",
     "status": "completed"
    },
    "tags": []
   },
   "outputs": [],
   "source": [
    "BATCH_SIZE = 32\n",
    "IMG_SIZE = (224, 224)\n",
    "EPOCH = 10\n",
    "img_shape=(224,224,3)\n",
    "labels = [\n",
    "    \"basophil\",\n",
    "    \"eosinophil\",\n",
    "    \"erythroblast\",\n",
    "    \"ig\",\n",
    "    \"lymphocyte\",\n",
    "    \"monocyte\",\n",
    "    \"neutrophil\",\n",
    "    \"platelet\"\n",
    "]"
   ]
  },
  {
   "cell_type": "code",
   "execution_count": 6,
   "id": "8709d7b6",
   "metadata": {
    "execution": {
     "iopub.execute_input": "2025-04-28T12:56:36.773168Z",
     "iopub.status.busy": "2025-04-28T12:56:36.772970Z",
     "iopub.status.idle": "2025-04-28T12:56:36.777670Z",
     "shell.execute_reply": "2025-04-28T12:56:36.777034Z"
    },
    "papermill": {
     "duration": 0.008812,
     "end_time": "2025-04-28T12:56:36.778655",
     "exception": false,
     "start_time": "2025-04-28T12:56:36.769843",
     "status": "completed"
    },
    "tags": []
   },
   "outputs": [],
   "source": [
    "def apply_clahe(img):\n",
    "    \"\"\"Apply CLAHE after Adaptive Gray World Normalization.\"\"\"\n",
    "    lab = cv2.cvtColor(img, cv2.COLOR_RGB2LAB)\n",
    "    l, a, b = cv2.split(lab)\n",
    "    clahe = cv2.createCLAHE(clipLimit=0.03, tileGridSize=(8,8))\n",
    "    l = clahe.apply(l)\n",
    "    clahe_img = cv2.merge((l, a, b))\n",
    "    return cv2.cvtColor(clahe_img, cv2.COLOR_LAB2RGB)\n",
    "\n",
    "def preprocess_image(img):\n",
    "    \"\"\"First apply Adaptive Gray World, then CLAHE (No Normalization).\"\"\"\n",
    "    img = img.astype(np.uint8)  # Ensure correct data type\n",
    "    img = apply_clahe(img)  # Step 2: CLAHE\n",
    "    img = (img - np.mean(img)) / (np.std(img) + 1e-8) # step: 3: z score normalization\n",
    "    return img  "
   ]
  },
  {
   "cell_type": "code",
   "execution_count": 7,
   "id": "7393512b",
   "metadata": {
    "execution": {
     "iopub.execute_input": "2025-04-28T12:56:36.784660Z",
     "iopub.status.busy": "2025-04-28T12:56:36.784456Z",
     "iopub.status.idle": "2025-04-28T12:56:36.788200Z",
     "shell.execute_reply": "2025-04-28T12:56:36.787562Z"
    },
    "papermill": {
     "duration": 0.007931,
     "end_time": "2025-04-28T12:56:36.789273",
     "exception": false,
     "start_time": "2025-04-28T12:56:36.781342",
     "status": "completed"
    },
    "tags": []
   },
   "outputs": [],
   "source": [
    "def preprocess_image2(image):\n",
    "    # Convert to float32\n",
    "    img = image.astype(np.float32)\n",
    "\n",
    "    # Apply Z-score Normalization\n",
    "    #img = (img - np.mean(img)) / (np.std(img) + 1e-8)\n",
    "\n",
    "    # Min-Max Scaling (for CLAHE)\n",
    "    img = (img - np.min(img)) / (np.ptp(img) + 1e-8)  # np.ptp = max - min\n",
    "    #img = (img * 255).astype(np.uint8)  # Convert to uint8 for CLAHE\n",
    "\n",
    "    # Apply CLAHE to each channel independently\n",
    "    #clahe = cv2.createCLAHE(clipLimit=0.02, tileGridSize=(8, 8))\n",
    "    #img_clahe = np.zeros_like(img)\n",
    "    \n",
    "    #for i in range(3):  # Apply CLAHE on each channel separately\n",
    "        #img_clahe[..., i] = clahe.apply(img[..., i])\n",
    "\n",
    "    # Convert back to float32 (normalize to [0,1])\n",
    "    #img_clahe = img_clahe.astype(np.float32) / 255.0  \n",
    "\n",
    "    return img"
   ]
  },
  {
   "cell_type": "code",
   "execution_count": 8,
   "id": "552360d0",
   "metadata": {
    "execution": {
     "iopub.execute_input": "2025-04-28T12:56:36.795110Z",
     "iopub.status.busy": "2025-04-28T12:56:36.794864Z",
     "iopub.status.idle": "2025-04-28T12:57:16.825026Z",
     "shell.execute_reply": "2025-04-28T12:57:16.824297Z"
    },
    "papermill": {
     "duration": 40.034425,
     "end_time": "2025-04-28T12:57:16.826238",
     "exception": false,
     "start_time": "2025-04-28T12:56:36.791813",
     "status": "completed"
    },
    "tags": []
   },
   "outputs": [
    {
     "name": "stdout",
     "output_type": "stream",
     "text": [
      "Found 13673 validated image filenames belonging to 8 classes.\n",
      "Found 1709 validated image filenames belonging to 8 classes.\n",
      "Found 1710 validated image filenames belonging to 8 classes.\n"
     ]
    }
   ],
   "source": [
    "data_generator = ImageDataGenerator(\n",
    "    preprocessing_function=preprocess_image2,\n",
    "    rotation_range=10,\n",
    "    shear_range=0.1,\n",
    "    zoom_range=0.05,\n",
    "    fill_mode='nearest',\n",
    ")\n",
    "test_data_generator = ImageDataGenerator(preprocessing_function=preprocess_image2)\n",
    "\n",
    "\n",
    "train_data = data_generator.flow_from_dataframe(train_dataframe, x_col='Class Path',\n",
    "                                  y_col='Class', batch_size=BATCH_SIZE,\n",
    "                                  target_size=IMG_SIZE, seed=42)\n",
    "\n",
    "validation_data = data_generator.flow_from_dataframe(Validation_dataframe, x_col='Class Path',\n",
    "                                     y_col='Class', batch_size=BATCH_SIZE,\n",
    "                                     target_size=IMG_SIZE, seed=42)\n",
    "\n",
    "test_data = test_data_generator.flow_from_dataframe(test_dataframe, x_col='Class Path',\n",
    "                                  y_col='Class', batch_size=BATCH_SIZE,\n",
    "                                  target_size=IMG_SIZE, shuffle=False, seed=42)"
   ]
  },
  {
   "cell_type": "code",
   "execution_count": 9,
   "id": "635515cc",
   "metadata": {
    "execution": {
     "iopub.execute_input": "2025-04-28T12:57:16.833066Z",
     "iopub.status.busy": "2025-04-28T12:57:16.832795Z",
     "iopub.status.idle": "2025-04-28T12:57:16.838439Z",
     "shell.execute_reply": "2025-04-28T12:57:16.837724Z"
    },
    "papermill": {
     "duration": 0.010164,
     "end_time": "2025-04-28T12:57:16.839484",
     "exception": false,
     "start_time": "2025-04-28T12:57:16.829320",
     "status": "completed"
    },
    "tags": []
   },
   "outputs": [],
   "source": [
    "@tf.keras.utils.register_keras_serializable(package=\"Custom\", name=\"F1Score\")\n",
    "class F1Score(tf.keras.metrics.Metric):\n",
    "    def __init__(self, name='f1_score', **kwargs):\n",
    "        super().__init__(name=name, **kwargs)\n",
    "        self.precision = tf.keras.metrics.Precision()\n",
    "        self.recall = tf.keras.metrics.Recall()\n",
    "\n",
    "    def update_state(self, y_true, y_pred, sample_weight=None):\n",
    "        self.precision.update_state(y_true, y_pred, sample_weight)\n",
    "        self.recall.update_state(y_true, y_pred, sample_weight)\n",
    "\n",
    "    def result(self):\n",
    "        p = self.precision.result()\n",
    "        r = self.recall.result()\n",
    "        return 2 * (p * r) / (p + r + tf.keras.backend.epsilon())\n",
    "\n",
    "    def reset_states(self):\n",
    "        self.precision.reset_states()\n",
    "        self.recall.reset_states()"
   ]
  },
  {
   "cell_type": "code",
   "execution_count": 10,
   "id": "4f0ce83e",
   "metadata": {
    "execution": {
     "iopub.execute_input": "2025-04-28T12:57:16.845694Z",
     "iopub.status.busy": "2025-04-28T12:57:16.845483Z",
     "iopub.status.idle": "2025-04-28T12:57:19.772756Z",
     "shell.execute_reply": "2025-04-28T12:57:19.772183Z"
    },
    "papermill": {
     "duration": 2.931984,
     "end_time": "2025-04-28T12:57:19.774189",
     "exception": false,
     "start_time": "2025-04-28T12:57:16.842205",
     "status": "completed"
    },
    "tags": []
   },
   "outputs": [
    {
     "name": "stderr",
     "output_type": "stream",
     "text": [
      "I0000 00:00:1745845036.963692      19 gpu_device.cc:2022] Created device /job:localhost/replica:0/task:0/device:GPU:0 with 15513 MB memory:  -> device: 0, name: Tesla P100-PCIE-16GB, pci bus id: 0000:00:04.0, compute capability: 6.0\n"
     ]
    },
    {
     "name": "stdout",
     "output_type": "stream",
     "text": [
      "Downloading data from https://storage.googleapis.com/tensorflow/keras-applications/xception/xception_weights_tf_dim_ordering_tf_kernels_notop.h5\n",
      "\u001b[1m83683744/83683744\u001b[0m \u001b[32m━━━━━━━━━━━━━━━━━━━━\u001b[0m\u001b[37m\u001b[0m \u001b[1m0s\u001b[0m 0us/step\n"
     ]
    }
   ],
   "source": [
    "dropout_1_values = [0.20, 0.25, 0.30, 0.35]\n",
    "dropout_2_values = [0.20, 0.25, 0.30, 0.35]\n",
    "\n",
    "base_model = tf.keras.applications.Xception(include_top= False, weights= \"imagenet\",\n",
    "                            input_shape= img_shape, pooling= 'max')\n",
    "\n",
    "inputs = Input(shape = img_shape)\n",
    "x = base_model(inputs)\n",
    "x = Flatten()(x)\n",
    "x = Dropout(rate= dropout_1_values[0])(x)\n",
    "x = Dense(128, activation= 'relu')(x)\n",
    "x = Dropout(rate= dropout_2_values[3])(x)\n",
    "x = Dense(8, activation= 'softmax')(x)\n",
    "Xmodel = Model(inputs, x)\n",
    "\n",
    "base_model.trainable = True\n",
    "for layer in base_model.layers[:50]:\n",
    "    layer.trainable = False\n",
    "\n",
    "Xmodel.compile(Adamax(learning_rate= 0.001),\n",
    "              loss= 'categorical_crossentropy',\n",
    "              metrics= ['accuracy',\n",
    "                        Precision(name='precision'),\n",
    "                        Recall(name='recall'),\n",
    "                        F1Score()])"
   ]
  },
  {
   "cell_type": "code",
   "execution_count": 11,
   "id": "1080cf52",
   "metadata": {
    "execution": {
     "iopub.execute_input": "2025-04-28T12:57:19.782289Z",
     "iopub.status.busy": "2025-04-28T12:57:19.782052Z",
     "iopub.status.idle": "2025-04-28T12:57:19.789300Z",
     "shell.execute_reply": "2025-04-28T12:57:19.788739Z"
    },
    "papermill": {
     "duration": 0.01224,
     "end_time": "2025-04-28T12:57:19.790343",
     "exception": false,
     "start_time": "2025-04-28T12:57:19.778103",
     "status": "completed"
    },
    "tags": []
   },
   "outputs": [],
   "source": [
    "from tensorflow.keras.callbacks import Callback\n",
    "\n",
    "class RestoreBestValidationModel(Callback):\n",
    "    def __init__(self):\n",
    "        super(RestoreBestValidationModel, self).__init__()\n",
    "        self.best_val_acc = -1\n",
    "        self.best_epoch = -1\n",
    "        self.best_weights = None\n",
    "\n",
    "    def on_epoch_end(self, epoch, logs=None):\n",
    "        val_acc = logs.get('val_accuracy')\n",
    "        if val_acc is not None:\n",
    "            if val_acc > self.best_val_acc or (val_acc == self.best_val_acc and epoch > self.best_epoch):\n",
    "                self.best_val_acc = val_acc\n",
    "                self.best_epoch = epoch\n",
    "                self.best_weights = self.model.get_weights()  \n",
    "                print(f\"Model weights updated at epoch {epoch + 1} with val_accuracy: {val_acc:.4f}\")\n",
    "\n",
    "    def on_train_end(self, logs=None):\n",
    "        if self.best_weights is not None:\n",
    "            print(f\"Restoring model weights from best epoch {self.best_epoch + 1} with val_accuracy: {self.best_val_acc:.4f}\")\n",
    "            self.model.set_weights(self.best_weights)  \n",
    "\n",
    "restore_best = RestoreBestValidationModel()"
   ]
  },
  {
   "cell_type": "code",
   "execution_count": 12,
   "id": "32bc065b",
   "metadata": {
    "execution": {
     "iopub.execute_input": "2025-04-28T12:57:19.797894Z",
     "iopub.status.busy": "2025-04-28T12:57:19.797670Z",
     "iopub.status.idle": "2025-04-28T13:27:59.011983Z",
     "shell.execute_reply": "2025-04-28T13:27:59.011052Z"
    },
    "papermill": {
     "duration": 1839.219614,
     "end_time": "2025-04-28T13:27:59.013224",
     "exception": false,
     "start_time": "2025-04-28T12:57:19.793610",
     "status": "completed"
    },
    "tags": []
   },
   "outputs": [
    {
     "name": "stdout",
     "output_type": "stream",
     "text": [
      "Epoch 1/10\n"
     ]
    },
    {
     "name": "stderr",
     "output_type": "stream",
     "text": [
      "WARNING: All log messages before absl::InitializeLog() is called are written to STDERR\n",
      "I0000 00:00:1745845064.231574      59 service.cc:148] XLA service 0x7e56840025a0 initialized for platform CUDA (this does not guarantee that XLA will be used). Devices:\n",
      "I0000 00:00:1745845064.232296      59 service.cc:156]   StreamExecutor device (0): Tesla P100-PCIE-16GB, Compute Capability 6.0\n",
      "I0000 00:00:1745845066.204506      59 cuda_dnn.cc:529] Loaded cuDNN version 90300\n",
      "E0000 00:00:1745845071.604517      59 gpu_timer.cc:82] Delay kernel timed out: measured time has sub-optimal accuracy. There may be a missing warmup execution, please investigate in Nsight Systems.\n",
      "E0000 00:00:1745845071.791622      59 gpu_timer.cc:82] Delay kernel timed out: measured time has sub-optimal accuracy. There may be a missing warmup execution, please investigate in Nsight Systems.\n",
      "E0000 00:00:1745845072.689912      59 gpu_timer.cc:82] Delay kernel timed out: measured time has sub-optimal accuracy. There may be a missing warmup execution, please investigate in Nsight Systems.\n",
      "E0000 00:00:1745845072.890219      59 gpu_timer.cc:82] Delay kernel timed out: measured time has sub-optimal accuracy. There may be a missing warmup execution, please investigate in Nsight Systems.\n",
      "E0000 00:00:1745845073.309110      59 gpu_timer.cc:82] Delay kernel timed out: measured time has sub-optimal accuracy. There may be a missing warmup execution, please investigate in Nsight Systems.\n",
      "E0000 00:00:1745845073.535173      59 gpu_timer.cc:82] Delay kernel timed out: measured time has sub-optimal accuracy. There may be a missing warmup execution, please investigate in Nsight Systems.\n"
     ]
    },
    {
     "name": "stdout",
     "output_type": "stream",
     "text": [
      "\u001b[1m  1/428\u001b[0m \u001b[37m━━━━━━━━━━━━━━━━━━━━\u001b[0m \u001b[1m4:31:26\u001b[0m 38s/step - accuracy: 0.1562 - f1_score: 0.1333 - loss: 3.1708 - precision: 0.2308 - recall: 0.0938"
     ]
    },
    {
     "name": "stderr",
     "output_type": "stream",
     "text": [
      "I0000 00:00:1745845078.722385      59 device_compiler.h:188] Compiled cluster using XLA!  This line is logged at most once for the lifetime of the process.\n"
     ]
    },
    {
     "name": "stdout",
     "output_type": "stream",
     "text": [
      "\u001b[1m427/428\u001b[0m \u001b[32m━━━━━━━━━━━━━━━━━━━\u001b[0m\u001b[37m━\u001b[0m \u001b[1m0s\u001b[0m 450ms/step - accuracy: 0.7970 - f1_score: 0.7892 - loss: 0.6466 - precision: 0.8979 - recall: 0.7221"
     ]
    },
    {
     "name": "stderr",
     "output_type": "stream",
     "text": [
      "E0000 00:00:1745845274.221860      59 gpu_timer.cc:82] Delay kernel timed out: measured time has sub-optimal accuracy. There may be a missing warmup execution, please investigate in Nsight Systems.\n",
      "E0000 00:00:1745845274.406956      59 gpu_timer.cc:82] Delay kernel timed out: measured time has sub-optimal accuracy. There may be a missing warmup execution, please investigate in Nsight Systems.\n",
      "E0000 00:00:1745845274.897605      59 gpu_timer.cc:82] Delay kernel timed out: measured time has sub-optimal accuracy. There may be a missing warmup execution, please investigate in Nsight Systems.\n",
      "E0000 00:00:1745845275.096702      59 gpu_timer.cc:82] Delay kernel timed out: measured time has sub-optimal accuracy. There may be a missing warmup execution, please investigate in Nsight Systems.\n",
      "E0000 00:00:1745845275.497511      59 gpu_timer.cc:82] Delay kernel timed out: measured time has sub-optimal accuracy. There may be a missing warmup execution, please investigate in Nsight Systems.\n",
      "E0000 00:00:1745845275.721184      59 gpu_timer.cc:82] Delay kernel timed out: measured time has sub-optimal accuracy. There may be a missing warmup execution, please investigate in Nsight Systems.\n"
     ]
    },
    {
     "name": "stdout",
     "output_type": "stream",
     "text": [
      "\u001b[1m428/428\u001b[0m \u001b[32m━━━━━━━━━━━━━━━━━━━━\u001b[0m\u001b[37m\u001b[0m \u001b[1m0s\u001b[0m 473ms/step - accuracy: 0.7973 - f1_score: 0.7895 - loss: 0.6458 - precision: 0.8980 - recall: 0.7225Model weights updated at epoch 1 with val_accuracy: 0.9725\n",
      "\u001b[1m428/428\u001b[0m \u001b[32m━━━━━━━━━━━━━━━━━━━━\u001b[0m\u001b[37m\u001b[0m \u001b[1m274s\u001b[0m 552ms/step - accuracy: 0.7975 - f1_score: 0.7898 - loss: 0.6450 - precision: 0.8981 - recall: 0.7229 - val_accuracy: 0.9725 - val_f1_score: 0.9712 - val_loss: 0.0791 - val_precision: 0.9747 - val_recall: 0.9678\n",
      "Epoch 2/10\n",
      "\u001b[1m428/428\u001b[0m \u001b[32m━━━━━━━━━━━━━━━━━━━━\u001b[0m\u001b[37m\u001b[0m \u001b[1m173s\u001b[0m 405ms/step - accuracy: 0.9731 - f1_score: 0.9724 - loss: 0.0905 - precision: 0.9758 - recall: 0.9690 - val_accuracy: 0.9655 - val_f1_score: 0.9674 - val_loss: 0.0993 - val_precision: 0.9711 - val_recall: 0.9637\n",
      "Epoch 3/10\n",
      "\u001b[1m428/428\u001b[0m \u001b[32m━━━━━━━━━━━━━━━━━━━━\u001b[0m\u001b[37m\u001b[0m \u001b[1m0s\u001b[0m 359ms/step - accuracy: 0.9823 - f1_score: 0.9824 - loss: 0.0536 - precision: 0.9843 - recall: 0.9804Model weights updated at epoch 3 with val_accuracy: 0.9731\n",
      "\u001b[1m428/428\u001b[0m \u001b[32m━━━━━━━━━━━━━━━━━━━━\u001b[0m\u001b[37m\u001b[0m \u001b[1m174s\u001b[0m 405ms/step - accuracy: 0.9823 - f1_score: 0.9824 - loss: 0.0536 - precision: 0.9843 - recall: 0.9804 - val_accuracy: 0.9731 - val_f1_score: 0.9733 - val_loss: 0.0857 - val_precision: 0.9759 - val_recall: 0.9707\n",
      "Epoch 4/10\n",
      "\u001b[1m428/428\u001b[0m \u001b[32m━━━━━━━━━━━━━━━━━━━━\u001b[0m\u001b[37m\u001b[0m \u001b[1m176s\u001b[0m 411ms/step - accuracy: 0.9868 - f1_score: 0.9867 - loss: 0.0443 - precision: 0.9877 - recall: 0.9856 - val_accuracy: 0.9702 - val_f1_score: 0.9695 - val_loss: 0.0987 - val_precision: 0.9707 - val_recall: 0.9684\n",
      "Epoch 5/10\n",
      "\u001b[1m428/428\u001b[0m \u001b[32m━━━━━━━━━━━━━━━━━━━━\u001b[0m\u001b[37m\u001b[0m \u001b[1m0s\u001b[0m 361ms/step - accuracy: 0.9893 - f1_score: 0.9889 - loss: 0.0358 - precision: 0.9899 - recall: 0.9878Model weights updated at epoch 5 with val_accuracy: 0.9795\n",
      "\u001b[1m428/428\u001b[0m \u001b[32m━━━━━━━━━━━━━━━━━━━━\u001b[0m\u001b[37m\u001b[0m \u001b[1m174s\u001b[0m 406ms/step - accuracy: 0.9893 - f1_score: 0.9889 - loss: 0.0358 - precision: 0.9899 - recall: 0.9878 - val_accuracy: 0.9795 - val_f1_score: 0.9801 - val_loss: 0.0667 - val_precision: 0.9807 - val_recall: 0.9795\n",
      "Epoch 6/10\n",
      "\u001b[1m428/428\u001b[0m \u001b[32m━━━━━━━━━━━━━━━━━━━━\u001b[0m\u001b[37m\u001b[0m \u001b[1m0s\u001b[0m 362ms/step - accuracy: 0.9919 - f1_score: 0.9920 - loss: 0.0258 - precision: 0.9923 - recall: 0.9917Model weights updated at epoch 6 with val_accuracy: 0.9819\n",
      "\u001b[1m428/428\u001b[0m \u001b[32m━━━━━━━━━━━━━━━━━━━━\u001b[0m\u001b[37m\u001b[0m \u001b[1m174s\u001b[0m 407ms/step - accuracy: 0.9919 - f1_score: 0.9920 - loss: 0.0258 - precision: 0.9923 - recall: 0.9917 - val_accuracy: 0.9819 - val_f1_score: 0.9821 - val_loss: 0.0595 - val_precision: 0.9830 - val_recall: 0.9813\n",
      "Epoch 7/10\n",
      "\u001b[1m428/428\u001b[0m \u001b[32m━━━━━━━━━━━━━━━━━━━━\u001b[0m\u001b[37m\u001b[0m \u001b[1m174s\u001b[0m 407ms/step - accuracy: 0.9939 - f1_score: 0.9937 - loss: 0.0206 - precision: 0.9943 - recall: 0.9931 - val_accuracy: 0.9789 - val_f1_score: 0.9789 - val_loss: 0.0657 - val_precision: 0.9795 - val_recall: 0.9783\n",
      "Epoch 8/10\n",
      "\u001b[1m428/428\u001b[0m \u001b[32m━━━━━━━━━━━━━━━━━━━━\u001b[0m\u001b[37m\u001b[0m \u001b[1m174s\u001b[0m 405ms/step - accuracy: 0.9939 - f1_score: 0.9939 - loss: 0.0213 - precision: 0.9943 - recall: 0.9934 - val_accuracy: 0.9760 - val_f1_score: 0.9763 - val_loss: 0.0992 - val_precision: 0.9766 - val_recall: 0.9760\n",
      "Epoch 9/10\n",
      "\u001b[1m428/428\u001b[0m \u001b[32m━━━━━━━━━━━━━━━━━━━━\u001b[0m\u001b[37m\u001b[0m \u001b[1m173s\u001b[0m 404ms/step - accuracy: 0.9951 - f1_score: 0.9951 - loss: 0.0163 - precision: 0.9954 - recall: 0.9948 - val_accuracy: 0.9760 - val_f1_score: 0.9760 - val_loss: 0.0928 - val_precision: 0.9760 - val_recall: 0.9760\n",
      "Epoch 10/10\n",
      "\u001b[1m428/428\u001b[0m \u001b[32m━━━━━━━━━━━━━━━━━━━━\u001b[0m\u001b[37m\u001b[0m \u001b[1m172s\u001b[0m 401ms/step - accuracy: 0.9967 - f1_score: 0.9967 - loss: 0.0104 - precision: 0.9969 - recall: 0.9966 - val_accuracy: 0.9707 - val_f1_score: 0.9707 - val_loss: 0.1358 - val_precision: 0.9707 - val_recall: 0.9707\n",
      "Restoring model weights from best epoch 6 with val_accuracy: 0.9819\n"
     ]
    }
   ],
   "source": [
    "history_X = Xmodel.fit(train_data,\n",
    "                 epochs=EPOCH,             \n",
    "                 validation_data=validation_data,\n",
    "                 callbacks=[restore_best],\n",
    "                 shuffle= False)"
   ]
  },
  {
   "cell_type": "code",
   "execution_count": 13,
   "id": "c5a32a04",
   "metadata": {
    "execution": {
     "iopub.execute_input": "2025-04-28T13:27:59.384441Z",
     "iopub.status.busy": "2025-04-28T13:27:59.383937Z",
     "iopub.status.idle": "2025-04-28T13:27:59.392030Z",
     "shell.execute_reply": "2025-04-28T13:27:59.391282Z"
    },
    "papermill": {
     "duration": 0.192602,
     "end_time": "2025-04-28T13:27:59.393268",
     "exception": false,
     "start_time": "2025-04-28T13:27:59.200666",
     "status": "completed"
    },
    "tags": []
   },
   "outputs": [
    {
     "name": "stdout",
     "output_type": "stream",
     "text": [
      "Lowest Loss: 0.05954584851861 at index 5\n",
      "Highest Accuracy: 0.9818607568740845 at index 5\n",
      "Highest Precision: 0.983001172542572 at index 5\n",
      "Highest Recall: 0.9812756180763245 at index 5\n",
      "Highest F1-score: 0.9821375608444214 at index 5\n"
     ]
    }
   ],
   "source": [
    "# Extract metrics for XCEPTION MODEL\n",
    "tr_acc_X = history_X.history['accuracy']\n",
    "tr_loss_X = history_X.history['loss']\n",
    "tr_per_X = history_X.history['precision']\n",
    "tr_recall_X = history_X.history['recall']\n",
    "tr_fscore_X = history_X.history['f1_score']\n",
    "val_acc_X = history_X.history['val_accuracy']\n",
    "val_loss_X = history_X.history['val_loss']\n",
    "val_per_X = history_X.history['val_precision']\n",
    "val_recall_X = history_X.history['val_recall']\n",
    "val_fscore_X = history_X.history['val_f1_score']\n",
    "\n",
    "# Get the best epochs for each metric\n",
    "index_loss_X = np.argmin(val_loss_X)\n",
    "loss_lowest_X = val_loss_X[index_loss_X]\n",
    "index_acc_X = np.argmax(val_acc_X)\n",
    "acc_highest_X = val_acc_X[index_acc_X]\n",
    "index_precision_X = np.argmax(val_per_X)\n",
    "pre_highest_X = val_per_X[index_precision_X]\n",
    "index_recall_X = np.argmax(val_recall_X)\n",
    "recall_highest_X = val_recall_X[index_recall_X]\n",
    "index_fscore_X = np.argmax(val_fscore_X)\n",
    "fscore_highest_X = val_fscore_X[index_fscore_X]\n",
    "\n",
    "# Print results\n",
    "print(f\"Lowest Loss: {loss_lowest_X} at index {index_loss_X}\")\n",
    "print(f\"Highest Accuracy: {acc_highest_X} at index {index_acc_X}\")\n",
    "print(f\"Highest Precision: {pre_highest_X} at index {index_precision_X}\")\n",
    "print(f\"Highest Recall: {recall_highest_X} at index {index_recall_X}\")\n",
    "print(f\"Highest F1-score: {fscore_highest_X} at index {index_fscore_X}\")\n",
    "\n",
    "# Epochs for plotting\n",
    "Epochs_X = [i + 1 for i in range(len(tr_acc_X))]\n",
    "\n",
    "# Define a modern style\n",
    "plt.style.use('ggplot')"
   ]
  },
  {
   "cell_type": "code",
   "execution_count": 14,
   "id": "5ee6b65d",
   "metadata": {
    "execution": {
     "iopub.execute_input": "2025-04-28T13:27:59.803435Z",
     "iopub.status.busy": "2025-04-28T13:27:59.802668Z",
     "iopub.status.idle": "2025-04-28T13:28:00.019946Z",
     "shell.execute_reply": "2025-04-28T13:28:00.019216Z"
    },
    "papermill": {
     "duration": 0.397796,
     "end_time": "2025-04-28T13:28:00.021192",
     "exception": false,
     "start_time": "2025-04-28T13:27:59.623396",
     "status": "completed"
    },
    "tags": []
   },
   "outputs": [
    {
     "data": {
      "image/png": "[encoded data removed]",
      "text/plain": [
       "<Figure size 1000x600 with 1 Axes>"
      ]
     },
     "metadata": {},
     "output_type": "display_data"
    },
    {
     "name": "stdout",
     "output_type": "stream",
     "text": [
      "5\n"
     ]
    }
   ],
   "source": [
    "# Plot Training and Validation Loss\n",
    "plt.figure(figsize=(10, 6))\n",
    "plt.plot(Epochs_X, tr_loss_X, color='red', label='Training Loss', linewidth=2)\n",
    "plt.plot(Epochs_X, val_loss_X, color='green', label='Validation Loss', linestyle='--', linewidth=2)\n",
    "plt.scatter(index_loss_X + 1, loss_lowest_X, s=150, c='blue', label=f'Best epoch = {index_loss_X + 1}', edgecolors='black')\n",
    "plt.title('Training and Validation Loss', fontsize=14, fontweight='bold')\n",
    "plt.xlabel('Epochs', fontsize=12)\n",
    "plt.ylabel('Loss', fontsize=12)\n",
    "plt.legend(fontsize=10)\n",
    "plt.grid(visible=True, linestyle='--', alpha=0.5)\n",
    "plt.show()\n",
    "\n",
    "print(np.argmin(val_loss_X))"
   ]
  },
  {
   "cell_type": "code",
   "execution_count": 15,
   "id": "d6ec78a3",
   "metadata": {
    "execution": {
     "iopub.execute_input": "2025-04-28T13:28:00.384531Z",
     "iopub.status.busy": "2025-04-28T13:28:00.384259Z",
     "iopub.status.idle": "2025-04-28T13:28:00.568510Z",
     "shell.execute_reply": "2025-04-28T13:28:00.567785Z"
    },
    "papermill": {
     "duration": 0.364367,
     "end_time": "2025-04-28T13:28:00.569576",
     "exception": false,
     "start_time": "2025-04-28T13:28:00.205209",
     "status": "completed"
    },
    "tags": []
   },
   "outputs": [
    {
     "data": {
      "image/png": "[encoded data removed]",
      "text/plain": [
       "<Figure size 1000x600 with 1 Axes>"
      ]
     },
     "metadata": {},
     "output_type": "display_data"
    }
   ],
   "source": [
    "# Plot Training and Validation Accuracy\n",
    "plt.figure(figsize=(10, 6))\n",
    "plt.plot(Epochs_X, tr_acc_X, color='purple', label='Training Accuracy', linewidth=2)\n",
    "plt.plot(Epochs_X, val_acc_X, color='orange', label='Validation Accuracy', linestyle='--', linewidth=2)\n",
    "plt.scatter(index_acc_X + 1, acc_highest_X, s=150, c='blue', label=f'Best epoch = {index_acc_X + 1}', edgecolors='black')\n",
    "plt.title('Training and Validation Accuracy', fontsize=14, fontweight='bold')\n",
    "plt.xlabel('Epochs', fontsize=12)\n",
    "plt.ylabel('Accuracy', fontsize=12)\n",
    "plt.legend(fontsize=10)\n",
    "plt.grid(visible=True, linestyle='--', alpha=0.5)\n",
    "plt.show()"
   ]
  }
 ],
 "metadata": {
  "kaggle": {
   "accelerator": "gpu",
   "dataSources": [
    {
     "datasetId": 6755943,
     "sourceId": 10873558,
     "sourceType": "datasetVersion"
    }
   ],
   "dockerImageVersionId": 31011,
   "isGpuEnabled": true,
   "isInternetEnabled": true,
   "language": "python",
   "sourceType": "notebook"
  },
  "kernelspec": {
   "display_name": "Python 3",
   "language": "python",
   "name": "python3"
  },
  "language_info": {
   "codemirror_mode": {
    "name": "ipython",
    "version": 3
   },
   "file_extension": ".py",
   "mimetype": "text/x-python",
   "name": "python",
   "nbconvert_exporter": "python",
   "pygments_lexer": "ipython3",
   "version": "3.11.11"
  },
  "papermill": {
   "default_parameters": {},
   "duration": 1913.007918,
   "end_time": "2025-04-28T13:28:04.599338",
   "environment_variables": {},
   "exception": null,
   "input_path": "__notebook__.ipynb",
   "output_path": "__notebook__.ipynb",
   "parameters": {},
   "start_time": "2025-04-28T12:56:11.591420",
   "version": "2.6.0"
  }
 },
 "nbformat": 4,
 "nbformat_minor": 5
}
