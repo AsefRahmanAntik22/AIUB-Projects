{
 "cells": [
  {
   "cell_type": "code",
   "execution_count": null,
   "metadata": {},
   "outputs": [],
   "source": [
    "import os\n",
    "import shutil\n",
    "import pandas as pd\n",
    "from tqdm import tqdm"
   ]
  },
  {
   "cell_type": "code",
   "execution_count": null,
   "id": "49c10653",
   "metadata": {},
   "outputs": [],
   "source": [
    "def organize_images_by_class(csv_path, image_dir, output_dir):\n",
    "    class_cols = ['MEL', 'NV', 'BCC', 'AK', 'BKL', 'DF', 'VASC', 'SCC', 'UNK']\n",
    "\n",
    "    df = pd.read_csv(csv_path)\n",
    "\n",
    "    # Create label column from one-hot encoded class columns\n",
    "    df['label'] = df[class_cols].values.argmax(axis=1)\n",
    "    df['label_name'] = df['label'].map(lambda x: class_cols[x])\n",
    "\n",
    "    # Construct full filename with .jpg extension\n",
    "    df['filename'] = df['image'].astype(str) + '.jpg'\n",
    "\n",
    "    # Create output folders for each class\n",
    "    for class_name in class_cols:\n",
    "        os.makedirs(os.path.join(output_dir, class_name), exist_ok=True)\n",
    "\n",
    "    print(f\"📁 Organizing images into: {output_dir}\")\n",
    "\n",
    "    # Copy images to class folders\n",
    "    for _, row in tqdm(df.iterrows(), total=len(df), desc=\"📦 Copying images\"):\n",
    "        src_path = os.path.join(image_dir, row['filename'])\n",
    "        dst_path = os.path.join(output_dir, row['label_name'], row['filename'])\n",
    "\n",
    "        if os.path.exists(src_path):\n",
    "            shutil.copy2(src_path, dst_path)\n",
    "        else:\n",
    "            print(f\"⚠️ Missing file: {row['filename']}\")\n",
    "\n",
    "    print(\"✅ All images organized successfully.\")"
   ]
  },
  {
   "cell_type": "code",
   "execution_count": 4,
   "id": "a5089a63",
   "metadata": {},
   "outputs": [
    {
     "name": "stdout",
     "output_type": "stream",
     "text": [
      "📁 Organizing images into: ISIC_2019_organized/Train\n"
     ]
    },
    {
     "name": "stderr",
     "output_type": "stream",
     "text": [
      "📦 Copying images: 100%|██████████| 25331/25331 [08:53<00:00, 47.49it/s]"
     ]
    },
    {
     "name": "stdout",
     "output_type": "stream",
     "text": [
      "✅ All images organized successfully.\n"
     ]
    },
    {
     "name": "stderr",
     "output_type": "stream",
     "text": [
      "\n"
     ]
    }
   ],
   "source": [
    "organize_images_by_class(\n",
    "    csv_path='ISIC_2019_Training_GroundTruth.csv',\n",
    "    image_dir='ISIC_2019_Training_Input',\n",
    "    output_dir='ISIC_2019_organized/Train'\n",
    ")"
   ]
  },
  {
   "cell_type": "code",
   "execution_count": 6,
   "id": "a80fe17d",
   "metadata": {},
   "outputs": [
    {
     "name": "stdout",
     "output_type": "stream",
     "text": [
      "📁 Organizing images into: ISIC_2019_organized/Test\n"
     ]
    },
    {
     "name": "stderr",
     "output_type": "stream",
     "text": [
      "📦 Copying images: 100%|██████████| 8238/8238 [01:53<00:00, 72.28it/s] "
     ]
    },
    {
     "name": "stdout",
     "output_type": "stream",
     "text": [
      "✅ All images organized successfully.\n"
     ]
    },
    {
     "name": "stderr",
     "output_type": "stream",
     "text": [
      "\n"
     ]
    }
   ],
   "source": [
    "organize_images_by_class(\n",
    "    csv_path='ISIC_2019_Test_GroundTruth.csv',\n",
    "    image_dir='ISIC_2019_Test_Input',\n",
    "    output_dir='ISIC_2019_organized/Test'\n",
    ")"
   ]
  },
  {
   "cell_type": "code",
   "execution_count": null,
   "id": "cc6ecb80",
   "metadata": {},
   "outputs": [],
   "source": [
    "def organize_ham10000_images(csv_path, image_dir, output_dir):\n",
    "    # Read metadata\n",
    "    df = pd.read_csv(csv_path)\n",
    "\n",
    "    # Extract diagnosis labels\n",
    "    class_labels = df['dx'].unique()\n",
    "\n",
    "    # Create folders for each class\n",
    "    for label in class_labels:\n",
    "        os.makedirs(os.path.join(output_dir, label), exist_ok=True)\n",
    "\n",
    "    # Construct full filename\n",
    "    df['filename'] = df['image_id'].astype(str) + '.jpg'\n",
    "\n",
    "    print(f\"📁 Organizing HAM10000 images into: {output_dir}\")\n",
    "\n",
    "    # Copy images to class-labeled directories\n",
    "    for _, row in tqdm(df.iterrows(), total=len(df), desc=\"📦 Copying images\"):\n",
    "        src_path = os.path.join(image_dir, row['filename'])\n",
    "        dst_path = os.path.join(output_dir, row['dx'], row['filename'])\n",
    "\n",
    "        if os.path.exists(src_path):\n",
    "            shutil.copy2(src_path, dst_path)\n",
    "        else:\n",
    "            #print(f\"⚠️ Missing file: {row['filename']}\")\n",
    "            pass\n",
    "\n",
    "    print(\"✅ All images organized successfully.\")"
   ]
  },
  {
   "cell_type": "code",
   "execution_count": 5,
   "id": "ba3994bc",
   "metadata": {},
   "outputs": [
    {
     "name": "stdout",
     "output_type": "stream",
     "text": [
      "📁 Organizing HAM10000 images into: HAM10000_organized\n"
     ]
    },
    {
     "name": "stderr",
     "output_type": "stream",
     "text": [
      "📦 Copying images:   0%|          | 0/10015 [00:00<?, ?it/s]"
     ]
    },
    {
     "name": "stderr",
     "output_type": "stream",
     "text": [
      "📦 Copying images: 100%|██████████| 10015/10015 [01:27<00:00, 113.83it/s]"
     ]
    },
    {
     "name": "stdout",
     "output_type": "stream",
     "text": [
      "✅ All images organized successfully.\n"
     ]
    },
    {
     "name": "stderr",
     "output_type": "stream",
     "text": [
      "\n"
     ]
    }
   ],
   "source": [
    "organize_ham10000_images(\n",
    "    csv_path='ha\\HAM10000_metadata.csv',\n",
    "    image_dir='ha\\HAM10000_images_part_1',\n",
    "    output_dir='HAM10000_organized'\n",
    ")"
   ]
  },
  {
   "cell_type": "code",
   "execution_count": 6,
   "id": "432ba583",
   "metadata": {},
   "outputs": [
    {
     "name": "stdout",
     "output_type": "stream",
     "text": [
      "📁 Organizing HAM10000 images into: HAM10000_organized\n"
     ]
    },
    {
     "name": "stderr",
     "output_type": "stream",
     "text": [
      "📦 Copying images: 100%|██████████| 10015/10015 [01:45<00:00, 95.25it/s] "
     ]
    },
    {
     "name": "stdout",
     "output_type": "stream",
     "text": [
      "✅ All images organized successfully.\n"
     ]
    },
    {
     "name": "stderr",
     "output_type": "stream",
     "text": [
      "\n"
     ]
    }
   ],
   "source": [
    "organize_ham10000_images(\n",
    "    csv_path='ha\\HAM10000_metadata.csv',\n",
    "    image_dir='ha\\HAM10000_images_part_2',\n",
    "    output_dir='HAM10000_organized'\n",
    ")"
   ]
  }
 ],
 "metadata": {
  "kernelspec": {
   "display_name": "py310",
   "language": "python",
   "name": "python3"
  },
  "language_info": {
   "codemirror_mode": {
    "name": "ipython",
    "version": 3
   },
   "file_extension": ".py",
   "mimetype": "text/x-python",
   "name": "python",
   "nbconvert_exporter": "python",
   "pygments_lexer": "ipython3",
   "version": "3.10.16"
  }
 },
 "nbformat": 4,
 "nbformat_minor": 5
}
