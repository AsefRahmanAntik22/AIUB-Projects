{
 "cells": [
  {
   "cell_type": "code",
   "execution_count": 1,
   "metadata": {},
   "outputs": [],
   "source": [
    "import os\n",
    "import random\n",
    "import numpy as np\n",
    "from PIL import Image\n",
    "import imgaug.augmenters as iaa"
   ]
  },
  {
   "cell_type": "code",
   "execution_count": 2,
   "metadata": {},
   "outputs": [],
   "source": [
    "#Uncomment lower line if you using numpy latest version or it will give error\n",
    "np.bool = np.bool_\n",
    "\n",
    "def save_augmented_images(folder_path, images, augmenter, target):\n",
    "    current_count = len(images)\n",
    "    image_index = 0  # To ensure unique filenames\n",
    "\n",
    "    while current_count < target:\n",
    "        try:\n",
    "            # Randomly choose an image\n",
    "            img_path = random.choice(images)\n",
    "            img = Image.open(img_path).convert(\"RGB\")  # Ensure RGB mode\n",
    "            img_array = np.array(img)\n",
    "\n",
    "            # Apply augmentation\n",
    "            augmented_image = augmenter(image=img_array)\n",
    "            augmented_image = Image.fromarray(augmented_image)\n",
    "\n",
    "            # Generate a unique filename\n",
    "            new_filename = os.path.join(folder_path, f\"aug_{image_index}.jpg\")\n",
    "            while os.path.exists(new_filename):  # Ensure uniqueness\n",
    "                image_index += 1\n",
    "                new_filename = os.path.join(folder_path, f\"aug_{image_index}.jpg\")\n",
    "\n",
    "            # Save the augmented image\n",
    "            augmented_image.save(new_filename)\n",
    "\n",
    "            current_count += 1\n",
    "            image_index += 1  # Update index for next iteration\n",
    "            \n",
    "        except Exception as e:\n",
    "            print(f\"Error processing image {img_path}: {e}\")\n",
    "\n",
    "def augment_data(path, size):\n",
    "    dataset_path = path\n",
    "    target_count = size  \n",
    "\n",
    "    augmenter = iaa.Sequential([\n",
    "        iaa.SomeOf((3, 5), [\n",
    "            iaa.Sharpen(alpha=(0, 0.5), lightness=(0.75, 1.25)),  # Sharpening\n",
    "            iaa.Crop(percent=(0, 0.1)),  # Slight cropping\n",
    "            iaa.Sometimes(0.5, iaa.Affine(rotate=(-10, 10))),  # Mild rotation\n",
    "            iaa.Sometimes(0.5, iaa.LinearContrast((0.9, 1.1))),  # Contrast adjustment\n",
    "            iaa.Fliplr(0.5),  # Horizontal flip\n",
    "            iaa.Flipud(0.3),  # Vertical flip\n",
    "        ])\n",
    "    ], random_order=True)\n",
    "\n",
    "    # Detect folders in the dataset directory\n",
    "    folders = [d for d in os.listdir(dataset_path) if os.path.isdir(os.path.join(dataset_path, d))]\n",
    "\n",
    "    # Augment images for each detected folder\n",
    "    for folder in folders:\n",
    "        folder_path = os.path.join(dataset_path, folder)\n",
    "        images = [os.path.join(folder_path, img) for img in os.listdir(folder_path) if img.endswith(('.png', '.jpg', '.jpeg'))]\n",
    "\n",
    "        # Perform augmentation if needed\n",
    "        if len(images) < target_count:\n",
    "            print(f\"Augmenting {folder} from {len(images)} to {target_count} images.\")\n",
    "            save_augmented_images(folder_path, images, augmenter, target_count)\n",
    "        else:\n",
    "            print(f\"{folder} already has {len(images)} images or more.\")\n",
    "\n",
    "    print(\"Data augmentation completed!\")"
   ]
  },
  {
   "cell_type": "code",
   "execution_count": 3,
   "metadata": {},
   "outputs": [
    {
     "name": "stdout",
     "output_type": "stream",
     "text": [
      "Augmenting akiec from 327 to 6705 images.\n",
      "Augmenting bcc from 514 to 6705 images.\n",
      "Augmenting bkl from 1099 to 6705 images.\n",
      "Augmenting df from 115 to 6705 images.\n",
      "Augmenting mel from 1113 to 6705 images.\n",
      "nv already has 6705 images or more.\n",
      "Augmenting vasc from 142 to 6705 images.\n",
      "Data augmentation completed!\n"
     ]
    }
   ],
   "source": [
    "augment_data(r\"HAM10000_organized\", 6705)"
   ]
  },
  {
   "cell_type": "code",
   "execution_count": 10,
   "metadata": {},
   "outputs": [
    {
     "name": "stdout",
     "output_type": "stream",
     "text": [
      "Augmenting AK from 1241 to 8000 images.\n",
      "Augmenting BCC from 4298 to 8000 images.\n",
      "Augmenting BKL from 3284 to 8000 images.\n",
      "Augmenting DF from 330 to 8000 images.\n",
      "Augmenting MEL from 5849 to 8000 images.\n",
      "NV already has 15370 images or more.\n",
      "Augmenting SCC from 793 to 8000 images.\n",
      "Augmenting UNK from 2047 to 8000 images.\n",
      "Augmenting VASC from 357 to 8000 images.\n",
      "Data augmentation completed!\n"
     ]
    }
   ],
   "source": [
    "augment_data(r\"ISIC_2019_organized\", 8000)"
   ]
  }
 ],
 "metadata": {
  "kernelspec": {
   "display_name": "py311",
   "language": "python",
   "name": "python3"
  },
  "language_info": {
   "codemirror_mode": {
    "name": "ipython",
    "version": 3
   },
   "file_extension": ".py",
   "mimetype": "text/x-python",
   "name": "python",
   "nbconvert_exporter": "python",
   "pygments_lexer": "ipython3",
   "version": "3.11.11"
  }
 },
 "nbformat": 4,
 "nbformat_minor": 2
}
