{
 "cells": [
  {
   "cell_type": "code",
   "execution_count": 1,
   "id": "a01a5901",
   "metadata": {},
   "outputs": [
    {
     "name": "stdout",
     "output_type": "stream",
     "text": [
      "1. ConvNeXtBase\n",
      "2. ConvNeXtLarge\n",
      "3. ConvNeXtSmall\n",
      "4. ConvNeXtTiny\n",
      "5. ConvNeXtXLarge\n",
      "6. DenseNet121\n",
      "7. DenseNet169\n",
      "8. DenseNet201\n",
      "9. EfficientNetB0\n",
      "10. EfficientNetB1\n",
      "11. EfficientNetB2\n",
      "12. EfficientNetB3\n",
      "13. EfficientNetB4\n",
      "14. EfficientNetB5\n",
      "15. EfficientNetB6\n",
      "16. EfficientNetB7\n",
      "17. EfficientNetV2B0\n",
      "18. EfficientNetV2B1\n",
      "19. EfficientNetV2B2\n",
      "20. EfficientNetV2B3\n",
      "21. EfficientNetV2L\n",
      "22. EfficientNetV2M\n",
      "23. EfficientNetV2S\n",
      "24. InceptionResNetV2\n",
      "25. InceptionV3\n",
      "26. MobileNet\n",
      "27. MobileNetV2\n",
      "28. MobileNetV3Large\n",
      "29. MobileNetV3Small\n",
      "30. NASNetLarge\n",
      "31. NASNetMobile\n",
      "32. ResNet101\n",
      "33. ResNet101V2\n",
      "34. ResNet152\n",
      "35. ResNet152V2\n",
      "36. ResNet50\n",
      "37. ResNet50V2\n",
      "38. VGG16\n",
      "39. VGG19\n",
      "40. Xception\n"
     ]
    }
   ],
   "source": [
    "import tensorflow.keras.applications as ka\n",
    "\n",
    "# Get all attributes in keras.applications\n",
    "all_attrs = dir(ka)\n",
    "\n",
    "# Filter out only the callable CNN models (classes/functions)\n",
    "cnn_models = [attr for attr in all_attrs if callable(getattr(ka, attr)) and not attr.startswith(\"__\")]\n",
    "\n",
    "# Sort and print with numbering\n",
    "for i, model in enumerate(sorted(cnn_models), start=1):\n",
    "    print(f\"{i}. {model}\")"
   ]
  }
 ],
 "metadata": {
  "kernelspec": {
   "display_name": "py311",
   "language": "python",
   "name": "python3"
  },
  "language_info": {
   "codemirror_mode": {
    "name": "ipython",
    "version": 3
   },
   "file_extension": ".py",
   "mimetype": "text/x-python",
   "name": "python",
   "nbconvert_exporter": "python",
   "pygments_lexer": "ipython3",
   "version": "3.11.11"
  }
 },
 "nbformat": 4,
 "nbformat_minor": 5
}
