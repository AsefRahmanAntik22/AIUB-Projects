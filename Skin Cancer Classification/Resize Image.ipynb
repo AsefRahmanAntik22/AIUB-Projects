{
 "cells": [
  {
   "cell_type": "code",
   "execution_count": 1,
   "id": "9b7e67e2",
   "metadata": {},
   "outputs": [],
   "source": [
    "import os\n",
    "from tqdm import tqdm\n",
    "import os\n",
    "from PIL import Image"
   ]
  },
  {
   "cell_type": "code",
   "execution_count": 2,
   "id": "cb793273",
   "metadata": {},
   "outputs": [],
   "source": [
    "def resize_all_images(dataset_path, target_size=(224, 224)):\n",
    "    \"\"\"\n",
    "    Resize all images in each folder within the dataset path to the target size.\n",
    "\n",
    "    Parameters:\n",
    "        dataset_path (str): Path to the parent dataset directory.\n",
    "        target_size (tuple): Desired image size (width, height), e.g., (224, 224).\n",
    "    \"\"\"\n",
    "    # Detect subfolders\n",
    "    folders = [d for d in os.listdir(dataset_path) if os.path.isdir(os.path.join(dataset_path, d))]\n",
    "\n",
    "    for folder in folders:\n",
    "        folder_path = os.path.join(dataset_path, folder)\n",
    "        image_files = [img for img in os.listdir(folder_path) if img.lower().endswith(('.png', '.jpg', '.jpeg'))]\n",
    "\n",
    "        print(f\"\\nResizing images in folder: {folder} ({len(image_files)} images)\")\n",
    "\n",
    "        for img_name in tqdm(image_files, desc=f\"Processing {folder}\", unit=\"img\"):\n",
    "            img_path = os.path.join(folder_path, img_name)\n",
    "            try:\n",
    "                with Image.open(img_path) as img:\n",
    "                    img = img.convert(\"RGB\")\n",
    "                    resized_img = img.resize(target_size, Image.Resampling.LANCZOS)\n",
    "                    resized_img.save(img_path)\n",
    "            except Exception as e:\n",
    "                print(f\"Error resizing {img_path}: {e}\")\n",
    "\n",
    "    print(\"\\nImage resizing completed!\")"
   ]
  },
  {
   "cell_type": "code",
   "execution_count": 3,
   "id": "cf40bac0",
   "metadata": {},
   "outputs": [
    {
     "name": "stdout",
     "output_type": "stream",
     "text": [
      "\n",
      "Resizing images in folder: akiec (327 images)\n"
     ]
    },
    {
     "name": "stderr",
     "output_type": "stream",
     "text": [
      "Processing akiec: 100%|██████████| 327/327 [00:09<00:00, 33.05img/s]\n"
     ]
    },
    {
     "name": "stdout",
     "output_type": "stream",
     "text": [
      "\n",
      "Resizing images in folder: bcc (514 images)\n"
     ]
    },
    {
     "name": "stderr",
     "output_type": "stream",
     "text": [
      "Processing bcc: 100%|██████████| 514/514 [00:17<00:00, 29.73img/s]\n"
     ]
    },
    {
     "name": "stdout",
     "output_type": "stream",
     "text": [
      "\n",
      "Resizing images in folder: bkl (1099 images)\n"
     ]
    },
    {
     "name": "stderr",
     "output_type": "stream",
     "text": [
      "Processing bkl: 100%|██████████| 1099/1099 [00:37<00:00, 29.45img/s]\n"
     ]
    },
    {
     "name": "stdout",
     "output_type": "stream",
     "text": [
      "\n",
      "Resizing images in folder: df (115 images)\n"
     ]
    },
    {
     "name": "stderr",
     "output_type": "stream",
     "text": [
      "Processing df: 100%|██████████| 115/115 [00:04<00:00, 27.69img/s]\n"
     ]
    },
    {
     "name": "stdout",
     "output_type": "stream",
     "text": [
      "\n",
      "Resizing images in folder: mel (1113 images)\n"
     ]
    },
    {
     "name": "stderr",
     "output_type": "stream",
     "text": [
      "Processing mel: 100%|██████████| 1113/1113 [00:41<00:00, 26.77img/s]\n"
     ]
    },
    {
     "name": "stdout",
     "output_type": "stream",
     "text": [
      "\n",
      "Resizing images in folder: nv (6705 images)\n"
     ]
    },
    {
     "name": "stderr",
     "output_type": "stream",
     "text": [
      "Processing nv: 100%|██████████| 6705/6705 [03:40<00:00, 30.34img/s]\n"
     ]
    },
    {
     "name": "stdout",
     "output_type": "stream",
     "text": [
      "\n",
      "Resizing images in folder: vasc (142 images)\n"
     ]
    },
    {
     "name": "stderr",
     "output_type": "stream",
     "text": [
      "Processing vasc: 100%|██████████| 142/142 [00:04<00:00, 29.20img/s]"
     ]
    },
    {
     "name": "stdout",
     "output_type": "stream",
     "text": [
      "\n",
      "Image resizing completed!\n"
     ]
    },
    {
     "name": "stderr",
     "output_type": "stream",
     "text": [
      "\n"
     ]
    }
   ],
   "source": [
    "resize_all_images(r\"HAM10000_organized\")"
   ]
  },
  {
   "cell_type": "code",
   "execution_count": null,
   "id": "b4f70e3d",
   "metadata": {},
   "outputs": [],
   "source": [
    "resize_all_images(r\"ISIC_2019_organized\")"
   ]
  }
 ],
 "metadata": {
  "kernelspec": {
   "display_name": "py311",
   "language": "python",
   "name": "python3"
  },
  "language_info": {
   "codemirror_mode": {
    "name": "ipython",
    "version": 3
   },
   "file_extension": ".py",
   "mimetype": "text/x-python",
   "name": "python",
   "nbconvert_exporter": "python",
   "pygments_lexer": "ipython3",
   "version": "3.11.11"
  }
 },
 "nbformat": 4,
 "nbformat_minor": 5
}
